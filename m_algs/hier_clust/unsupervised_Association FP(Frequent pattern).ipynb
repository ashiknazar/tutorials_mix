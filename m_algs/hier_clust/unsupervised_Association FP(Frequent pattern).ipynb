{
 "cells": [
  {
   "cell_type": "code",
   "execution_count": 6,
   "id": "7d04591a",
   "metadata": {},
   "outputs": [
    {
     "name": "stdout",
     "output_type": "stream",
     "text": [
      "Collecting pyfpgrowthNote: you may need to restart the kernel to use updated packages.\n",
      "  Downloading pyfpgrowth-1.0.tar.gz (1.6 MB)\n",
      "Building wheels for collected packages: pyfpgrowth\n",
      "  Building wheel for pyfpgrowth (setup.py): started\n",
      "  Building wheel for pyfpgrowth (setup.py): finished with status 'done'\n",
      "  Created wheel for pyfpgrowth: filename=pyfpgrowth-1.0-py2.py3-none-any.whl size=5504 sha256=8b9003d0bfce3a191aefd654c7fe297a173ae3a6da7ca0be0a3fe7868afe39b6\n",
      "  Stored in directory: c:\\users\\user\\appdata\\local\\pip\\cache\\wheels\\1d\\15\\f3\\26c63bd6040ea8f62d59dba0b4fe4dffe551a0f93879734a91\n",
      "Successfully built pyfpgrowth\n",
      "Installing collected packages: pyfpgrowth\n",
      "Successfully installed pyfpgrowth-1.0\n",
      "\n"
     ]
    }
   ],
   "source": [
    "pip install pyfpgrowth"
   ]
  },
  {
   "cell_type": "code",
   "execution_count": 7,
   "id": "de90abc4",
   "metadata": {},
   "outputs": [],
   "source": [
    "import numpy as np\n",
    "import pandas as pd\n",
    "import seaborn as sns\n",
    "from matplotlib import pyplot as plt\n",
    "import pyfpgrowth"
   ]
  },
  {
   "cell_type": "code",
   "execution_count": 11,
   "id": "2af0b3d3",
   "metadata": {},
   "outputs": [],
   "source": [
    "transactions=[\n",
    "    ['Bread','Butter','Jam','Juice','Cream'],\n",
    "    ['Bread','Jam','Juice'],\n",
    "    ['Bread','Butter','Chicken','Cream'],\n",
    "    ]"
   ]
  },
  {
   "cell_type": "code",
   "execution_count": 12,
   "id": "8ae41ba7",
   "metadata": {},
   "outputs": [
    {
     "data": {
      "text/plain": [
       "{('Chicken',): 1,\n",
       " ('Chicken', 'Cream'): 1,\n",
       " ('Butter', 'Chicken'): 1,\n",
       " ('Bread', 'Chicken'): 1,\n",
       " ('Butter', 'Chicken', 'Cream'): 1,\n",
       " ('Bread', 'Chicken', 'Cream'): 1,\n",
       " ('Bread', 'Butter', 'Chicken'): 1,\n",
       " ('Bread', 'Butter', 'Chicken', 'Cream'): 1,\n",
       " ('Butter',): 2,\n",
       " ('Bread', 'Butter'): 2,\n",
       " ('Jam',): 2,\n",
       " ('Butter', 'Jam'): 1,\n",
       " ('Bread', 'Jam'): 2,\n",
       " ('Bread', 'Butter', 'Jam'): 1,\n",
       " ('Juice',): 2,\n",
       " ('Jam', 'Juice'): 2,\n",
       " ('Butter', 'Juice'): 1,\n",
       " ('Bread', 'Juice'): 2,\n",
       " ('Butter', 'Jam', 'Juice'): 1,\n",
       " ('Bread', 'Jam', 'Juice'): 2,\n",
       " ('Bread', 'Butter', 'Juice'): 1,\n",
       " ('Bread', 'Butter', 'Jam', 'Juice'): 1,\n",
       " ('Cream',): 2,\n",
       " ('Cream', 'Juice'): 1,\n",
       " ('Cream', 'Jam'): 1,\n",
       " ('Butter', 'Cream'): 2,\n",
       " ('Bread', 'Cream'): 2,\n",
       " ('Cream', 'Jam', 'Juice'): 1,\n",
       " ('Butter', 'Cream', 'Juice'): 1,\n",
       " ('Bread', 'Cream', 'Juice'): 1,\n",
       " ('Butter', 'Cream', 'Jam'): 1,\n",
       " ('Bread', 'Cream', 'Jam'): 1,\n",
       " ('Bread', 'Butter', 'Cream'): 2,\n",
       " ('Butter', 'Cream', 'Jam', 'Juice'): 1,\n",
       " ('Bread', 'Cream', 'Jam', 'Juice'): 1,\n",
       " ('Bread', 'Butter', 'Cream', 'Juice'): 1,\n",
       " ('Bread', 'Butter', 'Cream', 'Jam'): 1,\n",
       " ('Bread', 'Butter', 'Cream', 'Jam', 'Juice'): 1,\n",
       " ('Bread',): 3}"
      ]
     },
     "execution_count": 12,
     "metadata": {},
     "output_type": "execute_result"
    }
   ],
   "source": [
    "freq_patt=pyfpgrowth.find_frequent_patterns(transactions=transactions,support_threshold=1)# 1um athinu mele \n",
    "freq_patt"
   ]
  },
  {
   "cell_type": "code",
   "execution_count": 14,
   "id": "53f39685",
   "metadata": {},
   "outputs": [
    {
     "data": {
      "text/plain": [
       "{('Butter',): 2,\n",
       " ('Bread', 'Butter'): 2,\n",
       " ('Jam',): 2,\n",
       " ('Bread', 'Jam'): 2,\n",
       " ('Juice',): 2,\n",
       " ('Jam', 'Juice'): 2,\n",
       " ('Bread', 'Juice'): 2,\n",
       " ('Bread', 'Jam', 'Juice'): 2,\n",
       " ('Cream',): 2,\n",
       " ('Butter', 'Cream'): 2,\n",
       " ('Bread', 'Cream'): 2,\n",
       " ('Bread', 'Butter', 'Cream'): 2,\n",
       " ('Bread',): 3}"
      ]
     },
     "execution_count": 14,
     "metadata": {},
     "output_type": "execute_result"
    }
   ],
   "source": [
    "freq_patt2=pyfpgrowth.find_frequent_patterns(transactions=transactions,support_threshold=2)#2 um athinu mele\n",
    "freq_patt2"
   ]
  },
  {
   "cell_type": "code",
   "execution_count": 15,
   "id": "3dea1398",
   "metadata": {
    "scrolled": true
   },
   "outputs": [
    {
     "data": {
      "text/plain": [
       "{('Chicken',): (('Bread', 'Butter', 'Cream'), 1.0),\n",
       " ('Cream',): (('Bread', 'Butter', 'Jam', 'Juice'), 0.5),\n",
       " ('Butter',): (('Bread', 'Cream', 'Jam', 'Juice'), 0.5),\n",
       " ('Butter', 'Chicken'): (('Bread', 'Cream'), 1.0),\n",
       " ('Butter', 'Cream'): (('Bread', 'Jam', 'Juice'), 0.5),\n",
       " ('Chicken', 'Cream'): (('Bread', 'Butter'), 1.0),\n",
       " ('Bread', 'Chicken'): (('Butter', 'Cream'), 1.0),\n",
       " ('Bread', 'Cream'): (('Butter', 'Jam', 'Juice'), 0.5),\n",
       " ('Bread', 'Butter'): (('Cream', 'Jam', 'Juice'), 0.5),\n",
       " ('Bread', 'Butter', 'Chicken'): (('Cream',), 1.0),\n",
       " ('Bread', 'Butter', 'Cream'): (('Jam', 'Juice'), 0.5),\n",
       " ('Bread', 'Chicken', 'Cream'): (('Butter',), 1.0),\n",
       " ('Butter', 'Chicken', 'Cream'): (('Bread',), 1.0),\n",
       " ('Bread',): (('Butter', 'Cream'), 0.6666666666666666),\n",
       " ('Jam',): (('Bread', 'Butter', 'Cream', 'Juice'), 0.5),\n",
       " ('Bread', 'Jam'): (('Butter', 'Cream', 'Juice'), 0.5),\n",
       " ('Butter', 'Jam'): (('Bread', 'Cream', 'Juice'), 1.0),\n",
       " ('Juice',): (('Bread', 'Butter', 'Cream', 'Jam'), 0.5),\n",
       " ('Butter', 'Juice'): (('Bread', 'Cream', 'Jam'), 1.0),\n",
       " ('Jam', 'Juice'): (('Bread', 'Butter', 'Cream'), 0.5),\n",
       " ('Bread', 'Juice'): (('Butter', 'Cream', 'Jam'), 0.5),\n",
       " ('Bread', 'Butter', 'Jam'): (('Cream', 'Juice'), 1.0),\n",
       " ('Bread', 'Butter', 'Juice'): (('Cream', 'Jam'), 1.0),\n",
       " ('Bread', 'Jam', 'Juice'): (('Butter', 'Cream'), 0.5),\n",
       " ('Butter', 'Jam', 'Juice'): (('Bread', 'Cream'), 1.0),\n",
       " ('Cream', 'Jam'): (('Bread', 'Butter', 'Juice'), 1.0),\n",
       " ('Cream', 'Juice'): (('Bread', 'Butter', 'Jam'), 1.0),\n",
       " ('Butter', 'Cream', 'Jam'): (('Bread', 'Juice'), 1.0),\n",
       " ('Butter', 'Cream', 'Juice'): (('Bread', 'Jam'), 1.0),\n",
       " ('Cream', 'Jam', 'Juice'): (('Bread', 'Butter'), 1.0),\n",
       " ('Bread', 'Cream', 'Jam'): (('Butter', 'Juice'), 1.0),\n",
       " ('Bread', 'Cream', 'Juice'): (('Butter', 'Jam'), 1.0),\n",
       " ('Bread', 'Butter', 'Cream', 'Jam'): (('Juice',), 1.0),\n",
       " ('Bread', 'Butter', 'Cream', 'Juice'): (('Jam',), 1.0),\n",
       " ('Bread', 'Butter', 'Jam', 'Juice'): (('Cream',), 1.0),\n",
       " ('Bread', 'Cream', 'Jam', 'Juice'): (('Butter',), 1.0),\n",
       " ('Butter', 'Cream', 'Jam', 'Juice'): (('Bread',), 1.0)}"
      ]
     },
     "execution_count": 15,
     "metadata": {},
     "output_type": "execute_result"
    }
   ],
   "source": [
    "rules=pyfpgrowth.generate_association_rules(patterns=freq_patt,confidence_threshold=0.5)   #0.5 means 50 percentage and athinu mukalil ulla chance\n",
    "rules"
   ]
  },
  {
   "cell_type": "code",
   "execution_count": null,
   "id": "38469e33",
   "metadata": {},
   "outputs": [],
   "source": []
  },
  {
   "cell_type": "code",
   "execution_count": null,
   "id": "332dee01",
   "metadata": {},
   "outputs": [],
   "source": []
  },
  {
   "cell_type": "code",
   "execution_count": null,
   "id": "38d36e9a",
   "metadata": {},
   "outputs": [],
   "source": []
  },
  {
   "cell_type": "code",
   "execution_count": null,
   "id": "40cf515a",
   "metadata": {},
   "outputs": [],
   "source": []
  },
  {
   "cell_type": "code",
   "execution_count": null,
   "id": "05101964",
   "metadata": {},
   "outputs": [],
   "source": []
  },
  {
   "cell_type": "code",
   "execution_count": null,
   "id": "6a4d8bda",
   "metadata": {},
   "outputs": [],
   "source": []
  },
  {
   "cell_type": "code",
   "execution_count": null,
   "id": "939a4259",
   "metadata": {},
   "outputs": [],
   "source": []
  },
  {
   "cell_type": "code",
   "execution_count": null,
   "id": "4d9100c9",
   "metadata": {},
   "outputs": [],
   "source": []
  },
  {
   "cell_type": "code",
   "execution_count": 1,
   "id": "ab24fe0a",
   "metadata": {},
   "outputs": [
    {
     "name": "stdout",
     "output_type": "stream",
     "text": [
      "Collecting mlxtend\n",
      "  Downloading mlxtend-0.23.1-py3-none-any.whl (1.4 MB)\n",
      "     ---------------------------------------- 1.4/1.4 MB 1.5 MB/s eta 0:00:00\n",
      "Requirement already satisfied: scipy>=1.2.1 in c:\\users\\user\\anaconda3\\envs\\tf-2\\lib\\site-packages (from mlxtend) (1.9.3)\n",
      "Requirement already satisfied: scikit-learn>=1.0.2 in c:\\users\\user\\anaconda3\\envs\\tf-2\\lib\\site-packages (from mlxtend) (1.5.0)\n",
      "Requirement already satisfied: joblib>=0.13.2 in c:\\users\\user\\anaconda3\\envs\\tf-2\\lib\\site-packages (from mlxtend) (1.2.0)\n",
      "Requirement already satisfied: matplotlib>=3.0.0 in c:\\users\\user\\anaconda3\\envs\\tf-2\\lib\\site-packages (from mlxtend) (3.6.3)\n",
      "Requirement already satisfied: pandas>=0.24.2 in c:\\users\\user\\anaconda3\\envs\\tf-2\\lib\\site-packages (from mlxtend) (2.2.2)\n",
      "Requirement already satisfied: numpy>=1.16.2 in c:\\users\\user\\anaconda3\\envs\\tf-2\\lib\\site-packages (from mlxtend) (1.23.5)\n",
      "Requirement already satisfied: cycler>=0.10 in c:\\users\\user\\anaconda3\\envs\\tf-2\\lib\\site-packages (from matplotlib>=3.0.0->mlxtend) (0.11.0)\n",
      "Requirement already satisfied: kiwisolver>=1.0.1 in c:\\users\\user\\anaconda3\\envs\\tf-2\\lib\\site-packages (from matplotlib>=3.0.0->mlxtend) (1.4.4)\n",
      "Requirement already satisfied: fonttools>=4.22.0 in c:\\users\\user\\anaconda3\\envs\\tf-2\\lib\\site-packages (from matplotlib>=3.0.0->mlxtend) (4.38.0)\n",
      "Requirement already satisfied: pyparsing>=2.2.1 in c:\\users\\user\\anaconda3\\envs\\tf-2\\lib\\site-packages (from matplotlib>=3.0.0->mlxtend) (3.0.9)\n",
      "Requirement already satisfied: pillow>=6.2.0 in c:\\users\\user\\anaconda3\\envs\\tf-2\\lib\\site-packages (from matplotlib>=3.0.0->mlxtend) (9.4.0)\n",
      "Requirement already satisfied: packaging>=20.0 in c:\\users\\user\\anaconda3\\envs\\tf-2\\lib\\site-packages (from matplotlib>=3.0.0->mlxtend) (22.0)\n",
      "Requirement already satisfied: contourpy>=1.0.1 in c:\\users\\user\\anaconda3\\envs\\tf-2\\lib\\site-packages (from matplotlib>=3.0.0->mlxtend) (1.0.7)\n",
      "Requirement already satisfied: python-dateutil>=2.7 in c:\\users\\user\\anaconda3\\envs\\tf-2\\lib\\site-packages (from matplotlib>=3.0.0->mlxtend) (2.8.2)\n",
      "Requirement already satisfied: pytz>=2020.1 in c:\\users\\user\\anaconda3\\envs\\tf-2\\lib\\site-packages (from pandas>=0.24.2->mlxtend) (2022.7.1)\n",
      "Requirement already satisfied: tzdata>=2022.7 in c:\\users\\user\\anaconda3\\envs\\tf-2\\lib\\site-packages (from pandas>=0.24.2->mlxtend) (2024.1)\n",
      "Requirement already satisfied: threadpoolctl>=3.1.0 in c:\\users\\user\\anaconda3\\envs\\tf-2\\lib\\site-packages (from scikit-learn>=1.0.2->mlxtend) (3.1.0)\n",
      "Requirement already satisfied: six>=1.5 in c:\\users\\user\\anaconda3\\envs\\tf-2\\lib\\site-packages (from python-dateutil>=2.7->matplotlib>=3.0.0->mlxtend) (1.16.0)\n",
      "Installing collected packages: mlxtend\n",
      "Successfully installed mlxtend-0.23.1\n"
     ]
    }
   ],
   "source": [
    "!pip install mlxtend"
   ]
  },
  {
   "cell_type": "code",
   "execution_count": 2,
   "id": "bd4bcd54",
   "metadata": {},
   "outputs": [],
   "source": [
    "import pandas as pd\n",
    "from mlxtend.preprocessing import TransactionEncoder\n",
    "from mlxtend.frequent_patterns import apriori, association_rules"
   ]
  },
  {
   "cell_type": "code",
   "execution_count": 3,
   "id": "8bd584b8",
   "metadata": {},
   "outputs": [],
   "source": [
    "transactions = [\n",
    "    ['Bread', 'Butter', 'Jam', 'Juice', 'Cream'],\n",
    "    ['Bread', 'Jam', 'Juice'],\n",
    "    ['Bread', 'Butter', 'Chicken', 'Cream']\n",
    "]"
   ]
  },
  {
   "cell_type": "code",
   "execution_count": null,
   "id": "628d79b9",
   "metadata": {},
   "outputs": [],
   "source": [
    "te = TransactionEncoder()\n",
    "te_ary = te.fit(transactions).transform(transactions)\n",
    "df = pd.DataFrame(te_ary, columns=te.columns_)"
   ]
  },
  {
   "cell_type": "code",
   "execution_count": 5,
   "id": "5b0200ee",
   "metadata": {},
   "outputs": [
    {
     "data": {
      "text/html": [
       "<div>\n",
       "<style scoped>\n",
       "    .dataframe tbody tr th:only-of-type {\n",
       "        vertical-align: middle;\n",
       "    }\n",
       "\n",
       "    .dataframe tbody tr th {\n",
       "        vertical-align: top;\n",
       "    }\n",
       "\n",
       "    .dataframe thead th {\n",
       "        text-align: right;\n",
       "    }\n",
       "</style>\n",
       "<table border=\"1\" class=\"dataframe\">\n",
       "  <thead>\n",
       "    <tr style=\"text-align: right;\">\n",
       "      <th></th>\n",
       "      <th>Bread</th>\n",
       "      <th>Butter</th>\n",
       "      <th>Chicken</th>\n",
       "      <th>Cream</th>\n",
       "      <th>Jam</th>\n",
       "      <th>Juice</th>\n",
       "    </tr>\n",
       "  </thead>\n",
       "  <tbody>\n",
       "    <tr>\n",
       "      <th>0</th>\n",
       "      <td>True</td>\n",
       "      <td>True</td>\n",
       "      <td>False</td>\n",
       "      <td>True</td>\n",
       "      <td>True</td>\n",
       "      <td>True</td>\n",
       "    </tr>\n",
       "    <tr>\n",
       "      <th>1</th>\n",
       "      <td>True</td>\n",
       "      <td>False</td>\n",
       "      <td>False</td>\n",
       "      <td>False</td>\n",
       "      <td>True</td>\n",
       "      <td>True</td>\n",
       "    </tr>\n",
       "    <tr>\n",
       "      <th>2</th>\n",
       "      <td>True</td>\n",
       "      <td>True</td>\n",
       "      <td>True</td>\n",
       "      <td>True</td>\n",
       "      <td>False</td>\n",
       "      <td>False</td>\n",
       "    </tr>\n",
       "  </tbody>\n",
       "</table>\n",
       "</div>"
      ],
      "text/plain": [
       "   Bread  Butter  Chicken  Cream    Jam  Juice\n",
       "0   True    True    False   True   True   True\n",
       "1   True   False    False  False   True   True\n",
       "2   True    True     True   True  False  False"
      ]
     },
     "execution_count": 5,
     "metadata": {},
     "output_type": "execute_result"
    }
   ],
   "source": [
    "df"
   ]
  },
  {
   "cell_type": "code",
   "execution_count": 4,
   "id": "e2562ef2",
   "metadata": {},
   "outputs": [
    {
     "name": "stdout",
     "output_type": "stream",
     "text": [
      "Frequent Itemsets:\n",
      "     support                itemsets\n",
      "0   1.000000                 (Bread)\n",
      "1   0.666667                (Butter)\n",
      "2   0.666667                 (Cream)\n",
      "3   0.666667                   (Jam)\n",
      "4   0.666667                 (Juice)\n",
      "5   0.666667         (Bread, Butter)\n",
      "6   0.666667          (Cream, Bread)\n",
      "7   0.666667            (Jam, Bread)\n",
      "8   0.666667          (Bread, Juice)\n",
      "9   0.666667         (Cream, Butter)\n",
      "10  0.666667            (Jam, Juice)\n",
      "11  0.666667  (Cream, Bread, Butter)\n",
      "12  0.666667     (Jam, Bread, Juice)\n",
      "\n",
      "Association Rules:\n",
      "        antecedents      consequents  antecedent support  consequent support  \\\n",
      "0          (Butter)          (Bread)            0.666667            1.000000   \n",
      "1           (Cream)          (Bread)            0.666667            1.000000   \n",
      "2             (Jam)          (Bread)            0.666667            1.000000   \n",
      "3           (Juice)          (Bread)            0.666667            1.000000   \n",
      "4           (Cream)         (Butter)            0.666667            0.666667   \n",
      "5          (Butter)          (Cream)            0.666667            0.666667   \n",
      "6             (Jam)          (Juice)            0.666667            0.666667   \n",
      "7           (Juice)            (Jam)            0.666667            0.666667   \n",
      "8    (Cream, Bread)         (Butter)            0.666667            0.666667   \n",
      "9   (Cream, Butter)          (Bread)            0.666667            1.000000   \n",
      "10  (Bread, Butter)          (Cream)            0.666667            0.666667   \n",
      "11          (Cream)  (Bread, Butter)            0.666667            0.666667   \n",
      "12         (Butter)   (Cream, Bread)            0.666667            0.666667   \n",
      "13     (Jam, Bread)          (Juice)            0.666667            0.666667   \n",
      "14     (Jam, Juice)          (Bread)            0.666667            1.000000   \n",
      "15   (Bread, Juice)            (Jam)            0.666667            0.666667   \n",
      "16            (Jam)   (Bread, Juice)            0.666667            0.666667   \n",
      "17          (Juice)     (Jam, Bread)            0.666667            0.666667   \n",
      "\n",
      "     support  confidence  lift  leverage  conviction  zhangs_metric  \n",
      "0   0.666667         1.0   1.0  0.000000         inf            0.0  \n",
      "1   0.666667         1.0   1.0  0.000000         inf            0.0  \n",
      "2   0.666667         1.0   1.0  0.000000         inf            0.0  \n",
      "3   0.666667         1.0   1.0  0.000000         inf            0.0  \n",
      "4   0.666667         1.0   1.5  0.222222         inf            1.0  \n",
      "5   0.666667         1.0   1.5  0.222222         inf            1.0  \n",
      "6   0.666667         1.0   1.5  0.222222         inf            1.0  \n",
      "7   0.666667         1.0   1.5  0.222222         inf            1.0  \n",
      "8   0.666667         1.0   1.5  0.222222         inf            1.0  \n",
      "9   0.666667         1.0   1.0  0.000000         inf            0.0  \n",
      "10  0.666667         1.0   1.5  0.222222         inf            1.0  \n",
      "11  0.666667         1.0   1.5  0.222222         inf            1.0  \n",
      "12  0.666667         1.0   1.5  0.222222         inf            1.0  \n",
      "13  0.666667         1.0   1.5  0.222222         inf            1.0  \n",
      "14  0.666667         1.0   1.0  0.000000         inf            0.0  \n",
      "15  0.666667         1.0   1.5  0.222222         inf            1.0  \n",
      "16  0.666667         1.0   1.5  0.222222         inf            1.0  \n",
      "17  0.666667         1.0   1.5  0.222222         inf            1.0  \n"
     ]
    }
   ],
   "source": [
    "# Apply the Apriori algorithm to find frequent itemsets\n",
    "# Setting the minimum support threshold to 0.5 (this can be adjusted)\n",
    "frequent_itemsets = apriori(df, min_support=0.5, use_colnames=True)\n",
    "\n",
    "# Generate the association rules from the frequent itemsets\n",
    "# Setting the minimum confidence threshold to 0.7 (this can be adjusted)\n",
    "rules = association_rules(frequent_itemsets, metric=\"confidence\", min_threshold=0.7)\n",
    "\n",
    "# Print the frequent itemsets and the association rules\n",
    "print(\"Frequent Itemsets:\")\n",
    "print(frequent_itemsets)\n",
    "print(\"\\nAssociation Rules:\")\n",
    "print(rules)"
   ]
  },
  {
   "cell_type": "code",
   "execution_count": null,
   "id": "9e8296b4",
   "metadata": {},
   "outputs": [],
   "source": []
  }
 ],
 "metadata": {
  "kernelspec": {
   "display_name": "Python 3 (ipykernel)",
   "language": "python",
   "name": "python3"
  },
  "language_info": {
   "codemirror_mode": {
    "name": "ipython",
    "version": 3
   },
   "file_extension": ".py",
   "mimetype": "text/x-python",
   "name": "python",
   "nbconvert_exporter": "python",
   "pygments_lexer": "ipython3",
   "version": "3.10.9"
  }
 },
 "nbformat": 4,
 "nbformat_minor": 5
}
