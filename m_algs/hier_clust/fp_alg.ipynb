{
 "cells": [
  {
   "cell_type": "code",
   "execution_count": 1,
   "id": "b9fff281",
   "metadata": {},
   "outputs": [
    {
     "name": "stdout",
     "output_type": "stream",
     "text": [
      "Collecting pyfpgrowth\n",
      "  Downloading pyfpgrowth-1.0.tar.gz (1.6 MB)\n",
      "     ---------------------------------------- 1.6/1.6 MB 2.9 MB/s eta 0:00:00\n",
      "  Preparing metadata (setup.py): started\n",
      "  Preparing metadata (setup.py): finished with status 'done'\n",
      "Building wheels for collected packages: pyfpgrowth\n",
      "  Building wheel for pyfpgrowth (setup.py): started\n",
      "  Building wheel for pyfpgrowth (setup.py): finished with status 'done'\n",
      "  Created wheel for pyfpgrowth: filename=pyfpgrowth-1.0-py2.py3-none-any.whl size=5488 sha256=412d0090f8dae962854e7917d94b0c12880df6feb986cbd4084346fcf562a996\n",
      "  Stored in directory: c:\\users\\user\\appdata\\local\\pip\\cache\\wheels\\67\\7a\\32\\e7d9107657bc3eabd8748c21e93693f7454435ded3ee955225\n",
      "Successfully built pyfpgrowth\n",
      "Installing collected packages: pyfpgrowth\n",
      "Successfully installed pyfpgrowth-1.0\n"
     ]
    }
   ],
   "source": [
    "!pip install pyfpgrowth"
   ]
  },
  {
   "cell_type": "code",
   "execution_count": 2,
   "id": "b91f7f04",
   "metadata": {},
   "outputs": [],
   "source": [
    "import numpy as np\n",
    "import pandas as pd\n",
    "import seaborn as sns\n",
    "from matplotlib import pyplot as plt\n",
    "import pyfpgrowth"
   ]
  },
  {
   "cell_type": "code",
   "execution_count": 3,
   "id": "3ea23a42",
   "metadata": {},
   "outputs": [],
   "source": [
    "transactions=[['bread','butter','jam','juice','cream'],\n",
    "             ['bread','jam','juice'],\n",
    "             ['bread','butter','chicken','cream']]\n"
   ]
  },
  {
   "cell_type": "code",
   "execution_count": 4,
   "id": "a7d09e41",
   "metadata": {},
   "outputs": [
    {
     "data": {
      "text/plain": [
       "{('chicken',): 1,\n",
       " ('chicken', 'cream'): 1,\n",
       " ('butter', 'chicken'): 1,\n",
       " ('bread', 'chicken'): 1,\n",
       " ('butter', 'chicken', 'cream'): 1,\n",
       " ('bread', 'chicken', 'cream'): 1,\n",
       " ('bread', 'butter', 'chicken'): 1,\n",
       " ('bread', 'butter', 'chicken', 'cream'): 1,\n",
       " ('butter',): 2,\n",
       " ('bread', 'butter'): 2,\n",
       " ('jam',): 2,\n",
       " ('butter', 'jam'): 1,\n",
       " ('bread', 'jam'): 2,\n",
       " ('bread', 'butter', 'jam'): 1,\n",
       " ('juice',): 2,\n",
       " ('jam', 'juice'): 2,\n",
       " ('butter', 'juice'): 1,\n",
       " ('bread', 'juice'): 2,\n",
       " ('butter', 'jam', 'juice'): 1,\n",
       " ('bread', 'jam', 'juice'): 2,\n",
       " ('bread', 'butter', 'juice'): 1,\n",
       " ('bread', 'butter', 'jam', 'juice'): 1,\n",
       " ('cream',): 2,\n",
       " ('cream', 'juice'): 1,\n",
       " ('cream', 'jam'): 1,\n",
       " ('butter', 'cream'): 2,\n",
       " ('bread', 'cream'): 2,\n",
       " ('cream', 'jam', 'juice'): 1,\n",
       " ('butter', 'cream', 'juice'): 1,\n",
       " ('bread', 'cream', 'juice'): 1,\n",
       " ('butter', 'cream', 'jam'): 1,\n",
       " ('bread', 'cream', 'jam'): 1,\n",
       " ('bread', 'butter', 'cream'): 2,\n",
       " ('butter', 'cream', 'jam', 'juice'): 1,\n",
       " ('bread', 'cream', 'jam', 'juice'): 1,\n",
       " ('bread', 'butter', 'cream', 'juice'): 1,\n",
       " ('bread', 'butter', 'cream', 'jam'): 1,\n",
       " ('bread', 'butter', 'cream', 'jam', 'juice'): 1,\n",
       " ('bread',): 3}"
      ]
     },
     "execution_count": 4,
     "metadata": {},
     "output_type": "execute_result"
    }
   ],
   "source": [
    "freq_patt=pyfpgrowth.find_frequent_patterns(transactions=transactions,support_threshold=1)\n",
    "freq_patt"
   ]
  },
  {
   "cell_type": "code",
   "execution_count": 5,
   "id": "4c5eadd7",
   "metadata": {},
   "outputs": [],
   "source": [
    "freq_patt2=pyfpgrowth.find_frequent_patterns(transactions=transactions,support_threshold=2)"
   ]
  },
  {
   "cell_type": "code",
   "execution_count": 6,
   "id": "e4ea531e",
   "metadata": {},
   "outputs": [
    {
     "data": {
      "text/plain": [
       "{('butter',): 2,\n",
       " ('bread', 'butter'): 2,\n",
       " ('jam',): 2,\n",
       " ('bread', 'jam'): 2,\n",
       " ('juice',): 2,\n",
       " ('jam', 'juice'): 2,\n",
       " ('bread', 'juice'): 2,\n",
       " ('bread', 'jam', 'juice'): 2,\n",
       " ('cream',): 2,\n",
       " ('butter', 'cream'): 2,\n",
       " ('bread', 'cream'): 2,\n",
       " ('bread', 'butter', 'cream'): 2,\n",
       " ('bread',): 3}"
      ]
     },
     "execution_count": 6,
     "metadata": {},
     "output_type": "execute_result"
    }
   ],
   "source": [
    "freq_patt2"
   ]
  },
  {
   "cell_type": "code",
   "execution_count": 7,
   "id": "52b06e74",
   "metadata": {},
   "outputs": [
    {
     "data": {
      "text/plain": [
       "{('bread',): (('butter', 'cream'), 0.6666666666666666),\n",
       " ('butter',): (('bread', 'cream'), 1.0),\n",
       " ('jam',): (('bread', 'juice'), 1.0),\n",
       " ('juice',): (('bread', 'jam'), 1.0),\n",
       " ('bread', 'jam'): (('juice',), 1.0),\n",
       " ('bread', 'juice'): (('jam',), 1.0),\n",
       " ('jam', 'juice'): (('bread',), 1.0),\n",
       " ('cream',): (('bread', 'butter'), 1.0),\n",
       " ('bread', 'butter'): (('cream',), 1.0),\n",
       " ('bread', 'cream'): (('butter',), 1.0),\n",
       " ('butter', 'cream'): (('bread',), 1.0)}"
      ]
     },
     "execution_count": 7,
     "metadata": {},
     "output_type": "execute_result"
    }
   ],
   "source": [
    "rules=pyfpgrowth.generate_association_rules(patterns=freq_patt2,confidence_threshold=0.5)\n",
    "rules"
   ]
  },
  {
   "cell_type": "code",
   "execution_count": 8,
   "id": "c2cf0d54",
   "metadata": {},
   "outputs": [],
   "source": [
    "trans=[['a','b','c','d'],\n",
    "      ['a','c','d'],\n",
    "      ['a','b','d'],\n",
    "      ['b','c','d'],\n",
    "      ['a','d'],\n",
    "      ['b','c']]"
   ]
  },
  {
   "cell_type": "code",
   "execution_count": 14,
   "id": "e3c5078f",
   "metadata": {},
   "outputs": [],
   "source": [
    "fp=pyfpgrowth.find_frequent_patterns(transactions=trans,support_threshold=2)\n"
   ]
  },
  {
   "cell_type": "code",
   "execution_count": 15,
   "id": "eb69f055",
   "metadata": {},
   "outputs": [],
   "source": [
    "rules=pyfpgrowth.generate_association_rules(patterns=fp,confidence_threshold=0.5)"
   ]
  },
  {
   "cell_type": "code",
   "execution_count": 16,
   "id": "76c6d6ae",
   "metadata": {},
   "outputs": [
    {
     "data": {
      "text/plain": [
       "{('a',): (('c', 'd'), 0.5),\n",
       " ('d',): (('c',), 0.6),\n",
       " ('b',): (('c', 'd'), 0.5),\n",
       " ('a', 'b'): (('d',), 1.0),\n",
       " ('a', 'd'): (('c',), 0.5),\n",
       " ('b', 'd'): (('c',), 0.6666666666666666),\n",
       " ('a', 'c'): (('d',), 1.0),\n",
       " ('c', 'd'): (('b',), 0.6666666666666666),\n",
       " ('b', 'c'): (('d',), 0.6666666666666666)}"
      ]
     },
     "execution_count": 16,
     "metadata": {},
     "output_type": "execute_result"
    }
   ],
   "source": [
    "rules"
   ]
  },
  {
   "cell_type": "code",
   "execution_count": null,
   "id": "311f7f68",
   "metadata": {},
   "outputs": [],
   "source": []
  }
 ],
 "metadata": {
  "kernelspec": {
   "display_name": "Python 3 (ipykernel)",
   "language": "python",
   "name": "python3"
  },
  "language_info": {
   "codemirror_mode": {
    "name": "ipython",
    "version": 3
   },
   "file_extension": ".py",
   "mimetype": "text/x-python",
   "name": "python",
   "nbconvert_exporter": "python",
   "pygments_lexer": "ipython3",
   "version": "3.10.9"
  }
 },
 "nbformat": 4,
 "nbformat_minor": 5
}
