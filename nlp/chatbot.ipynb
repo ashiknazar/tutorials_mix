{
 "cells": [
  {
   "cell_type": "code",
   "execution_count": 21,
   "metadata": {
    "id": "e_nf_o3gCLjs"
   },
   "outputs": [],
   "source": [
    "import warnings"
   ]
  },
  {
   "cell_type": "code",
   "execution_count": 22,
   "metadata": {
    "id": "Q3Wbr3GRCPQt"
   },
   "outputs": [],
   "source": [
    "warnings.filterwarnings('ignore')"
   ]
  },
  {
   "cell_type": "code",
   "execution_count": 23,
   "metadata": {
    "id": "MPLN5afQ1NJE"
   },
   "outputs": [],
   "source": [
    "txt = open(\"chatbot.txt\",errors='ignore')\n",
    "raw_txt = txt.read()\n",
    "raw_txt = raw_txt.lower()"
   ]
  },
  {
   "cell_type": "code",
   "execution_count": 24,
   "metadata": {
    "id": "9kMCAqay160Y"
   },
   "outputs": [
    {
     "data": {
      "text/plain": [
       "'data science is an interdisciplinary field that uses scientific methods, processes, algorithms and systems to extract knowledge and insights from noisy, structured and unstructured data,[1][2] and apply knowledge and actionable insights from data across a broad range of application domains. data science is related to data mining, machine learning and big data.\\n\\ndata science is a \"concept to unify statistics, data analysis, informatics, and their related methods\" in order to \"understand and analyze actual phenomena\" with data.[3] it uses techniques and theories drawn from many fields within the context of mathematics, statistics, computer science, information science, and domain knowledge. however, data science is different from computer science and information science. turing award winner jim gray imagined data science as a \"fourth paradigm\" of science (empirical, theoretical, computational, and now data-driven) and asserted that \"everything about science is changing because of the impact of information technology\" and the data deluge.[4][5]\\n\\na data scientist is someone who creates programming code, and combines it with statistical knowledge to create insights from data.[6]\\n\\n\\ncontents\\n1\\tfoundations\\n1.1\\trelationship to statistics\\n2\\tetymology\\n2.1\\tearly usage\\n2.2\\tmodern usage\\n3\\ttechnologies and techniques\\n4\\tsee also\\n5\\treferences\\nfoundations\\ndata science is an interdisciplinary field focused on extracting knowledge from data sets, which are typically large (see big data), and applying the knowledge and actionable insights from data to solve problems in a wide range of application domains.[7] the field encompasses preparing data for analysis, formulating data science problems, analyzing data, developing data-driven solutions, and presenting findings to inform high-level decisions in a broad range of application domains. as such, it incorporates skills from computer science, statistics, information science, mathematics, information visualization, data sonification, data integration, graphic design, complex systems, communication and business.[8][9] statistician nathan yau, drawing on ben fry, also links data science to human-computer interaction: users should be able to intuitively control and explore data.[10][11] in 2015, the american statistical association identified database management, statistics and machine learning, and distributed and parallel systems as the three emerging foundational professional communities.[12]\\n\\nrelationship to statistics\\nmany statisticians, including nate silver, have argued that data science is not a new field, but rather another name for statistics.[13] others argue that data science is distinct from statistics because it focuses on problems and techniques unique to digital data.[14] vasant dhar writes that statistics emphasizes quantitative data and description. in contrast, data science deals with quantitative and qualitative data (e.g. images) and emphasizes prediction and action.[15] andrew gelman of columbia university has described statistics as a nonessential part of data science.[16] stanford professor david donoho writes that data science is not distinguished from statistics by the size of datasets or use of computing, and that many graduate programs misleadingly advertise their analytics and statistics training as the essence of a data science program. he describes data science as an applied field growing out of traditional statistics.[17] in summary, data science can be therefore described as an applied branch of statistics.\\n\\netymology\\nearly usage\\nin 1962, john tukey described a field he called \"data analysis\", which resembles modern data science.[17] in 1985, in a lecture given to the chinese academy of sciences in beijing, c.f. jeff wu used the term data science for the first time as an alternative name for statistics.[18] later, attendees at a 1992 statistics symposium at the university of montpellier ii acknowledged the emergence of a new discipline focused on data of various origins and forms, combining established concepts and principles of statistics and data analysis with computing.[19][20]\\n\\nthe term \"data science\" has been traced back to 1974, when peter naur proposed it as an alternative name for computer science.[21] in 1996, the international federation of classification societies became the first conference to specifically feature data science as a topic.[21] however, the definition was still in flux. after the 1985 lecture in the chinese academy of sciences in beijing, in 1997 c.f. jeff wu again suggested that statistics should be renamed data science. he reasoned that a new name would help statistics shed inaccurate stereotypes, such as being synonymous with accounting, or limited to describing data.[22] in 1998, hayashi chikio argued for data science as a new, interdisciplinary concept, with three aspects: data design, collection, and analysis.[20]\\n\\nduring the 1990s, popular terms for the process of finding patterns in datasets (which were increasingly large) included \"knowledge discovery\" and \"data mining\".[23][21]\\n\\nmodern usage\\nthe modern conception of data science as an independent discipline is sometimes attributed to william s. cleveland.[24] in a 2001 paper, he advocated an expansion of statistics beyond theory into technical areas; because this would significantly change the field, it warranted a new name.[23] \"data science\" became more widely used in the next few years: in 2002, the committee on data for science and technology launched data science journal. in 2003, columbia university launched the journal of data science.[23] in 2014, the american statistical association\\'s section on statistical learning and data mining changed its name to the section on statistical learning and data science, reflecting the ascendant popularity of data science.[25]\\n\\nthe professional title of \"data scientist\" has been attributed to dj patil and jeff hammerbacher in 2008.[26] though it was used by the national science board in their 2005 report, \"long-lived digital data collections: enabling research and education in the 21st century,\" it referred broadly to any key role in managing a digital data collection.[27]\\n\\nthere is still no consensus on the definition of data science and it is considered by some to be a buzzword.[28] big data is a related marketing term.[29] data scientists are responsible for breaking down big data into usable information and creating software and algorithms that help companies and organizations determine optimal operations.[30]'"
      ]
     },
     "execution_count": 24,
     "metadata": {},
     "output_type": "execute_result"
    }
   ],
   "source": [
    "raw_txt"
   ]
  },
  {
   "cell_type": "markdown",
   "metadata": {
    "id": "mrkp9Gfi2f3C"
   },
   "source": [
    "**preprocessing**"
   ]
  },
  {
   "cell_type": "code",
   "execution_count": 25,
   "metadata": {
    "colab": {
     "base_uri": "https://localhost:8080/"
    },
    "id": "mbNlQyoD19-M",
    "outputId": "6ee243cb-f932-4598-8c1e-d5ba5460ee7a"
   },
   "outputs": [
    {
     "name": "stderr",
     "output_type": "stream",
     "text": [
      "[nltk_data] Downloading package punkt to\n",
      "[nltk_data]     C:\\Users\\user\\AppData\\Roaming\\nltk_data...\n",
      "[nltk_data]   Package punkt is already up-to-date!\n"
     ]
    },
    {
     "data": {
      "text/plain": [
       "True"
      ]
     },
     "execution_count": 25,
     "metadata": {},
     "output_type": "execute_result"
    }
   ],
   "source": [
    "import nltk\n",
    "nltk.download('punkt')"
   ]
  },
  {
   "cell_type": "code",
   "execution_count": 26,
   "metadata": {
    "id": "048RlJrL2dQa"
   },
   "outputs": [],
   "source": [
    "sentence_tokens = nltk.sent_tokenize(raw_txt) # convetrs to list of sentences\n",
    "word_tokens = nltk.word_tokenize(raw_txt)     #converts to list of words"
   ]
  },
  {
   "cell_type": "code",
   "execution_count": 27,
   "metadata": {
    "id": "lmmDqsHQ3bWX"
   },
   "outputs": [],
   "source": [
    "# defining a function at which the tokens will be taken as input and return the normalised tokens."
   ]
  },
  {
   "cell_type": "code",
   "execution_count": 28,
   "metadata": {
    "id": "PY8O6AtO4CZC"
   },
   "outputs": [],
   "source": [
    "#lemmatization\n",
    "from nltk.stem import WordNetLemmatizer\n",
    "import string"
   ]
  },
  {
   "cell_type": "code",
   "execution_count": 29,
   "metadata": {
    "id": "h46b0aQo4R3l"
   },
   "outputs": [],
   "source": [
    "lemmatizer = WordNetLemmatizer()\n",
    "def lematization(tokens):\n",
    "    return [lemmatizer.lemmatize(token) for token in tokens]\n",
    "remove_punct_from = dict((ord(punkt),None) for punkt in string.punctuation)\n",
    "def normalising_lemmatizer(text):\n",
    "    return lematization(nltk.word_tokenize(text.lower().translate(remove_punct_from)))"
   ]
  },
  {
   "cell_type": "code",
   "execution_count": 30,
   "metadata": {
    "id": "i6KA3gwIbL7g"
   },
   "outputs": [
    {
     "data": {
      "text/plain": [
       "'!\"#$%&\\'()*+,-./:;<=>?@[\\\\]^_`{|}~'"
      ]
     },
     "execution_count": 30,
     "metadata": {},
     "output_type": "execute_result"
    }
   ],
   "source": [
    "string.punctuation"
   ]
  },
  {
   "cell_type": "code",
   "execution_count": 31,
   "metadata": {
    "id": "cnT6xW10aurD"
   },
   "outputs": [
    {
     "data": {
      "text/plain": [
       "{33: None,\n",
       " 34: None,\n",
       " 35: None,\n",
       " 36: None,\n",
       " 37: None,\n",
       " 38: None,\n",
       " 39: None,\n",
       " 40: None,\n",
       " 41: None,\n",
       " 42: None,\n",
       " 43: None,\n",
       " 44: None,\n",
       " 45: None,\n",
       " 46: None,\n",
       " 47: None,\n",
       " 58: None,\n",
       " 59: None,\n",
       " 60: None,\n",
       " 61: None,\n",
       " 62: None,\n",
       " 63: None,\n",
       " 64: None,\n",
       " 91: None,\n",
       " 92: None,\n",
       " 93: None,\n",
       " 94: None,\n",
       " 95: None,\n",
       " 96: None,\n",
       " 123: None,\n",
       " 124: None,\n",
       " 125: None,\n",
       " 126: None}"
      ]
     },
     "execution_count": 31,
     "metadata": {},
     "output_type": "execute_result"
    }
   ],
   "source": [
    "remove_punct_from"
   ]
  },
  {
   "cell_type": "markdown",
   "metadata": {
    "id": "kO0NEpg57I7A"
   },
   "source": [
    "**KEYWORD MATCHING**"
   ]
  },
  {
   "cell_type": "code",
   "execution_count": 32,
   "metadata": {
    "id": "NijCaXMf7iHL"
   },
   "outputs": [],
   "source": [
    "import random"
   ]
  },
  {
   "cell_type": "code",
   "execution_count": 33,
   "metadata": {
    "id": "3VVSDcri6tEL"
   },
   "outputs": [],
   "source": [
    "greeting_inputs = (\"hello\", \"hi\",\"hai\", \"greetings\", \"sup\", \"what's_up\",\"hey\",)\n",
    "greeting_responses = [\"hello\", \"I am glad! You are talking to me\",\"how can I assist you?\"]\n",
    "def greetings(inputs):\n",
    "    for word in inputs.split():\n",
    "        if word.lower() in greeting_inputs:\n",
    "            return random.choice(greeting_responses)"
   ]
  },
  {
   "cell_type": "markdown",
   "metadata": {
    "id": "Ft1oo_yL9DfQ"
   },
   "source": [
    "**GENERATING RESPONSE**"
   ]
  },
  {
   "cell_type": "markdown",
   "metadata": {
    "id": "Z1m9lHPM9iKd"
   },
   "source": [
    "**TF-IDF approach**"
   ]
  },
  {
   "cell_type": "code",
   "execution_count": 34,
   "metadata": {
    "id": "X2UMH6D18v8-"
   },
   "outputs": [],
   "source": [
    "from sklearn.feature_extraction.text import TfidfVectorizer\n",
    "from sklearn.metrics.pairwise import cosine_similarity #[similarity between two vectors]"
   ]
  },
  {
   "cell_type": "code",
   "execution_count": 35,
   "metadata": {
    "id": "Uz_vcpwJKX0l"
   },
   "outputs": [],
   "source": [
    "def generate_response(response):\n",
    "    bot_response =''\n",
    "    sentence_tokens.append(response)\n",
    "\n",
    "    vectorizer =TfidfVectorizer(tokenizer=normalising_lemmatizer,stop_words='english')\n",
    "\n",
    "    fiting_vectorizer = vectorizer.fit_transform(sentence_tokens)\n",
    "\n",
    "    cosine_values = cosine_similarity(fiting_vectorizer[-1],fiting_vectorizer)\n",
    "\n",
    "    idx  = cosine_values.argsort()[0][-2] # index\n",
    "    flat = cosine_values.flatten() # converting a matrix to one dimension.\n",
    "    flat.sort()\n",
    "\n",
    "    req_fiting_vectorizer = flat[-2]\n",
    "    if(req_fiting_vectorizer==0):\n",
    "        \n",
    "        bot_response=bot_response+\"I am sorry! I don't understand you\"\n",
    "        return bot_response\n",
    "    else:\n",
    "        bot_response = bot_response+sentence_tokens[idx]\n",
    "        return bot_response"
   ]
  },
  {
   "cell_type": "code",
   "execution_count": null,
   "metadata": {
    "id": "ZJ8lBOEBc9jB"
   },
   "outputs": [],
   "source": []
  },
  {
   "cell_type": "code",
   "execution_count": null,
   "metadata": {
    "id": "1lpDwU5Yc9ZZ"
   },
   "outputs": [],
   "source": []
  },
  {
   "cell_type": "code",
   "execution_count": null,
   "metadata": {
    "id": "POqoZOEKc9WC"
   },
   "outputs": [],
   "source": []
  },
  {
   "cell_type": "code",
   "execution_count": 36,
   "metadata": {
    "colab": {
     "base_uri": "https://localhost:8080/"
    },
    "id": "uamzvvdHQXnS",
    "outputId": "a55cd78d-dd20-4780-fbe8-fc9f456306e9"
   },
   "outputs": [],
   "source": [
    "# vectorizer =TfidfVectorizer(tokenizer=normalising_lemmatizer)\n",
    "# print('TfidfVectorizer:',vectorizer)"
   ]
  },
  {
   "cell_type": "code",
   "execution_count": 37,
   "metadata": {
    "colab": {
     "base_uri": "https://localhost:8080/"
    },
    "id": "dHJDaJgnRDCk",
    "outputId": "132f39e6-e27c-4a4d-cffc-e5dca57c9359"
   },
   "outputs": [],
   "source": [
    "# nltk.download('wordnet')"
   ]
  },
  {
   "cell_type": "code",
   "execution_count": 38,
   "metadata": {
    "colab": {
     "base_uri": "https://localhost:8080/"
    },
    "id": "SVK2yHkHRNbp",
    "outputId": "91db4ad4-a9d8-4b2d-8194-953ca8a55962"
   },
   "outputs": [],
   "source": [
    "# nltk.download('omw-1.4')     #The purpose of nltk.download('omw-1.4') in NLTK (Natural Language Toolkit) is to\n",
    "#download and install the Open Multilingual WordNet (OMW) 1.4 dataset.\n",
    "\n",
    "\n",
    "\n",
    "#WordNet is a large lexical database of English words and their semantic relationships. OMW extends WordNet by providing wordnets for several other languages. It is an open-source project that aims to make wordnets available for all languages and to create a linked multilingual resource for natural language processing.\n",
    "\n",
    "#By downloading the OMW 1.4 dataset using the nltk.download() function,\n",
    "#you can access the WordNet data for different languages, including Arabic, Chinese, Dutch, French, German, \n",
    "#Italian, Portuguese, Russian, Spanish, and many others. This can be useful for various natural language processing \n",
    "#tasks such as text classification, sentiment analysis, and machine translation.\n",
    "\n",
    "\n",
    "\n",
    "\n",
    "\n",
    "\n"
   ]
  },
  {
   "cell_type": "code",
   "execution_count": 39,
   "metadata": {
    "id": "VQN2FDBhQnkT"
   },
   "outputs": [],
   "source": [
    "# fiting_vectorizer = vectorizer.fit_transform(sentence_tokens)\n",
    "# print('fited_vector:',fiting_vectorizer)"
   ]
  },
  {
   "cell_type": "code",
   "execution_count": 40,
   "metadata": {
    "id": "Cr8kt2yoQtYe"
   },
   "outputs": [],
   "source": [
    "# cosine_values = cosine_similarity(fiting_vectorizer[-1],fiting_vectorizer)\n",
    "# print('cosine_values:',cosine_values)"
   ]
  },
  {
   "cell_type": "code",
   "execution_count": 41,
   "metadata": {
    "colab": {
     "base_uri": "https://localhost:8080/"
    },
    "id": "H5tB2bZjRTqU",
    "outputId": "f922bc70-411e-4923-c371-30d72437409b"
   },
   "outputs": [],
   "source": [
    "# idx= cosine_values.argsort()[0][-2] #-1 is the i/p text which is similar to itself , -2 is the most similar i/p\n",
    "# print(\"idx: \",idx)"
   ]
  },
  {
   "cell_type": "code",
   "execution_count": 42,
   "metadata": {
    "id": "q06KOj2tR8hN"
   },
   "outputs": [],
   "source": [
    "# flat = cosine_values.flatten()\n",
    "# print(\"flat: \",flat)"
   ]
  },
  {
   "cell_type": "code",
   "execution_count": 43,
   "metadata": {
    "id": "xOUA-M9TSDSL"
   },
   "outputs": [],
   "source": [
    "# flat.sort()"
   ]
  },
  {
   "cell_type": "code",
   "execution_count": 44,
   "metadata": {
    "id": "vu2P-mbgBMD2"
   },
   "outputs": [],
   "source": [
    "# flat"
   ]
  },
  {
   "cell_type": "code",
   "execution_count": 45,
   "metadata": {
    "id": "LM8fIeVzSKrx"
   },
   "outputs": [],
   "source": [
    "# req_fiting_vectorizer = flat[-2]\n",
    "# print(\"req_fiting_vectorizer : \",req_fiting_vectorizer)"
   ]
  },
  {
   "cell_type": "code",
   "execution_count": 46,
   "metadata": {
    "colab": {
     "base_uri": "https://localhost:8080/"
    },
    "id": "y-Z05-dhiwld",
    "outputId": "9671d232-3f1c-4167-c228-a7988311aec4"
   },
   "outputs": [
    {
     "name": "stderr",
     "output_type": "stream",
     "text": [
      "[nltk_data] Downloading package wordnet to\n",
      "[nltk_data]     C:\\Users\\user\\AppData\\Roaming\\nltk_data...\n",
      "[nltk_data]   Package wordnet is already up-to-date!\n"
     ]
    },
    {
     "data": {
      "text/plain": [
       "True"
      ]
     },
     "execution_count": 46,
     "metadata": {},
     "output_type": "execute_result"
    }
   ],
   "source": [
    "nltk.download('wordnet')"
   ]
  },
  {
   "cell_type": "code",
   "execution_count": 47,
   "metadata": {
    "colab": {
     "base_uri": "https://localhost:8080/"
    },
    "id": "y5hIah3gi4f8",
    "outputId": "d30d4eb6-232e-4da7-82e0-fc9d1fa47542"
   },
   "outputs": [
    {
     "name": "stderr",
     "output_type": "stream",
     "text": [
      "[nltk_data] Downloading package omw-1.4 to\n",
      "[nltk_data]     C:\\Users\\user\\AppData\\Roaming\\nltk_data...\n",
      "[nltk_data]   Package omw-1.4 is already up-to-date!\n"
     ]
    },
    {
     "data": {
      "text/plain": [
       "True"
      ]
     },
     "execution_count": 47,
     "metadata": {},
     "output_type": "execute_result"
    }
   ],
   "source": [
    "nltk.download('omw-1.4')"
   ]
  },
  {
   "cell_type": "code",
   "execution_count": 48,
   "metadata": {
    "colab": {
     "base_uri": "https://localhost:8080/"
    },
    "id": "aRsqG7WvSzbA",
    "outputId": "4eebef1b-2cd0-489f-8e20-4a1501720814"
   },
   "outputs": [
    {
     "name": "stdout",
     "output_type": "stream",
     "text": [
      "ROBO: My name is Robo. I will answer your queries about Chatbots. If you want to exit, type Bye!\n",
      "hi\n",
      "ROBO: how can I assist you?\n",
      "data science\n",
      "ROBO: however, data science is different from computer science and information science.\n",
      "bysdbjs\n",
      "ROBO: I am sorry! I don't understand you\n",
      "bye\n",
      "ROBO: Bye! take care..\n"
     ]
    }
   ],
   "source": [
    "flag=True\n",
    "print(\"ROBO: My name is Robo. I will answer your queries about Chatbots. If you want to exit, type Bye!\")\n",
    "while(flag==True):\n",
    "    response = input()\n",
    "    response = response.lower()\n",
    "    if(response!='bye'):\n",
    "        if(response=='thanks' or response=='thank you' ):\n",
    "            flag=False\n",
    "            print(\"ROBO: You are welcome..\")\n",
    "        else:\n",
    "            if(greetings(response)!=None):\n",
    "                print(\"ROBO: \"+greetings(response))\n",
    "            else:\n",
    "                print(\"ROBO: \",end=\"\")\n",
    "                print(generate_response(response))\n",
    "#                 sentence_tokens.remove(response)\n",
    "    else:\n",
    "        flag=False\n",
    "        print(\"ROBO: Bye! take care..\")"
   ]
  },
  {
   "cell_type": "code",
   "execution_count": null,
   "metadata": {
    "id": "VwrXR13tTpYe"
   },
   "outputs": [],
   "source": []
  }
 ],
 "metadata": {
  "colab": {
   "provenance": []
  },
  "kernelspec": {
   "display_name": "Python 3 (ipykernel)",
   "language": "python",
   "name": "python3"
  },
  "language_info": {
   "codemirror_mode": {
    "name": "ipython",
    "version": 3
   },
   "file_extension": ".py",
   "mimetype": "text/x-python",
   "name": "python",
   "nbconvert_exporter": "python",
   "pygments_lexer": "ipython3",
   "version": "3.10.9"
  }
 },
 "nbformat": 4,
 "nbformat_minor": 1
}
