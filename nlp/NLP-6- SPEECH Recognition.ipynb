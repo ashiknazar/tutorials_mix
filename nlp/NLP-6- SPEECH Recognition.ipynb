{
 "cells": [
  {
   "cell_type": "code",
   "execution_count": 1,
   "id": "284de6de",
   "metadata": {},
   "outputs": [
    {
     "name": "stdout",
     "output_type": "stream",
     "text": [
      "Requirement already satisfied: SpeechRecognition in c:\\users\\91799\\anaconda3\\lib\\site-packages (3.8.1)\n"
     ]
    }
   ],
   "source": [
    "!pip install SpeechRecognition"
   ]
  },
  {
   "cell_type": "code",
   "execution_count": 3,
   "id": "ba7f3556",
   "metadata": {},
   "outputs": [
    {
     "name": "stdout",
     "output_type": "stream",
     "text": [
      "Requirement already satisfied: pipwin in c:\\users\\91799\\anaconda3\\lib\\site-packages (0.5.2)\n",
      "Requirement already satisfied: packaging in c:\\users\\91799\\appdata\\roaming\\python\\python39\\site-packages (from pipwin) (23.1)\n",
      "Requirement already satisfied: six in c:\\users\\91799\\anaconda3\\lib\\site-packages (from pipwin) (1.12.0)\n",
      "Requirement already satisfied: pyprind in c:\\users\\91799\\anaconda3\\lib\\site-packages (from pipwin) (2.11.3)\n",
      "Requirement already satisfied: pySmartDL>=1.3.1 in c:\\users\\91799\\anaconda3\\lib\\site-packages (from pipwin) (1.3.4)\n",
      "Requirement already satisfied: js2py in c:\\users\\91799\\anaconda3\\lib\\site-packages (from pipwin) (0.74)\n",
      "Requirement already satisfied: docopt in c:\\users\\91799\\anaconda3\\lib\\site-packages (from pipwin) (0.6.2)\n",
      "Requirement already satisfied: beautifulsoup4>=4.9.0 in c:\\users\\91799\\anaconda3\\lib\\site-packages (from pipwin) (4.12.3)\n",
      "Requirement already satisfied: requests in c:\\users\\91799\\anaconda3\\lib\\site-packages (from pipwin) (2.28.1)\n",
      "Requirement already satisfied: soupsieve>1.2 in c:\\users\\91799\\anaconda3\\lib\\site-packages (from beautifulsoup4>=4.9.0->pipwin) (2.3.1)\n",
      "Requirement already satisfied: pyjsparser>=2.5.1 in c:\\users\\91799\\anaconda3\\lib\\site-packages (from js2py->pipwin) (2.7.1)\n",
      "Requirement already satisfied: tzlocal>=1.2 in c:\\users\\91799\\anaconda3\\lib\\site-packages (from js2py->pipwin) (5.2)\n",
      "Requirement already satisfied: tzdata in c:\\users\\91799\\anaconda3\\lib\\site-packages (from tzlocal>=1.2->js2py->pipwin) (2024.1)\n",
      "Requirement already satisfied: charset-normalizer<3,>=2 in c:\\users\\91799\\anaconda3\\lib\\site-packages (from requests->pipwin) (2.0.12)\n",
      "Requirement already satisfied: idna<4,>=2.5 in c:\\users\\91799\\anaconda3\\lib\\site-packages (from requests->pipwin) (3.4)\n",
      "Requirement already satisfied: urllib3<1.27,>=1.21.1 in c:\\users\\91799\\anaconda3\\lib\\site-packages (from requests->pipwin) (1.26.12)\n",
      "Requirement already satisfied: certifi>=2017.4.17 in c:\\users\\91799\\anaconda3\\lib\\site-packages (from requests->pipwin) (2022.9.24)\n"
     ]
    }
   ],
   "source": [
    "!pip install pipwin"
   ]
  },
  {
   "cell_type": "code",
   "execution_count": 4,
   "id": "322b1af0",
   "metadata": {},
   "outputs": [
    {
     "name": "stdout",
     "output_type": "stream",
     "text": [
      "Requirement already satisfied: pyaudio in c:\\users\\91799\\anaconda3\\lib\\site-packages (0.2.13)\n"
     ]
    }
   ],
   "source": [
    "!pip install pyaudio"
   ]
  },
  {
   "cell_type": "code",
   "execution_count": 3,
   "id": "485ebedb",
   "metadata": {},
   "outputs": [],
   "source": [
    "import speech_recognition as s\n",
    "\n"
   ]
  },
  {
   "cell_type": "code",
   "execution_count": 5,
   "id": "fa40bff1",
   "metadata": {},
   "outputs": [
    {
     "name": "stdout",
     "output_type": "stream",
     "text": [
      "Say Something\n",
      "what is your name and then going to church\n"
     ]
    }
   ],
   "source": [
    "sr=s.Recognizer()\n",
    "print('Say Something')\n",
    "with s.Microphone() as source:\n",
    "    audio=sr.listen(source)\n",
    "    query=sr.recognize_google(audio,language='eng-in')\n",
    "    print(query)\n",
    "    "
   ]
  },
  {
   "cell_type": "code",
   "execution_count": 16,
   "id": "7126044a",
   "metadata": {},
   "outputs": [
    {
     "name": "stdout",
     "output_type": "stream",
     "text": [
      "3.8.1\n",
      "Say something:\n",
      "Speech Recognition could not understand audio\n"
     ]
    }
   ],
   "source": [
    "import speech_recognition as sr\n",
    "\n",
    "print(sr.__version__)  # Ensure you're using the correct version of the library\n",
    "\n",
    "sr.energy_threshold = 4000  # You can adjust this threshold based on your environment\n",
    "\n",
    "r = sr.Recognizer()\n",
    "\n",
    "with sr.Microphone() as source:\n",
    "    print(\"Say something:\")\n",
    "    audio = r.listen(source)\n",
    "\n",
    "try:\n",
    "    query = r.recognize_google(audio, language='en-IN')  # Use 'en-IN' instead of 'eng-in'\n",
    "    print(\"You said:\", query)\n",
    "except sr.UnknownValueError:\n",
    "    print(\"Speech Recognition could not understand audio\")\n",
    "except sr.RequestError as e:\n",
    "    print(f\"Could not request results from Google Speech Recognition service; {e}\")\n"
   ]
  },
  {
   "cell_type": "code",
   "execution_count": null,
   "id": "1b790fca",
   "metadata": {},
   "outputs": [],
   "source": []
  }
 ],
 "metadata": {
  "kernelspec": {
   "display_name": "Python 3 (ipykernel)",
   "language": "python",
   "name": "python3"
  },
  "language_info": {
   "codemirror_mode": {
    "name": "ipython",
    "version": 3
   },
   "file_extension": ".py",
   "mimetype": "text/x-python",
   "name": "python",
   "nbconvert_exporter": "python",
   "pygments_lexer": "ipython3",
   "version": "3.10.9"
  }
 },
 "nbformat": 4,
 "nbformat_minor": 5
}
