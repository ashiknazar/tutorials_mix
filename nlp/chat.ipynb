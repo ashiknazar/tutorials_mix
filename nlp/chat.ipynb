{
 "cells": [
  {
   "cell_type": "code",
   "execution_count": 155,
   "id": "38b2e640",
   "metadata": {},
   "outputs": [],
   "source": [
    "import warnings"
   ]
  },
  {
   "cell_type": "code",
   "execution_count": 156,
   "id": "2fb1273a",
   "metadata": {},
   "outputs": [],
   "source": [
    "txt = open(\"chatbot.txt\",errors='ignore')\n",
    "raw_txt = txt.read()\n",
    "raw_txt = raw_txt.lower()"
   ]
  },
  {
   "cell_type": "code",
   "execution_count": 157,
   "id": "8c472916",
   "metadata": {},
   "outputs": [],
   "source": [
    "warnings.filterwarnings('ignore')"
   ]
  },
  {
   "cell_type": "code",
   "execution_count": 158,
   "id": "3f0ebfa9",
   "metadata": {},
   "outputs": [
    {
     "data": {
      "text/plain": [
       "'data science is an interdisciplinary field that uses scientific methods, processes, algorithms and systems to extract knowledge and insights from noisy, structured and unstructured data,[1][2] and apply knowledge and actionable insights from data across a broad range of application domains. data science is related to data mining, machine learning and big data.\\n\\ndata science is a \"concept to unify statistics, data analysis, informatics, and their related methods\" in order to \"understand and analyze actual phenomena\" with data.[3] it uses techniques and theories drawn from many fields within the context of mathematics, statistics, computer science, information science, and domain knowledge. however, data science is different from computer science and information science. turing award winner jim gray imagined data science as a \"fourth paradigm\" of science (empirical, theoretical, computational, and now data-driven) and asserted that \"everything about science is changing because of the impact of information technology\" and the data deluge.[4][5]\\n\\na data scientist is someone who creates programming code, and combines it with statistical knowledge to create insights from data.[6]\\n\\n\\ncontents\\n1\\tfoundations\\n1.1\\trelationship to statistics\\n2\\tetymology\\n2.1\\tearly usage\\n2.2\\tmodern usage\\n3\\ttechnologies and techniques\\n4\\tsee also\\n5\\treferences\\nfoundations\\ndata science is an interdisciplinary field focused on extracting knowledge from data sets, which are typically large (see big data), and applying the knowledge and actionable insights from data to solve problems in a wide range of application domains.[7] the field encompasses preparing data for analysis, formulating data science problems, analyzing data, developing data-driven solutions, and presenting findings to inform high-level decisions in a broad range of application domains. as such, it incorporates skills from computer science, statistics, information science, mathematics, information visualization, data sonification, data integration, graphic design, complex systems, communication and business.[8][9] statistician nathan yau, drawing on ben fry, also links data science to human-computer interaction: users should be able to intuitively control and explore data.[10][11] in 2015, the american statistical association identified database management, statistics and machine learning, and distributed and parallel systems as the three emerging foundational professional communities.[12]\\n\\nrelationship to statistics\\nmany statisticians, including nate silver, have argued that data science is not a new field, but rather another name for statistics.[13] others argue that data science is distinct from statistics because it focuses on problems and techniques unique to digital data.[14] vasant dhar writes that statistics emphasizes quantitative data and description. in contrast, data science deals with quantitative and qualitative data (e.g. images) and emphasizes prediction and action.[15] andrew gelman of columbia university has described statistics as a nonessential part of data science.[16] stanford professor david donoho writes that data science is not distinguished from statistics by the size of datasets or use of computing, and that many graduate programs misleadingly advertise their analytics and statistics training as the essence of a data science program. he describes data science as an applied field growing out of traditional statistics.[17] in summary, data science can be therefore described as an applied branch of statistics.\\n\\netymology\\nearly usage\\nin 1962, john tukey described a field he called \"data analysis\", which resembles modern data science.[17] in 1985, in a lecture given to the chinese academy of sciences in beijing, c.f. jeff wu used the term data science for the first time as an alternative name for statistics.[18] later, attendees at a 1992 statistics symposium at the university of montpellier ii acknowledged the emergence of a new discipline focused on data of various origins and forms, combining established concepts and principles of statistics and data analysis with computing.[19][20]\\n\\nthe term \"data science\" has been traced back to 1974, when peter naur proposed it as an alternative name for computer science.[21] in 1996, the international federation of classification societies became the first conference to specifically feature data science as a topic.[21] however, the definition was still in flux. after the 1985 lecture in the chinese academy of sciences in beijing, in 1997 c.f. jeff wu again suggested that statistics should be renamed data science. he reasoned that a new name would help statistics shed inaccurate stereotypes, such as being synonymous with accounting, or limited to describing data.[22] in 1998, hayashi chikio argued for data science as a new, interdisciplinary concept, with three aspects: data design, collection, and analysis.[20]\\n\\nduring the 1990s, popular terms for the process of finding patterns in datasets (which were increasingly large) included \"knowledge discovery\" and \"data mining\".[23][21]\\n\\nmodern usage\\nthe modern conception of data science as an independent discipline is sometimes attributed to william s. cleveland.[24] in a 2001 paper, he advocated an expansion of statistics beyond theory into technical areas; because this would significantly change the field, it warranted a new name.[23] \"data science\" became more widely used in the next few years: in 2002, the committee on data for science and technology launched data science journal. in 2003, columbia university launched the journal of data science.[23] in 2014, the american statistical association\\'s section on statistical learning and data mining changed its name to the section on statistical learning and data science, reflecting the ascendant popularity of data science.[25]\\n\\nthe professional title of \"data scientist\" has been attributed to dj patil and jeff hammerbacher in 2008.[26] though it was used by the national science board in their 2005 report, \"long-lived digital data collections: enabling research and education in the 21st century,\" it referred broadly to any key role in managing a digital data collection.[27]\\n\\nthere is still no consensus on the definition of data science and it is considered by some to be a buzzword.[28] big data is a related marketing term.[29] data scientists are responsible for breaking down big data into usable information and creating software and algorithms that help companies and organizations determine optimal operations.[30]'"
      ]
     },
     "execution_count": 158,
     "metadata": {},
     "output_type": "execute_result"
    }
   ],
   "source": [
    "raw_txt"
   ]
  },
  {
   "cell_type": "code",
   "execution_count": 159,
   "id": "e367c872",
   "metadata": {},
   "outputs": [
    {
     "name": "stderr",
     "output_type": "stream",
     "text": [
      "[nltk_data] Downloading package punkt to\n",
      "[nltk_data]     C:\\Users\\user\\AppData\\Roaming\\nltk_data...\n",
      "[nltk_data]   Package punkt is already up-to-date!\n"
     ]
    },
    {
     "data": {
      "text/plain": [
       "True"
      ]
     },
     "execution_count": 159,
     "metadata": {},
     "output_type": "execute_result"
    }
   ],
   "source": [
    "import nltk\n",
    "nltk.download('punkt')"
   ]
  },
  {
   "cell_type": "code",
   "execution_count": 160,
   "id": "9ffb2319",
   "metadata": {},
   "outputs": [],
   "source": [
    "sentense_tokens=nltk.sent_tokenize(raw_txt)"
   ]
  },
  {
   "cell_type": "code",
   "execution_count": 161,
   "id": "c124be29",
   "metadata": {},
   "outputs": [],
   "source": [
    "word_tokens=nltk.word_tokenize(raw_txt)"
   ]
  },
  {
   "cell_type": "code",
   "execution_count": 162,
   "id": "93084270",
   "metadata": {},
   "outputs": [],
   "source": [
    "from nltk.stem import WordNetLemmatizer"
   ]
  },
  {
   "cell_type": "code",
   "execution_count": 163,
   "id": "c852c1cb",
   "metadata": {},
   "outputs": [],
   "source": [
    "import string"
   ]
  },
  {
   "cell_type": "code",
   "execution_count": 164,
   "id": "160e14f7",
   "metadata": {},
   "outputs": [],
   "source": [
    "lemmatizer=WordNetLemmatizer()\n",
    "def lematization(tokens):\n",
    "    return [lemmatizer.lemmatize(token) for token in tokens]\n",
    "remove_punt_from=dict((ord(punct),None) for punct in string.punctuation)\n",
    "def normalising_lemmatizer(text):\n",
    "    return lematization(nltk.word_tokenize(text.lower().translate(remove_punt_from)))"
   ]
  },
  {
   "cell_type": "code",
   "execution_count": 165,
   "id": "d391c6af",
   "metadata": {},
   "outputs": [
    {
     "data": {
      "text/plain": [
       "'!\"#$%&\\'()*+,-./:;<=>?@[\\\\]^_`{|}~'"
      ]
     },
     "execution_count": 165,
     "metadata": {},
     "output_type": "execute_result"
    }
   ],
   "source": [
    "string.punctuation"
   ]
  },
  {
   "cell_type": "code",
   "execution_count": 166,
   "id": "cf5b16c9",
   "metadata": {},
   "outputs": [
    {
     "data": {
      "text/plain": [
       "{33: None,\n",
       " 34: None,\n",
       " 35: None,\n",
       " 36: None,\n",
       " 37: None,\n",
       " 38: None,\n",
       " 39: None,\n",
       " 40: None,\n",
       " 41: None,\n",
       " 42: None,\n",
       " 43: None,\n",
       " 44: None,\n",
       " 45: None,\n",
       " 46: None,\n",
       " 47: None,\n",
       " 58: None,\n",
       " 59: None,\n",
       " 60: None,\n",
       " 61: None,\n",
       " 62: None,\n",
       " 63: None,\n",
       " 64: None,\n",
       " 91: None,\n",
       " 92: None,\n",
       " 93: None,\n",
       " 94: None,\n",
       " 95: None,\n",
       " 96: None,\n",
       " 123: None,\n",
       " 124: None,\n",
       " 125: None,\n",
       " 126: None}"
      ]
     },
     "execution_count": 166,
     "metadata": {},
     "output_type": "execute_result"
    }
   ],
   "source": [
    "remove_punt_from"
   ]
  },
  {
   "cell_type": "code",
   "execution_count": 167,
   "id": "30cda91a",
   "metadata": {},
   "outputs": [],
   "source": [
    "import random"
   ]
  },
  {
   "cell_type": "code",
   "execution_count": 168,
   "id": "6812b85f",
   "metadata": {},
   "outputs": [],
   "source": [
    "greeting_inputs = (\"hello\", \"hi\",\"hai\", \"greetings\", \"sup\", \"what's_up\",\"hey\",)\n",
    "greeting_responses = [\"hello\", \"I am glad! You are talking to me\",\"how can I assist you?\"]\n"
   ]
  },
  {
   "cell_type": "code",
   "execution_count": 169,
   "id": "58190ed4",
   "metadata": {},
   "outputs": [],
   "source": [
    "def greetings(inputs):\n",
    "    for word in inputs.split():\n",
    "        if word.lower() in greeting_inputs:\n",
    "            return random.choice(greeting_responses)"
   ]
  },
  {
   "cell_type": "code",
   "execution_count": 170,
   "id": "3413ecb7",
   "metadata": {},
   "outputs": [],
   "source": [
    "from sklearn.feature_extraction.text import TfidfVectorizer\n",
    "from sklearn.metrics.pairwise import cosine_similarity"
   ]
  },
  {
   "cell_type": "code",
   "execution_count": 171,
   "id": "f8eec874",
   "metadata": {},
   "outputs": [],
   "source": [
    "def generate_response(response):\n",
    "    bot_response =''\n",
    "    sentence_tokens.append(response)\n",
    "\n",
    "    vectorizer =TfidfVectorizer(tokenizer=normalising_lemmatizer,stop_words='english')\n",
    "\n",
    "    fiting_vectorizer = vectorizer.fit_transform(sentence_tokens)\n",
    "\n",
    "    cosine_values = cosine_similarity(fiting_vectorizer[-1],fiting_vectorizer)\n",
    "\n",
    "    idx  = cosine_values.argsort()[0][-2]\n",
    "    flat = cosine_values.flatten() \n",
    "    flat.sort()\n",
    "\n",
    "    req_fiting_vectorizer = flat[-2]\n",
    "    if(req_fiting_vectorizer==0):\n",
    "        \n",
    "        bot_response=bot_response+\"I am sorry! I don't understand you\"\n",
    "        return bot_response\n",
    "    else:\n",
    "        bot_response = bot_response+sentence_tokens[idx]\n",
    "        return bot_response"
   ]
  },
  {
   "cell_type": "code",
   "execution_count": 172,
   "id": "5ba72ca3",
   "metadata": {},
   "outputs": [
    {
     "name": "stderr",
     "output_type": "stream",
     "text": [
      "[nltk_data] Downloading package wordnet to\n",
      "[nltk_data]     C:\\Users\\user\\AppData\\Roaming\\nltk_data...\n",
      "[nltk_data]   Package wordnet is already up-to-date!\n",
      "[nltk_data] Downloading package omw-1.4 to\n",
      "[nltk_data]     C:\\Users\\user\\AppData\\Roaming\\nltk_data...\n",
      "[nltk_data]   Package omw-1.4 is already up-to-date!\n"
     ]
    },
    {
     "data": {
      "text/plain": [
       "True"
      ]
     },
     "execution_count": 172,
     "metadata": {},
     "output_type": "execute_result"
    }
   ],
   "source": [
    "nltk.download('wordnet')\n",
    "nltk.download('omw-1.4')"
   ]
  },
  {
   "cell_type": "code",
   "execution_count": 176,
   "id": "47de9744",
   "metadata": {},
   "outputs": [
    {
     "name": "stdout",
     "output_type": "stream",
     "text": [
      "MY NAME IS ROBO I WILL ANSWER YOUR QUESTIONS\n",
      "hi\n",
      "ROB:I am glad! You are talking to me\n",
      "data science\n",
      "robo:[[45 44 27 16 35 34 47 11 32 39 30 14 24 22 42 28 43 40  6 33 26  0 12 17\n",
      "  10  7  3 18 23 41  8 31 21 20 19 37 29 25 13 38  9  2  5 15  1 36  4 46\n",
      "  48]]\n",
      "None\n",
      "bye\n",
      "robo: bye..\n"
     ]
    }
   ],
   "source": [
    "flag=True\n",
    "print(\"MY NAME IS ROBO I WILL ANSWER YOUR QUESTIONS\")\n",
    "while(flag==True):\n",
    "    response=input()\n",
    "    response=response.lower()\n",
    "    if(response!='bye'):\n",
    "        if(response=='thanks' or response=='thank you'):\n",
    "            flag=False\n",
    "            print(\"Robo: yo welcome\")\n",
    "        else:\n",
    "            if(greetings(response)!=None):\n",
    "                print(\"ROB:\"+greetings(response))\n",
    "            else:\n",
    "                print(\"robo:\",end=\"\")\n",
    "                print(generate_re(response))\n",
    "    else:\n",
    "        flag=False\n",
    "        print(\"robo: bye..\")"
   ]
  },
  {
   "cell_type": "code",
   "execution_count": 175,
   "id": "11fe5749",
   "metadata": {},
   "outputs": [],
   "source": [
    "def generate_re(response):\n",
    "    bot_response =''\n",
    "    sentence_tokens.append(response)\n",
    "\n",
    "    vectorizer =TfidfVectorizer(tokenizer=normalising_lemmatizer,stop_words='english')\n",
    "\n",
    "    fiting_vectorizer = vectorizer.fit_transform(sentence_tokens)\n",
    "\n",
    "    cosine_values = cosine_similarity(fiting_vectorizer[-1],fiting_vectorizer)\n",
    "\n",
    "    idx  = cosine_values.argsort()[0][-2]\n",
    "    print(cosine_values.argsort())"
   ]
  },
  {
   "cell_type": "code",
   "execution_count": null,
   "id": "d3c4683c",
   "metadata": {},
   "outputs": [],
   "source": []
  }
 ],
 "metadata": {
  "kernelspec": {
   "display_name": "Python 3 (ipykernel)",
   "language": "python",
   "name": "python3"
  },
  "language_info": {
   "codemirror_mode": {
    "name": "ipython",
    "version": 3
   },
   "file_extension": ".py",
   "mimetype": "text/x-python",
   "name": "python",
   "nbconvert_exporter": "python",
   "pygments_lexer": "ipython3",
   "version": "3.10.9"
  }
 },
 "nbformat": 4,
 "nbformat_minor": 5
}
