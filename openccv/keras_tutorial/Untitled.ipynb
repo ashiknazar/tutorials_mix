{
 "cells": [
  {
   "cell_type": "markdown",
   "id": "5bbbe05e",
   "metadata": {},
   "source": [
    "### data preparation and preprocessing"
   ]
  },
  {
   "cell_type": "code",
   "execution_count": 11,
   "id": "6e190662",
   "metadata": {},
   "outputs": [],
   "source": [
    "import numpy as np\n",
    "from random import randint\n",
    "from sklearn.utils import shuffle\n",
    "from sklearn.preprocessing import MinMaxScaler"
   ]
  },
  {
   "cell_type": "code",
   "execution_count": 12,
   "id": "c7a34893",
   "metadata": {},
   "outputs": [],
   "source": [
    "train_labels=[]\n",
    "train_samples=[]\n"
   ]
  },
  {
   "cell_type": "code",
   "execution_count": 13,
   "id": "a92574ed",
   "metadata": {},
   "outputs": [],
   "source": [
    "# 5% of younger people got side effect and 5% of older \n",
    "# people are not having side effect \n",
    "for i in range(50):\n",
    "    random_younger=randint(13,64)\n",
    "    train_samples.append(random_younger)\n",
    "    train_labels.append(1)\n",
    "    \n",
    "    random_older=randint(65,100)\n",
    "    train_samples.append(random_older)\n",
    "    train_labels.append(0)    "
   ]
  },
  {
   "cell_type": "code",
   "execution_count": 14,
   "id": "4a6df899",
   "metadata": {},
   "outputs": [],
   "source": [
    "for i in range(1000):\n",
    "    random_younger=randint(13,64)\n",
    "    train_samples.append(random_younger)\n",
    "    train_labels.append(0)\n",
    "    \n",
    "    random_older=randint(65,100)\n",
    "    train_samples.append(random_older)\n",
    "    train_labels.append(1)"
   ]
  },
  {
   "cell_type": "code",
   "execution_count": 23,
   "id": "04dcb12e",
   "metadata": {},
   "outputs": [],
   "source": [
    "train_labels=np.array(train_labels)\n",
    "train_samples=np.array(train_samples)\n",
    "train_labels,train_samples=shuffle(train_labels,train_samples)"
   ]
  },
  {
   "cell_type": "code",
   "execution_count": 25,
   "id": "939eca6d",
   "metadata": {},
   "outputs": [],
   "source": [
    "scaler=MinMaxScaler(feature_range=(0,1))\n",
    "scaled_train_samples=scaler.fit_transform(train_samples.reshape(-1,1))"
   ]
  },
  {
   "cell_type": "code",
   "execution_count": 26,
   "id": "061e6845",
   "metadata": {},
   "outputs": [
    {
     "data": {
      "text/plain": [
       "(2100, 1)"
      ]
     },
     "execution_count": 26,
     "metadata": {},
     "output_type": "execute_result"
    }
   ],
   "source": [
    "scaled_train_samples.shape"
   ]
  },
  {
   "cell_type": "code",
   "execution_count": 27,
   "id": "0436e228",
   "metadata": {},
   "outputs": [],
   "source": [
    "import tensorflow as tf"
   ]
  },
  {
   "cell_type": "code",
   "execution_count": 28,
   "id": "54975ec9",
   "metadata": {},
   "outputs": [],
   "source": [
    "from tensorflow import keras\n",
    "from tensorflow.keras.models import Sequential\n",
    "from tensorflow.keras.layers import Activation,Dense\n",
    "from tensorflow.keras.optimizers import Adam\n",
    "from tensorflow.keras.metrics import categorical_crossentropy"
   ]
  },
  {
   "cell_type": "code",
   "execution_count": 31,
   "id": "c013fafe",
   "metadata": {},
   "outputs": [],
   "source": [
    "#phy_dev=tf.config.experimental.list_physical_devices('GPU')\n",
    "#print(len(phy_dev))\n",
    "#tf.config.experimental.set_memory_growth(phy_dev[0],True)"
   ]
  },
  {
   "cell_type": "code",
   "execution_count": 32,
   "id": "72642608",
   "metadata": {},
   "outputs": [],
   "source": [
    "model=Sequential([\n",
    "    Dense(units=16,input_shape=(1,),activation='relu'),\n",
    "    Dense(units=32,activation='relu'),\n",
    "    Dense(units=2,activation='softmax')\n",
    "])"
   ]
  },
  {
   "cell_type": "code",
   "execution_count": 33,
   "id": "2e0f52c1",
   "metadata": {},
   "outputs": [
    {
     "name": "stdout",
     "output_type": "stream",
     "text": [
      "Model: \"sequential\"\n",
      "_________________________________________________________________\n",
      " Layer (type)                Output Shape              Param #   \n",
      "=================================================================\n",
      " dense (Dense)               (None, 16)                32        \n",
      "                                                                 \n",
      " dense_1 (Dense)             (None, 32)                544       \n",
      "                                                                 \n",
      " dense_2 (Dense)             (None, 2)                 66        \n",
      "                                                                 \n",
      "=================================================================\n",
      "Total params: 642\n",
      "Trainable params: 642\n",
      "Non-trainable params: 0\n",
      "_________________________________________________________________\n"
     ]
    }
   ],
   "source": [
    "model.summary()"
   ]
  },
  {
   "cell_type": "code",
   "execution_count": 34,
   "id": "f75735c6",
   "metadata": {},
   "outputs": [],
   "source": [
    "model.compile(optimizer=Adam(learning_rate=0.0001),loss='sparse_categorical_crossentropy',metrics=['accuracy'])\n"
   ]
  },
  {
   "cell_type": "code",
   "execution_count": 35,
   "id": "0ed013a2",
   "metadata": {},
   "outputs": [
    {
     "name": "stdout",
     "output_type": "stream",
     "text": [
      "Epoch 1/30\n",
      "210/210 - 1s - loss: 0.7755 - accuracy: 0.4805 - 695ms/epoch - 3ms/step\n",
      "Epoch 2/30\n",
      "210/210 - 0s - loss: 0.7223 - accuracy: 0.4914 - 195ms/epoch - 931us/step\n",
      "Epoch 3/30\n",
      "210/210 - 0s - loss: 0.6798 - accuracy: 0.7171 - 190ms/epoch - 904us/step\n",
      "Epoch 4/30\n",
      "210/210 - 0s - loss: 0.6484 - accuracy: 0.8557 - 193ms/epoch - 918us/step\n",
      "Epoch 5/30\n",
      "210/210 - 0s - loss: 0.6208 - accuracy: 0.8410 - 193ms/epoch - 917us/step\n",
      "Epoch 6/30\n",
      "210/210 - 0s - loss: 0.5930 - accuracy: 0.8452 - 188ms/epoch - 895us/step\n",
      "Epoch 7/30\n",
      "210/210 - 0s - loss: 0.5638 - accuracy: 0.8533 - 190ms/epoch - 904us/step\n",
      "Epoch 8/30\n",
      "210/210 - 0s - loss: 0.5280 - accuracy: 0.8695 - 215ms/epoch - 1ms/step\n",
      "Epoch 9/30\n",
      "210/210 - 0s - loss: 0.4920 - accuracy: 0.8767 - 213ms/epoch - 1ms/step\n",
      "Epoch 10/30\n",
      "210/210 - 0s - loss: 0.4604 - accuracy: 0.8876 - 213ms/epoch - 1ms/step\n",
      "Epoch 11/30\n",
      "210/210 - 0s - loss: 0.4319 - accuracy: 0.8971 - 192ms/epoch - 916us/step\n",
      "Epoch 12/30\n",
      "210/210 - 0s - loss: 0.4061 - accuracy: 0.9076 - 207ms/epoch - 986us/step\n",
      "Epoch 13/30\n",
      "210/210 - 0s - loss: 0.3836 - accuracy: 0.9048 - 217ms/epoch - 1ms/step\n",
      "Epoch 14/30\n",
      "210/210 - 0s - loss: 0.3642 - accuracy: 0.9152 - 217ms/epoch - 1ms/step\n",
      "Epoch 15/30\n",
      "210/210 - 0s - loss: 0.3479 - accuracy: 0.9143 - 217ms/epoch - 1ms/step\n",
      "Epoch 16/30\n",
      "210/210 - 0s - loss: 0.3341 - accuracy: 0.9190 - 219ms/epoch - 1ms/step\n",
      "Epoch 17/30\n",
      "210/210 - 0s - loss: 0.3224 - accuracy: 0.9190 - 199ms/epoch - 949us/step\n",
      "Epoch 18/30\n",
      "210/210 - 0s - loss: 0.3125 - accuracy: 0.9238 - 196ms/epoch - 932us/step\n",
      "Epoch 19/30\n",
      "210/210 - 0s - loss: 0.3044 - accuracy: 0.9205 - 195ms/epoch - 928us/step\n",
      "Epoch 20/30\n",
      "210/210 - 0s - loss: 0.2974 - accuracy: 0.9214 - 194ms/epoch - 925us/step\n",
      "Epoch 21/30\n",
      "210/210 - 0s - loss: 0.2914 - accuracy: 0.9290 - 188ms/epoch - 896us/step\n",
      "Epoch 22/30\n",
      "210/210 - 0s - loss: 0.2865 - accuracy: 0.9257 - 199ms/epoch - 947us/step\n",
      "Epoch 23/30\n",
      "210/210 - 0s - loss: 0.2823 - accuracy: 0.9267 - 191ms/epoch - 911us/step\n",
      "Epoch 24/30\n",
      "210/210 - 0s - loss: 0.2788 - accuracy: 0.9267 - 189ms/epoch - 898us/step\n",
      "Epoch 25/30\n",
      "210/210 - 0s - loss: 0.2756 - accuracy: 0.9286 - 194ms/epoch - 922us/step\n",
      "Epoch 26/30\n",
      "210/210 - 0s - loss: 0.2730 - accuracy: 0.9276 - 201ms/epoch - 958us/step\n",
      "Epoch 27/30\n",
      "210/210 - 0s - loss: 0.2705 - accuracy: 0.9267 - 194ms/epoch - 922us/step\n",
      "Epoch 28/30\n",
      "210/210 - 0s - loss: 0.2685 - accuracy: 0.9271 - 195ms/epoch - 929us/step\n",
      "Epoch 29/30\n",
      "210/210 - 0s - loss: 0.2666 - accuracy: 0.9290 - 192ms/epoch - 913us/step\n",
      "Epoch 30/30\n",
      "210/210 - 0s - loss: 0.2652 - accuracy: 0.9281 - 192ms/epoch - 913us/step\n"
     ]
    },
    {
     "data": {
      "text/plain": [
       "<keras.callbacks.History at 0x1f44d469ba0>"
      ]
     },
     "execution_count": 35,
     "metadata": {},
     "output_type": "execute_result"
    }
   ],
   "source": [
    "model.fit(x=scaled_train_samples,y=train_labels,batch_size=10,epochs=30,shuffle=True,verbose=2)"
   ]
  },
  {
   "cell_type": "code",
   "execution_count": 36,
   "id": "d7037af5",
   "metadata": {},
   "outputs": [
    {
     "name": "stdout",
     "output_type": "stream",
     "text": [
      "You must install pydot (`pip install pydot`) and install graphviz (see instructions at https://graphviz.gitlab.io/download/) for plot_model to work.\n"
     ]
    }
   ],
   "source": [
    "tf.keras.utils.plot_model(model,to_file='mm.png',show_shapes=True)"
   ]
  },
  {
   "cell_type": "code",
   "execution_count": null,
   "id": "0480be7a",
   "metadata": {},
   "outputs": [],
   "source": []
  }
 ],
 "metadata": {
  "kernelspec": {
   "display_name": "Python 3 (ipykernel)",
   "language": "python",
   "name": "python3"
  },
  "language_info": {
   "codemirror_mode": {
    "name": "ipython",
    "version": 3
   },
   "file_extension": ".py",
   "mimetype": "text/x-python",
   "name": "python",
   "nbconvert_exporter": "python",
   "pygments_lexer": "ipython3",
   "version": "3.10.9"
  }
 },
 "nbformat": 4,
 "nbformat_minor": 5
}
