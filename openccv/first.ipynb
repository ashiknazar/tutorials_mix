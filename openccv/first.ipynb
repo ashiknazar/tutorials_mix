{
 "cells": [
  {
   "cell_type": "code",
   "execution_count": 1,
   "id": "714377c5",
   "metadata": {},
   "outputs": [
    {
     "name": "stdout",
     "output_type": "stream",
     "text": [
      "4.9.0\n"
     ]
    }
   ],
   "source": [
    "import cv2\n",
    "print(cv2.__version__)"
   ]
  },
  {
   "cell_type": "raw",
   "id": "a66f934e",
   "metadata": {},
   "source": [
    "cv2.IMREAD_COLOR  1\n",
    "cv2.IMREAD_GRAYSCALE  0\n",
    "cv2.IMREAD_UNCHANGED  -1"
   ]
  },
  {
   "cell_type": "code",
   "execution_count": 6,
   "id": "482a33bd",
   "metadata": {},
   "outputs": [],
   "source": [
    "img=cv2.imread('lena.jpeg',1)\n",
    "\n",
    "#print(img)\n",
    "cv2.imshow('img_window',img)\n",
    "cv2.waitKey(0)\n",
    "cv2.destroyAllWindows()"
   ]
  },
  {
   "cell_type": "code",
   "execution_count": 10,
   "id": "d230fa7f",
   "metadata": {},
   "outputs": [],
   "source": [
    "img=cv2.imread('lena.jpeg',0)\n",
    "\n",
    "#print(img)\n",
    "cv2.imshow('img_window',img)\n",
    "cv2.waitKey(5000)\n",
    "cv2.destroyAllWindows()"
   ]
  },
  {
   "cell_type": "code",
   "execution_count": 4,
   "id": "9dd42d84",
   "metadata": {},
   "outputs": [
    {
     "data": {
      "text/plain": [
       "(225, 225)"
      ]
     },
     "execution_count": 4,
     "metadata": {},
     "output_type": "execute_result"
    }
   ],
   "source": [
    "img.shape"
   ]
  },
  {
   "cell_type": "code",
   "execution_count": 8,
   "id": "f7ddfc3b",
   "metadata": {},
   "outputs": [
    {
     "data": {
      "text/plain": [
       "True"
      ]
     },
     "execution_count": 8,
     "metadata": {},
     "output_type": "execute_result"
    }
   ],
   "source": [
    "cv2.imwrite('lena_gray.png',img)"
   ]
  },
  {
   "cell_type": "code",
   "execution_count": 14,
   "id": "53f94514",
   "metadata": {},
   "outputs": [],
   "source": [
    "img=cv2.imread('lena.jpeg',-1)\n",
    "\n",
    "\n",
    "cv2.imshow('img_window',img)\n",
    "k=cv2.waitKey(0)\n",
    "if k==27: \n",
    "    cv2.destroyAllWindows()\n",
    "elif k==ord('s'):\n",
    "    cv2.imwrite('lena_copy.png',img)\n",
    "    cv2.destroyAllWindows()\n",
    "    "
   ]
  },
  {
   "cell_type": "code",
   "execution_count": null,
   "id": "8671b400",
   "metadata": {},
   "outputs": [],
   "source": []
  }
 ],
 "metadata": {
  "kernelspec": {
   "display_name": "Python 3 (ipykernel)",
   "language": "python",
   "name": "python3"
  },
  "language_info": {
   "codemirror_mode": {
    "name": "ipython",
    "version": 3
   },
   "file_extension": ".py",
   "mimetype": "text/x-python",
   "name": "python",
   "nbconvert_exporter": "python",
   "pygments_lexer": "ipython3",
   "version": "3.10.9"
  }
 },
 "nbformat": 4,
 "nbformat_minor": 5
}
