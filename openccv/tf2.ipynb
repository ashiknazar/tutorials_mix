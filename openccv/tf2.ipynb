{
 "cells": [
  {
   "cell_type": "code",
   "execution_count": 1,
   "id": "0c3f0db8",
   "metadata": {},
   "outputs": [],
   "source": [
    "import tensorflow as tf\n",
    "import numpy as np"
   ]
  },
  {
   "cell_type": "code",
   "execution_count": 4,
   "id": "6b7f068e",
   "metadata": {},
   "outputs": [
    {
     "data": {
      "text/plain": [
       "<tf.Tensor: shape=(), dtype=string, numpy=b'p2'>"
      ]
     },
     "execution_count": 4,
     "metadata": {},
     "output_type": "execute_result"
    }
   ],
   "source": [
    "para=tf.constant(['p0','p1','p2','p3','p4'])\n",
    "para[2]"
   ]
  },
  {
   "cell_type": "code",
   "execution_count": 5,
   "id": "b7b9b2b0",
   "metadata": {},
   "outputs": [
    {
     "data": {
      "text/plain": [
       "<tf.Tensor: shape=(), dtype=int32, numpy=3>"
      ]
     },
     "execution_count": 5,
     "metadata": {},
     "output_type": "execute_result"
    }
   ],
   "source": [
    "para=tf.constant([1,2,3,4,5])\n",
    "para[2]"
   ]
  },
  {
   "cell_type": "code",
   "execution_count": 6,
   "id": "cf9c754d",
   "metadata": {},
   "outputs": [],
   "source": [
    "params=tf.constant([[0,1.0,2.0],\n",
    "                   [10.0,11.0,12.0],\n",
    "                   [20,21,22],\n",
    "                   [30.0,31.0,32.0]])"
   ]
  },
  {
   "cell_type": "code",
   "execution_count": 8,
   "id": "16f048f0",
   "metadata": {},
   "outputs": [
    {
     "data": {
      "text/plain": [
       "<tf.Tensor: shape=(2, 3), dtype=float32, numpy=\n",
       "array([[20., 21., 22.],\n",
       "       [10., 11., 12.]], dtype=float32)>"
      ]
     },
     "execution_count": 8,
     "metadata": {},
     "output_type": "execute_result"
    }
   ],
   "source": [
    "tf.gather(params,[2,1])"
   ]
  },
  {
   "cell_type": "code",
   "execution_count": 11,
   "id": "78e969bc",
   "metadata": {},
   "outputs": [
    {
     "data": {
      "text/plain": [
       "<tf.Tensor: shape=(1,), dtype=string, numpy=array([b'f'], dtype=object)>"
      ]
     },
     "execution_count": 11,
     "metadata": {},
     "output_type": "execute_result"
    }
   ],
   "source": [
    "params=tf.constant([['a','b'],\n",
    "                   ['c','d'],\n",
    "                   ['e','f']])\n",
    "indices=[2,1]\n",
    "tf.gather_nd(params,indices)"
   ]
  },
  {
   "cell_type": "code",
   "execution_count": 10,
   "id": "5c748fe1",
   "metadata": {},
   "outputs": [
    {
     "data": {
      "text/plain": [
       "<tf.Tensor: shape=(2, 2), dtype=string, numpy=\n",
       "array([[b'e', b'f'],\n",
       "       [b'c', b'd']], dtype=object)>"
      ]
     },
     "execution_count": 10,
     "metadata": {},
     "output_type": "execute_result"
    }
   ],
   "source": [
    "tf.gather(params,indices)"
   ]
  },
  {
   "cell_type": "code",
   "execution_count": 12,
   "id": "61e00e6c",
   "metadata": {},
   "outputs": [
    {
     "name": "stdout",
     "output_type": "stream",
     "text": [
      "<tf.RaggedTensor [[1, 2, 3], [3], [1, 3, 5, 6, 5], [2, 3]]>\n"
     ]
    }
   ],
   "source": [
    "tfs=[[1,2,3],\n",
    "     [3,],\n",
    "     [1,3,5,6,5],\n",
    "     [2,3]]\n",
    "teen=tf.ragged.constant(tfs)\n",
    "print(teen)"
   ]
  },
  {
   "cell_type": "code",
   "execution_count": 13,
   "id": "eb1446e3",
   "metadata": {},
   "outputs": [
    {
     "data": {
      "text/plain": [
       "TensorShape([4, None])"
      ]
     },
     "execution_count": 13,
     "metadata": {},
     "output_type": "execute_result"
    }
   ],
   "source": [
    "teen.shape"
   ]
  },
  {
   "cell_type": "code",
   "execution_count": 14,
   "id": "07d497a8",
   "metadata": {},
   "outputs": [
    {
     "data": {
      "text/plain": [
       "list"
      ]
     },
     "execution_count": 14,
     "metadata": {},
     "output_type": "execute_result"
    }
   ],
   "source": [
    "type(tfs)"
   ]
  },
  {
   "cell_type": "code",
   "execution_count": 2,
   "id": "7f21035b",
   "metadata": {},
   "outputs": [],
   "source": [
    "tf_sp=tf.sparse.SparseTensor(\n",
    "indices=[[1,1],[3,4]],values=[11,56],dense_shape=[5,6])"
   ]
  },
  {
   "cell_type": "code",
   "execution_count": 3,
   "id": "b13074f3",
   "metadata": {},
   "outputs": [
    {
     "name": "stdout",
     "output_type": "stream",
     "text": [
      "SparseTensor(indices=tf.Tensor(\n",
      "[[1 1]\n",
      " [3 4]], shape=(2, 2), dtype=int64), values=tf.Tensor([11 56], shape=(2,), dtype=int32), dense_shape=tf.Tensor([5 6], shape=(2,), dtype=int64))\n"
     ]
    }
   ],
   "source": [
    "print(tf_sp)"
   ]
  },
  {
   "cell_type": "code",
   "execution_count": 4,
   "id": "f1fa38af",
   "metadata": {},
   "outputs": [
    {
     "data": {
      "text/plain": [
       "<tf.Tensor: shape=(5, 6), dtype=int32, numpy=\n",
       "array([[ 0,  0,  0,  0,  0,  0],\n",
       "       [ 0, 11,  0,  0,  0,  0],\n",
       "       [ 0,  0,  0,  0,  0,  0],\n",
       "       [ 0,  0,  0,  0, 56,  0],\n",
       "       [ 0,  0,  0,  0,  0,  0]])>"
      ]
     },
     "execution_count": 4,
     "metadata": {},
     "output_type": "execute_result"
    }
   ],
   "source": [
    "tf.sparse.to_dense(tf_sp)"
   ]
  },
  {
   "cell_type": "code",
   "execution_count": 5,
   "id": "41200137",
   "metadata": {},
   "outputs": [
    {
     "name": "stdout",
     "output_type": "stream",
     "text": [
      "<tf.Variable 'Variable:0' shape=(2,) dtype=int32, numpy=array([1, 2])>\n"
     ]
    }
   ],
   "source": [
    "x=tf.constant([1,2])\n",
    "x_var=tf.Variable(x)\n",
    "print(x_var)"
   ]
  },
  {
   "cell_type": "code",
   "execution_count": null,
   "id": "9bdc2004",
   "metadata": {},
   "outputs": [],
   "source": []
  }
 ],
 "metadata": {
  "kernelspec": {
   "display_name": "Python 3 (ipykernel)",
   "language": "python",
   "name": "python3"
  },
  "language_info": {
   "codemirror_mode": {
    "name": "ipython",
    "version": 3
   },
   "file_extension": ".py",
   "mimetype": "text/x-python",
   "name": "python",
   "nbconvert_exporter": "python",
   "pygments_lexer": "ipython3",
   "version": "3.10.9"
  }
 },
 "nbformat": 4,
 "nbformat_minor": 5
}
