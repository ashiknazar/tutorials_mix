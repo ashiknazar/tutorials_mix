{
 "cells": [
  {
   "cell_type": "code",
   "execution_count": 3,
   "id": "e3965656",
   "metadata": {},
   "outputs": [
    {
     "name": "stdout",
     "output_type": "stream",
     "text": [
      "enter year of experiance :2\n",
      "enter salary1000\n",
      "you will give a bonus after 3years\n"
     ]
    }
   ],
   "source": [
    "exp=int(input(\"enter year of experiance :\"))\n",
    "sal=int(input(\"enter salary\"))\n",
    "if exp>5:\n",
    "    bonus=(5*sal)/100\n",
    "    print(\"you will be rewarded with a bonus of \",bonus )\n",
    "else:\n",
    "    print(\"you will give a bonus after \"+ str(5-exp) + \"years\")"
   ]
  },
  {
   "cell_type": "code",
   "execution_count": 2,
   "id": "786e41d3",
   "metadata": {},
   "outputs": [
    {
     "name": "stdout",
     "output_type": "stream",
     "text": [
      "enter first number1\n",
      "enter second number2\n",
      "second one was larger than previous\n"
     ]
    }
   ],
   "source": [
    "a=int(input(\"enter first number\"))\n",
    "b=int(input(\"enter second number\"))\n",
    "if a>b:\n",
    "    print(\"first no was largerthat second\")\n",
    "else:\n",
    "    print(\"second one was larger than previous\")"
   ]
  },
  {
   "cell_type": "code",
   "execution_count": 5,
   "id": "65a3c99a",
   "metadata": {},
   "outputs": [
    {
     "name": "stdout",
     "output_type": "stream",
     "text": [
      "enter quantity9\n",
      "your total is  900\n"
     ]
    }
   ],
   "source": [
    "qty=int(input(\"enter quantity\"))\n",
    "tot=qty*100\n",
    "if tot>1000:\n",
    "    disc=(tot*10)/100\n",
    "    tot=tot-disc\n",
    "    print(\"you are provided with a reduction of \",disc)\n",
    "else:\n",
    "    print(\"your total is \",tot)"
   ]
  },
  {
   "cell_type": "code",
   "execution_count": 2,
   "id": "2b684ceb",
   "metadata": {},
   "outputs": [
    {
     "name": "stdout",
     "output_type": "stream",
     "text": [
      "give me the year2024\n",
      "its a leep year\n"
     ]
    }
   ],
   "source": [
    "yr=int(input(\"give me the year\"))\n",
    "if yr%4==0:\n",
    "    print(\"its a leep year\")\n",
    "else:\n",
    "    print(\"its not a leep year\")"
   ]
  },
  {
   "cell_type": "code",
   "execution_count": 4,
   "id": "ffad1ff8",
   "metadata": {},
   "outputs": [
    {
     "name": "stdout",
     "output_type": "stream",
     "text": [
      "apple"
     ]
    }
   ],
   "source": [
    "for a in \"apple\":\n",
    "    print(a,end=\"\")"
   ]
  },
  {
   "cell_type": "code",
   "execution_count": 5,
   "id": "a49eca8c",
   "metadata": {},
   "outputs": [
    {
     "name": "stdout",
     "output_type": "stream",
     "text": [
      "ab\n",
      "cd\n",
      "ef\n"
     ]
    }
   ],
   "source": [
    "lis=[\"ab\",\"cd\",\"ef\"]\n",
    "for i in lis:\n",
    "    print(i)"
   ]
  },
  {
   "cell_type": "code",
   "execution_count": 6,
   "id": "0a794dc3",
   "metadata": {},
   "outputs": [
    {
     "name": "stdout",
     "output_type": "stream",
     "text": [
      "ab\n"
     ]
    }
   ],
   "source": [
    "for i in lis:\n",
    "    if i==\"cd\":\n",
    "        break\n",
    "    else:\n",
    "        print(i)"
   ]
  },
  {
   "cell_type": "code",
   "execution_count": 14,
   "id": "fe9c1f40",
   "metadata": {},
   "outputs": [],
   "source": [
    "#0 3 6 9 12 15 18 21 24 27 \n",
    "L=[]\n",
    "for i in range(0,30):\n",
    "    if i%3==0:\n",
    "        if i%4==0:\n",
    "            continue\n",
    "        L+=[i]\n",
    "        #print(i,end=\" \")"
   ]
  },
  {
   "cell_type": "code",
   "execution_count": 15,
   "id": "235117de",
   "metadata": {},
   "outputs": [
    {
     "data": {
      "text/plain": [
       "[3, 6, 9, 15, 18, 21, 27]"
      ]
     },
     "execution_count": 15,
     "metadata": {},
     "output_type": "execute_result"
    }
   ],
   "source": [
    "L"
   ]
  },
  {
   "cell_type": "code",
   "execution_count": 20,
   "id": "c96a2a1b",
   "metadata": {},
   "outputs": [
    {
     "name": "stdout",
     "output_type": "stream",
     "text": [
      "ab\n",
      "cd\n",
      "ef\n"
     ]
    }
   ],
   "source": [
    "di={\"ab\":1,\"cd\":2,\"ef\":3}\n",
    "for i in di.items():\n",
    "    print(i[0])\n",
    "    "
   ]
  },
  {
   "cell_type": "code",
   "execution_count": 21,
   "id": "af160126",
   "metadata": {},
   "outputs": [
    {
     "name": "stdout",
     "output_type": "stream",
     "text": [
      "('ab', 1)\n",
      "('cd', 2)\n",
      "('ef', 3)\n"
     ]
    }
   ],
   "source": [
    "di={\"ab\":1,\"cd\":2,\"ef\":3}\n",
    "for i in di.items():\n",
    "    print(i)\n",
    "    "
   ]
  },
  {
   "cell_type": "code",
   "execution_count": 23,
   "id": "8d5a81d2",
   "metadata": {},
   "outputs": [
    {
     "name": "stdout",
     "output_type": "stream",
     "text": [
      "ab 1\n",
      "cd 2\n",
      "ef 3\n"
     ]
    }
   ],
   "source": [
    "di={\"ab\":1,\"cd\":2,\"ef\":3}\n",
    "for i,j in di.items():\n",
    "    print(str(i) + \" \" +str(j))"
   ]
  },
  {
   "cell_type": "code",
   "execution_count": 28,
   "id": "d302f3d8",
   "metadata": {},
   "outputs": [
    {
     "name": "stdout",
     "output_type": "stream",
     "text": [
      "enter a number7\n",
      "7  x  1 =  7\n",
      "7  x  2 =  14\n",
      "7  x  3 =  21\n",
      "7  x  4 =  28\n",
      "7  x  5 =  35\n",
      "7  x  6 =  42\n",
      "7  x  7 =  49\n",
      "7  x  8 =  56\n",
      "7  x  9 =  63\n",
      "7  x  10 =  70\n"
     ]
    }
   ],
   "source": [
    "n=int(input(\"enter a number\"))\n",
    "for i in range(1,11):\n",
    "    print(n,\" x \",i,\"= \",i*n)"
   ]
  },
  {
   "cell_type": "code",
   "execution_count": 30,
   "id": "00562eb7",
   "metadata": {},
   "outputs": [],
   "source": [
    "odd=[]\n",
    "even=[]\n",
    "for i in range(1,30):\n",
    "    if i%2==0:\n",
    "        even+=[i]\n",
    "    else:\n",
    "        odd+=[i]"
   ]
  },
  {
   "cell_type": "code",
   "execution_count": 31,
   "id": "a00386f3",
   "metadata": {},
   "outputs": [
    {
     "data": {
      "text/plain": [
       "[2, 4, 6, 8, 10, 12, 14, 16, 18, 20, 22, 24, 26, 28]"
      ]
     },
     "execution_count": 31,
     "metadata": {},
     "output_type": "execute_result"
    }
   ],
   "source": [
    "even"
   ]
  },
  {
   "cell_type": "code",
   "execution_count": 32,
   "id": "b3661063",
   "metadata": {},
   "outputs": [
    {
     "data": {
      "text/plain": [
       "[1, 3, 5, 7, 9, 11, 13, 15, 17, 19, 21, 23, 25, 27, 29]"
      ]
     },
     "execution_count": 32,
     "metadata": {},
     "output_type": "execute_result"
    }
   ],
   "source": [
    "odd"
   ]
  },
  {
   "cell_type": "code",
   "execution_count": 36,
   "id": "b2ef41aa",
   "metadata": {},
   "outputs": [
    {
     "name": "stdout",
     "output_type": "stream",
     "text": [
      "enter string :i am from trivandrum\n",
      "6\n"
     ]
    }
   ],
   "source": [
    "strr=input(\"enter string :\")\n",
    "l=0\n",
    "vov={\"a\",\"e\",\"i\",\"o\",\"u\"}\n",
    "\n",
    "for i in strr:\n",
    "    if i in vov:\n",
    "        l+=1\n",
    "print(l)"
   ]
  },
  {
   "cell_type": "code",
   "execution_count": 34,
   "id": "831db189",
   "metadata": {},
   "outputs": [
    {
     "name": "stdout",
     "output_type": "stream",
     "text": [
      "4\n"
     ]
    }
   ],
   "source": [
    "print(l)"
   ]
  },
  {
   "cell_type": "code",
   "execution_count": 43,
   "id": "dd6686fb",
   "metadata": {},
   "outputs": [
    {
     "name": "stdout",
     "output_type": "stream",
     "text": [
      "5 4 3 2 1 \n",
      "\n",
      "4 3 2 1 \n",
      "\n",
      "3 2 1 \n",
      "\n",
      "2 1 \n",
      "\n",
      "1 \n",
      "\n"
     ]
    }
   ],
   "source": [
    "for i in range(5,0,-1):\n",
    "    for j in range(i,0,-1):\n",
    "        print(j,end=\" \")\n",
    "    print(\"\\n\")"
   ]
  },
  {
   "cell_type": "code",
   "execution_count": 53,
   "id": "9d71b1b2",
   "metadata": {},
   "outputs": [],
   "source": [
    "di={\"veh\":{\"name\":\"maruthy\",\"model\":110,\"color\":\"black\"},\"add\":{\"city\":\"tvm\",\"pin\":691535}}"
   ]
  },
  {
   "cell_type": "code",
   "execution_count": 68,
   "id": "a92c12d1",
   "metadata": {},
   "outputs": [],
   "source": [
    "ss=[]\n",
    "ss+=[y for x,y in di.items()]\n"
   ]
  },
  {
   "cell_type": "code",
   "execution_count": 69,
   "id": "1e055caf",
   "metadata": {},
   "outputs": [
    {
     "data": {
      "text/plain": [
       "[{'name': 'maruthy', 'model': 110, 'color': 'black'},\n",
       " {'city': 'tvm', 'pin': 691535}]"
      ]
     },
     "execution_count": 69,
     "metadata": {},
     "output_type": "execute_result"
    }
   ],
   "source": [
    "ss"
   ]
  },
  {
   "cell_type": "code",
   "execution_count": 45,
   "id": "d22e83a2",
   "metadata": {},
   "outputs": [],
   "source": [
    "veh=[\"car\",\"scooter\",\"bike\",\"bicycle\"]\n",
    "veh_r=[]\n",
    "veh_r+=[x for x in veh if 'r' in x] "
   ]
  },
  {
   "cell_type": "code",
   "execution_count": 46,
   "id": "626a9a6f",
   "metadata": {},
   "outputs": [
    {
     "data": {
      "text/plain": [
       "['car', 'scooter']"
      ]
     },
     "execution_count": 46,
     "metadata": {},
     "output_type": "execute_result"
    }
   ],
   "source": [
    "veh_r"
   ]
  },
  {
   "cell_type": "code",
   "execution_count": 50,
   "id": "e3255935",
   "metadata": {},
   "outputs": [
    {
     "name": "stdout",
     "output_type": "stream",
     "text": [
      "enter range5\n",
      "1\n",
      "2\n",
      "3\n",
      "5\n",
      "8\n"
     ]
    }
   ],
   "source": [
    "ran=int(input(\"enter range\"))\n",
    "a=0\n",
    "b=1\n",
    "\n",
    "for i in range(ran):\n",
    "    c=a+b\n",
    "    a=b\n",
    "    b=c\n",
    "    print(c)\n",
    "    "
   ]
  },
  {
   "cell_type": "code",
   "execution_count": 52,
   "id": "a7f96902",
   "metadata": {},
   "outputs": [
    {
     "name": "stdout",
     "output_type": "stream",
     "text": [
      "\n",
      "*\n",
      "**\n",
      "***\n",
      "****\n",
      "*****\n",
      "****\n",
      "***\n",
      "**\n",
      "*\n"
     ]
    }
   ],
   "source": [
    "for i in range(5):\n",
    "    print(i* \"*\")\n",
    "for i in range(5,0,-1):\n",
    "    print(i* \"*\")"
   ]
  },
  {
   "cell_type": "code",
   "execution_count": 7,
   "id": "0b2ed267",
   "metadata": {},
   "outputs": [
    {
     "name": "stdout",
     "output_type": "stream",
     "text": [
      "enter first side of triangle12\n",
      "enter second side of triangle12\n",
      "enter third side of triangle12\n",
      "its an equilateral triangle\n"
     ]
    }
   ],
   "source": [
    "a=int(input(\"enter first side of triangle\"))\n",
    "b=int(input(\"enter second side of triangle\"))\n",
    "c=int(input(\"enter third side of triangle\"))\n",
    "\n",
    "if a==b==c:\n",
    "    print(\"its an equilateral triangle\")\n",
    "elif a==b or a==c or b==c:\n",
    "    print(\"its isosceles triangle\")\n",
    "else:\n",
    "    print(\"its scalene triangle\")"
   ]
  },
  {
   "cell_type": "code",
   "execution_count": 14,
   "id": "0ff90990",
   "metadata": {},
   "outputs": [],
   "source": [
    "import statistics as st"
   ]
  },
  {
   "cell_type": "code",
   "execution_count": 15,
   "id": "eb89d394",
   "metadata": {},
   "outputs": [],
   "source": [
    "x=[12,23,23,4,5,6,6,7,6,8]"
   ]
  },
  {
   "cell_type": "code",
   "execution_count": 16,
   "id": "e11512dd",
   "metadata": {},
   "outputs": [
    {
     "data": {
      "text/plain": [
       "6.5"
      ]
     },
     "execution_count": 16,
     "metadata": {},
     "output_type": "execute_result"
    }
   ],
   "source": [
    "st.median(x)"
   ]
  },
  {
   "cell_type": "code",
   "execution_count": null,
   "id": "967b3abd",
   "metadata": {},
   "outputs": [],
   "source": []
  }
 ],
 "metadata": {
  "kernelspec": {
   "display_name": "Python 3 (ipykernel)",
   "language": "python",
   "name": "python3"
  },
  "language_info": {
   "codemirror_mode": {
    "name": "ipython",
    "version": 3
   },
   "file_extension": ".py",
   "mimetype": "text/x-python",
   "name": "python",
   "nbconvert_exporter": "python",
   "pygments_lexer": "ipython3",
   "version": "3.10.9"
  }
 },
 "nbformat": 4,
 "nbformat_minor": 5
}
