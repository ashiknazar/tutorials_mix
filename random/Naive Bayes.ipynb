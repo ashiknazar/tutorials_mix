{
 "cells": [
  {
   "cell_type": "markdown",
   "id": "118d2c8d",
   "metadata": {},
   "source": [
    "Naïve Bayes algorithm is a supervised learning algorithm, which is based on Bayes theorem and used for solving classification problems.\n",
    "It is mainly used in text classification that includes a high-dimensional training dataset.\n",
    "\n",
    "Naïve Bayes Classifier is one of the simple and most effective Classification algorithms which helps in building the fast machine learning models that can make quick predictions.\n",
    "\n",
    "It is a probabilistic classifier, which means it predicts on the basis of the probability of an object.\n",
    "\n",
    "Some popular examples of Naïve Bayes Algorithm are spam filtration, Sentimental analysis, and classifying articles."
   ]
  },
  {
   "cell_type": "markdown",
   "id": "140101f6",
   "metadata": {},
   "source": [
    "# Why is it called Naïve Bayes?\n",
    "The Naïve Bayes algorithm is comprised of two words Naïve and Bayes, Which can be described as:\n",
    "\n",
    "Naïve: It is called Naïve because it assumes that the occurrence of a certain feature is independent of the occurrence of other features. Such as if the fruit is identified on the bases of color, shape, and taste, then red, spherical, and sweet fruit is recognized as an apple. Hence each feature individually contributes to identify that it is an apple without depending on each other.\n",
    "Bayes: It is called Bayes because it depends on the principle of Bayes' Theorem."
   ]
  },
  {
   "cell_type": "raw",
   "id": "6e1ebba7",
   "metadata": {},
   "source": [
    "Bayes' theorem is also known as Bayes' Rule or Bayes' law, which is used to determine the probability of a hypothesis with prior knowledge. It depends on the conditional probability.\n",
    "\n",
    "The formula for Bayes' theorem is given as:\n",
    "\n",
    "Naïve Bayes Classifier Algorithm"
   ]
  },
  {
   "attachments": {
    "image.png": {
     "image/png": "[encoded data removed]"
    }
   },
   "cell_type": "markdown",
   "id": "8072df59",
   "metadata": {},
   "source": [
    "![image.png](attachment:image.png)"
   ]
  },
  {
   "cell_type": "markdown",
   "id": "9334a275",
   "metadata": {},
   "source": [
    "# Working of Naïve Bayes' Classifier:"
   ]
  },
  {
   "cell_type": "markdown",
   "id": "16bada9c",
   "metadata": {},
   "source": [
    "Working of Naïve Bayes' Classifier can be understood with the help of the below example:\n",
    "\n",
    "Suppose we have a dataset of weather conditions and corresponding target variable \"Play\". So using this dataset we need to decide that whether we should play or not on a particular day according to the weather conditions. So to solve this problem, we need to follow the below steps:\n",
    "\n",
    "Convert the given dataset into frequency tables.\n",
    "Generate Likelihood table by finding the probabilities of given features.\n",
    "Now, use Bayes theorem to calculate the posterior probability.\n",
    "Problem: If the weather is sunny, then the Player should play or not?\n",
    "\n",
    "Solution: To solve this, first consider the below dataset:"
   ]
  },
  {
   "cell_type": "raw",
   "id": "f3848fef",
   "metadata": {},
   "source": [
    "\tOutlook\tPlay\n",
    "0\tRainy\tYes\n",
    "1\tSunny\tYes\n",
    "2\tOvercast\tYes\n",
    "3\tOvercast\tYes\n",
    "4\tSunny\tNo\n",
    "5\tRainy\tYes\n",
    "6\tSunny\tYes\n",
    "7\tOvercast\tYes\n",
    "8\tRainy\tNo\n",
    "9\tSunny\tNo\n",
    "10\tSunny\tYes\n",
    "11\tRainy\tNo\n",
    "12\tOvercast\tYes\n",
    "13\tOvercast\tYes\n",
    "Frequency table for the Weather Conditions:\n",
    "\n",
    "Weather\tYes\tNo\n",
    "Overcast5\t0\n",
    "Rainy\t2\t2\n",
    "Sunny\t3\t2\n",
    "Total\t10\t4\n",
    "Likelihood table weather condition:\n",
    "\n",
    "\n",
    "Weather\t No\tYes\t\n",
    "Overcast0\t5\t5/14= 0.35\n",
    "Rainy\t2\t2\t4/14=0.29\n",
    "Sunny\t2\t3\t5/14=0.35\n",
    "\n",
    "All\t4/14=0.29\t10/14=0.71\n",
    "\n",
    "\n",
    "Applying Bayes'theorem:\n",
    "\n",
    "P(Yes|Sunny)= P(Sunny|Yes)*P(Yes)/P(Sunny)\n",
    "\n",
    "P(Sunny|Yes)= 3/10= 0.3\n",
    "\n",
    "P(Sunny)= 0.35\n",
    "\n",
    "P(Yes)=0.71\n",
    "\n",
    "So P(Yes|Sunny) = 0.3*0.71/0.35= 0.60\n",
    "\n",
    "P(No|Sunny)= P(Sunny|No)*P(No)/P(Sunny)\n",
    "\n",
    "P(Sunny|NO)= 2/4=0.5\n",
    "\n",
    "Hence on a Sunny day, Player can play the game.\n",
    "\n",
    "Advantages of Naïve Bayes Classifier:\n",
    "\n",
    "Naïve Bayes is one of the fast and easy ML algorithms to predict a class of datasets.\n",
    "It can be used for Binary as well as Multi-class Classifications.\n",
    "It performs well in Multi-class predictions as compared to the other Algorithms.\n",
    "It is the most popular choice for text classification problems.\n",
    "\n",
    "\n",
    "\n",
    "\n",
    "Disadvantages of Naïve Bayes Classifier:\n",
    "Naive Bayes assumes that all features are independent or unrelated, so it cannot learn the relationship between features."
   ]
  },
  {
   "cell_type": "code",
   "execution_count": null,
   "id": "8b2a267e",
   "metadata": {},
   "outputs": [],
   "source": []
  }
 ],
 "metadata": {
  "kernelspec": {
   "display_name": "Python 3 (ipykernel)",
   "language": "python",
   "name": "python3"
  },
  "language_info": {
   "codemirror_mode": {
    "name": "ipython",
    "version": 3
   },
   "file_extension": ".py",
   "mimetype": "text/x-python",
   "name": "python",
   "nbconvert_exporter": "python",
   "pygments_lexer": "ipython3",
   "version": "3.9.12"
  }
 },
 "nbformat": 4,
 "nbformat_minor": 5
}
