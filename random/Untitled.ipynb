{
 "cells": [
  {
   "cell_type": "code",
   "execution_count": 31,
   "id": "a17b71c7",
   "metadata": {},
   "outputs": [
    {
     "ename": "IndexError",
     "evalue": "list index out of range",
     "output_type": "error",
     "traceback": [
      "\u001b[1;31m---------------------------------------------------------------------------\u001b[0m",
      "\u001b[1;31mIndexError\u001b[0m                                Traceback (most recent call last)",
      "Cell \u001b[1;32mIn[31], line 7\u001b[0m\n\u001b[0;32m      5\u001b[0m \u001b[38;5;28;01mwhile\u001b[39;00m l\u001b[38;5;241m!=\u001b[39m\u001b[38;5;241m0\u001b[39m:\n\u001b[0;32m      6\u001b[0m     i\u001b[38;5;241m=\u001b[39mle\u001b[38;5;241m-\u001b[39m\u001b[38;5;241m1\u001b[39m\n\u001b[1;32m----> 7\u001b[0m     \u001b[38;5;28;01mif\u001b[39;00m (\u001b[43minp\u001b[49m\u001b[43m[\u001b[49m\u001b[43mi\u001b[49m\u001b[43m]\u001b[49m\u001b[38;5;241m%\u001b[39m\u001b[38;5;241m2\u001b[39m\u001b[38;5;241m==\u001b[39m\u001b[38;5;241m0\u001b[39m):\n\u001b[0;32m      8\u001b[0m         ev_count\u001b[38;5;241m+\u001b[39m\u001b[38;5;241m=\u001b[39m\u001b[38;5;241m1\u001b[39m\n\u001b[0;32m      9\u001b[0m         le\u001b[38;5;241m-\u001b[39m\u001b[38;5;241m=\u001b[39m\u001b[38;5;241m1\u001b[39m\n",
      "\u001b[1;31mIndexError\u001b[0m: list index out of range"
     ]
    }
   ],
   "source": [
    "inp=[1,3,4,2,64,757,75,5,550]\n",
    "le=len(inp)\n",
    "ev_count=0\n",
    "odd_count=0\n",
    "while l!=0:\n",
    "    i=le-1\n",
    "    if (inp[i]%2==0):\n",
    "        ev_count+=1\n",
    "        le-=1\n",
    "    else:\n",
    "        odd_count+=1\n",
    "        le-=1"
   ]
  },
  {
   "cell_type": "code",
   "execution_count": 11,
   "id": "52880452",
   "metadata": {},
   "outputs": [
    {
     "name": "stdout",
     "output_type": "stream",
     "text": [
      "enter a no6\n",
      "21\n"
     ]
    }
   ],
   "source": [
    "num=0\n",
    "inp=int(input(\"enter a no\"))\n",
    "while(inp!=0):\n",
    "    num+=inp\n",
    "    inp-=1\n",
    "print(num)"
   ]
  },
  {
   "cell_type": "code",
   "execution_count": 13,
   "id": "c52854c8",
   "metadata": {},
   "outputs": [
    {
     "name": "stdout",
     "output_type": "stream",
     "text": [
      "10 9 8 7 6 5 4 3 2 1 "
     ]
    }
   ],
   "source": [
    "num=10\n",
    "while num!=0:\n",
    "    print(num,end=\" \")\n",
    "    num-=1"
   ]
  },
  {
   "cell_type": "code",
   "execution_count": 26,
   "id": "7d6f8454",
   "metadata": {},
   "outputs": [
    {
     "name": "stdout",
     "output_type": "stream",
     "text": [
      "enter choice 1:whole no 2: natural no 3:odd number 4:even num4\n",
      "even num is\n",
      "0\n",
      "2\n",
      "4\n",
      "6\n",
      "8\n",
      "10\n",
      "12\n",
      "14\n",
      "16\n",
      "18\n",
      "enter choice 1:whole no 2: natural no 3:odd number 4:even num2\n",
      "natural num is\n",
      "1\n",
      "2\n",
      "3\n",
      "4\n",
      "5\n",
      "6\n",
      "7\n",
      "8\n",
      "9\n",
      "10\n",
      "enter choice 1:whole no 2: natural no 3:odd number 4:even num1\n",
      "whole num is\n",
      "0\n",
      "1\n",
      "2\n",
      "3\n",
      "4\n",
      "5\n",
      "6\n",
      "7\n",
      "8\n",
      "9\n",
      "enter choice 1:whole no 2: natural no 3:odd number 4:even num0\n"
     ]
    }
   ],
   "source": [
    "odd_num=1\n",
    "even_num=0\n",
    "nat_num=1\n",
    "whole_num=0\n",
    "ch=None\n",
    "\n",
    "while ch!=0:\n",
    "    ch=int(input(\"enter choice 1:whole no 2: natural no 3:odd number 4:even num\"))\n",
    "    \n",
    "    if ch==1:\n",
    "        j=0\n",
    "        print(\"whole num is\")\n",
    "        while j<10: \n",
    "            print(whole_num)\n",
    "            whole_num+=1\n",
    "            j+=1\n",
    "    elif ch==2:\n",
    "        j=0\n",
    "        print(\"natural num is\")\n",
    "        while j<10:\n",
    "            print(nat_num)\n",
    "            nat_num+=1\n",
    "            j+=1\n",
    "    elif ch==3:\n",
    "        j=0 \n",
    "        print(\"odd num is\") \n",
    "        while j<10:\n",
    "            print(odd_num)\n",
    "            odd_num+=2 \n",
    "            j+=1\n",
    "    elif ch==4:\n",
    "        j=0 \n",
    "        print(\"even num is\") \n",
    "        while j<10:\n",
    "            print(even_num)\n",
    "            even_num+=2 \n",
    "            j+=1\n",
    "    else:\n",
    "        continue\n",
    "        \n"
   ]
  },
  {
   "cell_type": "code",
   "execution_count": 17,
   "id": "740be92d",
   "metadata": {},
   "outputs": [
    {
     "name": "stdout",
     "output_type": "stream",
     "text": [
      "enter a number 4\n",
      "1 x 4 = 4\n",
      "2 x 4 = 8\n",
      "3 x 4 = 12\n",
      "4 x 4 = 16\n",
      "5 x 4 = 20\n",
      "6 x 4 = 24\n",
      "7 x 4 = 28\n",
      "8 x 4 = 32\n",
      "9 x 4 = 36\n",
      "10 x 4 = 40\n"
     ]
    }
   ],
   "source": [
    "inp=int(input(\"enter a number \"))\n",
    "for i in range(1,11):\n",
    "    print(str(i)+\" x \"+ str(inp) +\" = \"+str(i*inp) )\n"
   ]
  },
  {
   "cell_type": "code",
   "execution_count": 18,
   "id": "218ecda7",
   "metadata": {},
   "outputs": [
    {
     "name": "stdout",
     "output_type": "stream",
     "text": [
      "enter number1234\n",
      "4\n"
     ]
    }
   ],
   "source": [
    "inp=input(\"enter number\")\n",
    "\n",
    "print(len(inp))"
   ]
  },
  {
   "cell_type": "code",
   "execution_count": 20,
   "id": "f6480438",
   "metadata": {},
   "outputs": [
    {
     "name": "stdout",
     "output_type": "stream",
     "text": [
      "as\n",
      "ash\n",
      "ashi\n",
      "ashik\n"
     ]
    }
   ],
   "source": [
    "li=[\"as\",\"ash\",\"ashi\",\"ashik\"]\n",
    "for i in li:\n",
    "    print(i)"
   ]
  },
  {
   "cell_type": "code",
   "execution_count": null,
   "id": "d1dfdf74",
   "metadata": {},
   "outputs": [],
   "source": [
    "msr=float(input(\"enter temperature in \"))\n",
    "\n",
    "   "
   ]
  },
  {
   "cell_type": "code",
   "execution_count": null,
   "id": "cb9aa3f7",
   "metadata": {},
   "outputs": [],
   "source": []
  }
 ],
 "metadata": {
  "kernelspec": {
   "display_name": "Python 3 (ipykernel)",
   "language": "python",
   "name": "python3"
  },
  "language_info": {
   "codemirror_mode": {
    "name": "ipython",
    "version": 3
   },
   "file_extension": ".py",
   "mimetype": "text/x-python",
   "name": "python",
   "nbconvert_exporter": "python",
   "pygments_lexer": "ipython3",
   "version": "3.10.9"
  }
 },
 "nbformat": 4,
 "nbformat_minor": 5
}
