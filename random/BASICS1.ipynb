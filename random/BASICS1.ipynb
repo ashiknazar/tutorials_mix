{
 "cells": [
  {
   "cell_type": "markdown",
   "id": "3a3eecca",
   "metadata": {},
   "source": [
    "# python"
   ]
  },
  {
   "cell_type": "markdown",
   "id": "1b749492",
   "metadata": {},
   "source": [
    "Python is a popular programme language simple,general purpose\n",
    "high level & object oriented programme language \n",
    "open source and free easy to learn \n",
    "easy to read and maintain\n",
    "no need to compile\n",
    "\n"
   ]
  },
  {
   "cell_type": "code",
   "execution_count": 4,
   "id": "19c82914",
   "metadata": {},
   "outputs": [
    {
     "data": {
      "text/plain": [
       "30"
      ]
     },
     "execution_count": 4,
     "metadata": {},
     "output_type": "execute_result"
    }
   ],
   "source": [
    "a=10\n",
    "b=20\n",
    "c=a+b\n",
    "#print(c)\n",
    "c"
   ]
  },
  {
   "cell_type": "code",
   "execution_count": 3,
   "id": "9ebf1167",
   "metadata": {},
   "outputs": [
    {
     "name": "stdout",
     "output_type": "stream",
     "text": [
      "WELCOME\n"
     ]
    }
   ],
   "source": [
    "print(\"WELCOME\")"
   ]
  },
  {
   "cell_type": "code",
   "execution_count": 5,
   "id": "c4b769e6",
   "metadata": {},
   "outputs": [
    {
     "data": {
      "text/plain": [
       "10"
      ]
     },
     "execution_count": 5,
     "metadata": {},
     "output_type": "execute_result"
    }
   ],
   "source": [
    "a"
   ]
  },
  {
   "cell_type": "code",
   "execution_count": 6,
   "id": "f3b2cb84",
   "metadata": {},
   "outputs": [
    {
     "data": {
      "text/plain": [
       "20"
      ]
     },
     "execution_count": 6,
     "metadata": {},
     "output_type": "execute_result"
    }
   ],
   "source": [
    "b"
   ]
  },
  {
   "cell_type": "code",
   "execution_count": 7,
   "id": "aff34b91",
   "metadata": {},
   "outputs": [
    {
     "data": {
      "text/plain": [
       "10"
      ]
     },
     "execution_count": 7,
     "metadata": {},
     "output_type": "execute_result"
    }
   ],
   "source": [
    "a"
   ]
  },
  {
   "cell_type": "code",
   "execution_count": null,
   "id": "4eead537",
   "metadata": {},
   "outputs": [],
   "source": []
  },
  {
   "cell_type": "code",
   "execution_count": 3,
   "id": "bcd3f62d",
   "metadata": {},
   "outputs": [
    {
     "data": {
      "text/plain": [
       "30"
      ]
     },
     "execution_count": 3,
     "metadata": {},
     "output_type": "execute_result"
    }
   ],
   "source": [
    "c"
   ]
  },
  {
   "cell_type": "code",
   "execution_count": 8,
   "id": "9bf3ae65",
   "metadata": {},
   "outputs": [
    {
     "data": {
      "text/plain": [
       "'VEENA'"
      ]
     },
     "execution_count": 8,
     "metadata": {},
     "output_type": "execute_result"
    }
   ],
   "source": [
    "name=\"VEENA\"\n",
    "name"
   ]
  },
  {
   "cell_type": "code",
   "execution_count": 9,
   "id": "20cdd69c",
   "metadata": {},
   "outputs": [
    {
     "name": "stdout",
     "output_type": "stream",
     "text": [
      "VEENA\n"
     ]
    }
   ],
   "source": [
    "print(name)"
   ]
  },
  {
   "cell_type": "code",
   "execution_count": 5,
   "id": "e8b71e8c",
   "metadata": {},
   "outputs": [
    {
     "name": "stdout",
     "output_type": "stream",
     "text": [
      "I'm  VEENA\n"
     ]
    }
   ],
   "source": [
    "n=\"VEENA\"\n",
    "print(f\"I'm \",n)"
   ]
  },
  {
   "cell_type": "code",
   "execution_count": 11,
   "id": "7c354d65",
   "metadata": {},
   "outputs": [
    {
     "data": {
      "text/plain": [
       "'VEENA'"
      ]
     },
     "execution_count": 11,
     "metadata": {},
     "output_type": "execute_result"
    }
   ],
   "source": [
    "n"
   ]
  },
  {
   "cell_type": "code",
   "execution_count": 12,
   "id": "82125a55",
   "metadata": {},
   "outputs": [
    {
     "name": "stdout",
     "output_type": "stream",
     "text": [
      "LAKSHMI and CHINNU are study ds\n"
     ]
    }
   ],
   "source": [
    "name1=\"LAKSHMI\"\n",
    "name2=\"CHINNU\"\n",
    "branch=\"Data Science\"\n",
    "print(name1+\" and \"+name2 +\" are study ds\")\n",
    "#print(branch)"
   ]
  },
  {
   "cell_type": "code",
   "execution_count": 13,
   "id": "3702782b",
   "metadata": {},
   "outputs": [
    {
     "name": "stdout",
     "output_type": "stream",
     "text": [
      "CHINNU or Data Science\n"
     ]
    }
   ],
   "source": [
    "print(name2+\" or \"+branch)"
   ]
  },
  {
   "cell_type": "code",
   "execution_count": null,
   "id": "9fbab479",
   "metadata": {},
   "outputs": [],
   "source": []
  },
  {
   "cell_type": "markdown",
   "id": "dbc637c9",
   "metadata": {},
   "source": [
    "# IDENTIFIERS   #(user defined variable)"
   ]
  },
  {
   "cell_type": "code",
   "execution_count": 14,
   "id": "de066e27",
   "metadata": {},
   "outputs": [
    {
     "name": "stdout",
     "output_type": "stream",
     "text": [
      "10\n"
     ]
    }
   ],
   "source": [
    "num=10\n",
    "print(num)"
   ]
  },
  {
   "cell_type": "code",
   "execution_count": 15,
   "id": "d57c8bb9",
   "metadata": {},
   "outputs": [
    {
     "data": {
      "text/plain": [
       "10"
      ]
     },
     "execution_count": 15,
     "metadata": {},
     "output_type": "execute_result"
    }
   ],
   "source": [
    "num"
   ]
  },
  {
   "cell_type": "code",
   "execution_count": 1,
   "id": "ee56bb18",
   "metadata": {},
   "outputs": [
    {
     "ename": "SyntaxError",
     "evalue": "invalid syntax (829518018.py, line 1)",
     "output_type": "error",
     "traceback": [
      "\u001b[1;36m  Cell \u001b[1;32mIn[1], line 1\u001b[1;36m\u001b[0m\n\u001b[1;33m    @ad=41\u001b[0m\n\u001b[1;37m       ^\u001b[0m\n\u001b[1;31mSyntaxError\u001b[0m\u001b[1;31m:\u001b[0m invalid syntax\n"
     ]
    }
   ],
   "source": [
    "@ad=41\n",
    "@ad"
   ]
  },
  {
   "cell_type": "code",
   "execution_count": 16,
   "id": "ca5014b8",
   "metadata": {},
   "outputs": [
    {
     "name": "stdout",
     "output_type": "stream",
     "text": [
      "10\n"
     ]
    }
   ],
   "source": [
    "_a=10\n",
    "print(_a)"
   ]
  },
  {
   "cell_type": "code",
   "execution_count": 12,
   "id": "9db1c828",
   "metadata": {},
   "outputs": [
    {
     "name": "stdout",
     "output_type": "stream",
     "text": [
      "20\n"
     ]
    }
   ],
   "source": [
    "x_y=20\n",
    "print(x_y)"
   ]
  },
  {
   "cell_type": "code",
   "execution_count": 13,
   "id": "fa0f26e9",
   "metadata": {},
   "outputs": [
    {
     "data": {
      "text/plain": [
       "20"
      ]
     },
     "execution_count": 13,
     "metadata": {},
     "output_type": "execute_result"
    }
   ],
   "source": [
    "x_y"
   ]
  },
  {
   "cell_type": "markdown",
   "id": "231a8fb0",
   "metadata": {},
   "source": [
    "# Variables   "
   ]
  },
  {
   "cell_type": "markdown",
   "id": "95675f86",
   "metadata": {},
   "source": [
    "variable is a name that is used to refer to memory location. Python Variable is also known as an identifier andis used to hold value."
   ]
  },
  {
   "cell_type": "code",
   "execution_count": 25,
   "id": "06271e0b",
   "metadata": {},
   "outputs": [
    {
     "name": "stdout",
     "output_type": "stream",
     "text": [
      "orange\n"
     ]
    }
   ],
   "source": [
    "a=\"orange\"\n",
    "print(a)"
   ]
  },
  {
   "cell_type": "code",
   "execution_count": 15,
   "id": "7574ea27",
   "metadata": {},
   "outputs": [
    {
     "data": {
      "text/plain": [
       "'orange'"
      ]
     },
     "execution_count": 15,
     "metadata": {},
     "output_type": "execute_result"
    }
   ],
   "source": [
    "a"
   ]
  },
  {
   "cell_type": "code",
   "execution_count": 26,
   "id": "5c7a4ac1",
   "metadata": {},
   "outputs": [
    {
     "data": {
      "text/plain": [
       "str"
      ]
     },
     "execution_count": 26,
     "metadata": {},
     "output_type": "execute_result"
    }
   ],
   "source": [
    "type(a)           #to find out which type the variable a is"
   ]
  },
  {
   "cell_type": "code",
   "execution_count": 27,
   "id": "ec4655ce",
   "metadata": {},
   "outputs": [
    {
     "name": "stdout",
     "output_type": "stream",
     "text": [
      "20\n"
     ]
    },
    {
     "data": {
      "text/plain": [
       "int"
      ]
     },
     "execution_count": 27,
     "metadata": {},
     "output_type": "execute_result"
    }
   ],
   "source": [
    "b=20\n",
    "print(b)\n",
    "type(b)"
   ]
  },
  {
   "cell_type": "code",
   "execution_count": 17,
   "id": "c844a77c",
   "metadata": {},
   "outputs": [
    {
     "data": {
      "text/plain": [
       "float"
      ]
     },
     "execution_count": 17,
     "metadata": {},
     "output_type": "execute_result"
    }
   ],
   "source": [
    "c=2.2\n",
    "type(c)"
   ]
  },
  {
   "cell_type": "code",
   "execution_count": 19,
   "id": "dcb4a5b3",
   "metadata": {},
   "outputs": [
    {
     "data": {
      "text/plain": [
       "60"
      ]
     },
     "execution_count": 19,
     "metadata": {},
     "output_type": "execute_result"
    }
   ],
   "source": [
    "a=60\n",
    "b=a\n",
    "a"
   ]
  },
  {
   "cell_type": "code",
   "execution_count": 20,
   "id": "2e7dae87",
   "metadata": {},
   "outputs": [
    {
     "data": {
      "text/plain": [
       "60"
      ]
     },
     "execution_count": 20,
     "metadata": {},
     "output_type": "execute_result"
    }
   ],
   "source": [
    "b"
   ]
  },
  {
   "cell_type": "code",
   "execution_count": 21,
   "id": "98790d53",
   "metadata": {},
   "outputs": [],
   "source": [
    "# MULTIPLE ASSIGNMENT"
   ]
  },
  {
   "cell_type": "code",
   "execution_count": 29,
   "id": "2a4cc271",
   "metadata": {},
   "outputs": [
    {
     "data": {
      "text/plain": [
       "30"
      ]
     },
     "execution_count": 29,
     "metadata": {},
     "output_type": "execute_result"
    }
   ],
   "source": [
    "x=y=z=d=30\n",
    "d\n"
   ]
  },
  {
   "cell_type": "code",
   "execution_count": 30,
   "id": "192bf600",
   "metadata": {},
   "outputs": [
    {
     "data": {
      "text/plain": [
       "30"
      ]
     },
     "execution_count": 30,
     "metadata": {},
     "output_type": "execute_result"
    }
   ],
   "source": [
    "y"
   ]
  },
  {
   "cell_type": "markdown",
   "id": "276832d4",
   "metadata": {},
   "source": [
    "# Deleting a Variable"
   ]
  },
  {
   "cell_type": "code",
   "execution_count": 1,
   "id": "df22f760",
   "metadata": {},
   "outputs": [
    {
     "name": "stdout",
     "output_type": "stream",
     "text": [
      "6\n"
     ]
    }
   ],
   "source": [
    "#assigning a value to x\n",
    "x=6\n",
    "print(x)\n"
   ]
  },
  {
   "cell_type": "code",
   "execution_count": 3,
   "id": "ade6fc7f",
   "metadata": {},
   "outputs": [
    {
     "ename": "NameError",
     "evalue": "name 'x' is not defined",
     "output_type": "error",
     "traceback": [
      "\u001b[1;31m---------------------------------------------------------------------------\u001b[0m",
      "\u001b[1;31mNameError\u001b[0m                                 Traceback (most recent call last)",
      "Cell \u001b[1;32mIn[3], line 1\u001b[0m\n\u001b[1;32m----> 1\u001b[0m \u001b[38;5;28;01mdel\u001b[39;00m x\n\u001b[0;32m      2\u001b[0m \u001b[38;5;28mprint\u001b[39m(x)\n",
      "\u001b[1;31mNameError\u001b[0m: name 'x' is not defined"
     ]
    }
   ],
   "source": [
    "del x\n",
    "print(x)"
   ]
  },
  {
   "cell_type": "raw",
   "id": "99e5ed53",
   "metadata": {},
   "source": [
    "printing multiple values"
   ]
  },
  {
   "cell_type": "code",
   "execution_count": 38,
   "id": "197fe6da",
   "metadata": {},
   "outputs": [
    {
     "name": "stdout",
     "output_type": "stream",
     "text": [
      "5 6\n"
     ]
    }
   ],
   "source": [
    "a=5\n",
    "b=6\n",
    "print(a,b)"
   ]
  },
  {
   "cell_type": "markdown",
   "id": "2003903a",
   "metadata": {},
   "source": [
    "# NUMBERS"
   ]
  },
  {
   "cell_type": "markdown",
   "id": "4f866e29",
   "metadata": {},
   "source": [
    "# there are three numeric types in python\n",
    "int\n",
    "float\n",
    "complex"
   ]
  },
  {
   "cell_type": "code",
   "execution_count": 21,
   "id": "69f706b0",
   "metadata": {
    "collapsed": true
   },
   "outputs": [
    {
     "data": {
      "text/plain": [
       "1"
      ]
     },
     "execution_count": 21,
     "metadata": {},
     "output_type": "execute_result"
    }
   ],
   "source": [
    "x=1         #int\n",
    "y=2.8      #float\n",
    "z=1j        #complex\n",
    "x"
   ]
  },
  {
   "cell_type": "code",
   "execution_count": 22,
   "id": "eae6fd12",
   "metadata": {
    "collapsed": true
   },
   "outputs": [
    {
     "data": {
      "text/plain": [
       "(1+3j)"
      ]
     },
     "execution_count": 22,
     "metadata": {},
     "output_type": "execute_result"
    }
   ],
   "source": [
    "x=1\n",
    "y=3j\n",
    "c=x+y\n",
    "c"
   ]
  },
  {
   "cell_type": "code",
   "execution_count": 23,
   "id": "1ec9fc52",
   "metadata": {
    "collapsed": true
   },
   "outputs": [
    {
     "data": {
      "text/plain": [
       "3j"
      ]
     },
     "execution_count": 23,
     "metadata": {},
     "output_type": "execute_result"
    }
   ],
   "source": [
    "y"
   ]
  },
  {
   "cell_type": "code",
   "execution_count": 24,
   "id": "07409149",
   "metadata": {},
   "outputs": [
    {
     "data": {
      "text/plain": [
       "complex"
      ]
     },
     "execution_count": 24,
     "metadata": {},
     "output_type": "execute_result"
    }
   ],
   "source": [
    "type(z)"
   ]
  },
  {
   "cell_type": "code",
   "execution_count": 30,
   "id": "b8d2ebef",
   "metadata": {
    "collapsed": true
   },
   "outputs": [
    {
     "name": "stdout",
     "output_type": "stream",
     "text": [
      "6\n",
      "3 3\n"
     ]
    },
    {
     "data": {
      "text/plain": [
       "0"
      ]
     },
     "execution_count": 30,
     "metadata": {},
     "output_type": "execute_result"
    }
   ],
   "source": [
    "a=3\n",
    "b=3\n",
    "print(a+b)\n",
    "print(a,b)\n",
    "a-b"
   ]
  },
  {
   "cell_type": "markdown",
   "id": "61c130b2",
   "metadata": {},
   "source": [
    "# Type Conversion"
   ]
  },
  {
   "cell_type": "code",
   "execution_count": 7,
   "id": "0e9585e3",
   "metadata": {
    "collapsed": true
   },
   "outputs": [
    {
     "data": {
      "text/plain": [
       "1.0"
      ]
     },
     "execution_count": 7,
     "metadata": {},
     "output_type": "execute_result"
    }
   ],
   "source": [
    "x=1\n",
    "y=2.8\n",
    "z=1j\n",
    "#convert from int to float:\n",
    "a=float(x)\n",
    "a"
   ]
  },
  {
   "cell_type": "code",
   "execution_count": 8,
   "id": "9b3d5ded",
   "metadata": {},
   "outputs": [
    {
     "data": {
      "text/plain": [
       "2"
      ]
     },
     "execution_count": 8,
     "metadata": {},
     "output_type": "execute_result"
    }
   ],
   "source": [
    "b=int(y)\n",
    "b"
   ]
  },
  {
   "cell_type": "code",
   "execution_count": 9,
   "id": "59a9b392",
   "metadata": {},
   "outputs": [
    {
     "name": "stdout",
     "output_type": "stream",
     "text": [
      "(1+0j)\n"
     ]
    }
   ],
   "source": [
    "c=complex(x)\n",
    "print(c)"
   ]
  },
  {
   "cell_type": "code",
   "execution_count": 10,
   "id": "c8b5375a",
   "metadata": {},
   "outputs": [
    {
     "name": "stdout",
     "output_type": "stream",
     "text": [
      "1.0\n",
      "<class 'float'>\n"
     ]
    }
   ],
   "source": [
    "print(a)\n",
    "print(type(a))"
   ]
  },
  {
   "cell_type": "code",
   "execution_count": 11,
   "id": "5a30be0a",
   "metadata": {},
   "outputs": [
    {
     "name": "stdout",
     "output_type": "stream",
     "text": [
      "7.5\n"
     ]
    }
   ],
   "source": [
    "a=15\n",
    "b=2\n",
    "print(a/b)"
   ]
  },
  {
   "cell_type": "code",
   "execution_count": 12,
   "id": "a658a206",
   "metadata": {},
   "outputs": [
    {
     "name": "stdout",
     "output_type": "stream",
     "text": [
      "1\n"
     ]
    }
   ],
   "source": [
    "print(a%b)      #modulus operator(remainder)"
   ]
  },
  {
   "cell_type": "code",
   "execution_count": 15,
   "id": "bf66e178",
   "metadata": {},
   "outputs": [],
   "source": [
    "d=3\n",
    "g=2"
   ]
  },
  {
   "cell_type": "code",
   "execution_count": 16,
   "id": "1ef602bc",
   "metadata": {},
   "outputs": [
    {
     "data": {
      "text/plain": [
       "9"
      ]
     },
     "execution_count": 16,
     "metadata": {},
     "output_type": "execute_result"
    }
   ],
   "source": [
    "d**g"
   ]
  },
  {
   "cell_type": "markdown",
   "id": "f6f0b5eb",
   "metadata": {},
   "source": [
    "# Strings(Series of characters)"
   ]
  },
  {
   "cell_type": "raw",
   "id": "72893bd2",
   "metadata": {},
   "source": [
    "anything inside \"\" is considered as strings"
   ]
  },
  {
   "cell_type": "code",
   "execution_count": 28,
   "id": "92a7954f",
   "metadata": {},
   "outputs": [
    {
     "data": {
      "text/plain": [
       "'trivandrum'"
      ]
     },
     "execution_count": 28,
     "metadata": {},
     "output_type": "execute_result"
    }
   ],
   "source": [
    "place=\"trivandrum\"\n",
    "place"
   ]
  },
  {
   "cell_type": "code",
   "execution_count": 29,
   "id": "efeace38",
   "metadata": {},
   "outputs": [
    {
     "data": {
      "text/plain": [
       "'kerala'"
      ]
     },
     "execution_count": 29,
     "metadata": {},
     "output_type": "execute_result"
    }
   ],
   "source": [
    "a=\"kerala\"\n",
    "a"
   ]
  },
  {
   "cell_type": "code",
   "execution_count": 3,
   "id": "948d334c",
   "metadata": {},
   "outputs": [
    {
     "data": {
      "text/plain": [
       "6"
      ]
     },
     "execution_count": 3,
     "metadata": {},
     "output_type": "execute_result"
    }
   ],
   "source": [
    "len(a)             #to find the length of the string"
   ]
  },
  {
   "cell_type": "code",
   "execution_count": 30,
   "id": "2b2bf299",
   "metadata": {},
   "outputs": [
    {
     "name": "stdout",
     "output_type": "stream",
     "text": [
      "10\n"
     ]
    }
   ],
   "source": [
    "print(len(place))"
   ]
  },
  {
   "cell_type": "raw",
   "id": "0988dd7a",
   "metadata": {},
   "source": [
    "Combining two Strings"
   ]
  },
  {
   "cell_type": "code",
   "execution_count": 31,
   "id": "98af5406",
   "metadata": {},
   "outputs": [
    {
     "name": "stdout",
     "output_type": "stream",
     "text": [
      "Unity in  Diversity\n"
     ]
    }
   ],
   "source": [
    "a= \"Unity in\" \n",
    "b= \"  Diversity\"\n",
    "s=a+b\n",
    "print(s)"
   ]
  },
  {
   "cell_type": "code",
   "execution_count": 32,
   "id": "8ca9513f",
   "metadata": {},
   "outputs": [
    {
     "data": {
      "text/plain": [
       "'Unity in  Diversity'"
      ]
     },
     "execution_count": 32,
     "metadata": {},
     "output_type": "execute_result"
    }
   ],
   "source": [
    "a+b"
   ]
  },
  {
   "cell_type": "code",
   "execution_count": 33,
   "id": "daad5af9",
   "metadata": {},
   "outputs": [
    {
     "data": {
      "text/plain": [
       "'M'"
      ]
     },
     "execution_count": 33,
     "metadata": {},
     "output_type": "execute_result"
    }
   ],
   "source": [
    "x=\"Hi Good Morning\"                #accessing characters using index\n",
    "x[8]"
   ]
  },
  {
   "cell_type": "code",
   "execution_count": 34,
   "id": "a4472f03",
   "metadata": {},
   "outputs": [
    {
     "data": {
      "text/plain": [
       "'i Goo'"
      ]
     },
     "execution_count": 34,
     "metadata": {},
     "output_type": "execute_result"
    }
   ],
   "source": [
    "x[1:6]"
   ]
  },
  {
   "cell_type": "code",
   "execution_count": 35,
   "id": "665295ae",
   "metadata": {},
   "outputs": [
    {
     "data": {
      "text/plain": [
       "'Hi Good Morning, How are you?'"
      ]
     },
     "execution_count": 35,
     "metadata": {},
     "output_type": "execute_result"
    }
   ],
   "source": [
    "y=x +\", How are you?\"\n",
    "y"
   ]
  },
  {
   "cell_type": "markdown",
   "id": "63d40bca",
   "metadata": {},
   "source": [
    "# To get first letter as capital"
   ]
  },
  {
   "cell_type": "code",
   "execution_count": 39,
   "id": "f80e4c27",
   "metadata": {},
   "outputs": [
    {
     "data": {
      "text/plain": [
       "'Twinkle'"
      ]
     },
     "execution_count": 39,
     "metadata": {},
     "output_type": "execute_result"
    }
   ],
   "source": [
    "z=\"twinkle\"\n",
    "z.capitalize()"
   ]
  },
  {
   "cell_type": "code",
   "execution_count": 40,
   "id": "c5b764d5",
   "metadata": {},
   "outputs": [],
   "source": [
    "b= \"good morning\""
   ]
  },
  {
   "cell_type": "code",
   "execution_count": 41,
   "id": "0038f3c9",
   "metadata": {},
   "outputs": [
    {
     "data": {
      "text/plain": [
       "'Good Morning'"
      ]
     },
     "execution_count": 41,
     "metadata": {},
     "output_type": "execute_result"
    }
   ],
   "source": [
    "b.title()"
   ]
  },
  {
   "cell_type": "code",
   "execution_count": 42,
   "id": "2ec98224",
   "metadata": {},
   "outputs": [
    {
     "name": "stdout",
     "output_type": "stream",
     "text": [
      "TWINKLE\n"
     ]
    }
   ],
   "source": [
    "print(z.upper())"
   ]
  },
  {
   "cell_type": "code",
   "execution_count": 43,
   "id": "78cc56a1",
   "metadata": {},
   "outputs": [
    {
     "data": {
      "text/plain": [
       "'twinkle'"
      ]
     },
     "execution_count": 43,
     "metadata": {},
     "output_type": "execute_result"
    }
   ],
   "source": [
    "z.lower()"
   ]
  },
  {
   "cell_type": "code",
   "execution_count": 4,
   "id": "73dba2b4",
   "metadata": {},
   "outputs": [
    {
     "data": {
      "text/plain": [
       "'TWINKLE'"
      ]
     },
     "execution_count": 4,
     "metadata": {},
     "output_type": "execute_result"
    }
   ],
   "source": [
    "z.upper()"
   ]
  },
  {
   "cell_type": "code",
   "execution_count": 44,
   "id": "3819bdcc",
   "metadata": {},
   "outputs": [
    {
     "data": {
      "text/plain": [
       "'azs'"
      ]
     },
     "execution_count": 44,
     "metadata": {},
     "output_type": "execute_result"
    }
   ],
   "source": [
    "a=\"aps\"\n",
    "a.replace(\"p\",\"z\")"
   ]
  },
  {
   "cell_type": "markdown",
   "id": "2017b9cd",
   "metadata": {},
   "source": [
    "# "
   ]
  },
  {
   "cell_type": "markdown",
   "id": "4f640f86",
   "metadata": {},
   "source": [
    "# "
   ]
  },
  {
   "cell_type": "code",
   "execution_count": 45,
   "id": "694362e5",
   "metadata": {},
   "outputs": [
    {
     "data": {
      "text/plain": [
       "[2, 3, 4, 7, 6]"
      ]
     },
     "execution_count": 45,
     "metadata": {},
     "output_type": "execute_result"
    }
   ],
   "source": [
    "a=[2,3,4,7]\n",
    "a.insert(4,6)\n",
    "a"
   ]
  },
  {
   "cell_type": "code",
   "execution_count": 46,
   "id": "9bf810d8",
   "metadata": {},
   "outputs": [
    {
     "name": "stdout",
     "output_type": "stream",
     "text": [
      "[6, 2, 3, 4]\n"
     ]
    }
   ],
   "source": [
    "a=[1,2,3,4]\n",
    "a[0]=6\n",
    "print(a)"
   ]
  },
  {
   "cell_type": "code",
   "execution_count": 47,
   "id": "f1e0003e",
   "metadata": {},
   "outputs": [
    {
     "data": {
      "text/plain": [
       "[4, 2, 5, 7, 8]"
      ]
     },
     "execution_count": 47,
     "metadata": {},
     "output_type": "execute_result"
    }
   ],
   "source": [
    "x=[2,5,7,8]\n",
    "x.insert(0,4)\n",
    "x"
   ]
  },
  {
   "cell_type": "markdown",
   "id": "88e9a39f",
   "metadata": {},
   "source": [
    "# LISTS"
   ]
  },
  {
   "cell_type": "code",
   "execution_count": null,
   "id": "b8f53850",
   "metadata": {},
   "outputs": [],
   "source": []
  },
  {
   "cell_type": "code",
   "execution_count": 48,
   "id": "695e2a59",
   "metadata": {},
   "outputs": [
    {
     "data": {
      "text/plain": [
       "'apple'"
      ]
     },
     "execution_count": 48,
     "metadata": {},
     "output_type": "execute_result"
    }
   ],
   "source": [
    "L=[\"orange\",\"guava\",\"apple\"]                   #duplicate strings or variables can be used in the lists.\n",
    "L[2]"
   ]
  },
  {
   "cell_type": "code",
   "execution_count": 49,
   "id": "74e71e91",
   "metadata": {},
   "outputs": [
    {
     "data": {
      "text/plain": [
       "'guava'"
      ]
     },
     "execution_count": 49,
     "metadata": {},
     "output_type": "execute_result"
    }
   ],
   "source": [
    "L[1]"
   ]
  },
  {
   "cell_type": "code",
   "execution_count": 50,
   "id": "07f5d03b",
   "metadata": {},
   "outputs": [
    {
     "data": {
      "text/plain": [
       "'orange'"
      ]
     },
     "execution_count": 50,
     "metadata": {},
     "output_type": "execute_result"
    }
   ],
   "source": [
    "L[0]"
   ]
  },
  {
   "cell_type": "code",
   "execution_count": 51,
   "id": "b1318ec4",
   "metadata": {},
   "outputs": [
    {
     "data": {
      "text/plain": [
       "[1, 2, 3, 4, 5, 6]"
      ]
     },
     "execution_count": 51,
     "metadata": {},
     "output_type": "execute_result"
    }
   ],
   "source": [
    "L1=[1,2,3,4,5,6]\n",
    "L1"
   ]
  },
  {
   "cell_type": "code",
   "execution_count": 52,
   "id": "206b82bd",
   "metadata": {},
   "outputs": [
    {
     "data": {
      "text/plain": [
       "4"
      ]
     },
     "execution_count": 52,
     "metadata": {},
     "output_type": "execute_result"
    }
   ],
   "source": [
    "L1[3]"
   ]
  },
  {
   "cell_type": "code",
   "execution_count": 53,
   "id": "b48ea700",
   "metadata": {},
   "outputs": [
    {
     "data": {
      "text/plain": [
       "5"
      ]
     },
     "execution_count": 53,
     "metadata": {},
     "output_type": "execute_result"
    }
   ],
   "source": [
    "L1[4]"
   ]
  },
  {
   "cell_type": "code",
   "execution_count": 15,
   "id": "34804859",
   "metadata": {},
   "outputs": [],
   "source": [
    "apple=3"
   ]
  },
  {
   "cell_type": "code",
   "execution_count": 16,
   "id": "d2c08e45",
   "metadata": {},
   "outputs": [
    {
     "name": "stdout",
     "output_type": "stream",
     "text": [
      "[3, 'banana', 'cherry', 'cat', 'dog', 'dove', 'animal']\n"
     ]
    },
    {
     "data": {
      "text/plain": [
       "['animal', 'cat', 3]"
      ]
     },
     "execution_count": 16,
     "metadata": {},
     "output_type": "execute_result"
    }
   ],
   "source": [
    "thislist = [\"apple\", \"banana\", \"cherry\",\"cat\",\"dog\",\"dove\",\"animal\"]\n",
    "#thislist.reverse()\n",
    "print(thislist)\n",
    "thislist[::-3]"
   ]
  },
  {
   "cell_type": "markdown",
   "id": "5f8c73a3",
   "metadata": {},
   "source": [
    "# SORTING"
   ]
  },
  {
   "cell_type": "code",
   "execution_count": 54,
   "id": "1db69bcb",
   "metadata": {},
   "outputs": [
    {
     "data": {
      "text/plain": [
       "[1, 4, 6, 7, 8, 9, 10]"
      ]
     },
     "execution_count": 54,
     "metadata": {},
     "output_type": "execute_result"
    }
   ],
   "source": [
    "list0=[1,8,4,7,6,9,10]\n",
    "list0.sort()                  #for sorting\n",
    "list0"
   ]
  },
  {
   "cell_type": "code",
   "execution_count": 35,
   "id": "00d9da5e",
   "metadata": {},
   "outputs": [
    {
     "data": {
      "text/plain": [
       "1"
      ]
     },
     "execution_count": 35,
     "metadata": {},
     "output_type": "execute_result"
    }
   ],
   "source": [
    "list0[0]\n"
   ]
  },
  {
   "cell_type": "markdown",
   "id": "5fbcb5f6",
   "metadata": {},
   "source": [
    "# REVERSING A LIST"
   ]
  },
  {
   "cell_type": "code",
   "execution_count": 57,
   "id": "6e4c2856",
   "metadata": {},
   "outputs": [
    {
     "data": {
      "text/plain": [
       "['e', 'd', 'c', 'b', 'a']"
      ]
     },
     "execution_count": 57,
     "metadata": {},
     "output_type": "execute_result"
    }
   ],
   "source": [
    "L=['a','b','c','d','e']\n",
    "L[::-1]\n"
   ]
  },
  {
   "cell_type": "code",
   "execution_count": 9,
   "id": "af3a1d94",
   "metadata": {},
   "outputs": [
    {
     "data": {
      "text/plain": [
       "['a', 1, 2, 3, 'd', 'e']"
      ]
     },
     "execution_count": 9,
     "metadata": {},
     "output_type": "execute_result"
    }
   ],
   "source": [
    "#modify multiple list items\n",
    "L=['a','b','c','d','e']\n",
    "L[1:3]=[1,2,3]\n",
    "L"
   ]
  },
  {
   "cell_type": "code",
   "execution_count": 59,
   "id": "ea85cd56",
   "metadata": {},
   "outputs": [
    {
     "name": "stdout",
     "output_type": "stream",
     "text": [
      "[1, 2, 3, 'a', 'b', 'c', 'd', 'e']\n"
     ]
    }
   ],
   "source": [
    "#insert items without replacing\n",
    "#insert at the start\n",
    "L1=['a','b','c','d','e']\n",
    "L1[:0]=[1,2,3]\n",
    "print(L1)\n"
   ]
  },
  {
   "cell_type": "code",
   "execution_count": 60,
   "id": "931c20ba",
   "metadata": {},
   "outputs": [
    {
     "name": "stdout",
     "output_type": "stream",
     "text": [
      "['a', 'b', 'c', 'd', 'e', 1, 2, 3]\n"
     ]
    }
   ],
   "source": [
    "#insert at the end\n",
    "L1=['a','b','c','d','e']\n",
    "L1[len(L1):]=[1,2,3]\n",
    "print(L1)\n"
   ]
  },
  {
   "cell_type": "code",
   "execution_count": 61,
   "id": "d2238dba",
   "metadata": {},
   "outputs": [
    {
     "name": "stdout",
     "output_type": "stream",
     "text": [
      "['a', 'b', 1, 2, 3, 'c', 'd', 'e']\n"
     ]
    }
   ],
   "source": [
    "#insert at middle\n",
    "L1=['a','b','c','d','e']\n",
    "L1[2:2]=[1,2,3]\n",
    "print(L1)\n"
   ]
  },
  {
   "cell_type": "code",
   "execution_count": 11,
   "id": "0fec562c",
   "metadata": {},
   "outputs": [
    {
     "data": {
      "text/plain": [
       "[]"
      ]
     },
     "execution_count": 11,
     "metadata": {},
     "output_type": "execute_result"
    }
   ],
   "source": [
    "#create an empty list\n",
    "L1=['a','b','c','d','e']\n",
    "L1[0:5]=[]\n",
    "L1\n"
   ]
  },
  {
   "cell_type": "code",
   "execution_count": 12,
   "id": "e724418a",
   "metadata": {},
   "outputs": [
    {
     "data": {
      "text/plain": [
       "[]"
      ]
     },
     "execution_count": 12,
     "metadata": {},
     "output_type": "execute_result"
    }
   ],
   "source": [
    "L1[0:3]=[]\n",
    "L1"
   ]
  },
  {
   "cell_type": "code",
   "execution_count": 24,
   "id": "6039c92b",
   "metadata": {},
   "outputs": [
    {
     "data": {
      "text/plain": [
       "[1, 6, 7]"
      ]
     },
     "execution_count": 24,
     "metadata": {},
     "output_type": "execute_result"
    }
   ],
   "source": [
    "#deleting a list\n",
    "L=[1,2,3,4,5,6,7]\n",
    "del L[1:5]\n",
    "L"
   ]
  },
  {
   "cell_type": "markdown",
   "id": "3d6124a0",
   "metadata": {},
   "source": [
    "# Append Function       "
   ]
  },
  {
   "cell_type": "markdown",
   "id": "56d89629",
   "metadata": {},
   "source": [
    "(add a list in last) "
   ]
  },
  {
   "cell_type": "code",
   "execution_count": 64,
   "id": "0020344b",
   "metadata": {},
   "outputs": [
    {
     "data": {
      "text/plain": [
       "['apple', 'orange', 'banana', 'banana', ['cherry', 'dates']]"
      ]
     },
     "execution_count": 64,
     "metadata": {},
     "output_type": "execute_result"
    }
   ],
   "source": [
    "List1=['apple','orange','banana',\"banana\"]\n",
    "List1.append(['cherry','dates'] )                   #append a list \n",
    "List1"
   ]
  },
  {
   "cell_type": "code",
   "execution_count": 2,
   "id": "0900dce2",
   "metadata": {},
   "outputs": [
    {
     "data": {
      "text/plain": [
       "['apple', 'orange', 'banana', 'guva', 'apple']"
      ]
     },
     "execution_count": 2,
     "metadata": {},
     "output_type": "execute_result"
    }
   ],
   "source": [
    "List1=['apple','orange','banana']\n",
    "List1[len(List1):]=[\"guva\",\"apple\"]                  #insert at the end\n",
    "List1"
   ]
  },
  {
   "cell_type": "code",
   "execution_count": 44,
   "id": "6e41aeb6",
   "metadata": {},
   "outputs": [
    {
     "data": {
      "text/plain": [
       "3"
      ]
     },
     "execution_count": 44,
     "metadata": {},
     "output_type": "execute_result"
    }
   ],
   "source": [
    "#count function\n",
    "A=[1,3,7,5,7,4,7,3,6]\n",
    "A.count(7)"
   ]
  },
  {
   "cell_type": "code",
   "execution_count": 48,
   "id": "a69f948c",
   "metadata": {},
   "outputs": [
    {
     "data": {
      "text/plain": [
       "1"
      ]
     },
     "execution_count": 48,
     "metadata": {},
     "output_type": "execute_result"
    }
   ],
   "source": [
    "#MIN AND MAX\n",
    "min(A)\n"
   ]
  },
  {
   "cell_type": "code",
   "execution_count": 47,
   "id": "22bf89a1",
   "metadata": {},
   "outputs": [
    {
     "data": {
      "text/plain": [
       "7"
      ]
     },
     "execution_count": 47,
     "metadata": {},
     "output_type": "execute_result"
    }
   ],
   "source": [
    "max(A)"
   ]
  },
  {
   "cell_type": "code",
   "execution_count": 47,
   "id": "7c92d45b",
   "metadata": {},
   "outputs": [
    {
     "data": {
      "text/plain": [
       "7"
      ]
     },
     "execution_count": 47,
     "metadata": {},
     "output_type": "execute_result"
    }
   ],
   "source": [
    "max(A)"
   ]
  },
  {
   "cell_type": "code",
   "execution_count": 65,
   "id": "6d967da9",
   "metadata": {},
   "outputs": [
    {
     "data": {
      "text/plain": [
       "[1, 3, 5, 7, 4, 7, 3, 6]"
      ]
     },
     "execution_count": 65,
     "metadata": {},
     "output_type": "execute_result"
    }
   ],
   "source": [
    "#Remove & Clear a list\n",
    "A=[1,3,7,5,7,4,7,3,6]\n",
    "A.remove(7)\n",
    "A"
   ]
  },
  {
   "cell_type": "code",
   "execution_count": 55,
   "id": "de8a98a9",
   "metadata": {},
   "outputs": [
    {
     "data": {
      "text/plain": [
       "[]"
      ]
     },
     "execution_count": 55,
     "metadata": {},
     "output_type": "execute_result"
    }
   ],
   "source": [
    "A.clear()\n",
    "A"
   ]
  },
  {
   "cell_type": "markdown",
   "id": "c0f83f2a",
   "metadata": {},
   "source": [
    "# Format Function"
   ]
  },
  {
   "cell_type": "code",
   "execution_count": 8,
   "id": "69fd777f",
   "metadata": {},
   "outputs": [
    {
     "data": {
      "text/plain": [
       "'My name lakshmi , and my age is 25'"
      ]
     },
     "execution_count": 8,
     "metadata": {},
     "output_type": "execute_result"
    }
   ],
   "source": [
    "txt=\"My name {0} , and my age is {1}\". format('lakshmi', 25) #speecified value into specified format\n",
    "txt"
   ]
  },
  {
   "cell_type": "code",
   "execution_count": 9,
   "id": "e3e7d203",
   "metadata": {},
   "outputs": [
    {
     "name": "stdout",
     "output_type": "stream",
     "text": [
      "My name lakshmi , and my age is 25\n"
     ]
    }
   ],
   "source": [
    "txt=\"My name {} , and my age is {}\". format('lakshmi', 25)\n",
    "print(txt)"
   ]
  },
  {
   "cell_type": "code",
   "execution_count": 10,
   "id": "cf49ae06",
   "metadata": {},
   "outputs": [
    {
     "data": {
      "text/plain": [
       "'My name lakshmi , and my age is 25'"
      ]
     },
     "execution_count": 10,
     "metadata": {},
     "output_type": "execute_result"
    }
   ],
   "source": [
    "txt=\"My name {fname} , and my age is {fage}\". format(fname='lakshmi',fage= 25)\n",
    "txt"
   ]
  },
  {
   "cell_type": "markdown",
   "id": "8c26e6d7",
   "metadata": {},
   "source": [
    "# TUPLE"
   ]
  },
  {
   "cell_type": "raw",
   "id": "965c0d20",
   "metadata": {},
   "source": [
    "Tuple is a collection of python objects seperated by commas.\n",
    "\n",
    "Python Tuple is used to store the sequence of immutable(unable to change) python objects.\n",
    "\n",
    "The tuple is similar to lists since the value of the items stored in the lists can be changed,when the tuple is immutable and the value of the items stored in the tuple cant be changed.\n",
    "\n",
    "ordered and immutable.\n",
    "\n",
    "A tuple is a collection which is ordered and unchangeable."
   ]
  },
  {
   "cell_type": "code",
   "execution_count": 66,
   "id": "4fb1a203",
   "metadata": {},
   "outputs": [
    {
     "data": {
      "text/plain": [
       "('apple', 'banana', 'orange')"
      ]
     },
     "execution_count": 66,
     "metadata": {},
     "output_type": "execute_result"
    }
   ],
   "source": [
    "t1=('apple', 'banana','orange')\n",
    "t1"
   ]
  },
  {
   "cell_type": "code",
   "execution_count": 13,
   "id": "c2ff4779",
   "metadata": {},
   "outputs": [
    {
     "data": {
      "text/plain": [
       "('apple', 'banana', 'orange', 'grapes', 'orange', 'orange')"
      ]
     },
     "execution_count": 13,
     "metadata": {},
     "output_type": "execute_result"
    }
   ],
   "source": [
    "#tuple also allows duplicate value\n",
    "t1=('apple','banana','orange','grapes','orange','orange')\n",
    "t1"
   ]
  },
  {
   "cell_type": "code",
   "execution_count": 68,
   "id": "d644cfe7",
   "metadata": {},
   "outputs": [
    {
     "data": {
      "text/plain": [
       "5"
      ]
     },
     "execution_count": 68,
     "metadata": {},
     "output_type": "execute_result"
    }
   ],
   "source": [
    "#to determine how many items a tuple has, use the len function\n",
    "t1=('apple','banana','orange','grapes','orange')\n",
    "len(t1)"
   ]
  },
  {
   "cell_type": "code",
   "execution_count": 3,
   "id": "da7db9d1",
   "metadata": {},
   "outputs": [
    {
     "data": {
      "text/plain": [
       "tuple"
      ]
     },
     "execution_count": 3,
     "metadata": {},
     "output_type": "execute_result"
    }
   ],
   "source": [
    "#one item tuple, remember the comma\n",
    "thistuple=('apple',)\n",
    "type(thistuple)"
   ]
  },
  {
   "cell_type": "code",
   "execution_count": 78,
   "id": "3e12955c",
   "metadata": {},
   "outputs": [
    {
     "name": "stdout",
     "output_type": "stream",
     "text": [
      "<class 'str'>\n"
     ]
    }
   ],
   "source": [
    "#not a tuple\n",
    "thistuple=('apple')\n",
    "print(type(thistuple))"
   ]
  },
  {
   "cell_type": "markdown",
   "id": "8f49abbe",
   "metadata": {},
   "source": [
    "tuple1=('apple','banana','cherry')          #strings\n",
    "tuple2=(1,5,7,9,6)                          #integers\n",
    "tuple3=(true, false,false)                  #boolean functions(1 and 0)\n",
    "\n"
   ]
  },
  {
   "cell_type": "code",
   "execution_count": 69,
   "id": "d328509d",
   "metadata": {},
   "outputs": [
    {
     "data": {
      "text/plain": [
       "tuple"
      ]
     },
     "execution_count": 69,
     "metadata": {},
     "output_type": "execute_result"
    }
   ],
   "source": [
    "#A tuple with strings,integers and boolean\n",
    "tuple4=('abc',34,True,40,'male')\n",
    "type(tuple4)"
   ]
  },
  {
   "cell_type": "code",
   "execution_count": 1,
   "id": "caf79d2c",
   "metadata": {},
   "outputs": [
    {
     "data": {
      "text/plain": [
       "'maths'"
      ]
     },
     "execution_count": 1,
     "metadata": {},
     "output_type": "execute_result"
    }
   ],
   "source": [
    "tup1=('physics','chemistry','maths',1996,234)\n",
    "tup2=(1,2,3,4,5,6)\n",
    "tup1[2]"
   ]
  },
  {
   "cell_type": "code",
   "execution_count": 73,
   "id": "df9e7d1f",
   "metadata": {},
   "outputs": [
    {
     "data": {
      "text/plain": [
       "5"
      ]
     },
     "execution_count": 73,
     "metadata": {},
     "output_type": "execute_result"
    }
   ],
   "source": [
    "tup2[4]               #indexing"
   ]
  },
  {
   "cell_type": "code",
   "execution_count": 74,
   "id": "39ac6e75",
   "metadata": {},
   "outputs": [
    {
     "data": {
      "text/plain": [
       "(12, 34.56, 'abc', 'xyz')"
      ]
     },
     "execution_count": 74,
     "metadata": {},
     "output_type": "execute_result"
    }
   ],
   "source": [
    "t1=(12,34.56)\n",
    "t2=(\"abc\",'xyz')\n",
    "tup3=t1+t2\n",
    "tup3"
   ]
  },
  {
   "cell_type": "code",
   "execution_count": 14,
   "id": "d8565f3e",
   "metadata": {},
   "outputs": [
    {
     "ename": "NameError",
     "evalue": "name 't1' is not defined",
     "output_type": "error",
     "traceback": [
      "\u001b[1;31m---------------------------------------------------------------------------\u001b[0m",
      "\u001b[1;31mNameError\u001b[0m                                 Traceback (most recent call last)",
      "Cell \u001b[1;32mIn[14], line 4\u001b[0m\n\u001b[0;32m      2\u001b[0m t1\u001b[38;5;241m=\u001b[39m(\u001b[38;5;241m1\u001b[39m,\u001b[38;5;241m2\u001b[39m,\u001b[38;5;241m3\u001b[39m,\u001b[38;5;241m4\u001b[39m,\u001b[38;5;241m5\u001b[39m,\u001b[38;5;241m6\u001b[39m,\u001b[38;5;241m7\u001b[39m,)\n\u001b[0;32m      3\u001b[0m \u001b[38;5;28;01mdel\u001b[39;00m t1\n\u001b[1;32m----> 4\u001b[0m \u001b[43mt1\u001b[49m\n",
      "\u001b[1;31mNameError\u001b[0m: name 't1' is not defined"
     ]
    }
   ],
   "source": [
    "#deleting elements\n",
    "t1=(1,2,3,4,5,6,7,)\n",
    "del t1\n",
    "t1"
   ]
  },
  {
   "cell_type": "raw",
   "id": "aaca56ce",
   "metadata": {},
   "source": [
    "#python tuple method tuple()\n",
    "\n",
    "\n",
    "following is the syntax for tuple() method \n",
    "tuple(seq)"
   ]
  },
  {
   "cell_type": "code",
   "execution_count": 76,
   "id": "0b9c1e1c",
   "metadata": {},
   "outputs": [
    {
     "data": {
      "text/plain": [
       "(123, 'xyz', 'zara', 'abd')"
      ]
     },
     "execution_count": 76,
     "metadata": {},
     "output_type": "execute_result"
    }
   ],
   "source": [
    "aList=[123,'xyz','zara','abd']                      #converts a list of items into tuples\n",
    "aTuple=tuple(aList)\n",
    "aTuple"
   ]
  },
  {
   "cell_type": "code",
   "execution_count": 2,
   "id": "dade9b16",
   "metadata": {},
   "outputs": [
    {
     "data": {
      "text/plain": [
       "[123, 'xyz', 'zara', 'abd']"
      ]
     },
     "execution_count": 2,
     "metadata": {},
     "output_type": "execute_result"
    }
   ],
   "source": [
    "aList=(123,'xyz','zara','abd')                      #converts a list of items into tuples\n",
    "aTuple=list(aList)\n",
    "aTuple"
   ]
  },
  {
   "cell_type": "code",
   "execution_count": 15,
   "id": "f3df3e3b",
   "metadata": {},
   "outputs": [
    {
     "name": "stdout",
     "output_type": "stream",
     "text": [
      "['cherry', 'orange', 'kiwi']\n"
     ]
    }
   ],
   "source": [
    "mylist = [\"apple\", \"banana\", \"cherry\", \"orange\", \"kiwi\", \"melon\", \"mango\"]\n",
    "print(mylist[2:5])\n"
   ]
  },
  {
   "cell_type": "code",
   "execution_count": 16,
   "id": "159223e6",
   "metadata": {},
   "outputs": [
    {
     "data": {
      "text/plain": [
       "['mango', 'kiwi', 'cherry', 'apple']"
      ]
     },
     "execution_count": 16,
     "metadata": {},
     "output_type": "execute_result"
    }
   ],
   "source": [
    "mylist [::-2]"
   ]
  },
  {
   "cell_type": "code",
   "execution_count": 20,
   "id": "3849ee3b",
   "metadata": {},
   "outputs": [
    {
     "data": {
      "text/plain": [
       "['cherry', 'orange', 'kiwi', 'melon', 'mango']"
      ]
     },
     "execution_count": 20,
     "metadata": {},
     "output_type": "execute_result"
    }
   ],
   "source": [
    "mylist[2:]"
   ]
  },
  {
   "cell_type": "code",
   "execution_count": 23,
   "id": "41056908",
   "metadata": {},
   "outputs": [
    {
     "data": {
      "text/plain": [
       "['cherry', 'orange', 'kiwi']"
      ]
     },
     "execution_count": 23,
     "metadata": {},
     "output_type": "execute_result"
    }
   ],
   "source": [
    "mylist[-5:-2]"
   ]
  },
  {
   "cell_type": "markdown",
   "id": "99b5e99d",
   "metadata": {},
   "source": [
    "# Slicing"
   ]
  },
  {
   "cell_type": "code",
   "execution_count": 17,
   "id": "eb40a43f",
   "metadata": {},
   "outputs": [
    {
     "name": "stdout",
     "output_type": "stream",
     "text": [
      "(0, 1, 2)\n"
     ]
    },
    {
     "data": {
      "text/plain": [
       "(0, 1, 2, 3, 4, 6, 7, 9, 5)"
      ]
     },
     "execution_count": 17,
     "metadata": {},
     "output_type": "execute_result"
    }
   ],
   "source": [
    "tuple1=(0,1,2,3,4,6,7,9,5,)\n",
    "print(tuple1[:3])                      # w/o zeroth position\n",
    "tuple1"
   ]
  },
  {
   "cell_type": "code",
   "execution_count": 18,
   "id": "8e7def03",
   "metadata": {},
   "outputs": [
    {
     "name": "stdout",
     "output_type": "stream",
     "text": [
      "(5, 9, 7, 6, 4, 3, 2, 1, 0)\n"
     ]
    }
   ],
   "source": [
    "print(tuple1[::-1])"
   ]
  },
  {
   "cell_type": "code",
   "execution_count": 19,
   "id": "e455a504",
   "metadata": {},
   "outputs": [
    {
     "name": "stdout",
     "output_type": "stream",
     "text": [
      "(5, 7, 4, 2, 0)\n"
     ]
    }
   ],
   "source": [
    "print(tuple1[::-2])                       #reversed"
   ]
  },
  {
   "cell_type": "code",
   "execution_count": 81,
   "id": "cc9ff0c0",
   "metadata": {},
   "outputs": [
    {
     "name": "stdout",
     "output_type": "stream",
     "text": [
      "(2, 3, 4, 6)\n"
     ]
    }
   ],
   "source": [
    "print(tuple1[2:6])                     #2nd and 3rd position"
   ]
  },
  {
   "cell_type": "code",
   "execution_count": 82,
   "id": "e587218a",
   "metadata": {},
   "outputs": [
    {
     "data": {
      "text/plain": [
       "60"
      ]
     },
     "execution_count": 82,
     "metadata": {},
     "output_type": "execute_result"
    }
   ],
   "source": [
    "#min and max\n",
    "\n",
    "T1=(10,20,50,40,60)\n",
    "max(T1)"
   ]
  },
  {
   "cell_type": "code",
   "execution_count": 83,
   "id": "bdf339a0",
   "metadata": {},
   "outputs": [
    {
     "data": {
      "text/plain": [
       "10"
      ]
     },
     "execution_count": 83,
     "metadata": {},
     "output_type": "execute_result"
    }
   ],
   "source": [
    "min(T1)"
   ]
  },
  {
   "cell_type": "code",
   "execution_count": 84,
   "id": "500f34dd",
   "metadata": {},
   "outputs": [
    {
     "data": {
      "text/plain": [
       "60"
      ]
     },
     "execution_count": 84,
     "metadata": {},
     "output_type": "execute_result"
    }
   ],
   "source": [
    "max(T1)"
   ]
  },
  {
   "cell_type": "code",
   "execution_count": 32,
   "id": "fcb979db",
   "metadata": {},
   "outputs": [
    {
     "data": {
      "text/plain": [
       "10"
      ]
     },
     "execution_count": 32,
     "metadata": {},
     "output_type": "execute_result"
    }
   ],
   "source": [
    "min(T1)"
   ]
  },
  {
   "cell_type": "code",
   "execution_count": 85,
   "id": "c21e2acf",
   "metadata": {},
   "outputs": [
    {
     "data": {
      "text/plain": [
       "(1, 2, 3)"
      ]
     },
     "execution_count": 85,
     "metadata": {},
     "output_type": "execute_result"
    }
   ],
   "source": [
    "#create a tuple from a list\n",
    "t=tuple([1,2,3])\n",
    "t"
   ]
  },
  {
   "cell_type": "code",
   "execution_count": 3,
   "id": "fe592347",
   "metadata": {},
   "outputs": [],
   "source": [
    "a=[1,2,3]\n",
    "w=tuple(a)"
   ]
  },
  {
   "cell_type": "code",
   "execution_count": 4,
   "id": "66c84cf7",
   "metadata": {},
   "outputs": [
    {
     "data": {
      "text/plain": [
       "(1, 2, 3)"
      ]
     },
     "execution_count": 4,
     "metadata": {},
     "output_type": "execute_result"
    }
   ],
   "source": [
    "w"
   ]
  },
  {
   "cell_type": "raw",
   "id": "53efdd19",
   "metadata": {},
   "source": [
    "the count() method returns the no:of items a specified value appears in the tuple.\n",
    "    \n",
    "    syntax: tuple.count(value)"
   ]
  },
  {
   "cell_type": "code",
   "execution_count": 86,
   "id": "43d313a5",
   "metadata": {},
   "outputs": [
    {
     "data": {
      "text/plain": [
       "2"
      ]
     },
     "execution_count": 86,
     "metadata": {},
     "output_type": "execute_result"
    }
   ],
   "source": [
    "thistuple=(1,2,3,4,7,9,2,3,5,5,8,9)\n",
    "thistuple.count(5)"
   ]
  },
  {
   "cell_type": "code",
   "execution_count": 87,
   "id": "918ce862",
   "metadata": {},
   "outputs": [
    {
     "data": {
      "text/plain": [
       "2"
      ]
     },
     "execution_count": 87,
     "metadata": {},
     "output_type": "execute_result"
    }
   ],
   "source": [
    "f=thistuple.count(9)\n",
    "f"
   ]
  },
  {
   "cell_type": "markdown",
   "id": "4f677ee4",
   "metadata": {},
   "source": [
    "the index()method finds the first occurence of the specified value.\n",
    "\n",
    "the index()method raises an exception if the value is not found.\n",
    "\n",
    "syntax:tuple.index()\n",
    "\n"
   ]
  },
  {
   "cell_type": "code",
   "execution_count": 20,
   "id": "7d87a775",
   "metadata": {},
   "outputs": [
    {
     "data": {
      "text/plain": [
       "5"
      ]
     },
     "execution_count": 20,
     "metadata": {},
     "output_type": "execute_result"
    }
   ],
   "source": [
    "thistuple=(1,3,7,6,9,8,4,6,0,8,5)\n",
    "c=thistuple.index(8)\n",
    "c"
   ]
  },
  {
   "cell_type": "markdown",
   "id": "0348bf53",
   "metadata": {},
   "source": [
    "# Dictionary"
   ]
  },
  {
   "cell_type": "raw",
   "id": "06da87c8",
   "metadata": {},
   "source": [
    "Python dictionary is an unordered collection of items.\n",
    "Each item of a dictionary has a key/value pair.\n",
    "\n"
   ]
  },
  {
   "cell_type": "code",
   "execution_count": 1,
   "id": "39545277",
   "metadata": {},
   "outputs": [
    {
     "data": {
      "text/plain": [
       "{}"
      ]
     },
     "execution_count": 1,
     "metadata": {},
     "output_type": "execute_result"
    }
   ],
   "source": [
    "#empty dictionary\n",
    "my_dic={}\n",
    "my_dic"
   ]
  },
  {
   "cell_type": "code",
   "execution_count": 27,
   "id": "f8887b34",
   "metadata": {},
   "outputs": [
    {
     "data": {
      "text/plain": [
       "{'name': 'John', 'place ': 'tvm', 1: [2, 4, 3]}"
      ]
     },
     "execution_count": 27,
     "metadata": {},
     "output_type": "execute_result"
    }
   ],
   "source": [
    "#dictionary with mixed keys\n",
    "my_dict2={'name':\"John\",\"place \":\"tvm\",1:[2,4,3]}\n",
    "my_dict2"
   ]
  },
  {
   "cell_type": "code",
   "execution_count": 29,
   "id": "b894b685",
   "metadata": {},
   "outputs": [
    {
     "ename": "KeyError",
     "evalue": "0",
     "output_type": "error",
     "traceback": [
      "\u001b[1;31m---------------------------------------------------------------------------\u001b[0m",
      "\u001b[1;31mKeyError\u001b[0m                                  Traceback (most recent call last)",
      "Cell \u001b[1;32mIn[29], line 1\u001b[0m\n\u001b[1;32m----> 1\u001b[0m \u001b[43mmy_dict2\u001b[49m\u001b[43m[\u001b[49m\u001b[38;5;241;43m0\u001b[39;49m\u001b[43m]\u001b[49m\n",
      "\u001b[1;31mKeyError\u001b[0m: 0"
     ]
    }
   ],
   "source": [
    "my_dict2[0]"
   ]
  },
  {
   "cell_type": "code",
   "execution_count": 2,
   "id": "83bed914",
   "metadata": {},
   "outputs": [
    {
     "data": {
      "text/plain": [
       "dict"
      ]
     },
     "execution_count": 2,
     "metadata": {},
     "output_type": "execute_result"
    }
   ],
   "source": [
    "type(my_dict2)"
   ]
  },
  {
   "cell_type": "code",
   "execution_count": 4,
   "id": "b40a2b08",
   "metadata": {},
   "outputs": [
    {
     "data": {
      "text/plain": [
       "dict"
      ]
     },
     "execution_count": 4,
     "metadata": {},
     "output_type": "execute_result"
    }
   ],
   "source": [
    "#using dict()\n",
    "#we can also create a dictionaryusing built-in dict() function\n",
    "\n",
    "my_dict=dict({1:'apple',2:'ball'} )           #key and value inside bracket\n",
    "type(my_dict)\n",
    "#my_dict\n"
   ]
  },
  {
   "cell_type": "code",
   "execution_count": 5,
   "id": "072dedd4",
   "metadata": {},
   "outputs": [
    {
     "data": {
      "text/plain": [
       "{1: 'apple', 2: 'ball', 'HI': 'orange', 4: 'banana'}"
      ]
     },
     "execution_count": 5,
     "metadata": {},
     "output_type": "execute_result"
    }
   ],
   "source": [
    "#from sequence  having each item a pair\n",
    "my_dict=dict([(1,'apple'),(2,'ball'),(\"HI\",\"orange\"),(4,\"banana\")])\n",
    "my_dict"
   ]
  },
  {
   "cell_type": "code",
   "execution_count": 7,
   "id": "ac032c13",
   "metadata": {},
   "outputs": [
    {
     "data": {
      "text/plain": [
       "'orange'"
      ]
     },
     "execution_count": 7,
     "metadata": {},
     "output_type": "execute_result"
    }
   ],
   "source": [
    "s=my_dict[\"HI\"]\n",
    "s"
   ]
  },
  {
   "cell_type": "code",
   "execution_count": null,
   "id": "50afd7f4",
   "metadata": {},
   "outputs": [],
   "source": []
  },
  {
   "cell_type": "code",
   "execution_count": 20,
   "id": "5a0766d7",
   "metadata": {},
   "outputs": [
    {
     "data": {
      "text/plain": [
       "{'name': 'Jack', 'age': 26}"
      ]
     },
     "execution_count": 20,
     "metadata": {},
     "output_type": "execute_result"
    }
   ],
   "source": [
    "#get vs[] for retrieving elements\n",
    "d1={'name':'Jack','age':26}\n",
    "d1"
   ]
  },
  {
   "cell_type": "code",
   "execution_count": 21,
   "id": "1bf4882a",
   "metadata": {},
   "outputs": [
    {
     "data": {
      "text/plain": [
       "2"
      ]
     },
     "execution_count": 21,
     "metadata": {},
     "output_type": "execute_result"
    }
   ],
   "source": [
    "len(d1)"
   ]
  },
  {
   "cell_type": "code",
   "execution_count": 22,
   "id": "db962c60",
   "metadata": {},
   "outputs": [
    {
     "data": {
      "text/plain": [
       "'Jack'"
      ]
     },
     "execution_count": 22,
     "metadata": {},
     "output_type": "execute_result"
    }
   ],
   "source": [
    "d1['name']               #call "
   ]
  },
  {
   "cell_type": "code",
   "execution_count": 23,
   "id": "a610a37c",
   "metadata": {},
   "outputs": [
    {
     "data": {
      "text/plain": [
       "'Jack'"
      ]
     },
     "execution_count": 23,
     "metadata": {},
     "output_type": "execute_result"
    }
   ],
   "source": [
    "d1.get('name')                #get funtion with c bracket"
   ]
  },
  {
   "cell_type": "code",
   "execution_count": 1,
   "id": "dd9be67a",
   "metadata": {},
   "outputs": [
    {
     "data": {
      "text/plain": [
       "{'name': 'Jack', 'age': 26}"
      ]
     },
     "execution_count": 1,
     "metadata": {},
     "output_type": "execute_result"
    }
   ],
   "source": [
    "#get vs[] for retrieving elements\n",
    "d1={'name': 'Jack','age':26}\n",
    "d1"
   ]
  },
  {
   "cell_type": "code",
   "execution_count": 2,
   "id": "3e202b62",
   "metadata": {},
   "outputs": [
    {
     "data": {
      "text/plain": [
       "2"
      ]
     },
     "execution_count": 2,
     "metadata": {},
     "output_type": "execute_result"
    }
   ],
   "source": [
    "len(d1)"
   ]
  },
  {
   "cell_type": "code",
   "execution_count": 3,
   "id": "910ba919",
   "metadata": {},
   "outputs": [
    {
     "data": {
      "text/plain": [
       "'Jack'"
      ]
     },
     "execution_count": 3,
     "metadata": {},
     "output_type": "execute_result"
    }
   ],
   "source": [
    "d1['name']"
   ]
  },
  {
   "cell_type": "code",
   "execution_count": 5,
   "id": "532ce2ae",
   "metadata": {},
   "outputs": [
    {
     "data": {
      "text/plain": [
       "'Jack'"
      ]
     },
     "execution_count": 5,
     "metadata": {},
     "output_type": "execute_result"
    }
   ],
   "source": [
    "d1.get('name')"
   ]
  },
  {
   "cell_type": "code",
   "execution_count": 6,
   "id": "71140e03",
   "metadata": {},
   "outputs": [
    {
     "data": {
      "text/plain": [
       "{'name': 'Jack', 'age': 26}"
      ]
     },
     "execution_count": 6,
     "metadata": {},
     "output_type": "execute_result"
    }
   ],
   "source": [
    "#get vs[] for retrieving elements\n",
    "my_dic={'name':'Jack',\"age\":26}\n",
    "my_dic"
   ]
  },
  {
   "cell_type": "code",
   "execution_count": 8,
   "id": "b168cd4d",
   "metadata": {},
   "outputs": [
    {
     "data": {
      "text/plain": [
       "'Jack'"
      ]
     },
     "execution_count": 8,
     "metadata": {},
     "output_type": "execute_result"
    }
   ],
   "source": [
    "my_dic['name']"
   ]
  },
  {
   "cell_type": "code",
   "execution_count": 5,
   "id": "69f36ad6",
   "metadata": {},
   "outputs": [
    {
     "name": "stdout",
     "output_type": "stream",
     "text": [
      "{'name': 'Jack', 'age': 27}\n"
     ]
    }
   ],
   "source": [
    "#changing and adding dictionary elements\n",
    "my_dict={'name':'Jack','age':26}\n",
    "\n",
    "#updating value\n",
    "my_dict['age']=27\n",
    "print(my_dict)"
   ]
  },
  {
   "cell_type": "code",
   "execution_count": 6,
   "id": "6024df15",
   "metadata": {},
   "outputs": [
    {
     "name": "stdout",
     "output_type": "stream",
     "text": [
      "{'name': 'Jack', 'age': 26, 'address': 'Downtown'}\n"
     ]
    }
   ],
   "source": [
    "#add item\n",
    "my_dict={'name':'Jack','age':26}\n",
    "my_dict['address']='Downtown'\n",
    "print(my_dict)"
   ]
  },
  {
   "cell_type": "code",
   "execution_count": 7,
   "id": "c0531a4d",
   "metadata": {},
   "outputs": [
    {
     "data": {
      "text/plain": [
       "{'name': 'Jack', 'age': 26, 'address': 'Downtown', 'place': 'boston'}"
      ]
     },
     "execution_count": 7,
     "metadata": {},
     "output_type": "execute_result"
    }
   ],
   "source": [
    "my_dict[\"place\"]=\"boston\"\n",
    "my_dict"
   ]
  },
  {
   "cell_type": "code",
   "execution_count": 21,
   "id": "0728b433",
   "metadata": {},
   "outputs": [
    {
     "data": {
      "text/plain": [
       "26"
      ]
     },
     "execution_count": 21,
     "metadata": {},
     "output_type": "execute_result"
    }
   ],
   "source": [
    "my_dict.pop(\"age\")"
   ]
  },
  {
   "cell_type": "code",
   "execution_count": 22,
   "id": "c7eb401f",
   "metadata": {},
   "outputs": [
    {
     "data": {
      "text/plain": [
       "{'name': 'Jack', 'address': 'Downtown', 'place': 'boston'}"
      ]
     },
     "execution_count": 22,
     "metadata": {},
     "output_type": "execute_result"
    }
   ],
   "source": [
    "my_dict"
   ]
  },
  {
   "cell_type": "code",
   "execution_count": 23,
   "id": "93bb92f8",
   "metadata": {},
   "outputs": [
    {
     "data": {
      "text/plain": [
       "{'address': 'Downtown', 'place': 'boston'}"
      ]
     },
     "execution_count": 23,
     "metadata": {},
     "output_type": "execute_result"
    }
   ],
   "source": [
    "my_dict.pop(\"name\")\n",
    "my_dict"
   ]
  },
  {
   "cell_type": "code",
   "execution_count": 24,
   "id": "910bda81",
   "metadata": {},
   "outputs": [
    {
     "data": {
      "text/plain": [
       "{'address': 'Downtown', 'place': 'boston', 'pin code': 1234}"
      ]
     },
     "execution_count": 24,
     "metadata": {},
     "output_type": "execute_result"
    }
   ],
   "source": [
    "my_dict[\"pin code\"]=1234\n",
    "my_dict"
   ]
  },
  {
   "cell_type": "code",
   "execution_count": 16,
   "id": "cbac35ea",
   "metadata": {},
   "outputs": [
    {
     "data": {
      "text/plain": [
       "{1: 'a', 2: 'b', 3: 'c'}"
      ]
     },
     "execution_count": 16,
     "metadata": {},
     "output_type": "execute_result"
    }
   ],
   "source": [
    "d={1:'a',2:'b',3:'c'}\n",
    "d"
   ]
  },
  {
   "cell_type": "code",
   "execution_count": 17,
   "id": "e8da82bc",
   "metadata": {},
   "outputs": [
    {
     "data": {
      "text/plain": [
       "{}"
      ]
     },
     "execution_count": 17,
     "metadata": {},
     "output_type": "execute_result"
    }
   ],
   "source": [
    "#clear()\n",
    "d={1:'a',2:'b',3:'c'}\n",
    "d.clear()\n",
    "d"
   ]
  },
  {
   "cell_type": "code",
   "execution_count": 24,
   "id": "6e332d22",
   "metadata": {},
   "outputs": [
    {
     "data": {
      "text/plain": [
       "dict_keys([1, 2, 3])"
      ]
     },
     "execution_count": 24,
     "metadata": {},
     "output_type": "execute_result"
    }
   ],
   "source": [
    "#to view only keys\n",
    "d={1:'a',2:'b',3:'c'}\n",
    "d.keys()"
   ]
  },
  {
   "cell_type": "code",
   "execution_count": 26,
   "id": "d00d288e",
   "metadata": {},
   "outputs": [
    {
     "data": {
      "text/plain": [
       "dict_items([(1, 'a'), (2, 'b'), (3, 'c')])"
      ]
     },
     "execution_count": 26,
     "metadata": {},
     "output_type": "execute_result"
    }
   ],
   "source": [
    "#values()\n",
    "d={1:'a',2:'b',3:'c'}\n",
    "d.values()"
   ]
  },
  {
   "cell_type": "code",
   "execution_count": 27,
   "id": "73b9ec35",
   "metadata": {},
   "outputs": [
    {
     "data": {
      "text/plain": [
       "dict_items([(1, 'a'), (2, 'b'), (3, 'c')])"
      ]
     },
     "execution_count": 27,
     "metadata": {},
     "output_type": "execute_result"
    }
   ],
   "source": [
    "#items()\n",
    "d={1:'a',2:'b',3:'c'}\n",
    "d.items()"
   ]
  },
  {
   "cell_type": "code",
   "execution_count": 143,
   "id": "4af547ee",
   "metadata": {},
   "outputs": [
    {
     "data": {
      "text/plain": [
       "{1: 'a', 2: 'b', 3: 'c', 4: 'd'}"
      ]
     },
     "execution_count": 143,
     "metadata": {},
     "output_type": "execute_result"
    }
   ],
   "source": [
    "d={1:'a',2:'b',3:'c'}\n",
    "d.update({4:'d'})\n",
    "d"
   ]
  },
  {
   "cell_type": "code",
   "execution_count": 30,
   "id": "ea221c20",
   "metadata": {},
   "outputs": [
    {
     "data": {
      "text/plain": [
       "{'apple', 'oorange'}"
      ]
     },
     "execution_count": 30,
     "metadata": {},
     "output_type": "execute_result"
    }
   ],
   "source": [
    "c=set([\"apple\",\"oorange\"])\n",
    "c"
   ]
  },
  {
   "cell_type": "code",
   "execution_count": 1,
   "id": "d528fa94",
   "metadata": {},
   "outputs": [
    {
     "name": "stdout",
     "output_type": "stream",
     "text": [
      "{'cherry', 'grapes', 'orange', 'apple', 'mango', 'banana'}\n"
     ]
    }
   ],
   "source": [
    "thisset = {\"apple\", \"banana\", \"cherry\"}\n",
    "thisset.update([\"orange\", \"mango\", \"grapes\"])\n",
    "print(thisset)\n"
   ]
  },
  {
   "cell_type": "code",
   "execution_count": 24,
   "id": "58452760",
   "metadata": {},
   "outputs": [
    {
     "name": "stdout",
     "output_type": "stream",
     "text": [
      "{1: 'greek'}\n",
      "greek\n",
      "for\n"
     ]
    }
   ],
   "source": [
    "Dict={\"dict1\": {1:\"greek\"},\"dict2\": {\"name\":\"for\"}}\n",
    "\n",
    "\n",
    "print(Dict[\"dict1\"])\n",
    "print(Dict[\"dict1\"][1])\n",
    "print(Dict[\"dict2\"][\"name\"])\n"
   ]
  },
  {
   "cell_type": "code",
   "execution_count": 25,
   "id": "fbdca4ce",
   "metadata": {},
   "outputs": [
    {
     "name": "stdout",
     "output_type": "stream",
     "text": [
      "True\n",
      "True\n",
      "True\n",
      "False\n",
      "True\n",
      "False\n",
      "False\n",
      "---------\n",
      "False\n",
      "False\n"
     ]
    }
   ],
   "source": [
    "print(bool(3))\n",
    "print(bool(\"hello\"))\n",
    "print(bool(['insta','whatsapp','facebook']))\n",
    "print(bool(False))\n",
    "print(bool(True))\n",
    "print(bool(None))\n",
    "print(bool(0))\n",
    "print(\"---------\")\n",
    "print(bool({}))\n",
    "print(bool(()))\n"
   ]
  },
  {
   "cell_type": "code",
   "execution_count": null,
   "id": "1eb04276",
   "metadata": {},
   "outputs": [],
   "source": []
  }
 ],
 "metadata": {
  "kernelspec": {
   "display_name": "Python 3 (ipykernel)",
   "language": "python",
   "name": "python3"
  },
  "language_info": {
   "codemirror_mode": {
    "name": "ipython",
    "version": 3
   },
   "file_extension": ".py",
   "mimetype": "text/x-python",
   "name": "python",
   "nbconvert_exporter": "python",
   "pygments_lexer": "ipython3",
   "version": "3.10.9"
  },
  "vscode": {
   "interpreter": {
    "hash": "2699c4aa63ea855d9342203dddc1e4189ffa229f6b7e5dac6323cc3264de299c"
   }
  }
 },
 "nbformat": 4,
 "nbformat_minor": 5
}
