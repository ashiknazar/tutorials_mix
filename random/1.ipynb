{
 "cells": [
  {
   "cell_type": "code",
   "execution_count": 17,
   "id": "a03aa1ff",
   "metadata": {},
   "outputs": [
    {
     "data": {
      "text/plain": [
       "4"
      ]
     },
     "execution_count": 17,
     "metadata": {},
     "output_type": "execute_result"
    }
   ],
   "source": [
    "fruit1=[\"kiwi\",\"banana\",\"apple\",\"avocado\"]\n",
    "fruit2=[\"mango\",\"cherry\",\"orange\",\"lemon\"]\n",
    "len(fruit1)"
   ]
  },
  {
   "cell_type": "code",
   "execution_count": 18,
   "id": "ccedb74c",
   "metadata": {},
   "outputs": [
    {
     "data": {
      "text/plain": [
       "'lemon'"
      ]
     },
     "execution_count": 18,
     "metadata": {},
     "output_type": "execute_result"
    }
   ],
   "source": [
    "fruit2.pop()"
   ]
  },
  {
   "cell_type": "code",
   "execution_count": 19,
   "id": "a8d4d6e4",
   "metadata": {},
   "outputs": [],
   "source": [
    "fruit1.append(\"lemon\")"
   ]
  },
  {
   "cell_type": "code",
   "execution_count": 20,
   "id": "74dfba90",
   "metadata": {},
   "outputs": [
    {
     "data": {
      "text/plain": [
       "['kiwi', 'banana', 'apple', 'avocado', 'lemon']"
      ]
     },
     "execution_count": 20,
     "metadata": {},
     "output_type": "execute_result"
    }
   ],
   "source": [
    "fruit1"
   ]
  },
  {
   "cell_type": "code",
   "execution_count": 21,
   "id": "872b3530",
   "metadata": {},
   "outputs": [],
   "source": [
    "fruit1.sort()"
   ]
  },
  {
   "cell_type": "code",
   "execution_count": 22,
   "id": "3c47f72e",
   "metadata": {},
   "outputs": [
    {
     "data": {
      "text/plain": [
       "['apple', 'avocado', 'banana', 'kiwi', 'lemon']"
      ]
     },
     "execution_count": 22,
     "metadata": {},
     "output_type": "execute_result"
    }
   ],
   "source": [
    "fruit1"
   ]
  },
  {
   "cell_type": "code",
   "execution_count": 23,
   "id": "47e4aef3",
   "metadata": {},
   "outputs": [],
   "source": [
    "fruit1.reverse()"
   ]
  },
  {
   "cell_type": "code",
   "execution_count": 24,
   "id": "6579aad5",
   "metadata": {},
   "outputs": [
    {
     "data": {
      "text/plain": [
       "['lemon', 'kiwi', 'banana', 'avocado', 'apple']"
      ]
     },
     "execution_count": 24,
     "metadata": {},
     "output_type": "execute_result"
    }
   ],
   "source": [
    "fruit1"
   ]
  },
  {
   "cell_type": "code",
   "execution_count": 25,
   "id": "00c6e543",
   "metadata": {},
   "outputs": [],
   "source": [
    "fruit=fruit1+fruit2"
   ]
  },
  {
   "cell_type": "code",
   "execution_count": 26,
   "id": "a2d38b32",
   "metadata": {},
   "outputs": [
    {
     "data": {
      "text/plain": [
       "['lemon', 'kiwi', 'banana', 'avocado', 'apple', 'mango', 'cherry', 'orange']"
      ]
     },
     "execution_count": 26,
     "metadata": {},
     "output_type": "execute_result"
    }
   ],
   "source": [
    "fruit"
   ]
  },
  {
   "cell_type": "code",
   "execution_count": 27,
   "id": "be59ed3a",
   "metadata": {},
   "outputs": [],
   "source": [
    "fruit.insert(0,\"start\")"
   ]
  },
  {
   "cell_type": "code",
   "execution_count": 28,
   "id": "296fe533",
   "metadata": {},
   "outputs": [
    {
     "data": {
      "text/plain": [
       "['start',\n",
       " 'lemon',\n",
       " 'kiwi',\n",
       " 'banana',\n",
       " 'avocado',\n",
       " 'apple',\n",
       " 'mango',\n",
       " 'cherry',\n",
       " 'orange']"
      ]
     },
     "execution_count": 28,
     "metadata": {},
     "output_type": "execute_result"
    }
   ],
   "source": [
    "fruit"
   ]
  },
  {
   "cell_type": "code",
   "execution_count": 29,
   "id": "8ed8b839",
   "metadata": {},
   "outputs": [],
   "source": [
    "frs=fruit.copy()"
   ]
  },
  {
   "cell_type": "code",
   "execution_count": 30,
   "id": "9cf51df5",
   "metadata": {},
   "outputs": [
    {
     "data": {
      "text/plain": [
       "['start',\n",
       " 'lemon',\n",
       " 'kiwi',\n",
       " 'banana',\n",
       " 'avocado',\n",
       " 'apple',\n",
       " 'mango',\n",
       " 'cherry',\n",
       " 'orange']"
      ]
     },
     "execution_count": 30,
     "metadata": {},
     "output_type": "execute_result"
    }
   ],
   "source": [
    "frs"
   ]
  },
  {
   "cell_type": "code",
   "execution_count": null,
   "id": "5c300352",
   "metadata": {},
   "outputs": [],
   "source": []
  },
  {
   "cell_type": "code",
   "execution_count": 31,
   "id": "415ec648",
   "metadata": {},
   "outputs": [],
   "source": [
    "lis_country=[\"india\",\"pakistan\",\"afgan\",\"nepal\",\"sreelanka\",\"myanmar\",\"japan\",\"bhutan\",\"china\",\"malesia\"]"
   ]
  },
  {
   "cell_type": "code",
   "execution_count": 33,
   "id": "03d24386",
   "metadata": {},
   "outputs": [
    {
     "data": {
      "text/plain": [
       "1"
      ]
     },
     "execution_count": 33,
     "metadata": {},
     "output_type": "execute_result"
    }
   ],
   "source": [
    "lis_country.count(\"india\")"
   ]
  },
  {
   "cell_type": "code",
   "execution_count": 34,
   "id": "a6f5edca",
   "metadata": {},
   "outputs": [
    {
     "data": {
      "text/plain": [
       "'nepal'"
      ]
     },
     "execution_count": 34,
     "metadata": {},
     "output_type": "execute_result"
    }
   ],
   "source": [
    "lis_country[3]"
   ]
  },
  {
   "cell_type": "code",
   "execution_count": 35,
   "id": "e1b54eab",
   "metadata": {},
   "outputs": [
    {
     "data": {
      "text/plain": [
       "'nepal'"
      ]
     },
     "execution_count": 35,
     "metadata": {},
     "output_type": "execute_result"
    }
   ],
   "source": [
    "lis_country[-7]"
   ]
  },
  {
   "cell_type": "code",
   "execution_count": 36,
   "id": "349e8b43",
   "metadata": {},
   "outputs": [],
   "source": [
    "lis_country.append(\"japan\")"
   ]
  },
  {
   "cell_type": "code",
   "execution_count": 37,
   "id": "beb2ea91",
   "metadata": {},
   "outputs": [
    {
     "data": {
      "text/plain": [
       "['india',\n",
       " 'pakistan',\n",
       " 'afgan',\n",
       " 'nepal',\n",
       " 'sreelanka',\n",
       " 'myanmar',\n",
       " 'japan',\n",
       " 'bhutan',\n",
       " 'china',\n",
       " 'malesia',\n",
       " 'japan']"
      ]
     },
     "execution_count": 37,
     "metadata": {},
     "output_type": "execute_result"
    }
   ],
   "source": [
    "lis_country"
   ]
  },
  {
   "cell_type": "code",
   "execution_count": 38,
   "id": "215f2212",
   "metadata": {},
   "outputs": [],
   "source": [
    "lis_country.sort()"
   ]
  },
  {
   "cell_type": "code",
   "execution_count": 39,
   "id": "44bc820b",
   "metadata": {},
   "outputs": [
    {
     "data": {
      "text/plain": [
       "['afgan',\n",
       " 'bhutan',\n",
       " 'china',\n",
       " 'india',\n",
       " 'japan',\n",
       " 'japan',\n",
       " 'malesia',\n",
       " 'myanmar',\n",
       " 'nepal',\n",
       " 'pakistan',\n",
       " 'sreelanka']"
      ]
     },
     "execution_count": 39,
     "metadata": {},
     "output_type": "execute_result"
    }
   ],
   "source": [
    "lis_country"
   ]
  },
  {
   "cell_type": "code",
   "execution_count": 42,
   "id": "af9df4fb",
   "metadata": {},
   "outputs": [],
   "source": [
    "lis_country.sort(reverse=True)"
   ]
  },
  {
   "cell_type": "code",
   "execution_count": 43,
   "id": "8155d458",
   "metadata": {},
   "outputs": [
    {
     "data": {
      "text/plain": [
       "['sreelanka',\n",
       " 'pakistan',\n",
       " 'nepal',\n",
       " 'myanmar',\n",
       " 'malesia',\n",
       " 'japan',\n",
       " 'japan',\n",
       " 'india',\n",
       " 'china',\n",
       " 'bhutan',\n",
       " 'afgan']"
      ]
     },
     "execution_count": 43,
     "metadata": {},
     "output_type": "execute_result"
    }
   ],
   "source": [
    "lis_country"
   ]
  },
  {
   "cell_type": "code",
   "execution_count": 44,
   "id": "15ce4358",
   "metadata": {},
   "outputs": [
    {
     "name": "stdout",
     "output_type": "stream",
     "text": [
      "Indices list: [0, 1, 2, 3, 4, 5, 6, 7, 8, 9]\n"
     ]
    }
   ],
   "source": [
    "lis_country = [\"india\", \"pakistan\", \"afghan\", \"nepal\", \"sri lanka\", \"myanmar\", \"japan\", \"bhutan\", \"china\", \"malaysia\"]\n",
    "\n",
    "# Generating a list of indices using range()\n",
    "indices_list = list(range(len(lis_country)))\n",
    "\n",
    "print(\"Indices list:\", indices_list)\n"
   ]
  },
  {
   "cell_type": "code",
   "execution_count": 45,
   "id": "4959a23c",
   "metadata": {},
   "outputs": [
    {
     "name": "stdout",
     "output_type": "stream",
     "text": [
      "Index: 0 Country: india\n",
      "Index: 1 Country: pakistan\n",
      "Index: 2 Country: afghan\n",
      "Index: 3 Country: nepal\n",
      "Index: 4 Country: sri lanka\n",
      "Index: 5 Country: myanmar\n",
      "Index: 6 Country: japan\n",
      "Index: 7 Country: bhutan\n",
      "Index: 8 Country: china\n",
      "Index: 9 Country: malaysia\n"
     ]
    }
   ],
   "source": [
    "for index, country in zip(indices_list, lis_country):\n",
    "    print(\"Index:\", index, \"Country:\", country)\n",
    "    "
   ]
  },
  {
   "cell_type": "code",
   "execution_count": 46,
   "id": "9617baa9",
   "metadata": {},
   "outputs": [],
   "source": [
    "#dictionary"
   ]
  },
  {
   "cell_type": "code",
   "execution_count": 51,
   "id": "ac3abd74",
   "metadata": {},
   "outputs": [],
   "source": [
    "fruit={\"apple\":\"red\",\"banana\":\"yellow\",\"cherry\":\"red\",\"kiwi\":\"green\"}"
   ]
  },
  {
   "cell_type": "code",
   "execution_count": 52,
   "id": "01af8f5e",
   "metadata": {},
   "outputs": [
    {
     "data": {
      "text/plain": [
       "'red'"
      ]
     },
     "execution_count": 52,
     "metadata": {},
     "output_type": "execute_result"
    }
   ],
   "source": [
    "fruit[\"apple\"]"
   ]
  },
  {
   "cell_type": "code",
   "execution_count": 53,
   "id": "42a10b01",
   "metadata": {},
   "outputs": [
    {
     "data": {
      "text/plain": [
       "'green'"
      ]
     },
     "execution_count": 53,
     "metadata": {},
     "output_type": "execute_result"
    }
   ],
   "source": [
    "fruit[\"kiwi\"]"
   ]
  },
  {
   "cell_type": "code",
   "execution_count": 54,
   "id": "f32d650f",
   "metadata": {},
   "outputs": [],
   "source": [
    "f={'apple','orange','grapes','banana'}\n"
   ]
  },
  {
   "cell_type": "code",
   "execution_count": 55,
   "id": "5fbcabd5",
   "metadata": {},
   "outputs": [],
   "source": [
    "f.add(\"cherry\")"
   ]
  },
  {
   "cell_type": "code",
   "execution_count": 56,
   "id": "79b6192c",
   "metadata": {},
   "outputs": [
    {
     "data": {
      "text/plain": [
       "{'apple', 'banana', 'cherry', 'grapes', 'orange'}"
      ]
     },
     "execution_count": 56,
     "metadata": {},
     "output_type": "execute_result"
    }
   ],
   "source": [
    "f"
   ]
  },
  {
   "cell_type": "code",
   "execution_count": 57,
   "id": "c3ad72e5",
   "metadata": {},
   "outputs": [
    {
     "name": "stdout",
     "output_type": "stream",
     "text": [
      "{'orange', 'cherry', 'banana', 'apple', 'grapes'}\n"
     ]
    }
   ],
   "source": [
    "print(f)"
   ]
  },
  {
   "cell_type": "code",
   "execution_count": 58,
   "id": "327dd2b3",
   "metadata": {},
   "outputs": [
    {
     "name": "stdout",
     "output_type": "stream",
     "text": [
      "5\n"
     ]
    }
   ],
   "source": [
    "print(len(f))"
   ]
  },
  {
   "cell_type": "code",
   "execution_count": 59,
   "id": "bf93f111",
   "metadata": {},
   "outputs": [],
   "source": [
    "color={\"red\",\"black\"}"
   ]
  },
  {
   "cell_type": "code",
   "execution_count": 60,
   "id": "7dc45429",
   "metadata": {},
   "outputs": [],
   "source": [
    "color.update([\"blue\",\"orange\"])"
   ]
  },
  {
   "cell_type": "code",
   "execution_count": 64,
   "id": "178a1ba6",
   "metadata": {},
   "outputs": [
    {
     "data": {
      "text/plain": [
       "set"
      ]
     },
     "execution_count": 64,
     "metadata": {},
     "output_type": "execute_result"
    }
   ],
   "source": [
    "color\n",
    "type(color)"
   ]
  },
  {
   "cell_type": "code",
   "execution_count": 65,
   "id": "ba51c46a",
   "metadata": {},
   "outputs": [
    {
     "data": {
      "text/plain": [
       "'blue'"
      ]
     },
     "execution_count": 65,
     "metadata": {},
     "output_type": "execute_result"
    }
   ],
   "source": [
    "color.pop()"
   ]
  },
  {
   "cell_type": "code",
   "execution_count": 66,
   "id": "e0425a49",
   "metadata": {},
   "outputs": [
    {
     "data": {
      "text/plain": [
       "{'black', 'orange', 'red'}"
      ]
     },
     "execution_count": 66,
     "metadata": {},
     "output_type": "execute_result"
    }
   ],
   "source": [
    "color"
   ]
  },
  {
   "cell_type": "code",
   "execution_count": 68,
   "id": "444d496c",
   "metadata": {},
   "outputs": [],
   "source": [
    "color.remove(\"red\")"
   ]
  },
  {
   "cell_type": "code",
   "execution_count": 69,
   "id": "a7202a85",
   "metadata": {},
   "outputs": [
    {
     "data": {
      "text/plain": [
       "{'black', 'orange'}"
      ]
     },
     "execution_count": 69,
     "metadata": {},
     "output_type": "execute_result"
    }
   ],
   "source": [
    "color\n"
   ]
  },
  {
   "cell_type": "markdown",
   "id": "8805015a",
   "metadata": {},
   "source": [
    "# reverse"
   ]
  },
  {
   "cell_type": "code",
   "execution_count": 1,
   "id": "40fe66a3",
   "metadata": {},
   "outputs": [
    {
     "data": {
      "text/plain": [
       "['e', 'c', 'a']"
      ]
     },
     "execution_count": 1,
     "metadata": {},
     "output_type": "execute_result"
    }
   ],
   "source": [
    "L=['a','b','c','d','e']\n",
    "L[::-2]"
   ]
  },
  {
   "cell_type": "code",
   "execution_count": 82,
   "id": "7787e5c5",
   "metadata": {},
   "outputs": [
    {
     "name": "stdout",
     "output_type": "stream",
     "text": [
      "[1, 2, 3, 'a', 'b', 'c', 'd', 'e']\n"
     ]
    }
   ],
   "source": [
    "#insert items without replacing\n",
    "#insert at the start\n",
    "L1=['a','b','c','d','e']\n",
    "L1[:0]=[1,2,3]\n",
    "print(L1)"
   ]
  },
  {
   "cell_type": "code",
   "execution_count": 83,
   "id": "92c93128",
   "metadata": {},
   "outputs": [
    {
     "name": "stdout",
     "output_type": "stream",
     "text": [
      "['a', 'b', 'c', 'd', 'e', 1, 2, 3]\n"
     ]
    }
   ],
   "source": [
    "#insert at the end\n",
    "L1=['a','b','c','d','e']\n",
    "L1[len(L1):]=[1,2,3]\n",
    "print(L1)\n"
   ]
  },
  {
   "cell_type": "code",
   "execution_count": 84,
   "id": "d9d1af75",
   "metadata": {},
   "outputs": [
    {
     "name": "stdout",
     "output_type": "stream",
     "text": [
      "['a', 'b', 1, 2, 3, 'c', 'd', 'e']\n"
     ]
    }
   ],
   "source": [
    "#insert at middle\n",
    "L1=['a','b','c','d','e']\n",
    "L1[2:2]=[1,2,3]\n",
    "print(L1)\n"
   ]
  },
  {
   "cell_type": "code",
   "execution_count": null,
   "id": "0d820041",
   "metadata": {},
   "outputs": [],
   "source": []
  },
  {
   "cell_type": "code",
   "execution_count": null,
   "id": "a89ed9c2",
   "metadata": {},
   "outputs": [],
   "source": []
  },
  {
   "cell_type": "code",
   "execution_count": null,
   "id": "249a1332",
   "metadata": {},
   "outputs": [],
   "source": []
  },
  {
   "cell_type": "code",
   "execution_count": 3,
   "id": "3256f12a",
   "metadata": {},
   "outputs": [],
   "source": [
    "set3=set1.union(set2)"
   ]
  },
  {
   "cell_type": "code",
   "execution_count": 4,
   "id": "fdaa318f",
   "metadata": {},
   "outputs": [
    {
     "data": {
      "text/plain": [
       "{'a', 'b', 'c', 'd', 'e', 'f', 'g'}"
      ]
     },
     "execution_count": 4,
     "metadata": {},
     "output_type": "execute_result"
    }
   ],
   "source": [
    "set3"
   ]
  },
  {
   "cell_type": "code",
   "execution_count": 6,
   "id": "9209f991",
   "metadata": {},
   "outputs": [],
   "source": [
    "set4=set1.symmetric_difference(set2)"
   ]
  },
  {
   "cell_type": "code",
   "execution_count": 7,
   "id": "5da1c801",
   "metadata": {},
   "outputs": [
    {
     "data": {
      "text/plain": [
       "{'a', 'b', 'c', 'e', 'f', 'g'}"
      ]
     },
     "execution_count": 7,
     "metadata": {},
     "output_type": "execute_result"
    }
   ],
   "source": [
    "set4"
   ]
  },
  {
   "cell_type": "code",
   "execution_count": 8,
   "id": "e2916195",
   "metadata": {},
   "outputs": [],
   "source": [
    "set5=set2.symmetric_difference(set1)"
   ]
  },
  {
   "cell_type": "code",
   "execution_count": 9,
   "id": "a2626d8a",
   "metadata": {},
   "outputs": [
    {
     "data": {
      "text/plain": [
       "{'a', 'b', 'c', 'e', 'f', 'g'}"
      ]
     },
     "execution_count": 9,
     "metadata": {},
     "output_type": "execute_result"
    }
   ],
   "source": [
    "set5"
   ]
  },
  {
   "cell_type": "code",
   "execution_count": 3,
   "id": "138be951",
   "metadata": {},
   "outputs": [],
   "source": [
    "set1={\"a\",\"b\",\"c\",\"d\"}\n",
    "set2={\"d\",\"e\",\"f\",\"g\"}"
   ]
  },
  {
   "cell_type": "code",
   "execution_count": 4,
   "id": "18930676",
   "metadata": {},
   "outputs": [],
   "source": [
    "set1.symmetric_difference_update(set2)\n"
   ]
  },
  {
   "cell_type": "code",
   "execution_count": 5,
   "id": "6508cee1",
   "metadata": {},
   "outputs": [
    {
     "data": {
      "text/plain": [
       "{'a', 'b', 'c', 'e', 'f', 'g'}"
      ]
     },
     "execution_count": 5,
     "metadata": {},
     "output_type": "execute_result"
    }
   ],
   "source": [
    "set1"
   ]
  },
  {
   "cell_type": "code",
   "execution_count": 42,
   "id": "0eece225",
   "metadata": {},
   "outputs": [
    {
     "data": {
      "text/plain": [
       "{'d', 'e', 'f', 'g'}"
      ]
     },
     "execution_count": 42,
     "metadata": {},
     "output_type": "execute_result"
    }
   ],
   "source": [
    "set2"
   ]
  },
  {
   "cell_type": "code",
   "execution_count": 43,
   "id": "acbc9014",
   "metadata": {},
   "outputs": [
    {
     "data": {
      "text/plain": [
       "{'a', 'b', 'c', 'e', 'f', 'g'}"
      ]
     },
     "execution_count": 43,
     "metadata": {},
     "output_type": "execute_result"
    }
   ],
   "source": [
    "set1"
   ]
  },
  {
   "cell_type": "code",
   "execution_count": 17,
   "id": "828fe32f",
   "metadata": {},
   "outputs": [],
   "source": [
    "fruit={\"kiwi\",\"plum\",\"cherry\"}\n",
    "frut={\"kiwi\",\"mango\",\"apple\"}"
   ]
  },
  {
   "cell_type": "code",
   "execution_count": 18,
   "id": "d6e2e965",
   "metadata": {},
   "outputs": [],
   "source": [
    "frut.remove(\"apple\")"
   ]
  },
  {
   "cell_type": "code",
   "execution_count": 19,
   "id": "40e150e3",
   "metadata": {},
   "outputs": [
    {
     "data": {
      "text/plain": [
       "{'kiwi', 'mango'}"
      ]
     },
     "execution_count": 19,
     "metadata": {},
     "output_type": "execute_result"
    }
   ],
   "source": [
    "frut"
   ]
  },
  {
   "cell_type": "code",
   "execution_count": 20,
   "id": "92da513c",
   "metadata": {},
   "outputs": [],
   "source": [
    "frut.add(\"plum\")"
   ]
  },
  {
   "cell_type": "code",
   "execution_count": 21,
   "id": "5a34597a",
   "metadata": {},
   "outputs": [
    {
     "data": {
      "text/plain": [
       "{'kiwi', 'mango', 'plum'}"
      ]
     },
     "execution_count": 21,
     "metadata": {},
     "output_type": "execute_result"
    }
   ],
   "source": [
    "frut"
   ]
  },
  {
   "cell_type": "code",
   "execution_count": 22,
   "id": "8b79bff2",
   "metadata": {},
   "outputs": [],
   "source": [
    "frut.discard(\"mango\")"
   ]
  },
  {
   "cell_type": "code",
   "execution_count": 23,
   "id": "b234b268",
   "metadata": {},
   "outputs": [
    {
     "data": {
      "text/plain": [
       "{'kiwi', 'plum'}"
      ]
     },
     "execution_count": 23,
     "metadata": {},
     "output_type": "execute_result"
    }
   ],
   "source": [
    "frut"
   ]
  },
  {
   "cell_type": "code",
   "execution_count": 25,
   "id": "086a4a09",
   "metadata": {},
   "outputs": [
    {
     "data": {
      "text/plain": [
       "{'cherry', 'kiwi', 'plum'}"
      ]
     },
     "execution_count": 25,
     "metadata": {},
     "output_type": "execute_result"
    }
   ],
   "source": [
    "fruit"
   ]
  },
  {
   "cell_type": "code",
   "execution_count": 10,
   "id": "4ba050bd",
   "metadata": {},
   "outputs": [],
   "source": [
    "x={1,2,3}\n",
    "y={3,4,5}"
   ]
  },
  {
   "cell_type": "code",
   "execution_count": 7,
   "id": "d8e6e755",
   "metadata": {},
   "outputs": [
    {
     "data": {
      "text/plain": [
       "{3}"
      ]
     },
     "execution_count": 7,
     "metadata": {},
     "output_type": "execute_result"
    }
   ],
   "source": [
    "x.intersection(y)"
   ]
  },
  {
   "cell_type": "code",
   "execution_count": 11,
   "id": "52f5fcbf",
   "metadata": {},
   "outputs": [],
   "source": [
    "x.intersection_update(y)"
   ]
  },
  {
   "cell_type": "code",
   "execution_count": 12,
   "id": "893830d6",
   "metadata": {},
   "outputs": [
    {
     "data": {
      "text/plain": [
       "{3}"
      ]
     },
     "execution_count": 12,
     "metadata": {},
     "output_type": "execute_result"
    }
   ],
   "source": [
    "x"
   ]
  },
  {
   "cell_type": "code",
   "execution_count": 13,
   "id": "1467e643",
   "metadata": {},
   "outputs": [],
   "source": [
    "import random"
   ]
  },
  {
   "cell_type": "code",
   "execution_count": 27,
   "id": "374e6b89",
   "metadata": {},
   "outputs": [
    {
     "name": "stdout",
     "output_type": "stream",
     "text": [
      "15\n"
     ]
    }
   ],
   "source": [
    "print(random.randrange(1,29))"
   ]
  },
  {
   "cell_type": "code",
   "execution_count": 24,
   "id": "fd02a26d",
   "metadata": {},
   "outputs": [
    {
     "name": "stdout",
     "output_type": "stream",
     "text": [
      "0.5935293240154863\n"
     ]
    }
   ],
   "source": [
    "print(random.random())"
   ]
  },
  {
   "cell_type": "code",
   "execution_count": 17,
   "id": "824f1483",
   "metadata": {},
   "outputs": [
    {
     "name": "stdout",
     "output_type": "stream",
     "text": [
      "4\n"
     ]
    }
   ],
   "source": [
    "print(random.randint(3,9))"
   ]
  },
  {
   "cell_type": "code",
   "execution_count": 34,
   "id": "446eb51b",
   "metadata": {},
   "outputs": [
    {
     "name": "stdout",
     "output_type": "stream",
     "text": [
      "0.6394267984578837\n"
     ]
    }
   ],
   "source": [
    "random.seed(42)\n",
    "print(random.random())"
   ]
  },
  {
   "cell_type": "code",
   "execution_count": 35,
   "id": "bb7950f4",
   "metadata": {},
   "outputs": [],
   "source": [
    "import copy"
   ]
  },
  {
   "cell_type": "code",
   "execution_count": 44,
   "id": "3a6ca862",
   "metadata": {},
   "outputs": [],
   "source": [
    "da=[[1,2,3],[3,5,6],[5,7,7]]\n",
    "ca=copy.copy(da)"
   ]
  },
  {
   "cell_type": "code",
   "execution_count": 45,
   "id": "4160eb80",
   "metadata": {},
   "outputs": [
    {
     "data": {
      "text/plain": [
       "[[1, 2, 3], [3, 5, 6], [5, 7, 7]]"
      ]
     },
     "execution_count": 45,
     "metadata": {},
     "output_type": "execute_result"
    }
   ],
   "source": [
    "ca"
   ]
  },
  {
   "cell_type": "code",
   "execution_count": 46,
   "id": "cc75ec33",
   "metadata": {},
   "outputs": [],
   "source": [
    "ca[2][2]=8"
   ]
  },
  {
   "cell_type": "code",
   "execution_count": 47,
   "id": "077fdcfd",
   "metadata": {},
   "outputs": [
    {
     "data": {
      "text/plain": [
       "[[1, 2, 3], [3, 5, 6], [5, 7, 8]]"
      ]
     },
     "execution_count": 47,
     "metadata": {},
     "output_type": "execute_result"
    }
   ],
   "source": [
    "ca"
   ]
  },
  {
   "cell_type": "code",
   "execution_count": 48,
   "id": "747ed89d",
   "metadata": {},
   "outputs": [
    {
     "data": {
      "text/plain": [
       "[[1, 2, 3], [3, 5, 6], [5, 7, 8]]"
      ]
     },
     "execution_count": 48,
     "metadata": {},
     "output_type": "execute_result"
    }
   ],
   "source": [
    "da"
   ]
  },
  {
   "cell_type": "code",
   "execution_count": 51,
   "id": "2c737f27",
   "metadata": {},
   "outputs": [],
   "source": [
    "ga=copy.deepcopy(da)"
   ]
  },
  {
   "cell_type": "code",
   "execution_count": 52,
   "id": "18d357a7",
   "metadata": {},
   "outputs": [
    {
     "data": {
      "text/plain": [
       "[[1, 2, 3], [3, 5, 6], [5, 7, 8]]"
      ]
     },
     "execution_count": 52,
     "metadata": {},
     "output_type": "execute_result"
    }
   ],
   "source": [
    "ga"
   ]
  },
  {
   "cell_type": "code",
   "execution_count": 53,
   "id": "e52cecf6",
   "metadata": {},
   "outputs": [],
   "source": [
    "ga[0][0]=0"
   ]
  },
  {
   "cell_type": "code",
   "execution_count": 54,
   "id": "c06e71c4",
   "metadata": {},
   "outputs": [
    {
     "data": {
      "text/plain": [
       "[[0, 2, 3], [3, 5, 6], [5, 7, 8]]"
      ]
     },
     "execution_count": 54,
     "metadata": {},
     "output_type": "execute_result"
    }
   ],
   "source": [
    "ga"
   ]
  },
  {
   "cell_type": "code",
   "execution_count": 55,
   "id": "20a34362",
   "metadata": {},
   "outputs": [
    {
     "data": {
      "text/plain": [
       "[[1, 2, 3], [3, 5, 6], [5, 7, 8]]"
      ]
     },
     "execution_count": 55,
     "metadata": {},
     "output_type": "execute_result"
    }
   ],
   "source": [
    "da"
   ]
  },
  {
   "cell_type": "code",
   "execution_count": null,
   "id": "d42a50a5",
   "metadata": {},
   "outputs": [],
   "source": []
  },
  {
   "cell_type": "code",
   "execution_count": null,
   "id": "d8e3fd47",
   "metadata": {},
   "outputs": [],
   "source": []
  },
  {
   "cell_type": "code",
   "execution_count": 56,
   "id": "696d46b6",
   "metadata": {},
   "outputs": [],
   "source": [
    "#operators"
   ]
  },
  {
   "cell_type": "code",
   "execution_count": 57,
   "id": "87adbde4",
   "metadata": {},
   "outputs": [],
   "source": [
    "a=25\n",
    "b=4"
   ]
  },
  {
   "cell_type": "code",
   "execution_count": 59,
   "id": "9dc50342",
   "metadata": {},
   "outputs": [
    {
     "name": "stdout",
     "output_type": "stream",
     "text": [
      "a+b is  29\n"
     ]
    }
   ],
   "source": [
    "print('a+b is ',a+b)"
   ]
  },
  {
   "cell_type": "code",
   "execution_count": 61,
   "id": "9b305e7d",
   "metadata": {},
   "outputs": [
    {
     "name": "stdout",
     "output_type": "stream",
     "text": [
      "a*b is  100\n",
      "a/b is  6.25\n",
      "a%b is  1\n",
      "a//b is  6\n",
      "a**b is  390625\n"
     ]
    }
   ],
   "source": [
    "print('a*b is ',a*b)\n",
    "print('a/b is ',a/b)\n",
    "print('a%b is ',a%b)\n",
    "print('a//b is ',a//b)\n",
    "print('a**b is ',a**b)\n"
   ]
  },
  {
   "cell_type": "code",
   "execution_count": 65,
   "id": "b6b4b292",
   "metadata": {},
   "outputs": [],
   "source": [
    "a=25\n",
    "b=4"
   ]
  },
  {
   "cell_type": "code",
   "execution_count": 66,
   "id": "e74ca2da",
   "metadata": {},
   "outputs": [
    {
     "name": "stdout",
     "output_type": "stream",
     "text": [
      "False\n"
     ]
    }
   ],
   "source": [
    "print(a==b)"
   ]
  },
  {
   "cell_type": "code",
   "execution_count": 69,
   "id": "2027e9ec",
   "metadata": {},
   "outputs": [
    {
     "name": "stdout",
     "output_type": "stream",
     "text": [
      "False\n"
     ]
    }
   ],
   "source": [
    "print(a<=b)"
   ]
  },
  {
   "cell_type": "code",
   "execution_count": 68,
   "id": "75339e4a",
   "metadata": {},
   "outputs": [
    {
     "name": "stdout",
     "output_type": "stream",
     "text": [
      "True\n"
     ]
    }
   ],
   "source": [
    "print(a>b)"
   ]
  },
  {
   "cell_type": "code",
   "execution_count": 70,
   "id": "449ee675",
   "metadata": {},
   "outputs": [],
   "source": [
    "a=25\n",
    "b=4"
   ]
  },
  {
   "cell_type": "code",
   "execution_count": 71,
   "id": "1bfa0578",
   "metadata": {},
   "outputs": [
    {
     "name": "stdout",
     "output_type": "stream",
     "text": [
      "False\n"
     ]
    }
   ],
   "source": [
    "print(a>20 and b>4)"
   ]
  },
  {
   "cell_type": "code",
   "execution_count": 72,
   "id": "cdd2f570",
   "metadata": {},
   "outputs": [
    {
     "name": "stdout",
     "output_type": "stream",
     "text": [
      "True\n"
     ]
    }
   ],
   "source": [
    "print(a>20 or b>4)"
   ]
  },
  {
   "cell_type": "code",
   "execution_count": 81,
   "id": "88de58ff",
   "metadata": {},
   "outputs": [],
   "source": [
    "#membership operator"
   ]
  },
  {
   "cell_type": "code",
   "execution_count": 73,
   "id": "df068601",
   "metadata": {},
   "outputs": [],
   "source": [
    "aa=[12,43,55,66]"
   ]
  },
  {
   "cell_type": "code",
   "execution_count": 75,
   "id": "7471bbd7",
   "metadata": {},
   "outputs": [
    {
     "name": "stdout",
     "output_type": "stream",
     "text": [
      "True\n",
      "True\n"
     ]
    }
   ],
   "source": [
    "x=12\n",
    "print(x in aa)\n",
    "print(34 not in aa)"
   ]
  },
  {
   "cell_type": "code",
   "execution_count": 80,
   "id": "d43d52b9",
   "metadata": {},
   "outputs": [],
   "source": [
    "#identity operator"
   ]
  },
  {
   "cell_type": "code",
   "execution_count": 79,
   "id": "865766e7",
   "metadata": {},
   "outputs": [
    {
     "name": "stdout",
     "output_type": "stream",
     "text": [
      "True\n",
      "True\n"
     ]
    }
   ],
   "source": [
    "a=\"ashik\"\n",
    "b=\"ashik\"\n",
    "\n",
    "print(a is b)\n",
    "c=\"ashiik\"\n",
    "print(a is not c)"
   ]
  },
  {
   "cell_type": "code",
   "execution_count": 87,
   "id": "3d08b9f0",
   "metadata": {},
   "outputs": [
    {
     "name": "stdout",
     "output_type": "stream",
     "text": [
      "enter a number-2\n",
      "negative no\n"
     ]
    }
   ],
   "source": [
    "var=int(input(\"enter a number\"))\n",
    "if var>0:\n",
    "    print(\"positive no\")\n",
    "elif var==0:\n",
    "    print(\"no is zero\")\n",
    "else:\n",
    "    print(\"negative no\")"
   ]
  },
  {
   "cell_type": "code",
   "execution_count": 96,
   "id": "5f365bfa",
   "metadata": {},
   "outputs": [
    {
     "name": "stdout",
     "output_type": "stream",
     "text": [
      "enter a number0\n",
      "even no\n"
     ]
    }
   ],
   "source": [
    "var=int(input(\"enter a number\"))\n",
    "#var=var%2\n",
    "if var%2==0:\n",
    "    print(\"even no\")\n",
    "else:\n",
    "    print(\"no is  odd\")\n",
    "\n"
   ]
  },
  {
   "cell_type": "code",
   "execution_count": 99,
   "id": "cbf078d6",
   "metadata": {},
   "outputs": [
    {
     "name": "stdout",
     "output_type": "stream",
     "text": [
      "enter bredth4\n",
      "enter length4\n",
      "given shape is square\n"
     ]
    }
   ],
   "source": [
    "var=int(input(\"enter bredth\"))\n",
    "var1=int(input(\"enter length\"))\n",
    "\n",
    "if var==var1:\n",
    "    print(\"given shape is square\")\n",
    "else:\n",
    "    print(\"its a rectangle\")"
   ]
  },
  {
   "cell_type": "code",
   "execution_count": 101,
   "id": "04e440e3",
   "metadata": {},
   "outputs": [],
   "source": [
    "age=18\n"
   ]
  },
  {
   "cell_type": "code",
   "execution_count": 102,
   "id": "8bc38359",
   "metadata": {},
   "outputs": [
    {
     "name": "stdout",
     "output_type": "stream",
     "text": [
      "cat1\n"
     ]
    }
   ],
   "source": [
    "if age>=16:\n",
    "    print(\"cat1\")\n",
    "else:\n",
    "    print(\"cat2\")\n",
    "    if age>=17:\n",
    "        print(\"cat3\")\n",
    "    "
   ]
  },
  {
   "cell_type": "code",
   "execution_count": 106,
   "id": "9360a9d0",
   "metadata": {},
   "outputs": [
    {
     "name": "stdout",
     "output_type": "stream",
     "text": [
      "enter mark67\n",
      "grade is B\n"
     ]
    }
   ],
   "source": [
    "mar=float(input(\"enter mark\"))\n",
    "\n",
    "if mar>80:\n",
    "    print(\"grade is A\")\n",
    "elif mar>60:\n",
    "    print(\"grade is B\")\n",
    "elif mar>50:\n",
    "    print(\"grade is C\")\n",
    "elif mar>45:\n",
    "    print(\"grade is D\")\n",
    "elif mar>25:\n",
    "    print(\"grade is E\")\n",
    "else:\n",
    "    print(\"grade is F\")\n",
    "    "
   ]
  },
  {
   "cell_type": "code",
   "execution_count": null,
   "id": "2f5f78d5",
   "metadata": {},
   "outputs": [],
   "source": []
  }
 ],
 "metadata": {
  "kernelspec": {
   "display_name": "Python 3 (ipykernel)",
   "language": "python",
   "name": "python3"
  },
  "language_info": {
   "codemirror_mode": {
    "name": "ipython",
    "version": 3
   },
   "file_extension": ".py",
   "mimetype": "text/x-python",
   "name": "python",
   "nbconvert_exporter": "python",
   "pygments_lexer": "ipython3",
   "version": "3.10.9"
  }
 },
 "nbformat": 4,
 "nbformat_minor": 5
}
