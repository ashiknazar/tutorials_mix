{
 "cells": [
  {
   "cell_type": "markdown",
   "id": "ddec7c5e",
   "metadata": {},
   "source": [
    "# PYTHON"
   ]
  },
  {
   "cell_type": "markdown",
   "id": "b072714d",
   "metadata": {},
   "source": [
    "Python is a popular programme language\n",
    "simple,general purpose,high level & object oriented programme language\n",
    "open source and free\n",
    "easy to learn\n",
    "easy to read and maintain\n",
    "no need to compile"
   ]
  },
  {
   "cell_type": "code",
   "execution_count": 1,
   "id": "549e3684",
   "metadata": {
    "collapsed": true
   },
   "outputs": [
    {
     "name": "stdout",
     "output_type": "stream",
     "text": [
      "enter your nameveena\n"
     ]
    },
    {
     "ename": "ValueError",
     "evalue": "invalid literal for int() with base 10: 'veena'",
     "output_type": "error",
     "traceback": [
      "\u001b[1;31m---------------------------------------------------------------------------\u001b[0m",
      "\u001b[1;31mValueError\u001b[0m                                Traceback (most recent call last)",
      "Cell \u001b[1;32mIn[1], line 1\u001b[0m\n\u001b[1;32m----> 1\u001b[0m a\u001b[38;5;241m=\u001b[39m\u001b[38;5;28;43mint\u001b[39;49m\u001b[43m(\u001b[49m\u001b[38;5;28;43minput\u001b[39;49m\u001b[43m(\u001b[49m\u001b[38;5;124;43m\"\u001b[39;49m\u001b[38;5;124;43menter your name\u001b[39;49m\u001b[38;5;124;43m\"\u001b[39;49m\u001b[43m)\u001b[49m\u001b[43m)\u001b[49m\n\u001b[0;32m      2\u001b[0m a\n",
      "\u001b[1;31mValueError\u001b[0m: invalid literal for int() with base 10: 'veena'"
     ]
    }
   ],
   "source": [
    "a=int(input(\"enter your name\"))\n",
    "a"
   ]
  },
  {
   "cell_type": "code",
   "execution_count": 9,
   "id": "2329d916",
   "metadata": {
    "collapsed": true
   },
   "outputs": [
    {
     "data": {
      "text/plain": [
       "'ee'"
      ]
     },
     "execution_count": 9,
     "metadata": {},
     "output_type": "execute_result"
    }
   ],
   "source": [
    "a=\"veena\"\n",
    "a[1:3]"
   ]
  },
  {
   "cell_type": "code",
   "execution_count": 4,
   "id": "86649dfb",
   "metadata": {
    "collapsed": true
   },
   "outputs": [
    {
     "name": "stdout",
     "output_type": "stream",
     "text": [
      "True\n"
     ]
    }
   ],
   "source": []
  },
  {
   "cell_type": "code",
   "execution_count": 2,
   "id": "24533527",
   "metadata": {
    "collapsed": true
   },
   "outputs": [
    {
     "name": "stdout",
     "output_type": "stream",
     "text": [
      "my name is veena\n"
     ]
    }
   ],
   "source": [
    "print(\"my name is veena\")\n"
   ]
  },
  {
   "cell_type": "code",
   "execution_count": 46,
   "id": "a7712bcb",
   "metadata": {},
   "outputs": [
    {
     "data": {
      "text/plain": [
       "['apple', 'blackcurrant', 'grapes', 'guva']"
      ]
     },
     "execution_count": 46,
     "metadata": {},
     "output_type": "execute_result"
    }
   ],
   "source": [
    "list1=[\"apple\",\"banana\",\"grapes\",\"guva\"]\n",
    "list1[1]=\"blackcurrant\"\n",
    "list1"
   ]
  },
  {
   "cell_type": "code",
   "execution_count": 47,
   "id": "635d46a0",
   "metadata": {},
   "outputs": [
    {
     "ename": "TypeError",
     "evalue": "'tuple' object does not support item assignment",
     "output_type": "error",
     "traceback": [
      "\u001b[1;31m---------------------------------------------------------------------------\u001b[0m",
      "\u001b[1;31mTypeError\u001b[0m                                 Traceback (most recent call last)",
      "Cell \u001b[1;32mIn[47], line 2\u001b[0m\n\u001b[0;32m      1\u001b[0m t1\u001b[38;5;241m=\u001b[39m(\u001b[38;5;124m\"\u001b[39m\u001b[38;5;124mapple\u001b[39m\u001b[38;5;124m\"\u001b[39m,\u001b[38;5;124m\"\u001b[39m\u001b[38;5;124morange\u001b[39m\u001b[38;5;124m\"\u001b[39m,\u001b[38;5;124m\"\u001b[39m\u001b[38;5;124mapple\u001b[39m\u001b[38;5;124m\"\u001b[39m,\u001b[38;5;124m\"\u001b[39m\u001b[38;5;124mbanana\u001b[39m\u001b[38;5;124m\"\u001b[39m)\n\u001b[1;32m----> 2\u001b[0m t1[\u001b[38;5;241m1\u001b[39m]\u001b[38;5;241m=\u001b[39m\u001b[38;5;124m\"\u001b[39m\u001b[38;5;124mguva\u001b[39m\u001b[38;5;124m\"\u001b[39m\n\u001b[0;32m      3\u001b[0m t1\n",
      "\u001b[1;31mTypeError\u001b[0m: 'tuple' object does not support item assignment"
     ]
    }
   ],
   "source": [
    "t1=(\"apple\",\"orange\",\"apple\",\"banana\")\n",
    "t1[1]=\"guva\"\n",
    "t1"
   ]
  },
  {
   "cell_type": "code",
   "execution_count": 51,
   "id": "df644d81",
   "metadata": {},
   "outputs": [],
   "source": [
    "c=(\"s\",\"y\",\"u\")"
   ]
  },
  {
   "cell_type": "code",
   "execution_count": 57,
   "id": "c183273a",
   "metadata": {},
   "outputs": [
    {
     "data": {
      "text/plain": [
       "['s', 'y', 'u']"
      ]
     },
     "execution_count": 57,
     "metadata": {},
     "output_type": "execute_result"
    }
   ],
   "source": [
    "b=list(c)\n",
    "b"
   ]
  },
  {
   "cell_type": "code",
   "execution_count": 58,
   "id": "08b29879",
   "metadata": {},
   "outputs": [
    {
     "data": {
      "text/plain": [
       "'aaa'"
      ]
     },
     "execution_count": 58,
     "metadata": {},
     "output_type": "execute_result"
    }
   ],
   "source": [
    "a=\"a\"\n",
    "a*3"
   ]
  },
  {
   "cell_type": "code",
   "execution_count": 13,
   "id": "3792c495",
   "metadata": {},
   "outputs": [
    {
     "name": "stdout",
     "output_type": "stream",
     "text": [
      "('b', 'd', 'f')\n"
     ]
    }
   ],
   "source": [
    "a = (\"a\", \"b\", \"c\", \"d\", \"e\", \"f\", \"g\", \"h\")\n",
    "x = slice(1,6,2)\n",
    "print(a[x])\n"
   ]
  },
  {
   "cell_type": "code",
   "execution_count": 16,
   "id": "1450b295",
   "metadata": {},
   "outputs": [
    {
     "data": {
      "text/plain": [
       "[0, 2, 4, 6, 8, 10, 12, 14, 16, 18]"
      ]
     },
     "execution_count": 16,
     "metadata": {},
     "output_type": "execute_result"
    }
   ],
   "source": [
    "list(range(0,20,2))"
   ]
  },
  {
   "cell_type": "code",
   "execution_count": 17,
   "id": "e47492b2",
   "metadata": {},
   "outputs": [],
   "source": [
    "import copy"
   ]
  },
  {
   "cell_type": "code",
   "execution_count": 18,
   "id": "1082637e",
   "metadata": {},
   "outputs": [
    {
     "data": {
      "text/plain": [
       "['Error',\n",
       " '__all__',\n",
       " '__builtins__',\n",
       " '__cached__',\n",
       " '__doc__',\n",
       " '__file__',\n",
       " '__loader__',\n",
       " '__name__',\n",
       " '__package__',\n",
       " '__spec__',\n",
       " '_copy_dispatch',\n",
       " '_copy_immutable',\n",
       " '_deepcopy_atomic',\n",
       " '_deepcopy_dict',\n",
       " '_deepcopy_dispatch',\n",
       " '_deepcopy_list',\n",
       " '_deepcopy_method',\n",
       " '_deepcopy_tuple',\n",
       " '_keep_alive',\n",
       " '_reconstruct',\n",
       " 'copy',\n",
       " 'deepcopy',\n",
       " 'dispatch_table',\n",
       " 'error']"
      ]
     },
     "execution_count": 18,
     "metadata": {},
     "output_type": "execute_result"
    }
   ],
   "source": [
    "dir(copy)"
   ]
  },
  {
   "cell_type": "code",
   "execution_count": 20,
   "id": "71bcf523",
   "metadata": {},
   "outputs": [
    {
     "name": "stdout",
     "output_type": "stream",
     "text": [
      "True\n"
     ]
    }
   ],
   "source": [
    "x=3\n",
    "y=6\n",
    "print(x is not y)"
   ]
  },
  {
   "cell_type": "markdown",
   "id": "3e0cb3e0",
   "metadata": {},
   "source": [
    "# user input"
   ]
  },
  {
   "cell_type": "code",
   "execution_count": 16,
   "id": "2757e38b",
   "metadata": {},
   "outputs": [
    {
     "name": "stdout",
     "output_type": "stream",
     "text": [
      "enter your ageegfhfvg\n"
     ]
    },
    {
     "ename": "NameError",
     "evalue": "name 'egfhfvg' is not defined",
     "output_type": "error",
     "traceback": [
      "\u001b[1;31m---------------------------------------------------------------------------\u001b[0m",
      "\u001b[1;31mNameError\u001b[0m                                 Traceback (most recent call last)",
      "Cell \u001b[1;32mIn[16], line 1\u001b[0m\n\u001b[1;32m----> 1\u001b[0m name\u001b[38;5;241m=\u001b[39m\u001b[38;5;28;43meval\u001b[39;49m\u001b[43m(\u001b[49m\u001b[38;5;28;43minput\u001b[39;49m\u001b[43m(\u001b[49m\u001b[38;5;124;43m\"\u001b[39;49m\u001b[38;5;124;43menter your age\u001b[39;49m\u001b[38;5;124;43m\"\u001b[39;49m\u001b[43m)\u001b[49m\u001b[43m)\u001b[49m\n\u001b[0;32m      2\u001b[0m name\n\u001b[0;32m      3\u001b[0m \u001b[38;5;28mtype\u001b[39m(name)\n",
      "File \u001b[1;32m<string>:1\u001b[0m\n",
      "\u001b[1;31mNameError\u001b[0m: name 'egfhfvg' is not defined"
     ]
    }
   ],
   "source": [
    "name=eval(input(\"enter your age\"))\n",
    "name\n",
    "type(name)"
   ]
  },
  {
   "cell_type": "code",
   "execution_count": 19,
   "id": "13748765",
   "metadata": {},
   "outputs": [
    {
     "name": "stdout",
     "output_type": "stream",
     "text": [
      "enter your name766\n"
     ]
    },
    {
     "data": {
      "text/plain": [
       "str"
      ]
     },
     "execution_count": 19,
     "metadata": {},
     "output_type": "execute_result"
    }
   ],
   "source": [
    "name=input(\"enter your name\")\n",
    "type(name)"
   ]
  },
  {
   "cell_type": "code",
   "execution_count": 13,
   "id": "cb63a812",
   "metadata": {},
   "outputs": [
    {
     "name": "stdout",
     "output_type": "stream",
     "text": [
      "enter your name5.9\n"
     ]
    },
    {
     "ename": "ValueError",
     "evalue": "invalid literal for int() with base 10: '5.9'",
     "output_type": "error",
     "traceback": [
      "\u001b[1;31m---------------------------------------------------------------------------\u001b[0m",
      "\u001b[1;31mValueError\u001b[0m                                Traceback (most recent call last)",
      "Cell \u001b[1;32mIn[13], line 1\u001b[0m\n\u001b[1;32m----> 1\u001b[0m num\u001b[38;5;241m=\u001b[39m\u001b[38;5;28;43mint\u001b[39;49m\u001b[43m(\u001b[49m\u001b[38;5;28;43minput\u001b[39;49m\u001b[43m(\u001b[49m\u001b[38;5;124;43m\"\u001b[39;49m\u001b[38;5;124;43menter your name\u001b[39;49m\u001b[38;5;124;43m\"\u001b[39;49m\u001b[43m)\u001b[49m\u001b[43m)\u001b[49m\n\u001b[0;32m      2\u001b[0m num\n",
      "\u001b[1;31mValueError\u001b[0m: invalid literal for int() with base 10: '5.9'"
     ]
    }
   ],
   "source": [
    "num=int(input(\"enter your name\"))\n",
    "num"
   ]
  },
  {
   "cell_type": "code",
   "execution_count": 10,
   "id": "84cabb13",
   "metadata": {},
   "outputs": [
    {
     "name": "stdout",
     "output_type": "stream",
     "text": [
      "enter your name6\n"
     ]
    },
    {
     "data": {
      "text/plain": [
       "6.0"
      ]
     },
     "execution_count": 10,
     "metadata": {},
     "output_type": "execute_result"
    }
   ],
   "source": [
    "num=float(input(\"enter your name\"))\n",
    "num"
   ]
  },
  {
   "cell_type": "code",
   "execution_count": 2,
   "id": "ca0b8337",
   "metadata": {},
   "outputs": [
    {
     "name": "stdout",
     "output_type": "stream",
     "text": [
      "enter your name1234\n"
     ]
    },
    {
     "data": {
      "text/plain": [
       "str"
      ]
     },
     "execution_count": 2,
     "metadata": {},
     "output_type": "execute_result"
    }
   ],
   "source": [
    "num=str(input(\"enter your name\"))\n",
    "type(num)"
   ]
  },
  {
   "cell_type": "markdown",
   "id": "a1948aa6",
   "metadata": {},
   "source": [
    "# if else"
   ]
  },
  {
   "cell_type": "code",
   "execution_count": 3,
   "id": "84220eb4",
   "metadata": {},
   "outputs": [
    {
     "name": "stdout",
     "output_type": "stream",
     "text": [
      "a less than b\n"
     ]
    }
   ],
   "source": [
    "a=22\n",
    "b=3\n",
    "if a<b:\n",
    "    \n",
    "    \n",
    "    \n",
    "    \n",
    "    print(\"a greater than b\")\n",
    "    \n",
    "else:\n",
    "    \n",
    "    \n",
    "    \n",
    "    \n",
    "     print(\"a less than b\")\n",
    "    "
   ]
  },
  {
   "cell_type": "code",
   "execution_count": 22,
   "id": "6bae9e6e",
   "metadata": {},
   "outputs": [
    {
     "name": "stdout",
     "output_type": "stream",
     "text": [
      "-3 is a positive number.\n",
      "This is always printed.\n"
     ]
    }
   ],
   "source": [
    "num = -3\n",
    "if num < 0:\n",
    "    print(num, \"is a positive number.\")\n",
    "else:\n",
    "    print(num,\"is a negative\")\n",
    "\n",
    "print(\"This is always printed.\")\n"
   ]
  },
  {
   "cell_type": "code",
   "execution_count": 1,
   "id": "651a21f6",
   "metadata": {},
   "outputs": [
    {
     "name": "stdout",
     "output_type": "stream",
     "text": [
      "Enter no:1\n",
      "Positive or Zero\n"
     ]
    }
   ],
   "source": [
    "num=int(input(\"Enter no:\")) #reading input from user\n",
    "if num >= 0:\n",
    "    print(\"Positive or Zero\")\n",
    "else:\n",
    "    print(\"Negative number\")\n"
   ]
  },
  {
   "cell_type": "code",
   "execution_count": 13,
   "id": "df67346e",
   "metadata": {},
   "outputs": [
    {
     "name": "stdout",
     "output_type": "stream",
     "text": [
      "Enter number:-7\n",
      "Negative number\n"
     ]
    }
   ],
   "source": [
    "num=int(input(\"Enter number:\")) #reading input from user\n",
    "if num > 0:\n",
    " print(\"Positive number\")\n",
    "elif num == 0:\n",
    " print(\"Zero\")\n",
    "else:\n",
    " print(\"Negative number\")\n"
   ]
  },
  {
   "cell_type": "code",
   "execution_count": 30,
   "id": "5c317bee",
   "metadata": {},
   "outputs": [
    {
     "name": "stdout",
     "output_type": "stream",
     "text": [
      "iam not in if\n"
     ]
    }
   ],
   "source": [
    "i=11\n",
    "if (i<10):\n",
    "    \n",
    "    print (\"10 is less than 15\")\n",
    "\n",
    "    \n",
    "print(\"iam not in if\")"
   ]
  },
  {
   "cell_type": "code",
   "execution_count": 7,
   "id": "0906c77e",
   "metadata": {},
   "outputs": [
    {
     "name": "stdout",
     "output_type": "stream",
     "text": [
      "a is less than b\n"
     ]
    }
   ],
   "source": [
    "a=1\n",
    "b=10\n",
    "if a<b:\n",
    "    print(\"a is less than b\")"
   ]
  },
  {
   "cell_type": "code",
   "execution_count": 31,
   "id": "f9df57f1",
   "metadata": {},
   "outputs": [
    {
     "name": "stdout",
     "output_type": "stream",
     "text": [
      "15\n",
      "i is smaller than 15\n",
      "i'm in if Block\n",
      "iam not in if and not in else block\n"
     ]
    }
   ],
   "source": [
    "i=14\n",
    "\n",
    "if (i<15):\n",
    "    i=i+1\n",
    "    print(i)\n",
    "    print(\"i is smaller than 15\")\n",
    "    print(\"i'm in if Block\")\n",
    "else:\n",
    "    print(\"i is greater than 15\")\n",
    "    print(\"i'm in else block\")\n",
    "    \n",
    "    \n",
    "print(\"iam not in if and not in else block\")"
   ]
  },
  {
   "cell_type": "code",
   "execution_count": 7,
   "id": "335a1e80",
   "metadata": {},
   "outputs": [
    {
     "name": "stdout",
     "output_type": "stream",
     "text": [
      "40 40\n"
     ]
    }
   ],
   "source": [
    "a=40\n",
    "b=40\n",
    "\n",
    "if a<b:\n",
    "    print(a,'is less than',b)\n",
    "elif a>b:\n",
    "    print(a,'is greater than',b)\n",
    "else:\n",
    "    print(a,b)"
   ]
  },
  {
   "cell_type": "code",
   "execution_count": 8,
   "id": "bfcfbce8",
   "metadata": {},
   "outputs": [
    {
     "name": "stdout",
     "output_type": "stream",
     "text": [
      "-10 is less than 10\n"
     ]
    }
   ],
   "source": [
    "a=-10\n",
    "b=10\n",
    "if a<b:\n",
    "    print(a,'is less than',b)\n",
    "elif a>b:\n",
    "    print(a,'is greater than',b)\n",
    "elif a==b:\n",
    "    print(\"both are same\")\n",
    "else:\n",
    "    print(a,b)"
   ]
  },
  {
   "cell_type": "code",
   "execution_count": 4,
   "id": "0d1126e8",
   "metadata": {},
   "outputs": [
    {
     "name": "stdout",
     "output_type": "stream",
     "text": [
      "8 equals or greater than 5\n"
     ]
    }
   ],
   "source": [
    "a=8\n",
    "if a<0:\n",
    "    print(a,'is negative')\n",
    "elif a==0:\n",
    "    print('its a 0')\n",
    "elif a>0 and a<5:\n",
    "    print(a,'is in (0,5)')\n",
    "else:\n",
    "    print(a,'equals or greater than 5')"
   ]
  },
  {
   "cell_type": "code",
   "execution_count": 8,
   "id": "c1ea224a",
   "metadata": {},
   "outputs": [
    {
     "name": "stdout",
     "output_type": "stream",
     "text": [
      "you are 18 or older.Welcome to adulthood!\n",
      "congradulations with your graduation\n",
      "get license\n"
     ]
    }
   ],
   "source": [
    "age = 18\n",
    "isgraduated= True\n",
    "haslicense=False\n",
    "if age>= 18:\n",
    "    print(\"you are 18 or older.Welcome to adulthood!\")\n",
    "    if isgraduated:\n",
    "        print(\"congradulations with your graduation\")\n",
    "    else:\n",
    "        print(\"not graduated\")\n",
    "\n",
    "    if haslicense:\n",
    "        print(\"happy driving\")\n",
    "    else:\n",
    "        print(\"get license\")\n",
    "else:\n",
    "    print(\"ineligible\")"
   ]
  },
  {
   "cell_type": "markdown",
   "id": "7a4ad3b7",
   "metadata": {},
   "source": [
    "# task"
   ]
  },
  {
   "cell_type": "raw",
   "id": "f725d293",
   "metadata": {},
   "source": [
    "1.check a number which is odd or even\n",
    "2.create python code for finding leap year"
   ]
  },
  {
   "cell_type": "code",
   "execution_count": 3,
   "id": "d53ae90b",
   "metadata": {},
   "outputs": [
    {
     "name": "stdout",
     "output_type": "stream",
     "text": [
      "Electricity bill for 350 units: Rs. 2750\n"
     ]
    }
   ],
   "source": [
    "def calculate_electricity_bill(units):\n",
    "    total_bill = 0\n",
    "    \n",
    "    # For the first 100 units\n",
    "    if units <= 100:\n",
    "        total_bill = 0\n",
    "    else:\n",
    "        total_bill += (units - 100) * 5\n",
    "        \n",
    "    # For the next 100 units\n",
    "    if units > 200:\n",
    "        total_bill += (units - 200) * 10\n",
    "    \n",
    "    return total_bill\n",
    "\n",
    "# Example usage:\n",
    "units_consumed = 35 # Change this value to the actual units consumed\n",
    "bill_amount = calculate_electricity_bill(units_consumed)\n",
    "print(\"Electricity bill for {} units: Rs. {}\".format(units_consumed, bill_amount))\n"
   ]
  },
  {
   "cell_type": "code",
   "execution_count": null,
   "id": "71f98834",
   "metadata": {},
   "outputs": [],
   "source": [
    "a=10\n",
    "b=20\n",
    "c=500\n",
    "if a>b and c>a:\n",
    "    print(\"both conditions are true\") \n",
    "else:\n",
    "    print(\"wrong\")"
   ]
  },
  {
   "cell_type": "code",
   "execution_count": 10,
   "id": "e8cdfa68",
   "metadata": {},
   "outputs": [
    {
     "name": "stdout",
     "output_type": "stream",
     "text": [
      "at least one of the condition is true\n"
     ]
    }
   ],
   "source": [
    "a=100\n",
    "b=33\n",
    "c=700\n",
    "if a>b or a>c:\n",
    "    print(\"at least one of the condition is true\")\n",
    "else:\n",
    "    print(\"inelegible\")"
   ]
  },
  {
   "cell_type": "code",
   "execution_count": 6,
   "id": "ea7ceed1",
   "metadata": {},
   "outputs": [],
   "source": [
    "a=3\n",
    "b=200\n",
    "if b>a:\n",
    "    pass "
   ]
  },
  {
   "cell_type": "code",
   "execution_count": 12,
   "id": "4b29f8bc",
   "metadata": {},
   "outputs": [
    {
     "name": "stdout",
     "output_type": "stream",
     "text": [
      "veena\n"
     ]
    },
    {
     "data": {
      "text/plain": [
       "'veena'"
      ]
     },
     "execution_count": 12,
     "metadata": {},
     "output_type": "execute_result"
    }
   ],
   "source": [
    "user_input=input()\n",
    "user_input"
   ]
  },
  {
   "cell_type": "code",
   "execution_count": 13,
   "id": "b5895df7",
   "metadata": {},
   "outputs": [
    {
     "name": "stdout",
     "output_type": "stream",
     "text": [
      "enter your name:veena\n"
     ]
    },
    {
     "data": {
      "text/plain": [
       "'veena'"
      ]
     },
     "execution_count": 13,
     "metadata": {},
     "output_type": "execute_result"
    }
   ],
   "source": [
    "name=input(\"enter your name:\")\n",
    "name"
   ]
  },
  {
   "cell_type": "code",
   "execution_count": 14,
   "id": "5039af4d",
   "metadata": {},
   "outputs": [
    {
     "data": {
      "text/plain": [
       "str"
      ]
     },
     "execution_count": 14,
     "metadata": {},
     "output_type": "execute_result"
    }
   ],
   "source": [
    "type(name)"
   ]
  },
  {
   "cell_type": "code",
   "execution_count": 15,
   "id": "a549b9d7",
   "metadata": {},
   "outputs": [
    {
     "name": "stdout",
     "output_type": "stream",
     "text": [
      "enter a number:6\n"
     ]
    },
    {
     "data": {
      "text/plain": [
       "int"
      ]
     },
     "execution_count": 15,
     "metadata": {},
     "output_type": "execute_result"
    }
   ],
   "source": [
    "num=eval(input(\"enter a number:\"))\n",
    "num\n",
    "type(num)\n"
   ]
  },
  {
   "cell_type": "code",
   "execution_count": 16,
   "id": "ac44292e",
   "metadata": {},
   "outputs": [
    {
     "name": "stdout",
     "output_type": "stream",
     "text": [
      "enter your age  8\n"
     ]
    },
    {
     "data": {
      "text/plain": [
       "int"
      ]
     },
     "execution_count": 16,
     "metadata": {},
     "output_type": "execute_result"
    }
   ],
   "source": [
    "n=int(input(\"enter your age  \"))\n",
    "n\n",
    "type(n)"
   ]
  },
  {
   "cell_type": "markdown",
   "id": "c0fc1458",
   "metadata": {},
   "source": [
    "# nested if"
   ]
  },
  {
   "cell_type": "code",
   "execution_count": 2,
   "id": "1b29d9e0",
   "metadata": {},
   "outputs": [
    {
     "name": "stdout",
     "output_type": "stream",
     "text": [
      "enter weekday day number(1-7): 9\n",
      "\n",
      "please enter weekday number between 1-7.\n"
     ]
    }
   ],
   "source": [
    "day=int(input(\"enter weekday day number(1-7): \"))\n",
    "if day==1:\n",
    "    print(\"monday\");\n",
    "elif day==2:\n",
    "    print(\"\\ntuesday\");\n",
    "elif(day==3):\n",
    "    print(\"\\nwednesday\");\n",
    "elif(day==4):\n",
    "    print(\"\\nthursday\");\n",
    "elif(day==5):\n",
    "    print(\"\\nfriday\");\n",
    "elif(day==6):\n",
    "    print(\"\\nsaturday\");\n",
    "elif(day==7):\n",
    "    print(\"\\nsunday\")\n",
    "else:\n",
    "    print(\"\\nplease enter weekday number between 1-7.\")\n",
    "\n"
   ]
  },
  {
   "cell_type": "code",
   "execution_count": 6,
   "id": "1affff32",
   "metadata": {},
   "outputs": [
    {
     "name": "stdout",
     "output_type": "stream",
     "text": [
      "a ,p ,p ,l ,e ,"
     ]
    }
   ],
   "source": [
    "a=\"apple\"\n",
    "for i in a:\n",
    "    print(i,end=\" ,\")"
   ]
  },
  {
   "cell_type": "code",
   "execution_count": null,
   "id": "c201c548",
   "metadata": {},
   "outputs": [],
   "source": []
  },
  {
   "cell_type": "code",
   "execution_count": null,
   "id": "2176388c",
   "metadata": {},
   "outputs": [],
   "source": []
  },
  {
   "cell_type": "code",
   "execution_count": 7,
   "id": "c58593f4",
   "metadata": {},
   "outputs": [
    {
     "name": "stdout",
     "output_type": "stream",
     "text": [
      "apple\n",
      "orange\n",
      "grapes\n"
     ]
    }
   ],
   "source": [
    "list1=[\"apple\",\"orange\",\"grapes\"]\n",
    "for i in list1:\n",
    "    print(i)"
   ]
  },
  {
   "cell_type": "code",
   "execution_count": 9,
   "id": "c5564621",
   "metadata": {
    "collapsed": true
   },
   "outputs": [
    {
     "name": "stdout",
     "output_type": "stream",
     "text": [
      "v\n",
      "e\n",
      "e\n",
      "n\n",
      "a\n"
     ]
    }
   ],
   "source": [
    "name=\"veena\"\n",
    "for i in name:\n",
    "    print(i)"
   ]
  },
  {
   "cell_type": "code",
   "execution_count": 2,
   "id": "ed41aabf",
   "metadata": {},
   "outputs": [
    {
     "data": {
      "text/plain": [
       "[3, 4, 5, 6]"
      ]
     },
     "execution_count": 2,
     "metadata": {},
     "output_type": "execute_result"
    }
   ],
   "source": [
    "l=[1,2,3,4,5,6,7,8,9,10]\n",
    "l[2:6]"
   ]
  },
  {
   "cell_type": "code",
   "execution_count": 3,
   "id": "7ca9cc48",
   "metadata": {},
   "outputs": [
    {
     "data": {
      "text/plain": [
       "[1, 2, 3, 4, 5, 6, 7, 8, 9, 10, 7, 2, 3, 4, 5]"
      ]
     },
     "execution_count": 3,
     "metadata": {},
     "output_type": "execute_result"
    }
   ],
   "source": [
    "l[len(l):]=[7,2,3,4,5]\n",
    "l"
   ]
  },
  {
   "cell_type": "code",
   "execution_count": 5,
   "id": "c6f14b1b",
   "metadata": {},
   "outputs": [
    {
     "data": {
      "text/plain": [
       "[15]"
      ]
     },
     "execution_count": 5,
     "metadata": {},
     "output_type": "execute_result"
    }
   ],
   "source": [
    "[ len(l)]\n",
    "    "
   ]
  },
  {
   "cell_type": "code",
   "execution_count": 6,
   "id": "de6a9156",
   "metadata": {},
   "outputs": [],
   "source": [
    "del l"
   ]
  },
  {
   "cell_type": "code",
   "execution_count": 7,
   "id": "82fab7a3",
   "metadata": {},
   "outputs": [
    {
     "data": {
      "text/plain": [
       "dict_keys(['monday', 'tuesday', 'wednesday', 'thursday', 'friday', 'saturday', 'sunday'])"
      ]
     },
     "execution_count": 7,
     "metadata": {},
     "output_type": "execute_result"
    }
   ],
   "source": [
    "week_days={'monday':1,'tuesday':2,'wednesday':3,'thursday':4,'friday':5,'saturday':6,'sunday':7}\n",
    "week_days.keys()"
   ]
  },
  {
   "cell_type": "code",
   "execution_count": 8,
   "id": "b3f120fb",
   "metadata": {},
   "outputs": [
    {
     "data": {
      "text/plain": [
       "dict_values([1, 2, 3, 4, 5, 6, 7])"
      ]
     },
     "execution_count": 8,
     "metadata": {},
     "output_type": "execute_result"
    }
   ],
   "source": [
    "week_days.values()"
   ]
  },
  {
   "cell_type": "code",
   "execution_count": 9,
   "id": "e004d7bf",
   "metadata": {},
   "outputs": [
    {
     "name": "stdout",
     "output_type": "stream",
     "text": [
      "6\n"
     ]
    }
   ],
   "source": [
    "l=[1,2,3]\n",
    "print(l[0]+l[1]+l[2])"
   ]
  },
  {
   "cell_type": "code",
   "execution_count": 19,
   "id": "0e2e7a05",
   "metadata": {},
   "outputs": [
    {
     "name": "stdout",
     "output_type": "stream",
     "text": [
      "6\n"
     ]
    }
   ],
   "source": [
    "print(l[0]*l[1]*l[2])"
   ]
  },
  {
   "cell_type": "code",
   "execution_count": 21,
   "id": "e8ebec9c",
   "metadata": {},
   "outputs": [
    {
     "data": {
      "text/plain": [
       "1"
      ]
     },
     "execution_count": 21,
     "metadata": {},
     "output_type": "execute_result"
    }
   ],
   "source": [
    "min(l)"
   ]
  },
  {
   "cell_type": "code",
   "execution_count": 6,
   "id": "16a79ad8",
   "metadata": {},
   "outputs": [
    {
     "data": {
      "text/plain": [
       "[(2, 1), (2, 3), (4, 4), (1, 2), (2, 5)]"
      ]
     },
     "execution_count": 6,
     "metadata": {},
     "output_type": "execute_result"
    }
   ],
   "source": [
    "l=[(2,5),(1,2),(4,4),(2,3),(2,1)]\n",
    "l.reverse ()\n",
    "l"
   ]
  },
  {
   "cell_type": "code",
   "execution_count": 7,
   "id": "fd584afa",
   "metadata": {},
   "outputs": [],
   "source": [
    "l.sort()"
   ]
  },
  {
   "cell_type": "code",
   "execution_count": 8,
   "id": "40faff15",
   "metadata": {},
   "outputs": [
    {
     "data": {
      "text/plain": [
       "[(1, 2), (2, 1), (2, 3), (2, 5), (4, 4)]"
      ]
     },
     "execution_count": 8,
     "metadata": {},
     "output_type": "execute_result"
    }
   ],
   "source": [
    "l"
   ]
  },
  {
   "cell_type": "markdown",
   "id": "02f254b6",
   "metadata": {},
   "source": [
    "# while loop\n"
   ]
  },
  {
   "cell_type": "code",
   "execution_count": 2,
   "id": "2ea72f29",
   "metadata": {},
   "outputs": [
    {
     "name": "stdout",
     "output_type": "stream",
     "text": [
      "num= 2\n",
      "num= 3\n",
      "num= 4\n",
      "num= 5\n",
      "num= 6\n"
     ]
    }
   ],
   "source": [
    "num=1\n",
    "while num<=5:\n",
    "    \n",
    "    \n",
    "    \n",
    "    \n",
    "    \n",
    "    num=num+1\n",
    "    print ('num=',num)"
   ]
  },
  {
   "cell_type": "code",
   "execution_count": 3,
   "id": "b0879634",
   "metadata": {},
   "outputs": [
    {
     "name": "stdout",
     "output_type": "stream",
     "text": [
      "enter the number1\n",
      "2\n",
      "3\n",
      "4\n",
      "5\n",
      "6\n"
     ]
    }
   ],
   "source": [
    "i=int(input(\"enter the number\"))\n",
    "while i<6:\n",
    "    i+=1\n",
    "    print(i)\n",
    "      "
   ]
  },
  {
   "cell_type": "code",
   "execution_count": 4,
   "id": "1b859fab",
   "metadata": {},
   "outputs": [
    {
     "name": "stdout",
     "output_type": "stream",
     "text": [
      "enter the number2\n",
      "3\n"
     ]
    }
   ],
   "source": [
    "i=int(input(\"enter the number\"))\n",
    "\n",
    "while i<6:\n",
    "    \n",
    "    i+=1\n",
    "    \n",
    "    if i==4:\n",
    "        \n",
    "        break\n",
    "    print(i)"
   ]
  },
  {
   "cell_type": "code",
   "execution_count": 13,
   "id": "6371a2a3",
   "metadata": {},
   "outputs": [
    {
     "name": "stdout",
     "output_type": "stream",
     "text": [
      "enter the number5\n",
      "6\n"
     ]
    }
   ],
   "source": [
    "i=int(input(\"enter the number\"))\n",
    "\n",
    "while i<6:\n",
    "    i+=1\n",
    "    \n",
    "    if i<=4:\n",
    "        break\n",
    "    print(i)"
   ]
  },
  {
   "cell_type": "code",
   "execution_count": 5,
   "id": "21e73d86",
   "metadata": {},
   "outputs": [
    {
     "name": "stdout",
     "output_type": "stream",
     "text": [
      "enter a number2\n",
      "num= 4\n",
      "num= 5\n"
     ]
    }
   ],
   "source": [
    "num=int(input(\"enter a number\")) #iteration\n",
    "while num<5:\n",
    "    num+=1\n",
    "    \n",
    "    \n",
    "    if num==3:\n",
    "        continue\n",
    "    print('num=',num)"
   ]
  },
  {
   "cell_type": "code",
   "execution_count": 4,
   "id": "4d926cc2",
   "metadata": {},
   "outputs": [
    {
     "name": "stdout",
     "output_type": "stream",
     "text": [
      "enter a number1\n",
      "num= 2\n",
      "num= 3\n"
     ]
    }
   ],
   "source": [
    "num=int(input(\"enter a number\")) #exit from loop\n",
    "while num<5:\n",
    "    num+=1\n",
    "    print('num=',num)\n",
    "    if num==3:\n",
    "        break"
   ]
  },
  {
   "cell_type": "code",
   "execution_count": 17,
   "id": "a6eee045",
   "metadata": {},
   "outputs": [
    {
     "name": "stdout",
     "output_type": "stream",
     "text": [
      "enter a number3\n",
      "num= 4\n",
      "num= 5\n"
     ]
    }
   ],
   "source": [
    "num=int(input(\"enter a number\")) #exit from loop\n",
    "while num<5:\n",
    "    num+=1\n",
    "    print('num=',num)\n",
    "    if num==3:\n",
    "        break\n",
    "#print(num)"
   ]
  },
  {
   "cell_type": "code",
   "execution_count": 6,
   "id": "b85dc2d8",
   "metadata": {},
   "outputs": [
    {
     "name": "stdout",
     "output_type": "stream",
     "text": [
      "Enter a number (enter 0 to finish): 2\n",
      "Enter a number (enter 0 to finish): 4\n",
      "Enter a number (enter 0 to finish): 5\n",
      "Enter a number (enter 0 to finish): 0\n",
      "The sum of all the numbers entered is: 11.0\n"
     ]
    }
   ],
   "source": [
    "sum_numbers = 0\n",
    "num = None\n",
    "\n",
    "\n",
    "while num != 0:\n",
    "   \n",
    "        num = float(input(\"Enter a number (enter 0 to finish): \"))\n",
    "        sum_numbers += num\n",
    "   \n",
    "\n",
    "print(f\"The sum of all the numbers entered is: {sum_numbers}\")"
   ]
  },
  {
   "cell_type": "code",
   "execution_count": 7,
   "id": "f839d163",
   "metadata": {},
   "outputs": [
    {
     "name": "stdout",
     "output_type": "stream",
     "text": [
      "Enter a number (enter 0 to finish): 2\n",
      "Enter a number (enter 0 to finish): 2\n",
      "Enter a number (enter 0 to finish): 0\n",
      "4.0\n"
     ]
    }
   ],
   "source": [
    "sum_numbers = 0\n",
    "num = None\n",
    "\n",
    "\n",
    "while num != 0:\n",
    "   \n",
    "        num = float(input(\"Enter a number (enter 0 to finish): \"))\n",
    "        sum_numbers += num\n",
    "   \n",
    "\n",
    "print(sum_numbers)"
   ]
  },
  {
   "cell_type": "code",
   "execution_count": 8,
   "id": "244b7351",
   "metadata": {},
   "outputs": [
    {
     "name": "stdout",
     "output_type": "stream",
     "text": [
      "Enter a number (enter 0 to finish): 2\n",
      "Enter a number (enter 0 to finish): 3\n",
      "Enter a number (enter 0 to finish): 5\n",
      "Enter a number (enter 0 to finish): 6\n",
      "Enter a number (enter 0 to finish): 2\n",
      "Enter a number (enter 0 to finish): 6\n",
      "Enter a number (enter 0 to finish): 9\n",
      "Enter a number (enter 0 to finish): 0\n",
      "even_count is  5\n",
      "odd_count is 3\n"
     ]
    }
   ],
   "source": [
    "sum_numbers = 0\n",
    "num = None\n",
    "even_count,odd_count=0,0\n",
    "\n",
    "while num != 0:\n",
    "   \n",
    "        num = int(input(\"Enter a number (enter 0 to finish): \"))\n",
    "        #for item in num:\n",
    "        \n",
    "        if num % 2==0:\n",
    "            even_count +=1\n",
    "        else:\n",
    "            odd_count +=1\n",
    "print(\"even_count is \" , even_count)   \n",
    "print(\"odd_count is\", odd_count ) \n",
    "        #sum_numbers += num\n",
    "   \n",
    "\n",
    "#print(sum_numbers)"
   ]
  },
  {
   "cell_type": "markdown",
   "id": "76f730b9",
   "metadata": {},
   "source": [
    "#### num=tuple(map(int, input(\"enter the number : \").split(\",\")))\n",
    "for item in num:\n",
    "    even_count,odd_count=0,0\n",
    "    if item % 2==0:\n",
    "        even_count +=1\n",
    "    else:\n",
    "        odd_count +=1\n",
    "print(\"even_count is \" , even_count)   \n",
    "print(\"odd_count is\", odd_count ) "
   ]
  },
  {
   "cell_type": "code",
   "execution_count": 4,
   "id": "cc415bf4",
   "metadata": {},
   "outputs": [
    {
     "name": "stdout",
     "output_type": "stream",
     "text": [
      "('c', 'e', 'g')\n"
     ]
    }
   ],
   "source": [
    "a = (\"a\", \"b\", \"c\", \"d\", \"e\", \"f\", \"g\", \"h\")\n",
    "x = slice(2,8,2)\n",
    "print(a[x])\n"
   ]
  },
  {
   "cell_type": "code",
   "execution_count": 6,
   "id": "299a2384",
   "metadata": {},
   "outputs": [
    {
     "name": "stdout",
     "output_type": "stream",
     "text": [
      "[1, 4, 7]\n"
     ]
    }
   ],
   "source": [
    "print(list(range(1,8,3)))"
   ]
  },
  {
   "cell_type": "code",
   "execution_count": 26,
   "id": "806518fd",
   "metadata": {},
   "outputs": [
    {
     "name": "stdout",
     "output_type": "stream",
     "text": [
      "6\n",
      "0.2852204210310447\n",
      "9\n"
     ]
    }
   ],
   "source": [
    "import random\n",
    "dir(random)\n",
    "print(random.randrange(1,10))\n",
    "print(random.random())\n",
    "print(random.randint(3, 9))"
   ]
  },
  {
   "cell_type": "code",
   "execution_count": 32,
   "id": "41a5af0f",
   "metadata": {},
   "outputs": [
    {
     "name": "stdout",
     "output_type": "stream",
     "text": [
      "0.8444218515250481\n"
     ]
    }
   ],
   "source": [
    "random.seed(0)\n",
    "print(random.random())\n"
   ]
  },
  {
   "cell_type": "code",
   "execution_count": 18,
   "id": "8c4cd695",
   "metadata": {},
   "outputs": [
    {
     "name": "stdout",
     "output_type": "stream",
     "text": [
      "['h', 'u', 'm', 'a', 'n']\n"
     ]
    }
   ],
   "source": [
    "letters = list(map(lambda x: x, 'human'))\n",
    "print(letters)"
   ]
  },
  {
   "cell_type": "code",
   "execution_count": 22,
   "id": "fbf9f622",
   "metadata": {},
   "outputs": [
    {
     "name": "stdout",
     "output_type": "stream",
     "text": [
      "[<map object at 0x0000015317D920D0>]\n"
     ]
    }
   ],
   "source": [
    "letters = [(map(lambda x: x, 'human'))]\n",
    "print(list(letters))"
   ]
  },
  {
   "cell_type": "code",
   "execution_count": 25,
   "id": "c608a057",
   "metadata": {},
   "outputs": [
    {
     "name": "stdout",
     "output_type": "stream",
     "text": [
      "Input a letter of the alphabet: s\n",
      "s is a consonant.\n"
     ]
    }
   ],
   "source": [
    "l = input(\"Input a letter of the alphabet: \")\n",
    "\n",
    "if l in ('a', 'e', 'i', 'o', 'u'):\n",
    "\tprint(\"%s is a vowel.\" % l)\n",
    "elif l == 'y':\n",
    "\tprint(\"Sometimes letter y stand for vowel, sometimes stand for consonant.\")\n",
    "else:\n",
    "\tprint(\"%s is a consonant.\" % l) "
   ]
  },
  {
   "cell_type": "code",
   "execution_count": 4,
   "id": "b33385df",
   "metadata": {},
   "outputs": [
    {
     "name": "stdout",
     "output_type": "stream",
     "text": [
      "not leap year\n"
     ]
    }
   ],
   "source": [
    "year=2006\n",
    "if year%4==0:\n",
    "    print(\"leap year\")\n",
    "else:\n",
    "    print(\"not leap year\")\n"
   ]
  },
  {
   "cell_type": "code",
   "execution_count": null,
   "id": "c119e2f0",
   "metadata": {},
   "outputs": [
    {
     "name": "stdout",
     "output_type": "stream",
     "text": [
      "Enter a number: 4\n",
      "Enter a number: 5\n"
     ]
    }
   ],
   "source": [
    "# program to calculate the sum of numbers\n",
    "# until the user enters zero\n",
    "\n",
    "total = 0\n",
    "number = int(input('Enter a number: '))\n",
    "\n",
    "# add numbers until number is zero\n",
    "while number != 0:\n",
    "    total += number    # total = total + number\n",
    "    \n",
    "    # take integer input again\n",
    "    number = int(input('Enter a number: '))\n",
    "    \n",
    "\n",
    "print('total =', total)"
   ]
  },
  {
   "cell_type": "markdown",
   "id": "5b067545",
   "metadata": {},
   "source": [
    "# for loop"
   ]
  },
  {
   "cell_type": "code",
   "execution_count": 14,
   "id": "9fe76c66",
   "metadata": {
    "collapsed": true
   },
   "outputs": [
    {
     "name": "stdout",
     "output_type": "stream",
     "text": [
      "b\n",
      "a\n",
      "n\n",
      "a\n",
      "n\n",
      "a\n"
     ]
    }
   ],
   "source": [
    "for x in \"banana\":\n",
    "    \n",
    "    \n",
    "    print(x)\n"
   ]
  },
  {
   "cell_type": "code",
   "execution_count": 12,
   "id": "f517975b",
   "metadata": {},
   "outputs": [
    {
     "name": "stdout",
     "output_type": "stream",
     "text": [
      "b,a,n,a,n,a,"
     ]
    }
   ],
   "source": [
    "for x in \"banana\":\n",
    "    print(x,end=\",\")\n"
   ]
  },
  {
   "cell_type": "code",
   "execution_count": 13,
   "id": "1df4df2d",
   "metadata": {},
   "outputs": [
    {
     "name": "stdout",
     "output_type": "stream",
     "text": [
      "1\n",
      "2\n",
      "3\n",
      "4\n",
      "5\n"
     ]
    }
   ],
   "source": [
    "l=[1,2,3,4,5]\n",
    "for i in l:\n",
    "    print(i)\n"
   ]
  },
  {
   "cell_type": "code",
   "execution_count": 7,
   "id": "7de73662",
   "metadata": {},
   "outputs": [
    {
     "name": "stdout",
     "output_type": "stream",
     "text": [
      "apple\n",
      "banana\n",
      "cherry\n"
     ]
    }
   ],
   "source": [
    "fruits = [\"apple\", \"banana\", \"cherry\"]\n",
    "for x in fruits:\n",
    "    print(x)\n",
    "\n"
   ]
  },
  {
   "cell_type": "code",
   "execution_count": 8,
   "id": "f1b96eeb",
   "metadata": {},
   "outputs": [
    {
     "name": "stdout",
     "output_type": "stream",
     "text": [
      "apple\n",
      "banana\n"
     ]
    }
   ],
   "source": [
    "fruits = [\"apple\", \"banana\", \"cherry\"]\n",
    "for x in fruits:\n",
    "\n",
    "    print(x)\n",
    "    if x == \"banana\":\n",
    "        break\n",
    "    \n"
   ]
  },
  {
   "cell_type": "code",
   "execution_count": 2,
   "id": "b464e245",
   "metadata": {},
   "outputs": [
    {
     "name": "stdout",
     "output_type": "stream",
     "text": [
      "apple\n"
     ]
    }
   ],
   "source": [
    "fruits = [\"apple\", \"banana\", \"cherry\"]\n",
    "for x in fruits:\n",
    "    if x == \"banana\":\n",
    "        break\n",
    "    print(x)\n"
   ]
  },
  {
   "cell_type": "code",
   "execution_count": 14,
   "id": "2856936a",
   "metadata": {},
   "outputs": [
    {
     "name": "stdout",
     "output_type": "stream",
     "text": [
      "b\n",
      "a\n"
     ]
    }
   ],
   "source": [
    "a=\"banfana\"\n",
    "for r in a:\n",
    "    if r==\"n\":\n",
    "        break\n",
    "    print(r)"
   ]
  },
  {
   "cell_type": "code",
   "execution_count": 38,
   "id": "9431771b",
   "metadata": {},
   "outputs": [
    {
     "name": "stdout",
     "output_type": "stream",
     "text": [
      "apple\n",
      "cherry\n"
     ]
    }
   ],
   "source": [
    "fruits = [\"apple\", \"banana\", \"cherry\"]\n",
    "for x in fruits:\n",
    "    if x == \"banana\":\n",
    "        continue\n",
    "    print(x)\n"
   ]
  },
  {
   "cell_type": "code",
   "execution_count": 9,
   "id": "f56de876",
   "metadata": {},
   "outputs": [
    {
     "name": "stdout",
     "output_type": "stream",
     "text": [
      "g\n",
      "e\n",
      "out of for loop\n"
     ]
    }
   ],
   "source": [
    "s= \"geeksforgeeks\"\n",
    "for letter in s:\n",
    "\tprint(letter)\n",
    "\tif letter == \"e\" or letter ==\"s\":\n",
    "\t\tbreak\n",
    "print(\"out of for loop\")\n"
   ]
  },
  {
   "cell_type": "code",
   "execution_count": 16,
   "id": "fbc84bbb",
   "metadata": {
    "collapsed": true
   },
   "outputs": [
    {
     "name": "stdout",
     "output_type": "stream",
     "text": [
      "11\n",
      "21\n",
      "31\n",
      "41\n",
      "51\n"
     ]
    }
   ],
   "source": [
    "nums=[10,20,30,40,50]\n",
    "for i in nums:\n",
    "    \n",
    "    i=i+1\n",
    "    print(i)\n",
    "    \n",
    "    \n",
    "    \n",
    " #for loop   \n",
    "    \n",
    "    \n",
    "    \n",
    "    "
   ]
  },
  {
   "cell_type": "code",
   "execution_count": 10,
   "id": "2dff5ad9",
   "metadata": {
    "scrolled": true
   },
   "outputs": [
    {
     "name": "stdout",
     "output_type": "stream",
     "text": [
      "0\n",
      "2\n",
      "4\n",
      "6\n"
     ]
    }
   ],
   "source": [
    "for y in range(0,7,2):\n",
    "    print(y)\n"
   ]
  },
  {
   "cell_type": "code",
   "execution_count": null,
   "id": "48f391d2",
   "metadata": {},
   "outputs": [],
   "source": []
  },
  {
   "cell_type": "code",
   "execution_count": 12,
   "id": "3aaec9b5",
   "metadata": {},
   "outputs": [
    {
     "name": "stdout",
     "output_type": "stream",
     "text": [
      "[0, 15, 30, 45, 60, 75, 90]\n"
     ]
    }
   ],
   "source": [
    "List=[]\n",
    "\n",
    "\n",
    "for L in range(0,100):\n",
    "    if L % 3==0 and L % 5==0:\n",
    "        List+=[L]\n",
    "       \n",
    "    \n",
    "print(List)\n",
    "    \n"
   ]
  },
  {
   "cell_type": "code",
   "execution_count": 16,
   "id": "0564de7f",
   "metadata": {},
   "outputs": [
    {
     "name": "stdout",
     "output_type": "stream",
     "text": [
      " 2 x  1 = 2\n",
      " 2 x  2 = 4\n",
      " 2 x  3 = 6\n",
      " 2 x  4 = 8\n",
      " 2 x  5 = 10\n",
      " 2 x  6 = 12\n",
      " 2 x  7 = 14\n",
      " 2 x  8 = 16\n",
      " 2 x  9 = 18\n",
      " 2 x  10 = 20\n"
     ]
    }
   ],
   "source": [
    "n = 2\n",
    "\n",
    "for i in range(1, 11):\n",
    "    \n",
    "    product = n * i\n",
    "    print(\" 2 x \",i,\"=\",product)"
   ]
  },
  {
   "cell_type": "code",
   "execution_count": 11,
   "id": "69016ff7",
   "metadata": {
    "collapsed": true
   },
   "outputs": [
    {
     "name": "stdout",
     "output_type": "stream",
     "text": [
      "0\n",
      "1\n",
      "2\n",
      "3\n",
      "4\n",
      "5\n",
      "6\n",
      "7\n",
      "8\n",
      "9\n"
     ]
    }
   ],
   "source": []
  },
  {
   "cell_type": "code",
   "execution_count": 22,
   "id": "1d273515",
   "metadata": {},
   "outputs": [
    {
     "name": "stdout",
     "output_type": "stream",
     "text": [
      "Even numbers: [0, 2, 4, 6, 8, 10, 12, 14, 16, 18, 20, 22, 24, 26, 28, 30, 32, 34, 36, 38, 40, 42, 44, 46, 48, 50]\n",
      "odd numbers: [1, 3, 5, 7, 9, 11, 13, 15, 17, 19, 21, 23, 25, 27, 29, 31, 33, 35, 37, 39, 41, 43, 45, 47, 49]\n"
     ]
    }
   ],
   "source": [
    "num = list(range(0, 51))\n",
    "#print(num)\n",
    "\n",
    "le = []\n",
    "lo=[]\n",
    "\n",
    "for n in num:\n",
    "    if n % 2 == 0:\n",
    "        #le.append(n)\n",
    "        le+=[n]\n",
    "        \n",
    "    else:\n",
    "        lo+=[n]\n",
    "        \n",
    "        \n",
    "\n",
    "print(\"Even numbers:\", le)\n",
    "print(\"odd numbers:\", lo)\n",
    "\n"
   ]
  },
  {
   "cell_type": "code",
   "execution_count": 17,
   "id": "0b0e769c",
   "metadata": {},
   "outputs": [
    {
     "name": "stdout",
     "output_type": "stream",
     "text": [
      "Enter a string: veena\n",
      "The number of vowels in the string is: 3\n"
     ]
    }
   ],
   "source": [
    "\n",
    "s = input(\"Enter a string: \")\n",
    "\n",
    "\n",
    "vowel_count = 0\n",
    "\n",
    "\n",
    "vowels = {'a', 'e', 'i', 'o', 'u'}\n",
    "\n",
    "\n",
    "s_lower = s.lower()\n",
    "\n",
    "\n",
    "for char in s_lower:\n",
    "    if char in vowels:\n",
    "        vowel_count += 1\n",
    "\n",
    "\n",
    "print(\"The number of vowels in the string is:\", vowel_count)\n"
   ]
  },
  {
   "cell_type": "code",
   "execution_count": 26,
   "id": "c918daef",
   "metadata": {},
   "outputs": [
    {
     "name": "stdout",
     "output_type": "stream",
     "text": [
      "Even numbers: [0, 2, 4, 6, 8, 10, 12, 14, 16, 18, 20, 22, 24, 26, 28, 30, 32, 34, 36, 38, 40, 42, 44, 46, 48, 50]\n",
      "Odd numbers: [1, 3, 5, 7, 9, 11, 13, 15, 17, 19, 21, 23, 25, 27, 29, 31, 33, 35, 37, 39, 41, 43, 45, 47, 49]\n"
     ]
    }
   ],
   "source": [
    "num = list(range(0,51))\n",
    "\n",
    "\n",
    "le = []\n",
    "lo=[]\n",
    "\n",
    "for n in num:\n",
    "    if n % 2 == 0:\n",
    "        le+=[n]\n",
    "    else:\n",
    "        lo+=[n]\n",
    "\n",
    "print(\"Even numbers:\", le)\n",
    "print(\"Odd numbers:\", lo)"
   ]
  },
  {
   "cell_type": "code",
   "execution_count": 18,
   "id": "baace5a8",
   "metadata": {},
   "outputs": [
    {
     "name": "stdout",
     "output_type": "stream",
     "text": [
      "*\n",
      "**\n",
      "***\n",
      "****\n",
      "*****\n"
     ]
    }
   ],
   "source": [
    "rows = 5\n",
    "\n",
    "for i in range(1, rows + 1):\n",
    "    print('*' * i)"
   ]
  },
  {
   "cell_type": "code",
   "execution_count": 1,
   "id": "df8daa41",
   "metadata": {},
   "outputs": [
    {
     "name": "stdout",
     "output_type": "stream",
     "text": [
      "o\n",
      "oo\n",
      "ooo\n",
      "oooo\n",
      "ooooo\n"
     ]
    }
   ],
   "source": [
    "\n",
    "\n",
    "for i in range(1,6):\n",
    "    print('o' * i)"
   ]
  },
  {
   "cell_type": "code",
   "execution_count": 2,
   "id": "8665594b",
   "metadata": {},
   "outputs": [
    {
     "name": "stdout",
     "output_type": "stream",
     "text": [
      "* * * * * \n",
      ", * * * * \n",
      ", , * * * \n",
      ", , , * * \n",
      ", , , , * \n"
     ]
    }
   ],
   "source": [
    " # Change this value to set the number of rows in the inverse pyramid\n",
    "\n",
    "for i in range(5,0, -1):\n",
    "    print(\", \" * (5 - i) + \"* \" * i)"
   ]
  },
  {
   "cell_type": "code",
   "execution_count": 6,
   "id": "994ecd88",
   "metadata": {},
   "outputs": [
    {
     "name": "stdout",
     "output_type": "stream",
     "text": [
      "  *\n",
      "   **\n",
      "    ***\n",
      "     ****\n",
      "      *****\n"
     ]
    }
   ],
   "source": [
    "n=1\n",
    "for i in range(n,6):\n",
    "    print(\" \" *(n+i)+\"*\"*i)"
   ]
  },
  {
   "cell_type": "code",
   "execution_count": 13,
   "id": "99e8bb46",
   "metadata": {},
   "outputs": [
    {
     "name": "stdout",
     "output_type": "stream",
     "text": [
      "* * * * * \n",
      "* * * * \n",
      "* * * \n",
      "* * \n",
      "* \n"
     ]
    }
   ],
   "source": [
    "# Change this value to set the number of rows in the inverse pyramid\n",
    "\n",
    "for i in range(5, 0, -1):\n",
    "    print(\"\" * (5 - i) + \"* \" * i)"
   ]
  },
  {
   "cell_type": "code",
   "execution_count": 9,
   "id": "f9aa00f4",
   "metadata": {},
   "outputs": [
    {
     "name": "stdout",
     "output_type": "stream",
     "text": [
      "kkkkkk\n"
     ]
    }
   ],
   "source": [
    "print(\"k\"*6)"
   ]
  },
  {
   "cell_type": "code",
   "execution_count": 5,
   "id": "42aafc4a",
   "metadata": {},
   "outputs": [
    {
     "name": "stdout",
     "output_type": "stream",
     "text": [
      "* * * * * \n",
      "* * * * \n",
      "* * * \n",
      "* * \n",
      "* \n"
     ]
    }
   ],
   "source": [
    "for i in range(5, 0, -1):\n",
    "    print(\"* \" * i)\n",
    "    "
   ]
  },
  {
   "cell_type": "code",
   "execution_count": 11,
   "id": "83214944",
   "metadata": {},
   "outputs": [
    {
     "name": "stdout",
     "output_type": "stream",
     "text": [
      "5 4 3 2 1 \n",
      "4 3 2 1 \n",
      "3 2 1 \n",
      "2 1 \n",
      "1 \n"
     ]
    }
   ],
   "source": [
    "rows = 5\n",
    "\n",
    "for i in range(rows, 0, -1):\n",
    "    for j in range(i, 0, -1):\n",
    "        print(j, end=\" \")\n",
    "    print()\n"
   ]
  },
  {
   "cell_type": "code",
   "execution_count": 19,
   "id": "1a7ea5e0",
   "metadata": {},
   "outputs": [
    {
     "name": "stdout",
     "output_type": "stream",
     "text": [
      "55\n"
     ]
    }
   ],
   "source": [
    "\n",
    "given_number = 10\n",
    " \n",
    "\n",
    "sum = 0\n",
    " \n",
    "\n",
    "for i in range(1,given_number+1):\n",
    "        sum+=i\n",
    " \n",
    "\n",
    "print(sum)"
   ]
  },
  {
   "cell_type": "code",
   "execution_count": 12,
   "id": "dbac585c",
   "metadata": {},
   "outputs": [
    {
     "name": "stdout",
     "output_type": "stream",
     "text": [
      "1 is an odd number.\n",
      "3 is an odd number.\n",
      "5 is an odd number.\n",
      "6 is an even number.\n",
      "99 is an odd number.\n",
      "134 is an even number.\n",
      "55 is an odd number.\n"
     ]
    }
   ],
   "source": [
    "# given list of numbers\n",
    "num_list = [1,3,5,6,99,134,55]\n",
    " \n",
    " \n",
    "# iterate through the list elemets\n",
    "# using for loop\n",
    "for i in num_list:\n",
    " \n",
    "    # if divided by 2, all even\n",
    "    # number leave a remainder of 0\n",
    "    if i%2==0:\n",
    "        print(i,\"is an even number.\")\n",
    " \n",
    "    # if remainder is not zero\n",
    "    # then it's an odd number\n",
    "    else:\n",
    "        print(i,\"is an odd number.\")"
   ]
  },
  {
   "cell_type": "markdown",
   "id": "b321d748",
   "metadata": {},
   "source": [
    "print(j, end=\" \"): Prints the current value of j with a space as the separator, effectively printing the numbers from the current value of i down to 1 in each row.\n",
    "\n",
    "print(): Prints a newline after each inner loop iteration, moving to the next line to form the pattern."
   ]
  },
  {
   "cell_type": "code",
   "execution_count": 12,
   "id": "68e59c67",
   "metadata": {},
   "outputs": [
    {
     "name": "stdout",
     "output_type": "stream",
     "text": [
      "('apple', 'fruits')\n",
      "('banana', 'fruits')\n",
      "('cherry', 'fruits')\n"
     ]
    }
   ],
   "source": [
    "fruits=[\"apple\",\"banana\",\"cherry\"]\n",
    "for x in fruits:\n",
    "    x=(x,'fruits')\n",
    "    print(x)\n",
    "    "
   ]
  },
  {
   "cell_type": "markdown",
   "id": "5cddd779",
   "metadata": {},
   "source": [
    "# listcomprehsion"
   ]
  },
  {
   "cell_type": "code",
   "execution_count": 4,
   "id": "fb599713",
   "metadata": {},
   "outputs": [
    {
     "name": "stdout",
     "output_type": "stream",
     "text": [
      "['car', 'Scooter']\n"
     ]
    }
   ],
   "source": [
    "vehicles=['car','bus','Scooter','Van']\n",
    "newlist=[]\n",
    "\n",
    "for x in vehicles:\n",
    "    \n",
    "    \n",
    "    if 'r' in x:\n",
    "        newlist.append(x)\n",
    "print(newlist)\n",
    "        "
   ]
  },
  {
   "cell_type": "code",
   "execution_count": 41,
   "id": "d2ae1536",
   "metadata": {},
   "outputs": [
    {
     "data": {
      "text/plain": [
       "['car', 'Scooter']"
      ]
     },
     "execution_count": 41,
     "metadata": {},
     "output_type": "execute_result"
    }
   ],
   "source": [
    "vehicles=['car','bus','Scooter','Van']\n",
    "new_list=[x for x in vehicles if 'r'in x]\n",
    "new_list"
   ]
  },
  {
   "cell_type": "code",
   "execution_count": 13,
   "id": "59246feb",
   "metadata": {},
   "outputs": [
    {
     "name": "stdout",
     "output_type": "stream",
     "text": [
      "['apple', 'banana', 'mango']\n"
     ]
    }
   ],
   "source": [
    "fruits = [\"apple\", \"banana\", \"cherry\", \"kiwi\", \"mango\"]\n",
    "newlist = [x for x in fruits if \"a\" in x]\n",
    "print(newlist)\n"
   ]
  },
  {
   "cell_type": "code",
   "execution_count": 42,
   "id": "cd139ac7",
   "metadata": {},
   "outputs": [
    {
     "name": "stdout",
     "output_type": "stream",
     "text": [
      "thankyou\n",
      "thankyou\n",
      "thankyou\n",
      "thankyou\n",
      "thankyou\n",
      "thankyou\n",
      "thankyou\n",
      "thankyou\n"
     ]
    }
   ],
   "source": [
    "for number in range(8):\n",
    "    print(\"thankyou\")"
   ]
  },
  {
   "cell_type": "code",
   "execution_count": 4,
   "id": "1107abab",
   "metadata": {
    "scrolled": true
   },
   "outputs": [
    {
     "name": "stdout",
     "output_type": "stream",
     "text": [
      "h\n",
      "e\n",
      "l\n",
      "l\n",
      "o\n"
     ]
    }
   ],
   "source": [
    "for c in 'hello':\n",
    "    print(c)"
   ]
  },
  {
   "cell_type": "code",
   "execution_count": 43,
   "id": "c3bc45fa",
   "metadata": {},
   "outputs": [
    {
     "name": "stdout",
     "output_type": "stream",
     "text": [
      "(1, 'one')\n",
      "(2, 'two')\n"
     ]
    }
   ],
   "source": [
    "numNames={1:'one',2:'two'}\n",
    "for pai in numNames.items():\n",
    "    print(pai)"
   ]
  },
  {
   "cell_type": "code",
   "execution_count": 6,
   "id": "94276bc6",
   "metadata": {},
   "outputs": [
    {
     "name": "stdout",
     "output_type": "stream",
     "text": [
      "(1, 'one')\n",
      "(2, 'two')\n"
     ]
    }
   ],
   "source": [
    "numNames={1:'one',2:'two'}\n",
    "for pair in numNames.items():\n",
    "    print(pair)"
   ]
  },
  {
   "cell_type": "code",
   "execution_count": 15,
   "id": "1af58198",
   "metadata": {},
   "outputs": [
    {
     "name": "stdout",
     "output_type": "stream",
     "text": [
      "key= 1 , values=  one\n",
      "key= 2 , values=  two\n"
     ]
    }
   ],
   "source": [
    "numNames={1:'one',2:'two'}\n",
    "for k,y in numNames.items():\n",
    "    print(\"key=\",k, \", values= \",y)"
   ]
  },
  {
   "cell_type": "code",
   "execution_count": 12,
   "id": "38bb217b",
   "metadata": {},
   "outputs": [
    {
     "name": "stdout",
     "output_type": "stream",
     "text": [
      "apple\n",
      "banana\n"
     ]
    }
   ],
   "source": [
    "fruits = [\"apple\", \"banana\", \"cherry\"]\n",
    "for x in fruits:\n",
    "    print(x)\n",
    "    if x == \"banana\":\n",
    "        break\n"
   ]
  },
  {
   "cell_type": "code",
   "execution_count": 16,
   "id": "75fc9985",
   "metadata": {},
   "outputs": [
    {
     "name": "stdout",
     "output_type": "stream",
     "text": [
      "apple\n"
     ]
    }
   ],
   "source": [
    "fruits = [\"apple\", \"banana\", \"cherry\"]\n",
    "for x in fruits:\n",
    "    if x == \"banana\":\n",
    "        break\n",
    "    print(x)\n"
   ]
  },
  {
   "cell_type": "markdown",
   "id": "7077e02c",
   "metadata": {},
   "source": [
    "# range"
   ]
  },
  {
   "cell_type": "code",
   "execution_count": 3,
   "id": "1d28e04b",
   "metadata": {},
   "outputs": [
    {
     "name": "stdout",
     "output_type": "stream",
     "text": [
      "range(0, 10)\n"
     ]
    }
   ],
   "source": [
    "print(range(10))"
   ]
  },
  {
   "cell_type": "code",
   "execution_count": 25,
   "id": "570a5cc7",
   "metadata": {},
   "outputs": [
    {
     "name": "stdout",
     "output_type": "stream",
     "text": [
      "[0, 1, 2, 3, 4, 5, 6, 7, 8, 9]\n"
     ]
    }
   ],
   "source": [
    "print(list(range(10)))"
   ]
  },
  {
   "cell_type": "code",
   "execution_count": 4,
   "id": "8ccaf6bf",
   "metadata": {},
   "outputs": [
    {
     "name": "stdout",
     "output_type": "stream",
     "text": [
      "[2, 3, 4, 5, 6, 7]\n"
     ]
    }
   ],
   "source": [
    "print(list(range(2,8)))"
   ]
  },
  {
   "cell_type": "code",
   "execution_count": 23,
   "id": "297c2372",
   "metadata": {},
   "outputs": [
    {
     "name": "stdout",
     "output_type": "stream",
     "text": [
      "[2, 5, 8, 11, 14, 17]\n"
     ]
    }
   ],
   "source": [
    "print(list(range(2,20,3)))"
   ]
  },
  {
   "cell_type": "code",
   "execution_count": 6,
   "id": "e073c558",
   "metadata": {},
   "outputs": [
    {
     "name": "stdout",
     "output_type": "stream",
     "text": [
      "0\n",
      "1\n",
      "2\n",
      "3\n",
      "4\n",
      "5\n"
     ]
    }
   ],
   "source": [
    "x=range(6)\n",
    "for n in x:\n",
    "    print(n)"
   ]
  },
  {
   "cell_type": "code",
   "execution_count": null,
   "id": "4e7e9ab0",
   "metadata": {},
   "outputs": [],
   "source": [
    "# write a programme to check the input number is positive or not, it is positive add 10 to it and pint"
   ]
  },
  {
   "cell_type": "code",
   "execution_count": 8,
   "id": "fc1d97a3",
   "metadata": {},
   "outputs": [
    {
     "name": "stdout",
     "output_type": "stream",
     "text": [
      "enter the number6\n",
      "16 is a positive number\n"
     ]
    }
   ],
   "source": [
    "i=int(input(\"enter the number\"))\n",
    "if i>0:\n",
    "    i=i+10\n",
    "    print(i,\"is a positive number\")\n",
    "    \n",
    "else:\n",
    "    print(i)\n",
    "    "
   ]
  },
  {
   "cell_type": "code",
   "execution_count": 15,
   "id": "bef29b92",
   "metadata": {},
   "outputs": [],
   "source": [
    "# write a programme to take user input of 3 marks.and find the avg of marks\n"
   ]
  },
  {
   "cell_type": "code",
   "execution_count": 30,
   "id": "08cd8290",
   "metadata": {},
   "outputs": [
    {
     "name": "stdout",
     "output_type": "stream",
     "text": [
      "enter a numbers2\n",
      "enter a numbers2\n",
      "enter a numbers2\n",
      "2.0\n"
     ]
    }
   ],
   "source": [
    "num1=eval(input(\"enter a numbers\"))\n",
    "num2=eval(input(\"enter a numbers\"))\n",
    "num3=eval(input(\"enter a numbers\"))\n",
    "average=((num1+num2+num3)/3)\n",
    "print(average)"
   ]
  },
  {
   "cell_type": "code",
   "execution_count": 19,
   "id": "99700710",
   "metadata": {},
   "outputs": [
    {
     "name": "stdout",
     "output_type": "stream",
     "text": [
      "2\n"
     ]
    }
   ],
   "source": [
    "import random\n",
    "\n",
    "print(random.randrange(1,10))\n"
   ]
  },
  {
   "cell_type": "code",
   "execution_count": 23,
   "id": "cc28d129",
   "metadata": {},
   "outputs": [
    {
     "name": "stdout",
     "output_type": "stream",
     "text": [
      "0.8402135930311508\n"
     ]
    }
   ],
   "source": [
    "#Return random number between 0.0 and 1.0:\n",
    "import random\n",
    "\n",
    "print(random.random())\n"
   ]
  },
  {
   "cell_type": "code",
   "execution_count": 25,
   "id": "fa2dc214",
   "metadata": {},
   "outputs": [
    {
     "name": "stdout",
     "output_type": "stream",
     "text": [
      "9\n"
     ]
    }
   ],
   "source": [
    "import random\n",
    "\n",
    "print(random.randint(3, 9))\n"
   ]
  },
  {
   "cell_type": "code",
   "execution_count": 30,
   "id": "a7ee7f00",
   "metadata": {},
   "outputs": [
    {
     "name": "stdout",
     "output_type": "stream",
     "text": [
      "0.5714025946899135\n"
     ]
    }
   ],
   "source": [
    "random.seed(10)\n",
    "print(random.random())\n"
   ]
  },
  {
   "cell_type": "code",
   "execution_count": 39,
   "id": "179c4c83",
   "metadata": {},
   "outputs": [
    {
     "name": "stdout",
     "output_type": "stream",
     "text": [
      "True\n",
      "True\n",
      "True\n",
      "True\n"
     ]
    }
   ],
   "source": [
    "x = 'Hello world'\n",
    "y = {1:'a',2:'b'}\n",
    "print('H' in x)\n",
    "print('hello' not in x)\n",
    "print(1 in y.keys())\n",
    "print(\"a\" in y.values())\n"
   ]
  },
  {
   "cell_type": "code",
   "execution_count": 36,
   "id": "22e71f6d",
   "metadata": {},
   "outputs": [
    {
     "name": "stdout",
     "output_type": "stream",
     "text": [
      "True\n"
     ]
    }
   ],
   "source": [
    "y = {1: 'a', 2: 'b'}\n",
    "print('a' in y.values())\n"
   ]
  },
  {
   "cell_type": "code",
   "execution_count": 41,
   "id": "8935bfeb",
   "metadata": {},
   "outputs": [
    {
     "name": "stdout",
     "output_type": "stream",
     "text": [
      "False\n"
     ]
    }
   ],
   "source": [
    "x=20\n",
    "y=20\n",
    "print(x is not  y)\n",
    "\n"
   ]
  },
  {
   "cell_type": "code",
   "execution_count": 44,
   "id": "fae198ae",
   "metadata": {},
   "outputs": [
    {
     "name": "stdout",
     "output_type": "stream",
     "text": [
      "red apple\n",
      "red banana\n",
      "red cherry\n",
      "big apple\n",
      "big banana\n",
      "big cherry\n",
      "tasty apple\n",
      "tasty banana\n",
      "tasty cherry\n"
     ]
    }
   ],
   "source": [
    "adj = [\"red\", \"big\", \"tasty\"]\n",
    "fruits = [\"apple\", \"banana\", \"cherry\"]\n",
    "for x in adj:\n",
    "    \n",
    "    for y in fruits:\n",
    "        print(x, y)\n"
   ]
  },
  {
   "cell_type": "code",
   "execution_count": 46,
   "id": "fd87df1a",
   "metadata": {},
   "outputs": [
    {
     "name": "stdout",
     "output_type": "stream",
     "text": [
      "['red', 'big', 'tasty']\n",
      "['apple', 'banana', 'cherry']\n"
     ]
    }
   ],
   "source": [
    "adj = [\"red\", \"big\", \"tasty\"]\n",
    "fruits = [\"apple\", \"banana\", \"cherry\"]\n",
    "for x in adj,fruits:\n",
    "    print(x)\n",
    "    "
   ]
  },
  {
   "cell_type": "code",
   "execution_count": 41,
   "id": "b53001be",
   "metadata": {},
   "outputs": [
    {
     "data": {
      "text/plain": [
       "4"
      ]
     },
     "execution_count": 41,
     "metadata": {},
     "output_type": "execute_result"
    }
   ],
   "source": [
    "def ab():\n",
    "    a=1\n",
    "    b=3\n",
    "    #c=a+b\n",
    "    return \n",
    "ab()"
   ]
  },
  {
   "cell_type": "code",
   "execution_count": 42,
   "id": "06eaf10b",
   "metadata": {},
   "outputs": [
    {
     "name": "stdout",
     "output_type": "stream",
     "text": [
      "hi\n"
     ]
    }
   ],
   "source": [
    "def printme( str ):\n",
    "    print(str)\n",
    "    #return\n",
    "printme(\"hi\")"
   ]
  },
  {
   "cell_type": "markdown",
   "id": "5d126367",
   "metadata": {},
   "source": [
    "# functions"
   ]
  },
  {
   "cell_type": "code",
   "execution_count": 2,
   "id": "be6724b3",
   "metadata": {},
   "outputs": [
    {
     "name": "stdout",
     "output_type": "stream",
     "text": [
      "hello\n"
     ]
    }
   ],
   "source": [
    "def my_function():\n",
    "    \n",
    "    \n",
    "    \n",
    "    \n",
    "    print(\"hello\")\n",
    "my_function()\n"
   ]
  },
  {
   "cell_type": "code",
   "execution_count": 1,
   "id": "30742089",
   "metadata": {},
   "outputs": [
    {
     "name": "stdout",
     "output_type": "stream",
     "text": [
      "my place is  pallichal  ambalathara\n"
     ]
    }
   ],
   "source": [
    "def veena(place,adress):\n",
    "    print(\"my place is  \"+place+adress)\n",
    "veena(\"pallichal\",\"  ambalathara\")"
   ]
  },
  {
   "cell_type": "code",
   "execution_count": 2,
   "id": "a0561cc5",
   "metadata": {},
   "outputs": [
    {
     "data": {
      "text/plain": [
       "10"
      ]
     },
     "execution_count": 2,
     "metadata": {},
     "output_type": "execute_result"
    }
   ],
   "source": [
    "def add(a,b):\n",
    "    \n",
    "    return a+b\n",
    "add(3,7)\n",
    "    "
   ]
  },
  {
   "cell_type": "code",
   "execution_count": null,
   "id": "86e967e1",
   "metadata": {},
   "outputs": [],
   "source": [
    "def printme( str):\n",
    "\tprint (str,)\n",
    "\t#return;\n",
    "# Now you can call printme function\n",
    "printme(\"I'm first call to user defined function!\")\n",
    "printme(\"Again second call to the same function\")\n"
   ]
  },
  {
   "cell_type": "code",
   "execution_count": 19,
   "id": "e8242e65",
   "metadata": {},
   "outputs": [
    {
     "name": "stdout",
     "output_type": "stream",
     "text": [
      "I'm first call to user defined function!\n",
      "Again second call to the same function\n"
     ]
    }
   ],
   "source": [
    "def printme( str ):\n",
    "\tprint (str)\n",
    "\t#return;\n",
    "# Now you can call printme function\n",
    "printme(\"I'm first call to user defined function!\")\n",
    "printme(\"Again second call to the same function\")\n"
   ]
  },
  {
   "cell_type": "code",
   "execution_count": 3,
   "id": "52a6d152",
   "metadata": {},
   "outputs": [
    {
     "name": "stdout",
     "output_type": "stream",
     "text": [
      "heello,  veena   good morng\n"
     ]
    }
   ],
   "source": [
    "def greet(name):\n",
    "    \n",
    "    print(\"heello,\" +name   , \"  good morng\")\n",
    "greet(name=\"  veena\")"
   ]
  },
  {
   "cell_type": "code",
   "execution_count": 4,
   "id": "ed169a61",
   "metadata": {},
   "outputs": [
    {
     "name": "stdout",
     "output_type": "stream",
     "text": [
      "sum= 3\n"
     ]
    }
   ],
   "source": [
    "def add(a,b):\n",
    "    \n",
    "    c=a+b\n",
    "    print('sum=',c)\n",
    "add(1,2)"
   ]
  },
  {
   "cell_type": "code",
   "execution_count": 5,
   "id": "080b7856",
   "metadata": {},
   "outputs": [
    {
     "name": "stdout",
     "output_type": "stream",
     "text": [
      "enter a numbers2\n",
      "enter a numbers4\n",
      "sum= 6\n"
     ]
    }
   ],
   "source": [
    "a=eval(input(\"enter a numbers\"))\n",
    "b=eval(input(\"enter a numbers\"))\n",
    "def add(a,b):\n",
    "    \n",
    "    c=a+b\n",
    "    print('sum=',c)\n",
    "add(a,b)\n",
    "\n",
    "  "
   ]
  },
  {
   "cell_type": "code",
   "execution_count": 50,
   "id": "acf2c39f",
   "metadata": {},
   "outputs": [
    {
     "name": "stdout",
     "output_type": "stream",
     "text": [
      "hi  good morning\n",
      "hey  good morning\n",
      "hloo  good morning\n"
     ]
    }
   ],
   "source": [
    "def myfunction(name):\n",
    "    print(name+\"  good morning\")\n",
    "myfunction (\"hi\")\n",
    "myfunction(\"hey\")\n",
    "myfunction(\"hloo\")"
   ]
  },
  {
   "cell_type": "code",
   "execution_count": 2,
   "id": "aa7a0be3",
   "metadata": {},
   "outputs": [
    {
     "name": "stdout",
     "output_type": "stream",
     "text": [
      "My string\n"
     ]
    }
   ],
   "source": [
    "def printme( str ):\n",
    "    print (str)\n",
    "    return;\n",
    "# Now you can call printme function\n",
    "printme( str = \"My string\")\n"
   ]
  },
  {
   "cell_type": "code",
   "execution_count": 6,
   "id": "30114740",
   "metadata": {},
   "outputs": [
    {
     "name": "stdout",
     "output_type": "stream",
     "text": [
      "Name:  miki\n",
      "Age  50\n"
     ]
    }
   ],
   "source": [
    "def printinfo( name, age ):\n",
    "    print (\"Name: \", name)\n",
    "    print (\"Age \", age)\n",
    "    return;\n",
    "# Now you can call printinfo function\n",
    "printinfo( age=50, name=\"miki\" )\n"
   ]
  },
  {
   "cell_type": "code",
   "execution_count": 56,
   "id": "94bf3d63",
   "metadata": {},
   "outputs": [
    {
     "name": "stdout",
     "output_type": "stream",
     "text": [
      "Name:  50\n",
      "Age  miki\n"
     ]
    }
   ],
   "source": [
    "def printinfo( name, age ):\n",
    "    print (\"Name: \", name)\n",
    "    print (\"Age \", age)\n",
    "    return;\n",
    "# Now you can call printinfo function\n",
    "printinfo( 50,\"miki\" )\n"
   ]
  },
  {
   "cell_type": "code",
   "execution_count": 5,
   "id": "f5cbc2f7",
   "metadata": {},
   "outputs": [
    {
     "name": "stdout",
     "output_type": "stream",
     "text": [
      "Name:  miki\n",
      "Age  50\n",
      "Name:  miki\n",
      "Age  35\n"
     ]
    }
   ],
   "source": [
    "# Function definition is here\n",
    "def printinfo( name, age = 35 ):\n",
    "    print (\"Name: \", name)\n",
    "    print (\"Age \", age)\n",
    "    #return;\n",
    "# Now you can call printinfo function\n",
    "printinfo( age=50, name=\"miki\" )\n",
    "printinfo( name=\"miki\")\n"
   ]
  },
  {
   "cell_type": "markdown",
   "id": "edf6479d",
   "metadata": {},
   "source": [
    "# types"
   ]
  },
  {
   "cell_type": "raw",
   "id": "5a13b559",
   "metadata": {},
   "source": [
    "In Python, functions can be categorized into different types based on their behavior and purpose. Here are some common types of functions in Python:\n",
    "\n",
    "Built-in Functions: These are functions that are built into the Python language and are available for use without needing to import any modules. Examples include print(), len(), type(), etc.\n",
    "\n",
    "\n",
    "User-defined Functions: These are functions defined by the user to perform specific tasks. You can define your own functions using the def keyword.\n",
    "\n",
    "\n",
    "Anonymous Functions (Lambda Functions): Lambda functions are small, anonymous functions defined using the lambda keyword. They are often used for short, simple operations where defining a full function is unnecessary.\n",
    "\n",
    "\n",
    "Recursive Functions: Recursive functions are functions that call themselves in order to solve a problem. They are particularly useful for tasks that can be broken down into smaller, similar sub-problems.\n",
    "\n",
    "\n",
    "Higher-order Functions: These are functions that can take other functions as arguments or return functions as results. Functions like map(), filter(), and reduce() are examples of higher-order functions in Python."
   ]
  },
  {
   "cell_type": "code",
   "execution_count": null,
   "id": "eabf2609",
   "metadata": {},
   "outputs": [],
   "source": [
    "#recursive"
   ]
  },
  {
   "cell_type": "code",
   "execution_count": 10,
   "id": "594552b0",
   "metadata": {},
   "outputs": [
    {
     "name": "stdout",
     "output_type": "stream",
     "text": [
      "Sum of numbers up to 5 is 15\n"
     ]
    }
   ],
   "source": [
    "def sum_up_to(n):\n",
    "    # Base case: if n is 1, return 1\n",
    "    if n == 1:\n",
    "        return 1\n",
    "    # Recursive case: add n to the sum of numbers up to n-1\n",
    "    else:\n",
    "        return n + sum_up_to(n-1)\n",
    "\n",
    "# Example usage\n",
    "number = 5\n",
    "print(\"Sum of numbers up to\", number, \"is\", sum_up_to(number))\n"
   ]
  },
  {
   "cell_type": "code",
   "execution_count": null,
   "id": "13208097",
   "metadata": {},
   "outputs": [],
   "source": []
  },
  {
   "cell_type": "code",
   "execution_count": null,
   "id": "489b6777",
   "metadata": {},
   "outputs": [],
   "source": []
  },
  {
   "cell_type": "code",
   "execution_count": 25,
   "id": "42b20be8",
   "metadata": {},
   "outputs": [
    {
     "name": "stdout",
     "output_type": "stream",
     "text": [
      "the youngest child is  kiran\n"
     ]
    }
   ],
   "source": [
    "def myfunction(*kids):\n",
    "    print(\"the youngest child is \"+kids[1])\n",
    "myfunction(\"jai\",\" kiran\",\"johaan\")\n"
   ]
  },
  {
   "cell_type": "markdown",
   "id": "84b91942",
   "metadata": {},
   "source": [
    "The format() function in Python is used to format strings or objects into a specific format. It provides a more flexible and powerful way to create formatted strings compared to traditional string concatenation or interpolation. The format() function takes the following basic form:"
   ]
  },
  {
   "cell_type": "code",
   "execution_count": 8,
   "id": "ad419d5c",
   "metadata": {},
   "outputs": [
    {
     "data": {
      "text/plain": [
       "'My name is John. I am 30 years old.'"
      ]
     },
     "execution_count": 8,
     "metadata": {},
     "output_type": "execute_result"
    }
   ],
   "source": [
    "formatted_string = \"My name is {}. I am {} years old.\".format(\"John\", 30)\n",
    "formatted_string "
   ]
  },
  {
   "cell_type": "code",
   "execution_count": 5,
   "id": "3dd00a73",
   "metadata": {},
   "outputs": [
    {
     "name": "stdout",
     "output_type": "stream",
     "text": [
      "Hello jane! are you from paris?\n"
     ]
    }
   ],
   "source": [
    "def myfunction(name,place):\n",
    "    print(f\"Hello{name}! are you from {place}?\")\n",
    "myfunction(\" jane\",\"paris\")"
   ]
  },
  {
   "cell_type": "code",
   "execution_count": 4,
   "id": "75cefd53",
   "metadata": {},
   "outputs": [
    {
     "name": "stdout",
     "output_type": "stream",
     "text": [
      "hi, good morng\n"
     ]
    }
   ],
   "source": [
    "def myfunction(fname,lname):\n",
    "    \n",
    "    print(fname  + \", \" +  lname)\n",
    "myfunction(\"hi\",\"good morng\")"
   ]
  },
  {
   "cell_type": "code",
   "execution_count": 66,
   "id": "0cf86b58",
   "metadata": {},
   "outputs": [
    {
     "name": "stdout",
     "output_type": "stream",
     "text": [
      "enter the number4\n",
      "4 is even number\n"
     ]
    }
   ],
   "source": [
    "num=int(input(\"enter the number\"))\n",
    "if num%2==0:\n",
    "    print(num,'is even number')\n",
    "else:\n",
    "    print(num,'is odd')"
   ]
  },
  {
   "cell_type": "code",
   "execution_count": 6,
   "id": "4fee861a",
   "metadata": {},
   "outputs": [
    {
     "name": "stdout",
     "output_type": "stream",
     "text": [
      "enter a number5\n",
      "5 is odd\n"
     ]
    }
   ],
   "source": [
    "\n",
    "i=int(input(\"enter a number\"))\n",
    "def myfunction(i): \n",
    "    \n",
    "    \n",
    "  if (i)%2==0:\n",
    "    print(i,'is even')\n",
    "  else:\n",
    "    print(i,'is odd')\n",
    "    \n",
    "    \n",
    "#i=int(input(\"enter a number\"))\n",
    "myfunction(i)\n",
    "\n",
    "    \n",
    "    \n"
   ]
  },
  {
   "cell_type": "code",
   "execution_count": 9,
   "id": "3ea42b3c",
   "metadata": {
    "scrolled": true
   },
   "outputs": [
    {
     "name": "stdout",
     "output_type": "stream",
     "text": [
      "enter first numbers2\n",
      "enter second numbers3\n",
      "select the operations:\n",
      "1.addition \n",
      "2.substraction \n",
      "3.multiplication \n",
      "4.division\n",
      "select operation from 1,2,3,4:1\n",
      "2 + 3 = 5\n"
     ]
    }
   ],
   "source": [
    "num1=eval(input(\"enter first numbers\"))\n",
    "num2=eval(input(\"enter second numbers\"))\n",
    "def addition(num1,num2):\n",
    "    return num1+num2\n",
    "def substration(num1,num2):\n",
    "    return num1-num2\n",
    "def multiplication(num1,num2):\n",
    "    return num1*num2\n",
    "def division(num1,num2):\n",
    "    return num1/num2\n",
    "print(\"select the operations:\\n1.addition \\n2.substraction \\n3.multiplication \\n4.division\")\n",
    "\n",
    "choose= int(input('select operation from 1,2,3,4:'))\n",
    "\n",
    "if choose==1:\n",
    "    print(num1,\"+\",num2,'=',addition(num1,num2))\n",
    "\n",
    "elif choose==2:\n",
    "    print(num1,\"-\",num2,'=',substraction(num1,num2))\n",
    "          \n",
    "elif choose==3:\n",
    "    print(num1,\"*\",num2,'=',multiplication(num1,num2))\n",
    "elif choose==4:\n",
    "    print(num1,'/',num2,\"=\",division(num1,num2))\n",
    "else:\n",
    "    print(\"invalid\")\n",
    "\n",
    "\n",
    "  \n",
    "\n"
   ]
  },
  {
   "cell_type": "code",
   "execution_count": 9,
   "id": "5ae39023",
   "metadata": {
    "collapsed": true
   },
   "outputs": [
    {
     "name": "stdout",
     "output_type": "stream",
     "text": [
      "[0, 1, 2, 3, 4, 5, 6, 7, 8, 9, 10, 11, 12, 13, 14, 15, 16, 17, 18, 19, 20, 21, 22, 23, 24, 25, 26, 27, 28, 29, 30, 31, 32, 33, 34, 35, 36, 37, 38, 39, 40, 41, 42, 43, 44, 45, 46, 47, 48, 49, 50]\n"
     ]
    },
    {
     "ename": "TypeError",
     "evalue": "unsupported operand type(s) for %: 'list' and 'int'",
     "output_type": "error",
     "traceback": [
      "\u001b[1;31m---------------------------------------------------------------------------\u001b[0m",
      "\u001b[1;31mTypeError\u001b[0m                                 Traceback (most recent call last)",
      "Cell \u001b[1;32mIn[9], line 4\u001b[0m\n\u001b[0;32m      2\u001b[0m \u001b[38;5;28mprint\u001b[39m(num)\n\u001b[0;32m      3\u001b[0m le\u001b[38;5;241m=\u001b[39m[]\n\u001b[1;32m----> 4\u001b[0m \u001b[38;5;28;01mif\u001b[39;00m (\u001b[43mnum\u001b[49m\u001b[38;5;241;43m%\u001b[39;49m\u001b[38;5;241;43m2\u001b[39;49m\u001b[38;5;241m==\u001b[39m\u001b[38;5;241m0\u001b[39m):\n\u001b[0;32m      5\u001b[0m     le\u001b[38;5;241m+\u001b[39m\u001b[38;5;241m=\u001b[39mnum\n\u001b[0;32m      6\u001b[0m     \u001b[38;5;28mprint\u001b[39m(le)\n",
      "\u001b[1;31mTypeError\u001b[0m: unsupported operand type(s) for %: 'list' and 'int'"
     ]
    }
   ],
   "source": [
    "num=list(range(0,51))\n",
    "print(num)\n",
    "le=[]\n",
    "if (num%2==0):\n",
    "    le+=num\n",
    "    print(le)\n",
    "    \n",
    "else:\n",
    "    (\"Odd Number\")"
   ]
  },
  {
   "cell_type": "markdown",
   "id": "55679a60",
   "metadata": {},
   "source": [
    "writ a programe to create list if all integers less than 100 that are multiply of 3 or 5"
   ]
  },
  {
   "cell_type": "code",
   "execution_count": 68,
   "id": "ab0b7789",
   "metadata": {},
   "outputs": [
    {
     "name": "stdout",
     "output_type": "stream",
     "text": [
      "[0]\n",
      "[15]\n",
      "[30]\n",
      "[45]\n",
      "[60]\n",
      "[75]\n",
      "[90]\n",
      "[0, 15, 30, 45, 60, 75, 90]\n"
     ]
    }
   ],
   "source": [
    "List=[]\n",
    "for L in range(0,100):\n",
    "    if L % 3==0 and L % 5==0:\n",
    "        List+=[L]\n",
    "        print([L])\n",
    "print(List)\n",
    "    \n"
   ]
  },
  {
   "cell_type": "code",
   "execution_count": 69,
   "id": "943d83bd",
   "metadata": {},
   "outputs": [
    {
     "data": {
      "text/plain": [
       "[0,\n",
       " 1,\n",
       " 2,\n",
       " 3,\n",
       " 4,\n",
       " 5,\n",
       " 6,\n",
       " 7,\n",
       " 8,\n",
       " 9,\n",
       " 10,\n",
       " 11,\n",
       " 12,\n",
       " 13,\n",
       " 14,\n",
       " 15,\n",
       " 16,\n",
       " 17,\n",
       " 18,\n",
       " 19,\n",
       " 20,\n",
       " 21,\n",
       " 22,\n",
       " 23,\n",
       " 24,\n",
       " 25,\n",
       " 26,\n",
       " 27,\n",
       " 28,\n",
       " 29,\n",
       " 30,\n",
       " 31,\n",
       " 32,\n",
       " 33,\n",
       " 34,\n",
       " 35,\n",
       " 36,\n",
       " 37,\n",
       " 38,\n",
       " 39,\n",
       " 40,\n",
       " 41,\n",
       " 42,\n",
       " 43,\n",
       " 44,\n",
       " 45,\n",
       " 46,\n",
       " 47,\n",
       " 48,\n",
       " 49,\n",
       " 50,\n",
       " 51,\n",
       " 52,\n",
       " 53,\n",
       " 54,\n",
       " 55,\n",
       " 56,\n",
       " 57,\n",
       " 58,\n",
       " 59,\n",
       " 60,\n",
       " 61,\n",
       " 62,\n",
       " 63,\n",
       " 64,\n",
       " 65,\n",
       " 66,\n",
       " 67,\n",
       " 68,\n",
       " 69,\n",
       " 70,\n",
       " 71,\n",
       " 72,\n",
       " 73,\n",
       " 74,\n",
       " 75,\n",
       " 76,\n",
       " 77,\n",
       " 78,\n",
       " 79,\n",
       " 80,\n",
       " 81,\n",
       " 82,\n",
       " 83,\n",
       " 84,\n",
       " 85,\n",
       " 86,\n",
       " 87,\n",
       " 88,\n",
       " 89,\n",
       " 90,\n",
       " 91,\n",
       " 92,\n",
       " 93,\n",
       " 94,\n",
       " 95,\n",
       " 96,\n",
       " 97,\n",
       " 98,\n",
       " 99]"
      ]
     },
     "execution_count": 69,
     "metadata": {},
     "output_type": "execute_result"
    }
   ],
   "source": [
    "list(range(0,100))"
   ]
  },
  {
   "cell_type": "code",
   "execution_count": 72,
   "id": "9f573029",
   "metadata": {},
   "outputs": [
    {
     "name": "stdout",
     "output_type": "stream",
     "text": [
      "1.2.3.4.5."
     ]
    }
   ],
   "source": [
    "for i in range(1, 6):\n",
    "    print(i, end=\".\") "
   ]
  },
  {
   "cell_type": "code",
   "execution_count": 68,
   "id": "4d94935f",
   "metadata": {},
   "outputs": [
    {
     "name": "stdout",
     "output_type": "stream",
     "text": [
      "Enter number of rows: 2\n",
      "* \n",
      "\n",
      "* * \n",
      "\n"
     ]
    }
   ],
   "source": [
    "rows = int(input(\"Enter number of rows: \"))\n",
    "\n",
    "for i in range(rows):\n",
    "    \n",
    "    for j in range(i+1):\n",
    "        print(\"* \",end=\"\")\n",
    "    print(\"\\n\")"
   ]
  },
  {
   "cell_type": "code",
   "execution_count": 13,
   "id": "9e876ed3",
   "metadata": {},
   "outputs": [
    {
     "name": "stdout",
     "output_type": "stream",
     "text": [
      "enter datai love rose\n",
      "Input: \"i love rose\", Doubled characters: \"ii  lloovvee  rroossee\"\n"
     ]
    }
   ],
   "source": [
    "def double_characters(input_string):\n",
    "    doubled_string = ''.join([char * 2 for char in input_string])\n",
    "    return doubled_string\n",
    "\n",
    "# Test the function\n",
    "input_1 =input(\"enter data\")\n",
    "#input_2 = \"123a!\"\n",
    "\n",
    "result_1 = double_characters(input_1)\n",
    "#result_2 = double_characters(input_2)\n",
    "\n",
    "print(f'Input: \"{input_1}\", Doubled characters: \"{result_1}\"')\n",
    "#print(f'Input: \"{input_2}\", Doubled characters: \"{result_2}\"')\n"
   ]
  },
  {
   "cell_type": "code",
   "execution_count": 73,
   "id": "ae9ac693",
   "metadata": {},
   "outputs": [
    {
     "name": "stdout",
     "output_type": "stream",
     "text": [
      "What is the weather like outside? (sunny, rainy, snowy): sunny\n",
      "Weather is sunny! You may want to wear sneakers.\n"
     ]
    }
   ],
   "source": [
    "# Function to suggest footwear for sunny weather\n",
    "def sunny_weather():\n",
    "    print(\"Weather is sunny! You may want to wear sneakers.\")\n",
    "\n",
    "# Function to suggest footwear for rainy weather\n",
    "def rainy_weather():\n",
    "    print(\"Weather is rainy! You may want to wear gumboots.\")\n",
    "\n",
    "# Function to suggest footwear for snowy weather\n",
    "def snowy_weather():\n",
    "    print(\"Weather is snowy! You may want to wear boots.\")\n",
    "\n",
    "# Get user input for the weather\n",
    "weather = input(\"What is the weather like outside? (sunny, rainy, snowy): \").lower()\n",
    "\n",
    "# Check the weather and suggest footwear accordingly\n",
    "if weather == \"sunny\":\n",
    "    sunny_weather()\n",
    "elif weather == \"rainy\":\n",
    "    rainy_weather()\n",
    "elif weather == \"snowy\":\n",
    "    snowy_weather()\n",
    "else:\n",
    "    print(\"Invalid input! Please enter either sunny, rainy, or snowy.\")\n"
   ]
  },
  {
   "cell_type": "code",
   "execution_count": 15,
   "id": "c1b3eeb6",
   "metadata": {},
   "outputs": [
    {
     "name": "stdout",
     "output_type": "stream",
     "text": [
      "Favorite book: 'The History of Bhutan' by Karma Phuntsho\n"
     ]
    }
   ],
   "source": [
    "def favorite_book(title, author):\n",
    "    print(f\"Favorite book: '{title}' by {author}\")\n",
    "\n",
    "# Call the function with book title and author as arguments\n",
    "favorite_book(\"The History of Bhutan\", \"Karma Phuntsho\")\n"
   ]
  },
  {
   "cell_type": "markdown",
   "id": "6ea6a800",
   "metadata": {},
   "source": [
    "PROGM TO DISPLAY THE FEBINOCCI SEQUENCE UP TO NTH TERM"
   ]
  },
  {
   "cell_type": "code",
   "execution_count": 1,
   "id": "68973060",
   "metadata": {},
   "outputs": [
    {
     "name": "stdout",
     "output_type": "stream",
     "text": [
      "enter range5\n",
      "FIBONOCCI SERIES ARE\n",
      "1\n",
      "2\n",
      "3\n",
      "5\n",
      "8\n"
     ]
    }
   ],
   "source": [
    "n=eval(input(\"enter range\"))\n",
    "#num2=eval(input(\"enter second numbers\"))\n",
    "a=0\n",
    "b=1\n",
    "#c=1\n",
    "print(\"FIBONOCCI SERIES ARE\")\n",
    "for i in range (n):\n",
    "    c=a+b\n",
    "    a=b\n",
    "    b=c\n",
    "    print(c)"
   ]
  },
  {
   "cell_type": "code",
   "execution_count": 3,
   "id": "2464cc6f",
   "metadata": {},
   "outputs": [
    {
     "name": "stdout",
     "output_type": "stream",
     "text": [
      "enter frst number1\n",
      "enter second numbers1\n",
      "FIBONOCCI SERIES ARE\n",
      "2\n",
      "3\n",
      "5\n",
      "8\n",
      "13\n"
     ]
    }
   ],
   "source": [
    "n=eval(input(\"enter frst number\"))\n",
    "num2=eval(input(\"enter second numbers\"))\n",
    "# a=0\n",
    "# b=1\n",
    "#c=1\n",
    "print(\"FIBONOCCI SERIES ARE\")\n",
    "for i in range (5):\n",
    "    c=n+num2\n",
    "    n=num2\n",
    "    num2=c\n",
    "    print(c)"
   ]
  },
  {
   "cell_type": "markdown",
   "id": "d8f0946a",
   "metadata": {},
   "source": [
    "# format"
   ]
  },
  {
   "cell_type": "code",
   "execution_count": 3,
   "id": "b6d17309",
   "metadata": {},
   "outputs": [
    {
     "data": {
      "text/plain": [
       "'my name is john, my age is 4 ,iam from kerala,iam graduate fromapjkt university'"
      ]
     },
     "execution_count": 3,
     "metadata": {},
     "output_type": "execute_result"
    }
   ],
   "source": [
    "txt=\"my name is {a}, my age is {b} ,iam from {c},iam graduate from{d} university\".format(a='john',b=4,c='kerala',d='apjkt')\n",
    "txt"
   ]
  },
  {
   "cell_type": "code",
   "execution_count": 65,
   "id": "f859c237",
   "metadata": {},
   "outputs": [
    {
     "data": {
      "text/plain": [
       "'my name is john, my age is 4 ,iam from kerala,iam graduate from apjkt university'"
      ]
     },
     "execution_count": 65,
     "metadata": {},
     "output_type": "execute_result"
    }
   ],
   "source": [
    "txt=\"my name is {}, my age is {} ,iam from {},iam graduate from {} university\".format('john',4,'kerala','apjkt')\n",
    "txt"
   ]
  },
  {
   "cell_type": "markdown",
   "id": "414b8f38",
   "metadata": {},
   "source": [
    "# lambda"
   ]
  },
  {
   "cell_type": "code",
   "execution_count": 1,
   "id": "ead85b80",
   "metadata": {},
   "outputs": [
    {
     "name": "stdout",
     "output_type": "stream",
     "text": [
      "Value of total :  30\n",
      "Value of total :  40\n"
     ]
    }
   ],
   "source": [
    "sume = lambda arg1, arg2: arg1 + arg2\n",
    "print(\"Value of total : \",sume( 10, 20 ))\n",
    "print(\"Value of total : \",sume( 20, 20 ))\n",
    "\n"
   ]
  },
  {
   "cell_type": "code",
   "execution_count": 13,
   "id": "c803bac5",
   "metadata": {},
   "outputs": [
    {
     "name": "stdout",
     "output_type": "stream",
     "text": [
      "11\n"
     ]
    }
   ],
   "source": [
    "x = lambda a:a+1\n",
    "print(x(10))"
   ]
  },
  {
   "cell_type": "code",
   "execution_count": 9,
   "id": "fc6e8bb0",
   "metadata": {},
   "outputs": [
    {
     "name": "stdout",
     "output_type": "stream",
     "text": [
      "8\n"
     ]
    }
   ],
   "source": [
    "x= lambda a,b:a+b\n",
    "print(x(3,5))"
   ]
  },
  {
   "cell_type": "code",
   "execution_count": 44,
   "id": "0a1fae37",
   "metadata": {},
   "outputs": [
    {
     "name": "stdout",
     "output_type": "stream",
     "text": [
      "9\n"
     ]
    }
   ],
   "source": [
    "x= lambda a,b,c:a+b+c\n",
    "print(x(2,3,4))"
   ]
  },
  {
   "cell_type": "code",
   "execution_count": 4,
   "id": "571e0c73",
   "metadata": {},
   "outputs": [
    {
     "name": "stdout",
     "output_type": "stream",
     "text": [
      "enter the number8\n"
     ]
    }
   ],
   "source": [
    "x=(int(input(\"enter the number\")))\n"
   ]
  },
  {
   "cell_type": "code",
   "execution_count": 22,
   "id": "62e76567",
   "metadata": {},
   "outputs": [
    {
     "data": {
      "text/plain": [
       "20"
      ]
     },
     "execution_count": 22,
     "metadata": {},
     "output_type": "execute_result"
    }
   ],
   "source": [
    "def x(a):\n",
    "    return a+10\n",
    "x(10)"
   ]
  },
  {
   "cell_type": "code",
   "execution_count": 2,
   "id": "51b0a2a2",
   "metadata": {},
   "outputs": [
    {
     "name": "stdout",
     "output_type": "stream",
     "text": [
      "Using function defined with `def` keyword, cube: 125\n",
      "Using lambda function, cube: 729\n"
     ]
    }
   ],
   "source": [
    "def cube(y):\n",
    "\treturn y*y*y\n",
    "\n",
    "lambda_cube = lambda x: x*x*x\n",
    "print(\"Using function defined with `def` keyword, cube:\", cube(5))\n",
    "print(\"Using lambda function, cube:\", lambda_cube(9))\n"
   ]
  },
  {
   "cell_type": "code",
   "execution_count": 3,
   "id": "e9ea2f6b",
   "metadata": {},
   "outputs": [
    {
     "name": "stdout",
     "output_type": "stream",
     "text": [
      "11\n"
     ]
    }
   ],
   "source": [
    "Max = lambda a, b : a if(a > b) else b\n",
    "print(Max(11, 2))\n"
   ]
  },
  {
   "cell_type": "code",
   "execution_count": 8,
   "id": "90bb487f",
   "metadata": {},
   "outputs": [
    {
     "name": "stdout",
     "output_type": "stream",
     "text": [
      "10\n",
      "20\n",
      "30\n",
      "40\n"
     ]
    }
   ],
   "source": [
    "is_even_list = [lambda arg=x: arg * 10 for x in range(1, 5)]\n",
    "for item in is_even_list:\n",
    "    print(item())"
   ]
  },
  {
   "cell_type": "code",
   "execution_count": 11,
   "id": "aa2a4c93",
   "metadata": {},
   "outputs": [
    {
     "data": {
      "text/plain": [
       "[<function __main__.<listcomp>.<lambda>(arg=1)>,\n",
       " <function __main__.<listcomp>.<lambda>(arg=2)>,\n",
       " <function __main__.<listcomp>.<lambda>(arg=3)>,\n",
       " <function __main__.<listcomp>.<lambda>(arg=4)>]"
      ]
     },
     "execution_count": 11,
     "metadata": {},
     "output_type": "execute_result"
    }
   ],
   "source": [
    "is_even_list = [lambda arg=x: arg * 10 for x in range(1, 5)]\n",
    "list(is_even_list)"
   ]
  },
  {
   "cell_type": "code",
   "execution_count": null,
   "id": "3665bfe3",
   "metadata": {},
   "outputs": [],
   "source": []
  },
  {
   "cell_type": "code",
   "execution_count": null,
   "id": "d438d3bb",
   "metadata": {},
   "outputs": [],
   "source": []
  },
  {
   "cell_type": "code",
   "execution_count": 14,
   "id": "41cd5971",
   "metadata": {},
   "outputs": [
    {
     "data": {
      "text/plain": [
       "[<function __main__.<listcomp>.<lambda>(b=1)>,\n",
       " <function __main__.<listcomp>.<lambda>(b=2)>,\n",
       " <function __main__.<listcomp>.<lambda>(b=3)>,\n",
       " <function __main__.<listcomp>.<lambda>(b=4)>]"
      ]
     },
     "execution_count": 14,
     "metadata": {},
     "output_type": "execute_result"
    }
   ],
   "source": [
    "r=[lambda b=x:b*10 for x in range (1,5)]\n",
    "# for item in r:\n",
    "#     print(item())\n",
    "r"
   ]
  },
  {
   "cell_type": "code",
   "execution_count": null,
   "id": "7a42f6e4",
   "metadata": {},
   "outputs": [],
   "source": [
    "for x in range(1, 5):\n",
    "    arg=x*10"
   ]
  },
  {
   "cell_type": "code",
   "execution_count": 12,
   "id": "31d0d404",
   "metadata": {},
   "outputs": [
    {
     "name": "stdout",
     "output_type": "stream",
     "text": [
      "[90, 59, 60]\n"
     ]
    }
   ],
   "source": [
    "ages = [13, 90, 17, 59, 21, 60, 5]\n",
    "adults = list(filter(lambda age: age > 50, ages))\n",
    "\n",
    "print(adults)\n"
   ]
  },
  {
   "cell_type": "code",
   "execution_count": 13,
   "id": "8a694f93",
   "metadata": {},
   "outputs": [
    {
     "ename": "TypeError",
     "evalue": "list expected at most 1 argument, got 2",
     "output_type": "error",
     "traceback": [
      "\u001b[1;31m---------------------------------------------------------------------------\u001b[0m",
      "\u001b[1;31mTypeError\u001b[0m                                 Traceback (most recent call last)",
      "Cell \u001b[1;32mIn[13], line 2\u001b[0m\n\u001b[0;32m      1\u001b[0m animals \u001b[38;5;241m=\u001b[39m [\u001b[38;5;124m'\u001b[39m\u001b[38;5;124mdog\u001b[39m\u001b[38;5;124m'\u001b[39m, \u001b[38;5;124m'\u001b[39m\u001b[38;5;124mcat\u001b[39m\u001b[38;5;124m'\u001b[39m, \u001b[38;5;124m'\u001b[39m\u001b[38;5;124mparrot\u001b[39m\u001b[38;5;124m'\u001b[39m, \u001b[38;5;124m'\u001b[39m\u001b[38;5;124mrabbit\u001b[39m\u001b[38;5;124m'\u001b[39m]\n\u001b[1;32m----> 2\u001b[0m uppered_animals \u001b[38;5;241m=\u001b[39m \u001b[38;5;28;43mlist\u001b[39;49m\u001b[43m(\u001b[49m\u001b[38;5;28;43;01mlambda\u001b[39;49;00m\u001b[43m \u001b[49m\u001b[43manimal\u001b[49m\u001b[43m:\u001b[49m\u001b[43m \u001b[49m\u001b[43manimal\u001b[49m\u001b[38;5;241;43m.\u001b[39;49m\u001b[43mupper\u001b[49m\u001b[43m(\u001b[49m\u001b[43m)\u001b[49m\u001b[43m,\u001b[49m\u001b[43m \u001b[49m\u001b[43manimals\u001b[49m\u001b[43m)\u001b[49m\n\u001b[0;32m      4\u001b[0m \u001b[38;5;28mprint\u001b[39m(uppered_animals)\n",
      "\u001b[1;31mTypeError\u001b[0m: list expected at most 1 argument, got 2"
     ]
    }
   ],
   "source": [
    "animals = ['dog', 'cat', 'parrot', 'rabbit']\n",
    "uppered_animals = list(lambda animal: animal.upper(), animals)\n",
    "\n",
    "print(uppered_animals)\n"
   ]
  },
  {
   "cell_type": "code",
   "execution_count": 15,
   "id": "36c47638",
   "metadata": {},
   "outputs": [
    {
     "name": "stdout",
     "output_type": "stream",
     "text": [
      "['DOG', 'CAT', 'PARROT', 'RABBIT']\n"
     ]
    }
   ],
   "source": [
    "# Define a function to convert a string to uppercase\n",
    "def convert_to_uppercase(string):\n",
    "    return string.upper()\n",
    "\n",
    "# List of animals\n",
    "animals = ['dog', 'cat', 'parrot', 'rabbit']\n",
    "\n",
    "# Use the user-defined function with map() to convert each animal name to uppercase\n",
    "uppered_animals = list(map(convert_to_uppercase, animals))\n",
    "\n",
    "# Display the modified list\n",
    "print(uppered_animals)\n"
   ]
  },
  {
   "cell_type": "code",
   "execution_count": 16,
   "id": "4154d530",
   "metadata": {},
   "outputs": [
    {
     "name": "stdout",
     "output_type": "stream",
     "text": [
      "CONVERT THIS TO UPPERCASE\n"
     ]
    }
   ],
   "source": [
    "string_to_upper = lambda x: x.upper()\n",
    "\n",
    "# Example usage:\n",
    "text = \"convert this to uppercase\"\n",
    "result = string_to_upper(text)\n",
    "print(result)\n"
   ]
  },
  {
   "cell_type": "code",
   "execution_count": 17,
   "id": "c7d40b07",
   "metadata": {},
   "outputs": [
    {
     "name": "stdout",
     "output_type": "stream",
     "text": [
      "['rabbit', 'rat']\n"
     ]
    }
   ],
   "source": [
    "animals = [\"RABBIT\",\"RAT\"]\n",
    "uppered_animals = list(map(lambda animal: animal.lower(), animals))\n",
    "\n",
    "print(uppered_animals)\n"
   ]
  },
  {
   "cell_type": "code",
   "execution_count": 18,
   "id": "49a0cfa1",
   "metadata": {},
   "outputs": [
    {
     "name": "stdout",
     "output_type": "stream",
     "text": [
      "['APPLE', 'BANANA', 'ORANGE', 'KIWI']\n"
     ]
    }
   ],
   "source": [
    "fruits = ['apple', 'banana', 'orange', 'kiwi']\n",
    "\n",
    "# Using lambda function with map to convert list elements to uppercase\n",
    "uppercase_fruits = list(map(lambda x: x.upper(), fruits))\n",
    "\n",
    "print(uppercase_fruits)\n"
   ]
  },
  {
   "cell_type": "code",
   "execution_count": 83,
   "id": "03097966",
   "metadata": {},
   "outputs": [
    {
     "name": "stdout",
     "output_type": "stream",
     "text": [
      "* * * * * \n",
      "* * * * \n",
      "* * * \n",
      "* * \n",
      "* \n"
     ]
    }
   ],
   "source": [
    "def reverse_half_pyramid(rows):\n",
    "    for i in range(rows, 0, -1):\n",
    "        print(\"* \" * i)\n",
    "\n",
    "# Specify the number of rows for the reverse half pyramid\n",
    "num_rows = 5  # Change this value to adjust the number of rows\n",
    "\n",
    "# Call the function to print the reverse half pyramid\n",
    "reverse_half_pyramid(num_rows)\n"
   ]
  },
  {
   "cell_type": "code",
   "execution_count": 9,
   "id": "bae6f4d3",
   "metadata": {},
   "outputs": [
    {
     "name": "stdout",
     "output_type": "stream",
     "text": [
      "* * * * * \n",
      "* * * * \n",
      "* * * \n",
      "* * \n",
      "* \n"
     ]
    }
   ],
   "source": [
    "# Specify the number of rows for the reverse half pyramid\n",
    "num_rows = 5  # Change this value to adjust the number of rows\n",
    "\n",
    "for i in range(num_rows,0,-1):\n",
    "    print(\"* \" * i)\n"
   ]
  },
  {
   "cell_type": "code",
   "execution_count": 12,
   "id": "efd2f19d",
   "metadata": {},
   "outputs": [
    {
     "name": "stdout",
     "output_type": "stream",
     "text": [
      "* \n",
      "* * \n",
      "* * * \n",
      "* * * * \n"
     ]
    }
   ],
   "source": [
    "# Specify the number of rows for the reverse half pyramid\n",
    "num_rows = 1  # Change this value to adjust the number of rows\n",
    "\n",
    "for i in range(num_rows,5):\n",
    "    print(\"* \" * i)\n"
   ]
  },
  {
   "cell_type": "markdown",
   "id": "89817cd7",
   "metadata": {},
   "source": [
    "# area of a triangle"
   ]
  },
  {
   "cell_type": "code",
   "execution_count": 4,
   "id": "31620836",
   "metadata": {},
   "outputs": [
    {
     "name": "stdout",
     "output_type": "stream",
     "text": [
      "enter first number3\n",
      "enter second number4\n",
      "6.0\n"
     ]
    }
   ],
   "source": [
    "a=int(input(\"enter first number\"))\n",
    "b=int(input(\"enter second number\"))\n",
    "x =((a*b)/2)\n",
    "print(x)"
   ]
  },
  {
   "cell_type": "code",
   "execution_count": 39,
   "id": "a48e0aa7",
   "metadata": {},
   "outputs": [
    {
     "name": "stdout",
     "output_type": "stream",
     "text": [
      "enter the number7\n",
      "1 * 7 = 7\n",
      "2 * 7 = 14\n",
      "3 * 7 = 21\n",
      "4 * 7 = 28\n",
      "5 * 7 = 35\n",
      "6 * 7 = 42\n",
      "7 * 7 = 49\n",
      "8 * 7 = 56\n",
      "9 * 7 = 63\n",
      "10 * 7 = 70\n"
     ]
    }
   ],
   "source": [
    "num=int(input(\"enter the number\"))\n",
    "for i in range (1,11):\n",
    "    c=(num*i)\n",
    "    print(i,\"*\",num,\"=\" ,c)\n",
    "    \n",
    "    "
   ]
  },
  {
   "cell_type": "code",
   "execution_count": 29,
   "id": "30167927",
   "metadata": {},
   "outputs": [
    {
     "name": "stdout",
     "output_type": "stream",
     "text": [
      "10\n",
      "9\n",
      "8\n",
      "7\n",
      "6\n",
      "5\n",
      "4\n",
      "3\n",
      "2\n",
      "1\n"
     ]
    }
   ],
   "source": [
    "num = 10  # Starting from 10\n",
    "while num > 0:  # Loop while 'num' is greater than 0\n",
    "    print(num)\n",
    "    num -= 1  # Decrement 'num' in each iteration to move towards 1\n"
   ]
  },
  {
   "cell_type": "code",
   "execution_count": 82,
   "id": "4b2afb84",
   "metadata": {},
   "outputs": [
    {
     "name": "stdout",
     "output_type": "stream",
     "text": [
      "Hello World\n"
     ]
    }
   ],
   "source": [
    "print(\"Hello\", end=\" \")\n",
    "print(\"World\")\n"
   ]
  },
  {
   "cell_type": "markdown",
   "id": "62c90d18",
   "metadata": {},
   "source": [
    "# array"
   ]
  },
  {
   "cell_type": "code",
   "execution_count": 60,
   "id": "d127ef4f",
   "metadata": {},
   "outputs": [
    {
     "data": {
      "text/plain": [
       "['bmw', 'toyota', 'hundai', 'waganor', 'i20']"
      ]
     },
     "execution_count": 60,
     "metadata": {},
     "output_type": "execute_result"
    }
   ],
   "source": [
    "cars=[\"bmw\",\"toyota\",\"hundai\",\"waganor\",\"i20\"]\n",
    "cars\n"
   ]
  },
  {
   "cell_type": "code",
   "execution_count": 61,
   "id": "b61b0414",
   "metadata": {},
   "outputs": [
    {
     "data": {
      "text/plain": [
       "'toyota'"
      ]
     },
     "execution_count": 61,
     "metadata": {},
     "output_type": "execute_result"
    }
   ],
   "source": [
    "cars[1]"
   ]
  },
  {
   "cell_type": "code",
   "execution_count": 62,
   "id": "01b0a93d",
   "metadata": {},
   "outputs": [
    {
     "data": {
      "text/plain": [
       "'hundai'"
      ]
     },
     "execution_count": 62,
     "metadata": {},
     "output_type": "execute_result"
    }
   ],
   "source": [
    "cars[2]\n"
   ]
  },
  {
   "cell_type": "code",
   "execution_count": 63,
   "id": "c1e187ee",
   "metadata": {},
   "outputs": [
    {
     "data": {
      "text/plain": [
       "5"
      ]
     },
     "execution_count": 63,
     "metadata": {},
     "output_type": "execute_result"
    }
   ],
   "source": [
    "#cars=[\"bmw\",\"toyota\",\"hundai\"]\n",
    "l=len(cars)\n",
    "l"
   ]
  },
  {
   "cell_type": "code",
   "execution_count": 64,
   "id": "f463a2d6",
   "metadata": {},
   "outputs": [
    {
     "data": {
      "text/plain": [
       "['bmw', 'toyota', 'hundai', 'waganor', 'i20', 'benz']"
      ]
     },
     "execution_count": 64,
     "metadata": {},
     "output_type": "execute_result"
    }
   ],
   "source": [
    "cars. append (\"benz\")\n",
    "cars"
   ]
  },
  {
   "cell_type": "code",
   "execution_count": 65,
   "id": "f06e3185",
   "metadata": {},
   "outputs": [
    {
     "data": {
      "text/plain": [
       "['bmw', 'hundai', 'waganor', 'i20', 'benz']"
      ]
     },
     "execution_count": 65,
     "metadata": {},
     "output_type": "execute_result"
    }
   ],
   "source": [
    "cars.pop (1)\n",
    "cars"
   ]
  },
  {
   "cell_type": "code",
   "execution_count": 66,
   "id": "f8065ced",
   "metadata": {},
   "outputs": [
    {
     "data": {
      "text/plain": [
       "['benz', 'bmw', 'hundai', 'i20', 'waganor']"
      ]
     },
     "execution_count": 66,
     "metadata": {},
     "output_type": "execute_result"
    }
   ],
   "source": [
    "cars.sort()\n",
    "cars"
   ]
  },
  {
   "cell_type": "code",
   "execution_count": 67,
   "id": "b85af226",
   "metadata": {},
   "outputs": [
    {
     "data": {
      "text/plain": [
       "['benz', 'bmw', 'hundai', 'waganor']"
      ]
     },
     "execution_count": 67,
     "metadata": {},
     "output_type": "execute_result"
    }
   ],
   "source": [
    "cars.remove (\"i20\")\n",
    "cars"
   ]
  },
  {
   "cell_type": "code",
   "execution_count": 13,
   "id": "a1fbe9fe",
   "metadata": {},
   "outputs": [
    {
     "data": {
      "text/plain": [
       "['grapes', 'orange', 'apple']"
      ]
     },
     "execution_count": 13,
     "metadata": {},
     "output_type": "execute_result"
    }
   ],
   "source": [
    "fruits=[ \"apple\",\"orange\",\"grapes\"]\n",
    "fruits.reverse()\n",
    "fruits"
   ]
  },
  {
   "cell_type": "code",
   "execution_count": 14,
   "id": "51ddc090",
   "metadata": {},
   "outputs": [
    {
     "data": {
      "text/plain": [
       "1"
      ]
     },
     "execution_count": 14,
     "metadata": {},
     "output_type": "execute_result"
    }
   ],
   "source": [
    "a=fruits.count(\"apple\")\n",
    "a"
   ]
  },
  {
   "cell_type": "markdown",
   "id": "5e166af8",
   "metadata": {},
   "source": [
    "# basic operation in arrays"
   ]
  },
  {
   "cell_type": "markdown",
   "id": "174c404d",
   "metadata": {},
   "source": [
    "traverse-print all elements one by one"
   ]
  },
  {
   "cell_type": "markdown",
   "id": "0063fbc5",
   "metadata": {},
   "source": [
    "insertion-adds an elemt in given index\n"
   ]
  },
  {
   "cell_type": "markdown",
   "id": "186fd41e",
   "metadata": {},
   "source": [
    "##### deletion-delets an element at given index"
   ]
  },
  {
   "cell_type": "markdown",
   "id": "22be9d24",
   "metadata": {},
   "source": [
    "search-searches an element using given or by value"
   ]
  },
  {
   "cell_type": "markdown",
   "id": "7eac367e",
   "metadata": {},
   "source": [
    "update -updates an elements at given index"
   ]
  },
  {
   "cell_type": "code",
   "execution_count": 15,
   "id": "d09c7e66",
   "metadata": {},
   "outputs": [
    {
     "name": "stdout",
     "output_type": "stream",
     "text": [
      "10\n",
      "20\n",
      "30\n",
      "40\n"
     ]
    }
   ],
   "source": [
    "from array import*\n",
    "a=array(\"i\",[10,20,30,40])\n",
    "for x in a:\n",
    "    print(x)"
   ]
  },
  {
   "cell_type": "code",
   "execution_count": 16,
   "id": "c1df73e6",
   "metadata": {},
   "outputs": [
    {
     "data": {
      "text/plain": [
       "4"
      ]
     },
     "execution_count": 16,
     "metadata": {},
     "output_type": "execute_result"
    }
   ],
   "source": [
    "len(a)"
   ]
  },
  {
   "cell_type": "code",
   "execution_count": 17,
   "id": "4b701432",
   "metadata": {},
   "outputs": [
    {
     "name": "stdout",
     "output_type": "stream",
     "text": [
      "10\n",
      "30\n"
     ]
    }
   ],
   "source": [
    "array1=array('i',[10,20,30,40,50])\n",
    "print(array1[0])\n",
    "print(array1[2])"
   ]
  },
  {
   "cell_type": "code",
   "execution_count": 18,
   "id": "cbd83411",
   "metadata": {},
   "outputs": [
    {
     "name": "stdout",
     "output_type": "stream",
     "text": [
      "100\n",
      "10\n",
      "20\n",
      "30\n",
      "40\n",
      "50\n"
     ]
    }
   ],
   "source": [
    "#from array import*\n",
    "array1=array('i',[10,20,30,40,50])\n",
    "array1.insert(0,100)\n",
    "for p in array1:\n",
    "    print(p)"
   ]
  },
  {
   "cell_type": "code",
   "execution_count": 40,
   "id": "419b897a",
   "metadata": {},
   "outputs": [
    {
     "data": {
      "text/plain": [
       "['BPF',\n",
       " 'LOG4',\n",
       " 'NV_MAGICCONST',\n",
       " 'RECIP_BPF',\n",
       " 'Random',\n",
       " 'SG_MAGICCONST',\n",
       " 'SystemRandom',\n",
       " 'TWOPI',\n",
       " '_Sequence',\n",
       " '_Set',\n",
       " '__all__',\n",
       " '__builtins__',\n",
       " '__cached__',\n",
       " '__doc__',\n",
       " '__file__',\n",
       " '__loader__',\n",
       " '__name__',\n",
       " '__package__',\n",
       " '__spec__',\n",
       " '_accumulate',\n",
       " '_acos',\n",
       " '_bisect',\n",
       " '_ceil',\n",
       " '_cos',\n",
       " '_e',\n",
       " '_exp',\n",
       " '_floor',\n",
       " '_inst',\n",
       " '_log',\n",
       " '_os',\n",
       " '_pi',\n",
       " '_random',\n",
       " '_repeat',\n",
       " '_sha512',\n",
       " '_sin',\n",
       " '_sqrt',\n",
       " '_test',\n",
       " '_test_generator',\n",
       " '_urandom',\n",
       " '_warn',\n",
       " 'betavariate',\n",
       " 'choice',\n",
       " 'choices',\n",
       " 'expovariate',\n",
       " 'gammavariate',\n",
       " 'gauss',\n",
       " 'getrandbits',\n",
       " 'getstate',\n",
       " 'lognormvariate',\n",
       " 'normalvariate',\n",
       " 'paretovariate',\n",
       " 'randbytes',\n",
       " 'randint',\n",
       " 'random',\n",
       " 'randrange',\n",
       " 'sample',\n",
       " 'seed',\n",
       " 'setstate',\n",
       " 'shuffle',\n",
       " 'triangular',\n",
       " 'uniform',\n",
       " 'vonmisesvariate',\n",
       " 'weibullvariate']"
      ]
     },
     "execution_count": 40,
     "metadata": {},
     "output_type": "execute_result"
    }
   ],
   "source": [
    "import random\n",
    "dir(random)"
   ]
  },
  {
   "cell_type": "code",
   "execution_count": 45,
   "id": "477f4ab9",
   "metadata": {},
   "outputs": [
    {
     "name": "stdout",
     "output_type": "stream",
     "text": [
      "2\n"
     ]
    }
   ],
   "source": [
    "print(random.randrange(1,10))"
   ]
  },
  {
   "cell_type": "code",
   "execution_count": 52,
   "id": "d7fc63db",
   "metadata": {},
   "outputs": [
    {
     "name": "stdout",
     "output_type": "stream",
     "text": [
      "0.5714025946899135\n"
     ]
    }
   ],
   "source": [
    "random.seed(10)\n",
    "print(random.random())\n"
   ]
  },
  {
   "cell_type": "markdown",
   "id": "b75208d8",
   "metadata": {},
   "source": [
    "# python has a module named datetime to work with dates and time"
   ]
  },
  {
   "cell_type": "code",
   "execution_count": 16,
   "id": "e272c80b",
   "metadata": {},
   "outputs": [
    {
     "name": "stdout",
     "output_type": "stream",
     "text": [
      "2024-01-22 19:03:55.823792\n"
     ]
    }
   ],
   "source": [
    "import datetime \n",
    "time=datetime.datetime.now()        \n",
    "\n",
    "#we used now() method to create a date time object containing current localtime and date\n",
    "print(time)"
   ]
  },
  {
   "cell_type": "code",
   "execution_count": 17,
   "id": "898caf71",
   "metadata": {},
   "outputs": [
    {
     "name": "stdout",
     "output_type": "stream",
     "text": [
      "2024-01-22\n"
     ]
    }
   ],
   "source": [
    "date_object=datetime.date.today()\n",
    "print(date_object)"
   ]
  },
  {
   "cell_type": "code",
   "execution_count": 20,
   "id": "bafccc0d",
   "metadata": {},
   "outputs": [
    {
     "name": "stdout",
     "output_type": "stream",
     "text": [
      "1\n"
     ]
    }
   ],
   "source": [
    "print(date_object.strftime(\"%w\")) #string from time \n",
    "\n",
    "\n",
    "\n",
    "\n",
    "# %a\tAbbreviated weekday name.\tSun, Mon, …\n",
    "# %A\tFull weekday name.\tSunday, Monday, …\n",
    "# %w\tWeekday as a decimal number.\t0, 1, …, 6"
   ]
  },
  {
   "cell_type": "code",
   "execution_count": 4,
   "id": "f0bdc13f",
   "metadata": {},
   "outputs": [
    {
     "name": "stdout",
     "output_type": "stream",
     "text": [
      "['MAXYEAR', 'MINYEAR', '__all__', '__builtins__', '__cached__', '__doc__', '__file__', '__loader__', '__name__', '__package__', '__spec__', 'date', 'datetime', 'datetime_CAPI', 'sys', 'time', 'timedelta', 'timezone', 'tzinfo']\n"
     ]
    }
   ],
   "source": [
    "print(dir(datetime)) #dir()fun to get a list containg all the attributes of a module\n"
   ]
  },
  {
   "cell_type": "code",
   "execution_count": 58,
   "id": "cd3c1fb4",
   "metadata": {},
   "outputs": [
    {
     "name": "stdout",
     "output_type": "stream",
     "text": [
      "2022-02-15\n"
     ]
    }
   ],
   "source": [
    "d=datetime.date(2022,2,15) #date()is the constructor of the datetime\n",
    "print(d)"
   ]
  },
  {
   "cell_type": "code",
   "execution_count": 23,
   "id": "515df047",
   "metadata": {},
   "outputs": [
    {
     "ename": "ValueError",
     "evalue": "day is out of range for month",
     "output_type": "error",
     "traceback": [
      "\u001b[1;31m---------------------------------------------------------------------------\u001b[0m",
      "\u001b[1;31mValueError\u001b[0m                                Traceback (most recent call last)",
      "Cell \u001b[1;32mIn[23], line 1\u001b[0m\n\u001b[1;32m----> 1\u001b[0m d\u001b[38;5;241m=\u001b[39m\u001b[43mdatetime\u001b[49m\u001b[38;5;241;43m.\u001b[39;49m\u001b[43mdate\u001b[49m\u001b[43m(\u001b[49m\u001b[38;5;241;43m2\u001b[39;49m\u001b[43m,\u001b[49m\u001b[38;5;241;43m12\u001b[39;49m\u001b[43m,\u001b[49m\u001b[38;5;241;43m2022\u001b[39;49m\u001b[43m)\u001b[49m \u001b[38;5;66;03m#date()is the constructor of the datetime\u001b[39;00m\n\u001b[0;32m      2\u001b[0m \u001b[38;5;28mprint\u001b[39m(d)\n",
      "\u001b[1;31mValueError\u001b[0m: day is out of range for month"
     ]
    }
   ],
   "source": [
    "d=datetime.date(2,12,2022) #date()is the constructor of the datetime\n",
    "print(d)"
   ]
  },
  {
   "cell_type": "markdown",
   "id": "5ac0d3b5",
   "metadata": {},
   "source": [
    "# file handling"
   ]
  },
  {
   "cell_type": "code",
   "execution_count": 21,
   "id": "c725621b",
   "metadata": {},
   "outputs": [
    {
     "name": "stdout",
     "output_type": "stream",
     "text": [
      "Certainly! Here are some logical tasks along with their answers using Python lambda functions:\n"
     ]
    }
   ],
   "source": [
    "file=open()\n",
    "print(file.read())\n"
   ]
  },
  {
   "cell_type": "code",
   "execution_count": 24,
   "id": "57278f2c",
   "metadata": {},
   "outputs": [
    {
     "name": "stdout",
     "output_type": "stream",
     "text": [
      "<_io.TextIOWrapper name='ashik.txt' mode='w' encoding='cp1252'>\n"
     ]
    }
   ],
   "source": [
    "file=open(\"ashik.txt\",\"w\")\n",
    "file.write(\"\\nsky\\nis\\nblue\")\n",
    "file.close()\n",
    "print(file)\n"
   ]
  },
  {
   "cell_type": "code",
   "execution_count": 26,
   "id": "9f7ef080",
   "metadata": {},
   "outputs": [
    {
     "name": "stdout",
     "output_type": "stream",
     "text": [
      "\n",
      "sky\n",
      "is\n",
      "blue\n"
     ]
    }
   ],
   "source": [
    "file=open(\"ashik.txt\")\n",
    "print(file.read())"
   ]
  },
  {
   "cell_type": "code",
   "execution_count": 20,
   "id": "1eab1182",
   "metadata": {},
   "outputs": [],
   "source": [
    "#file.close()"
   ]
  },
  {
   "cell_type": "code",
   "execution_count": 26,
   "id": "b4b01737",
   "metadata": {},
   "outputs": [
    {
     "name": "stdout",
     "output_type": "stream",
     "text": [
      "153\n"
     ]
    }
   ],
   "source": [
    "def char_count(ab):\n",
    "    return len(open(ab).read())\n",
    "print(char_count(r\"C:\\Users\\91812\\Desktop\\sahru.txt\"))\n"
   ]
  },
  {
   "cell_type": "code",
   "execution_count": 30,
   "id": "56cda2a9",
   "metadata": {},
   "outputs": [
    {
     "name": "stdout",
     "output_type": "stream",
     "text": [
      "\n",
      "sky\n",
      "is\n",
      "blue\n"
     ]
    }
   ],
   "source": [
    "file=open(r\"C:\\Users\\91812\\Desktop\\sahru.txt\")\n",
    "print(file.read())\n"
   ]
  },
  {
   "cell_type": "code",
   "execution_count": 31,
   "id": "8b875c16",
   "metadata": {},
   "outputs": [
    {
     "name": "stdout",
     "output_type": "stream",
     "text": [
      "<_io.TextIOWrapper name='C:\\\\Users\\\\91812\\\\Desktop\\\\sahru.txt' mode='w' encoding='cp1252'>\n"
     ]
    }
   ],
   "source": [
    "f=open(r\"C:\\Users\\91812\\Desktop\\sahru.txt\",\"w\")\n",
    "f.write(\"\\nsky\\nis\\nblue\")\n",
    "f.close()\n",
    "print(f)\n"
   ]
  },
  {
   "cell_type": "code",
   "execution_count": 36,
   "id": "9bf0d4d0",
   "metadata": {},
   "outputs": [
    {
     "name": "stdout",
     "output_type": "stream",
     "text": [
      "blue\n",
      "is\n",
      "sky\n",
      "\n"
     ]
    }
   ],
   "source": [
    "a=open(r\"C:\\Users\\91812\\Desktop\\sahru.txt\").read()\n",
    "def reverse(a):\n",
    "    a=a.split('\\n')\n",
    "    a.reverse()\n",
    "    b='\\n'.join(a)\n",
    "    return b\n",
    "print(reverse(a))\n"
   ]
  },
  {
   "cell_type": "code",
   "execution_count": 41,
   "id": "d4313fcb",
   "metadata": {},
   "outputs": [
    {
     "ename": "SyntaxError",
     "evalue": "invalid syntax (523199890.py, line 2)",
     "output_type": "error",
     "traceback": [
      "\u001b[1;36m  Cell \u001b[1;32mIn[41], line 2\u001b[1;36m\u001b[0m\n\u001b[1;33m    a\u001b[0m\n\u001b[1;37m    ^\u001b[0m\n\u001b[1;31mSyntaxError\u001b[0m\u001b[1;31m:\u001b[0m invalid syntax\n"
     ]
    }
   ],
   "source": [
    "a=open((r\"C:\\Users\\91812\\Desktop\\sahru.txt\").read()\n",
    "a\n",
    "\n"
   ]
  },
  {
   "cell_type": "code",
   "execution_count": 45,
   "id": "14348cb3",
   "metadata": {},
   "outputs": [
    {
     "ename": "AttributeError",
     "evalue": "'str' object has no attribute 'head'",
     "output_type": "error",
     "traceback": [
      "\u001b[1;31m---------------------------------------------------------------------------\u001b[0m",
      "\u001b[1;31mAttributeError\u001b[0m                            Traceback (most recent call last)",
      "Cell \u001b[1;32mIn[45], line 2\u001b[0m\n\u001b[0;32m      1\u001b[0m a\u001b[38;5;241m=\u001b[39m\u001b[38;5;28mopen\u001b[39m(\u001b[38;5;124mr\u001b[39m\u001b[38;5;124m\"\u001b[39m\u001b[38;5;124mC:\u001b[39m\u001b[38;5;130;01m\\\\\u001b[39;00m\u001b[38;5;124mUsers\u001b[39m\u001b[38;5;130;01m\\\\\u001b[39;00m\u001b[38;5;124m91812\u001b[39m\u001b[38;5;130;01m\\\\\u001b[39;00m\u001b[38;5;124mDesktop\u001b[39m\u001b[38;5;130;01m\\\\\u001b[39;00m\u001b[38;5;124mpython\u001b[39m\u001b[38;5;130;01m\\\\\u001b[39;00m\u001b[38;5;124mMall_Customers (1).csv\u001b[39m\u001b[38;5;124m\"\u001b[39m)\u001b[38;5;241m.\u001b[39mread()\n\u001b[1;32m----> 2\u001b[0m h\u001b[38;5;241m=\u001b[39m\u001b[43ma\u001b[49m\u001b[38;5;241;43m.\u001b[39;49m\u001b[43mhead\u001b[49m()\n\u001b[0;32m      3\u001b[0m \u001b[38;5;28mprint\u001b[39m(h)\n",
      "\u001b[1;31mAttributeError\u001b[0m: 'str' object has no attribute 'head'"
     ]
    }
   ],
   "source": [
    "a=open(r\"C:\\\\Users\\\\91812\\\\Desktop\\\\python\\\\Mall_Customers (1).csv\").read()\n",
    "h=a.head()\n",
    "print(h)\n"
   ]
  },
  {
   "cell_type": "code",
   "execution_count": 39,
   "id": "294332d0",
   "metadata": {},
   "outputs": [
    {
     "name": "stdout",
     "output_type": "stream",
     "text": [
      "['', 'sky']\n"
     ]
    }
   ],
   "source": [
    "# Open the file\n",
    "with open(r\"C:\\Users\\91812\\Desktop\\sahru.txt\", \"r\") as file:\n",
    "    a = file.read()  # Read the contents of the file\n",
    "\n",
    "# Extract the first 2 lines from the file contents\n",
    "h1 = a.split('\\n')[:2]  # Split the text by lines and get the first two lines\n",
    "\n",
    "print(h1)\n"
   ]
  },
  {
   "cell_type": "code",
   "execution_count": 38,
   "id": "320713b0",
   "metadata": {},
   "outputs": [
    {
     "ename": "SyntaxError",
     "evalue": "invalid syntax (2679637234.py, line 2)",
     "output_type": "error",
     "traceback": [
      "\u001b[1;36m  Cell \u001b[1;32mIn[38], line 2\u001b[1;36m\u001b[0m\n\u001b[1;33m    a.head(2)\u001b[0m\n\u001b[1;37m    ^\u001b[0m\n\u001b[1;31mSyntaxError\u001b[0m\u001b[1;31m:\u001b[0m invalid syntax\n"
     ]
    }
   ],
   "source": [
    "a=open((r\"C:\\Users\\91812\\Desktop\\sahru.txt\").read()\n",
    "a.head(2)"
   ]
  },
  {
   "cell_type": "code",
   "execution_count": 36,
   "id": "efea8662",
   "metadata": {},
   "outputs": [
    {
     "name": "stdout",
     "output_type": "stream",
     "text": [
      "Mackintosh's was a British confectionery firm founded in Halifax, Yorkshire, England. It was known for its toffee and the Quality Street and Rolo brands.\n"
     ]
    }
   ],
   "source": [
    "file=open('nayana.txt')\n",
    "print(file.read())\n"
   ]
  },
  {
   "cell_type": "code",
   "execution_count": 6,
   "id": "39da8b14",
   "metadata": {
    "scrolled": true
   },
   "outputs": [
    {
     "name": "stdout",
     "output_type": "stream",
     "text": [
      "Mackintosh's was a British confectionery firm founded in Halifax, Yorkshire, England. It was known for its toffee and the Quality Street and Rolo brands.\n"
     ]
    }
   ],
   "source": [
    "f=open(\"nayana.txt\",\"r\")\n",
    "\n",
    "for each in f:\n",
    "    print(each)"
   ]
  },
  {
   "cell_type": "code",
   "execution_count": 37,
   "id": "303e161f",
   "metadata": {},
   "outputs": [
    {
     "name": "stdout",
     "output_type": "stream",
     "text": [
      "Mackintosh's was a British confectio\n"
     ]
    }
   ],
   "source": [
    "file=open(\"nayana.txt\",\"r\")\n",
    "print(file.readline(36))"
   ]
  },
  {
   "cell_type": "code",
   "execution_count": 38,
   "id": "2a849271",
   "metadata": {},
   "outputs": [],
   "source": [
    "file.close()"
   ]
  },
  {
   "cell_type": "code",
   "execution_count": 2,
   "id": "f9a3f4e2",
   "metadata": {},
   "outputs": [
    {
     "name": "stdout",
     "output_type": "stream",
     "text": [
      "Requirement already satisfied: pillow in c:\\users\\91812\\anaconda3\\lib\\site-packages (9.0.1)\n"
     ]
    }
   ],
   "source": [
    "! pip install pillow"
   ]
  },
  {
   "cell_type": "code",
   "execution_count": 75,
   "id": "8ec823fe",
   "metadata": {},
   "outputs": [],
   "source": [
    "from PIL import Image"
   ]
  },
  {
   "cell_type": "code",
   "execution_count": 76,
   "id": "4e9a363e",
   "metadata": {},
   "outputs": [],
   "source": [
    "im=Image.open(r\"C:/Users/91812/Desktop/flag.png\")\n",
    "im.show()"
   ]
  },
  {
   "cell_type": "code",
   "execution_count": 77,
   "id": "15314b75",
   "metadata": {},
   "outputs": [],
   "source": [
    "im=Image.open(r\"flag.png\")\n",
    "im.show()"
   ]
  },
  {
   "cell_type": "markdown",
   "id": "4a9c9f67",
   "metadata": {},
   "source": [
    "# arguments"
   ]
  },
  {
   "cell_type": "code",
   "execution_count": 1,
   "id": "5a268eae",
   "metadata": {},
   "outputs": [
    {
     "name": "stdout",
     "output_type": "stream",
     "text": [
      "First argument : Hello\n",
      "Next argument through *argv : Welcome\n",
      "Next argument through *argv : to\n",
      "Next argument through *argv : Python\n"
     ]
    }
   ],
   "source": [
    "def myFun(arg1,*argv):\n",
    "    print (\"First argument :\", arg1)\n",
    "    for arg in argv:\n",
    "        print(\"Next argument through *argv :\", arg)\n",
    "myFun('Hello','Welcome','to','Python')\n"
   ]
  },
  {
   "cell_type": "code",
   "execution_count": null,
   "id": "a1ba841a",
   "metadata": {},
   "outputs": [],
   "source": []
  },
  {
   "cell_type": "code",
   "execution_count": 24,
   "id": "bb24541c",
   "metadata": {},
   "outputs": [
    {
     "name": "stdout",
     "output_type": "stream",
     "text": [
      "Sum: 8\n",
      "Sum: 22\n",
      "Sum: 17\n"
     ]
    }
   ],
   "source": [
    "def adding(*num):\n",
    "    sum=0\n",
    "    for n in num:\n",
    "        sum=sum+n\n",
    "    print(\"Sum:\",sum)\n",
    "    \n",
    "adding(3,5)\n",
    "adding(4,5,6,7)\n",
    "adding(1,2,3,5,6)"
   ]
  },
  {
   "cell_type": "code",
   "execution_count": null,
   "id": "b48e445b",
   "metadata": {},
   "outputs": [],
   "source": [
    "#keyword arguments"
   ]
  },
  {
   "cell_type": "code",
   "execution_count": 7,
   "id": "c24ca337",
   "metadata": {},
   "outputs": [
    {
     "name": "stdout",
     "output_type": "stream",
     "text": [
      "first == Geeks\n",
      "mid == for\n",
      "last == Geeks\n"
     ]
    }
   ],
   "source": [
    "def myFun(**kwargs):\n",
    "\tfor key, value in kwargs.items():\n",
    "\t    print (\"%s == %s\" %(key, value))\n",
    "myFun(first ='Geeks', mid ='for', last='Geeks')\n"
   ]
  },
  {
   "cell_type": "code",
   "execution_count": 12,
   "id": "fada7dc0",
   "metadata": {},
   "outputs": [
    {
     "name": "stdout",
     "output_type": "stream",
     "text": [
      "\n",
      "Data type of argument: <class 'dict'>\n",
      "Firstname is sita\n",
      "Lastname is Sharma\n",
      "Age is 22\n",
      "Phone is 123\n",
      "\n",
      "Data type of argument: <class 'dict'>\n",
      "Firstname is John\n",
      "Lastname is Wood\n",
      "Email is johnwood@gmail.com\n",
      "country is US\n",
      "Age is 25\n",
      "Phone is 90\n"
     ]
    }
   ],
   "source": [
    "def intro(**data):\n",
    "    print(\"\\nData type of argument:\",type(data))\n",
    "    \n",
    "    for key,value in data.items():\n",
    "        print(\"{} is {}\".format(key,value))\n",
    "        \n",
    "intro(Firstname='sita',Lastname='Sharma',Age=22,Phone=123)\n",
    "\n",
    "\n",
    "intro(Firstname='John',Lastname='Wood',Email=\"johnwood@gmail.com\",country='US',Age=25,Phone=90)\n"
   ]
  },
  {
   "cell_type": "code",
   "execution_count": 13,
   "id": "9a37e012",
   "metadata": {},
   "outputs": [
    {
     "ename": "SyntaxError",
     "evalue": "invalid syntax (7144167.py, line 4)",
     "output_type": "error",
     "traceback": [
      "\u001b[1;36m  Cell \u001b[1;32mIn[13], line 4\u001b[1;36m\u001b[0m\n\u001b[1;33m    return=total\u001b[0m\n\u001b[1;37m          ^\u001b[0m\n\u001b[1;31mSyntaxError\u001b[0m\u001b[1;31m:\u001b[0m invalid syntax\n"
     ]
    }
   ],
   "source": [
    "def sum( arg1, arg2 ):\n",
    "\ttotal = arg1 + arg2\n",
    "\tprint(\"Inside the function : \", total)\n",
    "return=total\n",
    "# Now you can call sum function\n",
    "total = sum( 10, 20 );\n",
    "print(\"Outside the function : \", total)\n"
   ]
  },
  {
   "cell_type": "code",
   "execution_count": 22,
   "id": "3b5bec85",
   "metadata": {},
   "outputs": [
    {
     "name": "stdout",
     "output_type": "stream",
     "text": [
      "Inside the function: 30\n",
      "Outside the function: 30\n"
     ]
    }
   ],
   "source": [
    "def sum(arg1, arg2):\n",
    "    total = arg1 + arg2\n",
    "    print(\"Inside the function:\", total)\n",
    "    return total\n",
    "    #print(total)\n",
    "# Now you can call the sum function\n",
    "result = sum(10, 20)\n",
    "print(\"Outside the function:\", result)\n"
   ]
  },
  {
   "cell_type": "code",
   "execution_count": 21,
   "id": "7e4e0365",
   "metadata": {},
   "outputs": [
    {
     "ename": "SyntaxError",
     "evalue": "invalid syntax (2758442673.py, line 5)",
     "output_type": "error",
     "traceback": [
      "\u001b[1;36m  Cell \u001b[1;32mIn[21], line 5\u001b[1;36m\u001b[0m\n\u001b[1;33m    def extract_information(\"C:/Users/91812/Desktop/sample.pdf\"):\u001b[0m\n\u001b[1;37m                            ^\u001b[0m\n\u001b[1;31mSyntaxError\u001b[0m\u001b[1;31m:\u001b[0m invalid syntax\n"
     ]
    }
   ],
   "source": [
    "# extract_doc_info.py\n",
    "\n",
    "from PyPDF2 import PdfFileReader\n",
    "\n",
    "def extract_information(\"C:/Users/91812/Desktop/sample.pdf\"):\n",
    "    with open(pdf_path, 'rb') as f:\n",
    "        pdf = PdfFileReader(f)\n",
    "        information = pdf.getDocumentInfo()\n",
    "        number_of_pages = pdf.getNumPages()\n",
    "\n",
    "    txt = f\"\"\"\n",
    "    Information about {pdf_path}: \n",
    "\n",
    "    Author: {information.author}\n",
    "    Creator: {information.creator}\n",
    "    Producer: {information.producer}\n",
    "    Subject: {information.subject}\n",
    "    Title: {information.title}\n",
    "    Number of pages: {number_of_pages}\n",
    "    \"\"\"\n",
    "\n",
    "    print(txt)\n",
    "    return information\n",
    "\n",
    "if __name__ == '__main__':\n",
    "    path = 'reportlab-sample.pdf'\n",
    "    extract_information(path)"
   ]
  },
  {
   "cell_type": "code",
   "execution_count": 3,
   "id": "e5b40523",
   "metadata": {},
   "outputs": [],
   "source": [
    "import numpy as np\n",
    "import pandas as pd"
   ]
  },
  {
   "cell_type": "code",
   "execution_count": 36,
   "id": "4303e3a1",
   "metadata": {},
   "outputs": [],
   "source": [
    "data=pd.read_excel(\"C:/Users/91812/Downloads/sales2.xls\")"
   ]
  },
  {
   "cell_type": "code",
   "execution_count": 37,
   "id": "fcf208e9",
   "metadata": {},
   "outputs": [
    {
     "data": {
      "text/html": [
       "<div>\n",
       "<style scoped>\n",
       "    .dataframe tbody tr th:only-of-type {\n",
       "        vertical-align: middle;\n",
       "    }\n",
       "\n",
       "    .dataframe tbody tr th {\n",
       "        vertical-align: top;\n",
       "    }\n",
       "\n",
       "    .dataframe thead th {\n",
       "        text-align: right;\n",
       "    }\n",
       "</style>\n",
       "<table border=\"1\" class=\"dataframe\">\n",
       "  <thead>\n",
       "    <tr style=\"text-align: right;\">\n",
       "      <th></th>\n",
       "      <th>Date</th>\n",
       "      <th>Cash Sales</th>\n",
       "      <th>Credit Sales</th>\n",
       "      <th>Sales Return</th>\n",
       "      <th>Net Sales</th>\n",
       "      <th>Without GST</th>\n",
       "    </tr>\n",
       "  </thead>\n",
       "  <tbody>\n",
       "    <tr>\n",
       "      <th>0</th>\n",
       "      <td>2021-01-01 00:00:00</td>\n",
       "      <td>40741.0</td>\n",
       "      <td>0.0</td>\n",
       "      <td>0.0</td>\n",
       "      <td>40741.0</td>\n",
       "      <td>37612.30</td>\n",
       "    </tr>\n",
       "    <tr>\n",
       "      <th>1</th>\n",
       "      <td>2021-01-02 00:00:00</td>\n",
       "      <td>36110.0</td>\n",
       "      <td>0.0</td>\n",
       "      <td>0.0</td>\n",
       "      <td>36110.0</td>\n",
       "      <td>33639.88</td>\n",
       "    </tr>\n",
       "    <tr>\n",
       "      <th>2</th>\n",
       "      <td>2021-01-03 00:00:00</td>\n",
       "      <td>21576.0</td>\n",
       "      <td>0.0</td>\n",
       "      <td>0.0</td>\n",
       "      <td>21576.0</td>\n",
       "      <td>19998.97</td>\n",
       "    </tr>\n",
       "    <tr>\n",
       "      <th>3</th>\n",
       "      <td>2021-01-04 00:00:00</td>\n",
       "      <td>44009.0</td>\n",
       "      <td>0.0</td>\n",
       "      <td>0.0</td>\n",
       "      <td>44009.0</td>\n",
       "      <td>40808.06</td>\n",
       "    </tr>\n",
       "    <tr>\n",
       "      <th>4</th>\n",
       "      <td>2021-01-05 00:00:00</td>\n",
       "      <td>35618.0</td>\n",
       "      <td>0.0</td>\n",
       "      <td>0.0</td>\n",
       "      <td>35618.0</td>\n",
       "      <td>33008.87</td>\n",
       "    </tr>\n",
       "    <tr>\n",
       "      <th>...</th>\n",
       "      <td>...</td>\n",
       "      <td>...</td>\n",
       "      <td>...</td>\n",
       "      <td>...</td>\n",
       "      <td>...</td>\n",
       "      <td>...</td>\n",
       "    </tr>\n",
       "    <tr>\n",
       "      <th>694</th>\n",
       "      <td>2022-12-25 00:00:00</td>\n",
       "      <td>33334.0</td>\n",
       "      <td>0.0</td>\n",
       "      <td>0.0</td>\n",
       "      <td>33334.0</td>\n",
       "      <td>31158.88</td>\n",
       "    </tr>\n",
       "    <tr>\n",
       "      <th>695</th>\n",
       "      <td>NaN</td>\n",
       "      <td>NaN</td>\n",
       "      <td>NaN</td>\n",
       "      <td>NaN</td>\n",
       "      <td>NaN</td>\n",
       "      <td>NaN</td>\n",
       "    </tr>\n",
       "    <tr>\n",
       "      <th>696</th>\n",
       "      <td>Total :</td>\n",
       "      <td>36889577.0</td>\n",
       "      <td>0.0</td>\n",
       "      <td>79649.0</td>\n",
       "      <td>36809928.0</td>\n",
       "      <td>34681798.49</td>\n",
       "    </tr>\n",
       "    <tr>\n",
       "      <th>697</th>\n",
       "      <td>NaN</td>\n",
       "      <td>NaN</td>\n",
       "      <td>NaN</td>\n",
       "      <td>NaN</td>\n",
       "      <td>NaN</td>\n",
       "      <td>NaN</td>\n",
       "    </tr>\n",
       "    <tr>\n",
       "      <th>698</th>\n",
       "      <td>----------------- End of Report ----------------</td>\n",
       "      <td>NaN</td>\n",
       "      <td>NaN</td>\n",
       "      <td>NaN</td>\n",
       "      <td>NaN</td>\n",
       "      <td>NaN</td>\n",
       "    </tr>\n",
       "  </tbody>\n",
       "</table>\n",
       "<p>699 rows × 6 columns</p>\n",
       "</div>"
      ],
      "text/plain": [
       "                                                 Date  Cash Sales  \\\n",
       "0                                 2021-01-01 00:00:00     40741.0   \n",
       "1                                 2021-01-02 00:00:00     36110.0   \n",
       "2                                 2021-01-03 00:00:00     21576.0   \n",
       "3                                 2021-01-04 00:00:00     44009.0   \n",
       "4                                 2021-01-05 00:00:00     35618.0   \n",
       "..                                                ...         ...   \n",
       "694                               2022-12-25 00:00:00     33334.0   \n",
       "695                                               NaN         NaN   \n",
       "696                                           Total :  36889577.0   \n",
       "697                                               NaN         NaN   \n",
       "698  ----------------- End of Report ----------------         NaN   \n",
       "\n",
       "     Credit Sales  Sales Return   Net Sales  Without GST  \n",
       "0             0.0           0.0     40741.0     37612.30  \n",
       "1             0.0           0.0     36110.0     33639.88  \n",
       "2             0.0           0.0     21576.0     19998.97  \n",
       "3             0.0           0.0     44009.0     40808.06  \n",
       "4             0.0           0.0     35618.0     33008.87  \n",
       "..            ...           ...         ...          ...  \n",
       "694           0.0           0.0     33334.0     31158.88  \n",
       "695           NaN           NaN         NaN          NaN  \n",
       "696           0.0       79649.0  36809928.0  34681798.49  \n",
       "697           NaN           NaN         NaN          NaN  \n",
       "698           NaN           NaN         NaN          NaN  \n",
       "\n",
       "[699 rows x 6 columns]"
      ]
     },
     "execution_count": 37,
     "metadata": {},
     "output_type": "execute_result"
    }
   ],
   "source": [
    "data"
   ]
  },
  {
   "cell_type": "code",
   "execution_count": 38,
   "id": "e6f126a6",
   "metadata": {},
   "outputs": [],
   "source": [
    "import pandas as pd\n",
    "import matplotlib.pyplot as plt"
   ]
  },
  {
   "cell_type": "code",
   "execution_count": 53,
   "id": "4637c751",
   "metadata": {},
   "outputs": [
    {
     "data": {
      "text/html": [
       "<div>\n",
       "<style scoped>\n",
       "    .dataframe tbody tr th:only-of-type {\n",
       "        vertical-align: middle;\n",
       "    }\n",
       "\n",
       "    .dataframe tbody tr th {\n",
       "        vertical-align: top;\n",
       "    }\n",
       "\n",
       "    .dataframe thead th {\n",
       "        text-align: right;\n",
       "    }\n",
       "</style>\n",
       "<table border=\"1\" class=\"dataframe\">\n",
       "  <thead>\n",
       "    <tr style=\"text-align: right;\">\n",
       "      <th></th>\n",
       "      <th>Date</th>\n",
       "      <th>Cash Sales</th>\n",
       "      <th>Credit Sales</th>\n",
       "      <th>Sales Return</th>\n",
       "      <th>Net Sales</th>\n",
       "      <th>Without GST</th>\n",
       "    </tr>\n",
       "  </thead>\n",
       "  <tbody>\n",
       "    <tr>\n",
       "      <th>694</th>\n",
       "      <td>2022-12-25 00:00:00</td>\n",
       "      <td>33334.0</td>\n",
       "      <td>0.0</td>\n",
       "      <td>0.0</td>\n",
       "      <td>33334.0</td>\n",
       "      <td>31158.88</td>\n",
       "    </tr>\n",
       "    <tr>\n",
       "      <th>695</th>\n",
       "      <td>NaN</td>\n",
       "      <td>NaN</td>\n",
       "      <td>NaN</td>\n",
       "      <td>NaN</td>\n",
       "      <td>NaN</td>\n",
       "      <td>NaN</td>\n",
       "    </tr>\n",
       "    <tr>\n",
       "      <th>696</th>\n",
       "      <td>Total :</td>\n",
       "      <td>36889577.0</td>\n",
       "      <td>0.0</td>\n",
       "      <td>79649.0</td>\n",
       "      <td>36809928.0</td>\n",
       "      <td>34681798.49</td>\n",
       "    </tr>\n",
       "    <tr>\n",
       "      <th>697</th>\n",
       "      <td>NaN</td>\n",
       "      <td>NaN</td>\n",
       "      <td>NaN</td>\n",
       "      <td>NaN</td>\n",
       "      <td>NaN</td>\n",
       "      <td>NaN</td>\n",
       "    </tr>\n",
       "    <tr>\n",
       "      <th>698</th>\n",
       "      <td>----------------- End of Report ----------------</td>\n",
       "      <td>NaN</td>\n",
       "      <td>NaN</td>\n",
       "      <td>NaN</td>\n",
       "      <td>NaN</td>\n",
       "      <td>NaN</td>\n",
       "    </tr>\n",
       "  </tbody>\n",
       "</table>\n",
       "</div>"
      ],
      "text/plain": [
       "                                                 Date  Cash Sales  \\\n",
       "694                               2022-12-25 00:00:00     33334.0   \n",
       "695                                               NaN         NaN   \n",
       "696                                           Total :  36889577.0   \n",
       "697                                               NaN         NaN   \n",
       "698  ----------------- End of Report ----------------         NaN   \n",
       "\n",
       "     Credit Sales  Sales Return   Net Sales  Without GST  \n",
       "694           0.0           0.0     33334.0     31158.88  \n",
       "695           NaN           NaN         NaN          NaN  \n",
       "696           0.0       79649.0  36809928.0  34681798.49  \n",
       "697           NaN           NaN         NaN          NaN  \n",
       "698           NaN           NaN         NaN          NaN  "
      ]
     },
     "execution_count": 53,
     "metadata": {},
     "output_type": "execute_result"
    }
   ],
   "source": [
    "data.tail()"
   ]
  },
  {
   "cell_type": "code",
   "execution_count": 41,
   "id": "8a8df20b",
   "metadata": {},
   "outputs": [
    {
     "data": {
      "text/plain": [
       "699"
      ]
     },
     "execution_count": 41,
     "metadata": {},
     "output_type": "execute_result"
    }
   ],
   "source": [
    "len(data['Net Sales'])"
   ]
  },
  {
   "cell_type": "code",
   "execution_count": 42,
   "id": "d9794a24",
   "metadata": {},
   "outputs": [
    {
     "data": {
      "text/plain": [
       "<AxesSubplot:>"
      ]
     },
     "execution_count": 42,
     "metadata": {},
     "output_type": "execute_result"
    },
    {
     "data": {
      "image/png": "[encoded data removed]",
      "text/plain": [
       "<Figure size 640x480 with 1 Axes>"
      ]
     },
     "metadata": {},
     "output_type": "display_data"
    }
   ],
   "source": [
    "data['Net Sales'].plot()"
   ]
  },
  {
   "cell_type": "code",
   "execution_count": 43,
   "id": "486b5674",
   "metadata": {},
   "outputs": [
    {
     "data": {
      "text/plain": [
       "<AxesSubplot:xlabel='Lag', ylabel='Autocorrelation'>"
      ]
     },
     "execution_count": 43,
     "metadata": {},
     "output_type": "execute_result"
    },
    {
     "data": {
      "image/png": "[encoded data removed]",
      "text/plain": [
       "<Figure size 640x480 with 1 Axes>"
      ]
     },
     "metadata": {},
     "output_type": "display_data"
    }
   ],
   "source": [
    "from pandas.plotting import autocorrelation_plot\n",
    "autocorrelation_plot(data['Net Sales'])"
   ]
  },
  {
   "cell_type": "code",
   "execution_count": 44,
   "id": "d0724f14",
   "metadata": {},
   "outputs": [
    {
     "name": "stderr",
     "output_type": "stream",
     "text": [
      "C:\\Users\\91812\\anaconda3\\lib\\site-packages\\statsmodels\\graphics\\tsaplots.py:348: FutureWarning: The default method 'yw' can produce PACF values outside of the [-1,1] interval. After 0.13, the default will change tounadjusted Yule-Walker ('ywm'). You can use this method now by setting method='ywm'.\n",
      "  warnings.warn(\n"
     ]
    },
    {
     "data": {
      "image/png": "[encoded data removed]",
      "text/plain": [
       "<Figure size 640x480 with 1 Axes>"
      ]
     },
     "execution_count": 44,
     "metadata": {},
     "output_type": "execute_result"
    },
    {
     "data": {
      "image/png": "[encoded data removed]",
      "text/plain": [
       "<Figure size 640x480 with 1 Axes>"
      ]
     },
     "metadata": {},
     "output_type": "display_data"
    }
   ],
   "source": [
    "from statsmodels.graphics.tsaplots import plot_pacf\n",
    "plot_pacf(data['Net Sales'],lags = 15)"
   ]
  },
  {
   "cell_type": "code",
   "execution_count": 45,
   "id": "ab1e1a1b",
   "metadata": {},
   "outputs": [],
   "source": [
    "from statsmodels.tsa.arima.model import ARIMA"
   ]
  },
  {
   "cell_type": "code",
   "execution_count": 46,
   "id": "398d0fac",
   "metadata": {},
   "outputs": [],
   "source": [
    "model = ARIMA(data['Net Sales'],order=(5,1,1))#p,d,q(p--auto regression,d-difference order,q--moving average)"
   ]
  },
  {
   "cell_type": "code",
   "execution_count": 47,
   "id": "4e361e33",
   "metadata": {},
   "outputs": [],
   "source": [
    "model = model.fit()"
   ]
  },
  {
   "cell_type": "code",
   "execution_count": 48,
   "id": "e8d40a44",
   "metadata": {},
   "outputs": [],
   "source": [
    "residuals = model.resid"
   ]
  },
  {
   "cell_type": "code",
   "execution_count": 49,
   "id": "38ebedd8",
   "metadata": {},
   "outputs": [
    {
     "data": {
      "text/plain": [
       "<AxesSubplot:>"
      ]
     },
     "execution_count": 49,
     "metadata": {},
     "output_type": "execute_result"
    },
    {
     "data": {
      "image/png": "[encoded data removed]",
      "text/plain": [
       "<Figure size 640x480 with 1 Axes>"
      ]
     },
     "metadata": {},
     "output_type": "display_data"
    }
   ],
   "source": [
    "residuals.plot()"
   ]
  },
  {
   "cell_type": "code",
   "execution_count": 50,
   "id": "87ca64cf",
   "metadata": {},
   "outputs": [],
   "source": [
    "output = model.forecast()"
   ]
  },
  {
   "cell_type": "code",
   "execution_count": 51,
   "id": "a4711827",
   "metadata": {},
   "outputs": [
    {
     "data": {
      "text/plain": [
       "699    5.080926e+08\n",
       "dtype: float64"
      ]
     },
     "execution_count": 51,
     "metadata": {},
     "output_type": "execute_result"
    }
   ],
   "source": [
    "output"
   ]
  },
  {
   "cell_type": "code",
   "execution_count": 52,
   "id": "bcf94d20",
   "metadata": {},
   "outputs": [
    {
     "data": {
      "text/plain": [
       "699    5.080926e+08\n",
       "700    9.110484e+08\n",
       "701    1.512174e+09\n",
       "702    2.365636e+09\n",
       "703    3.531104e+09\n",
       "704    5.073304e+09\n",
       "705    7.061558e+09\n",
       "706    9.569278e+09\n",
       "707    1.267343e+10\n",
       "708    1.645399e+10\n",
       "Name: predicted_mean, dtype: float64"
      ]
     },
     "execution_count": 52,
     "metadata": {},
     "output_type": "execute_result"
    }
   ],
   "source": [
    "model.forecast(10)\n"
   ]
  },
  {
   "cell_type": "markdown",
   "id": "29eca9cb",
   "metadata": {},
   "source": [
    " Write a program to keep asking for a number until you enter a negative number. At the end, print the sum of all entered numbers."
   ]
  },
  {
   "cell_type": "code",
   "execution_count": 25,
   "id": "b6056990",
   "metadata": {},
   "outputs": [
    {
     "name": "stdout",
     "output_type": "stream",
     "text": [
      "numbers:5\n",
      "numbers:5\n",
      "numbers:7\n",
      "numbers:-9\n",
      "17\n"
     ]
    }
   ],
   "source": [
    "lst = []\n",
    "while True:\n",
    "    x = int(input('numbers:'))\n",
    "    if x > 0:\n",
    "        lst.append(x)\n",
    "    if x < 0:\n",
    "        print(sum(lst))\n",
    "        break"
   ]
  },
  {
   "cell_type": "markdown",
   "id": "12c354d0",
   "metadata": {},
   "source": [
    "Write a Python program to check a triangle is equilateral, isosceles or scalene"
   ]
  },
  {
   "cell_type": "markdown",
   "id": "29d687d1",
   "metadata": {},
   "source": [
    "Write a Python program to get next day of a given date"
   ]
  },
  {
   "cell_type": "code",
   "execution_count": 3,
   "id": "17eb191b",
   "metadata": {},
   "outputs": [
    {
     "name": "stdout",
     "output_type": "stream",
     "text": [
      "zero division error\n",
      "name error\n",
      "enter the first number4\n",
      "enter the second number0\n",
      "division by zero\n"
     ]
    }
   ],
   "source": [
    "try:  #try block\n",
    "    x=2/0\n",
    "    print(x)\n",
    "except:  #exception block\n",
    "    print(\"zero division error\")\n",
    "#ex2\n",
    "try:\n",
    "    print(name)\n",
    "except NameError:\n",
    "    print(\"name error\")\n",
    "\n",
    "#ex3\n",
    "try:\n",
    "    x= int(input(\"enter the first number\"))\n",
    "    y=int(input(\"enter the second number\"))\n",
    "    z=x/y\n",
    "except ZeroDivisionError as ZE:\n",
    "    print(ZE)\n",
    "else:\n",
    "    print(z)\n"
   ]
  },
  {
   "cell_type": "code",
   "execution_count": 2,
   "id": "b6d53d72",
   "metadata": {},
   "outputs": [
    {
     "name": "stdout",
     "output_type": "stream",
     "text": [
      "enter the first number4\n",
      "enter the second number0\n",
      "division by zero\n",
      "always executed\n"
     ]
    }
   ],
   "source": [
    "try:\n",
    "    x= int(input(\"enter the first number\"))\n",
    "    y=int(input(\"enter the second number\"))\n",
    "    z=x/y\n",
    "    if y==0:\n",
    "        raise ZeroDivisionError(\"Division by zero is not possible\")\n",
    "except ZeroDivisionError as ZE:\n",
    "    print(ZE)\n",
    "else:\n",
    "    print(z)\n",
    "finally:\n",
    "    print(\"always executed\")\n"
   ]
  },
  {
   "cell_type": "code",
   "execution_count": 4,
   "id": "60b824c8",
   "metadata": {},
   "outputs": [
    {
     "name": "stdout",
     "output_type": "stream",
     "text": [
      "C:\\Users\\91812\\Desktop\\python\n"
     ]
    }
   ],
   "source": [
    "import os\n",
    "print(os.getcwd())\n"
   ]
  },
  {
   "cell_type": "code",
   "execution_count": 10,
   "id": "4b2a5aaa",
   "metadata": {},
   "outputs": [
    {
     "name": "stdout",
     "output_type": "stream",
     "text": [
      "daniel\n"
     ]
    }
   ],
   "source": [
    "print(\"daniel\")"
   ]
  },
  {
   "cell_type": "code",
   "execution_count": 12,
   "id": "d10a19bc",
   "metadata": {},
   "outputs": [
    {
     "data": {
      "text/plain": [
       "'daniel'"
      ]
     },
     "execution_count": 12,
     "metadata": {},
     "output_type": "execute_result"
    }
   ],
   "source": [
    "s=\"daniel\"\n",
    "s"
   ]
  },
  {
   "cell_type": "code",
   "execution_count": 13,
   "id": "43d02469",
   "metadata": {},
   "outputs": [
    {
     "data": {
      "text/plain": [
       "7"
      ]
     },
     "execution_count": 13,
     "metadata": {},
     "output_type": "execute_result"
    }
   ],
   "source": [
    "a=3\n",
    "c=4\n",
    "a+c"
   ]
  },
  {
   "cell_type": "code",
   "execution_count": null,
   "id": "612e51a6",
   "metadata": {},
   "outputs": [],
   "source": [
    "import statistics as st"
   ]
  },
  {
   "cell_type": "code",
   "execution_count": null,
   "id": "21ecadcd",
   "metadata": {},
   "outputs": [],
   "source": [
    "st.median()"
   ]
  }
 ],
 "metadata": {
  "kernelspec": {
   "display_name": "Python 3 (ipykernel)",
   "language": "python",
   "name": "python3"
  },
  "language_info": {
   "codemirror_mode": {
    "name": "ipython",
    "version": 3
   },
   "file_extension": ".py",
   "mimetype": "text/x-python",
   "name": "python",
   "nbconvert_exporter": "python",
   "pygments_lexer": "ipython3",
   "version": "3.10.9"
  }
 },
 "nbformat": 4,
 "nbformat_minor": 5
}
