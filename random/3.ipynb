{
 "cells": [
  {
   "cell_type": "code",
   "execution_count": 1,
   "id": "d477c2dd",
   "metadata": {},
   "outputs": [
    {
     "data": {
      "text/plain": [
       "['f', 'h', 'j']"
      ]
     },
     "execution_count": 1,
     "metadata": {},
     "output_type": "execute_result"
    }
   ],
   "source": [
    "a=[\"a\",\"b\",\"f\",\"g\",\"h\",\"i\",\"j\"]\n",
    "z=slice(2,8,2)\n",
    "a[z]"
   ]
  },
  {
   "cell_type": "code",
   "execution_count": 2,
   "id": "ac4c223f",
   "metadata": {},
   "outputs": [],
   "source": [
    "a[2:2]=\"c\",\"d\",\"e\""
   ]
  },
  {
   "cell_type": "code",
   "execution_count": 3,
   "id": "2d0c5d83",
   "metadata": {},
   "outputs": [],
   "source": [
    "a[9:]=[\"k\",'l',\"m\"]"
   ]
  },
  {
   "cell_type": "code",
   "execution_count": 4,
   "id": "ec3fceed",
   "metadata": {},
   "outputs": [],
   "source": [
    "a[9:9]=\"j\""
   ]
  },
  {
   "cell_type": "code",
   "execution_count": 5,
   "id": "fbd5a813",
   "metadata": {},
   "outputs": [
    {
     "data": {
      "text/plain": [
       "['a', 'b', 'c', 'd', 'e', 'f', 'g', 'h', 'i', 'j', 'k', 'l', 'm']"
      ]
     },
     "execution_count": 5,
     "metadata": {},
     "output_type": "execute_result"
    }
   ],
   "source": [
    "a"
   ]
  },
  {
   "cell_type": "code",
   "execution_count": 21,
   "id": "3ffec655",
   "metadata": {},
   "outputs": [
    {
     "name": "stdout",
     "output_type": "stream",
     "text": [
      "(celsius or fahrenheit): celsius\n",
      "temperature value: 100\n",
      "100.0 degrees equal to 212.0  fahrenheit.\n"
     ]
    }
   ],
   "source": [
    "ch = input(\"(celsius or fahrenheit): \").strip().lower()\n",
    "temperature = float(input(\"temperature value: \"))\n",
    "\n",
    "if ch == \"celsius\":\n",
    "    fahrenheit_temp = (temperature * 9/5) + 32\n",
    "    print(f\"{temperature} degrees equal to {fahrenheit_temp}  fahrenheit.\")\n",
    "elif ch == \"fahrenheit\":\n",
    "    celsius_temp = (temperature - 32) * 5/9\n",
    "    print(f\"{temperature} fahrenheit  equal to {celsius_temp} celsius.\")\n",
    "else:\n",
    "    print(\"Invalid\")\n"
   ]
  },
  {
   "cell_type": "code",
   "execution_count": null,
   "id": "238cfb83",
   "metadata": {},
   "outputs": [],
   "source": [
    "num = int(input(\"Enter a number: \"))\n",
    "fac = 1\n",
    "if num < 0:\n",
    "    print(\" not exist\")\n",
    "elif num == 0:\n",
    "    print(\" 1.\")\n",
    "else:\n",
    "    or_num = num\n",
    "    \n",
    "    while num > 0:\n",
    "        fac *= num\n",
    "        num -= 1\n",
    "\n",
    "    print(\"The factorial of\", or_num, \"is\", fac)\n"
   ]
  },
  {
   "cell_type": "code",
   "execution_count": null,
   "id": "c7be46fe",
   "metadata": {},
   "outputs": [],
   "source": [
    "numbers = input(\" numbers separated by space: \").split()\n",
    "numbers = [int(num) for num in numbers]\n",
    "total = 0\n",
    "index = 0\n",
    "while index < len(numbers):\n",
    "    total += numbers[index]\n",
    "    index += 1\n",
    "\n",
    "print(\"Sum \", total)\n"
   ]
  },
  {
   "cell_type": "code",
   "execution_count": null,
   "id": "48ba01b0",
   "metadata": {},
   "outputs": [],
   "source": [
    "num = 1\n",
    "while num <= 10:\n",
    "    square = num ** 2\n",
    "    print(\"square of \"+str(num)+\" is \"+str(square))\n",
    "    num += 1"
   ]
  },
  {
   "cell_type": "code",
   "execution_count": null,
   "id": "ecfb1b54",
   "metadata": {},
   "outputs": [],
   "source": [
    "num= [10, 30, 25, 50, 15, 40, 5]\n",
    "lar = None\n",
    "l=0\n",
    "while l < len(num):\n",
    "    if lar is None or num[l] > lar:\n",
    "        lar = num[l]\n",
    "    l+= 1\n",
    "\n",
    "print(\"largest number\", lar)\n"
   ]
  },
  {
   "cell_type": "code",
   "execution_count": null,
   "id": "9bdc9fdc",
   "metadata": {},
   "outputs": [],
   "source": [
    "no=int(input(\"enter a no to print multiple table\"))\n",
    "def mul(no):\n",
    "    i=1\n",
    "    while i <11:\n",
    "        print(str(i) +\"x\"+str(no)+\" =\"+str(i*no) )\n",
    "        i+=1\n",
    "mul(no)\n"
   ]
  },
  {
   "cell_type": "code",
   "execution_count": null,
   "id": "2b218aae",
   "metadata": {},
   "outputs": [],
   "source": [
    "def prin(name,add):\n",
    "    print(\"your name is \"+name+ \" your add is \"+add)\n",
    "prin(\"ashik\",\"nilamel\" )\n",
    "    "
   ]
  },
  {
   "cell_type": "code",
   "execution_count": null,
   "id": "4ed331b9",
   "metadata": {},
   "outputs": [],
   "source": [
    "def add(a,b):\n",
    "    sum=a+b\n",
    "    return sum\n",
    "\n",
    "\n",
    "var=add(4,5)\n",
    "print(\"sum is \"+str(var))"
   ]
  },
  {
   "cell_type": "code",
   "execution_count": null,
   "id": "29f5bc5e",
   "metadata": {},
   "outputs": [],
   "source": [
    "def details(name,age=18):\n",
    "    print(\"hi \"+str(name))\n",
    "    print(\"your age is \"+str(age))\n",
    "    \n",
    "details(\"ashwin\")"
   ]
  },
  {
   "cell_type": "code",
   "execution_count": null,
   "id": "7d5767dc",
   "metadata": {},
   "outputs": [],
   "source": [
    "details(\"arun\",\"30\")"
   ]
  },
  {
   "cell_type": "code",
   "execution_count": null,
   "id": "cbcd89af",
   "metadata": {},
   "outputs": [],
   "source": [
    "details(age=20,name=\"vishnu\")"
   ]
  },
  {
   "cell_type": "code",
   "execution_count": null,
   "id": "cbfebe2e",
   "metadata": {},
   "outputs": [],
   "source": [
    "def suggetion(season=\"normal\"):\n",
    "    if season==\"sunny\":\n",
    "        return \"sneakers\"\n",
    "    elif season==\"rainy\":\n",
    "        return \"gumboot\"\n",
    "    elif season=='snowy':\n",
    "        return \"boots\"\n",
    "    else:\n",
    "        print(\"invalid input\")\n",
    "        \n",
    "    \n",
    "sea=input(\"is it   SUNNY RAINY or SNOWY   \").strip().lower()\n",
    "out=suggetion(sea)\n",
    "\n",
    "if(out==None):\n",
    "    print(\"try again \")\n",
    "else:\n",
    "    print(\"you are suggested to wear \"+str(out))\n"
   ]
  },
  {
   "cell_type": "code",
   "execution_count": null,
   "id": "2c23f64a",
   "metadata": {},
   "outputs": [],
   "source": [
    "while True:\n",
    "    i=int(input(\"enter a choice 1:ADD 2:SUBTRACT 3:MUL 4:DIV 0:EXIT\"))\n",
    "    if i==0:\n",
    "        break\n",
    "    elif i<=4:\n",
    "        a=int(input(\"enter first no\"))\n",
    "        b=int(input(\"enter second no\"))\n",
    "        if i==1:\n",
    "            print(f\"sum is {a+b}\")\n",
    "        elif i==2:\n",
    "            print(f\"diff is {a-b} \")\n",
    "        elif i==3:\n",
    "            print(f\"product is {a*b}\")\n",
    "        elif i==4:\n",
    "            print(f\"quotient is {a/b}\")\n",
    "        else:\n",
    "            print(\"invalid input\")\n",
    "    else:\n",
    "        print(\"invalid input\")\n"
   ]
  },
  {
   "cell_type": "code",
   "execution_count": 1,
   "id": "18a3121d",
   "metadata": {},
   "outputs": [
    {
     "name": "stdout",
     "output_type": "stream",
     "text": [
      "enter number4\n",
      "10\n"
     ]
    }
   ],
   "source": [
    "def rec_sum(num):\n",
    "    if num==1:\n",
    "        return num\n",
    "    else:\n",
    "        num+=rec_sum(num-1)\n",
    "        return num\n",
    "    \n",
    "num=int(input(\"enter number\"))\n",
    "nums=rec_sum(num)\n",
    "print(nums)"
   ]
  },
  {
   "cell_type": "code",
   "execution_count": 7,
   "id": "559b7208",
   "metadata": {},
   "outputs": [
    {
     "name": "stdout",
     "output_type": "stream",
     "text": [
      "Numbers separated by space: 1 3 45 6\n",
      "Sum is 55\n"
     ]
    }
   ],
   "source": [
    "numbers = input(\"Numbers separated by space: \").split()\n",
    "\n",
    "def sum_lis(num):\n",
    "    summ = 0\n",
    "    for i in range(len(num)):\n",
    "        summ += int(num[i])  \n",
    "    print(f\"Sum is {summ}\")\n",
    "\n",
    "sum_lis(numbers)\n"
   ]
  },
  {
   "cell_type": "code",
   "execution_count": 10,
   "id": "55344939",
   "metadata": {},
   "outputs": [
    {
     "name": "stdout",
     "output_type": "stream",
     "text": [
      "enter stringashik\n",
      "k\n",
      "i\n",
      "h\n",
      "s\n",
      "a\n"
     ]
    }
   ],
   "source": [
    "\n",
    "def string_rev(dat):\n",
    "    for i in range(len(dat)-1,-1,-1):\n",
    "        print(dat[i])\n",
    "dat=input(\"enter string\")\n",
    "string_rev(dat)"
   ]
  },
  {
   "cell_type": "code",
   "execution_count": 21,
   "id": "38814638",
   "metadata": {},
   "outputs": [
    {
     "data": {
      "text/plain": [
       "[None, None, None, None, None, None, None, None, None]"
      ]
     },
     "execution_count": 21,
     "metadata": {},
     "output_type": "execute_result"
    }
   ],
   "source": [
    "lis = [1, 3, 4, 5, 6, 8, 8, 9,3, 55,90]\n",
    "newlis =[]\n",
    "[newlis.append(i) for i in lis if i not in newlis]\n"
   ]
  },
  {
   "cell_type": "code",
   "execution_count": 20,
   "id": "33842fbb",
   "metadata": {},
   "outputs": [
    {
     "data": {
      "text/plain": [
       "[]"
      ]
     },
     "execution_count": 20,
     "metadata": {},
     "output_type": "execute_result"
    }
   ],
   "source": [
    "newlis"
   ]
  },
  {
   "cell_type": "markdown",
   "id": "39e2694d",
   "metadata": {},
   "source": [
    "In Python, list comprehensions are typically used to create new lists by applying an expression to each item in an iterable. However, in your code, the list comprehension is being used for its side effect (appending to newlis) rather than creating a new list directly."
   ]
  },
  {
   "cell_type": "code",
   "execution_count": 10,
   "id": "70974c87",
   "metadata": {},
   "outputs": [],
   "source": [
    "def searc(kee):\n",
    "    dic = {\"ashik\": 234542, \"jino\": 345356, \"alan\": 99860}\n",
    "    f = [dic[key] for key in dic if key == kee]\n",
    "    return f\n",
    "\n",
    "\n",
    "key=input(\"enter a name :\")\n",
    "da=searc(key)\n",
    "if len(da)==0:\n",
    "    print(\"not found\")\n",
    "else:\n",
    "    print(da)"
   ]
  },
  {
   "cell_type": "code",
   "execution_count": 16,
   "id": "80ed7a93",
   "metadata": {},
   "outputs": [
    {
     "data": {
      "text/plain": [
       "[]"
      ]
     },
     "execution_count": 16,
     "metadata": {},
     "output_type": "execute_result"
    }
   ],
   "source": [
    "da"
   ]
  },
  {
   "cell_type": "code",
   "execution_count": 20,
   "id": "fe43876b",
   "metadata": {},
   "outputs": [
    {
     "name": "stdout",
     "output_type": "stream",
     "text": [
      "1\n",
      "11\n",
      "111\n",
      "1111\n",
      "11111\n",
      "111111\n",
      "1111111\n",
      "11111111\n"
     ]
    }
   ],
   "source": [
    "def print_pattern():\n",
    "    for i in range(1,9):\n",
    "        print('1'*i)\n",
    "print_pattern()"
   ]
  },
  {
   "cell_type": "code",
   "execution_count": 22,
   "id": "f8e4ea4f",
   "metadata": {},
   "outputs": [
    {
     "data": {
      "text/plain": [
       "3"
      ]
     },
     "execution_count": 22,
     "metadata": {},
     "output_type": "execute_result"
    }
   ],
   "source": [
    "lis=[\"a\",\"b\",\"c\",\"d\"]\n",
    "sume=lambda arg:arg+1\n",
    "sume(2)"
   ]
  },
  {
   "cell_type": "code",
   "execution_count": 24,
   "id": "095da2c1",
   "metadata": {},
   "outputs": [],
   "source": [
    "s=lambda a,b:a if a>b else b"
   ]
  },
  {
   "cell_type": "code",
   "execution_count": 25,
   "id": "70cbd748",
   "metadata": {},
   "outputs": [
    {
     "data": {
      "text/plain": [
       "5"
      ]
     },
     "execution_count": 25,
     "metadata": {},
     "output_type": "execute_result"
    }
   ],
   "source": [
    "s(2,5)"
   ]
  },
  {
   "cell_type": "code",
   "execution_count": 26,
   "id": "06c67e24",
   "metadata": {},
   "outputs": [],
   "source": [
    "r=[lambda arg=b:arg*10 for b in range(1,5)]"
   ]
  },
  {
   "cell_type": "code",
   "execution_count": 27,
   "id": "3a53d785",
   "metadata": {},
   "outputs": [
    {
     "name": "stdout",
     "output_type": "stream",
     "text": [
      "10\n",
      "20\n",
      "30\n",
      "40\n"
     ]
    }
   ],
   "source": [
    "for i in r:\n",
    "    print(i())"
   ]
  },
  {
   "cell_type": "code",
   "execution_count": null,
   "id": "f59b58b5",
   "metadata": {},
   "outputs": [],
   "source": []
  },
  {
   "cell_type": "code",
   "execution_count": 39,
   "id": "19f85bff",
   "metadata": {},
   "outputs": [],
   "source": [
    "st=lambda s:True if s==s[::-1] else False"
   ]
  },
  {
   "cell_type": "code",
   "execution_count": 40,
   "id": "d3aeff4d",
   "metadata": {},
   "outputs": [
    {
     "data": {
      "text/plain": [
       "True"
      ]
     },
     "execution_count": 40,
     "metadata": {},
     "output_type": "execute_result"
    }
   ],
   "source": [
    "st(\"malayalam\")"
   ]
  },
  {
   "cell_type": "code",
   "execution_count": null,
   "id": "0b38b082",
   "metadata": {},
   "outputs": [],
   "source": [
    "\n",
    "def even_odd(lis):\n",
    "    if lis[i]%2==0:\n",
    "        ev+=1\n",
    "    else:\n",
    "        od+=1\n",
    "    return ev,od\n",
    "ev=0\n",
    "od=0\n",
    "nos=[13,90,17,59,21,60]\n",
    "asd,dd=map(even_odd,nos)\n",
    "\n",
    "#type(nos)    "
   ]
  },
  {
   "cell_type": "code",
   "execution_count": 41,
   "id": "ce81d1a0",
   "metadata": {},
   "outputs": [
    {
     "name": "stdout",
     "output_type": "stream",
     "text": [
      "[64, 75, 86]\n"
     ]
    }
   ],
   "source": [
    "ages=[12,34,33,34,64,75,86,33]\n",
    "adults=list(filter(lambda age: age>50,ages))\n",
    "print(adults)"
   ]
  },
  {
   "cell_type": "code",
   "execution_count": 44,
   "id": "c50a8dd2",
   "metadata": {},
   "outputs": [
    {
     "data": {
      "text/plain": [
       "'C:\\\\Users\\\\user\\\\tutorials'"
      ]
     },
     "execution_count": 44,
     "metadata": {},
     "output_type": "execute_result"
    }
   ],
   "source": [
    "pwd\n"
   ]
  },
  {
   "cell_type": "code",
   "execution_count": 49,
   "id": "e769a6f4",
   "metadata": {},
   "outputs": [],
   "source": [
    "fil=open(\"sample.txt\",\"r\")"
   ]
  },
  {
   "cell_type": "code",
   "execution_count": 51,
   "id": "11c218e9",
   "metadata": {},
   "outputs": [],
   "source": [
    "fil.read()\n",
    "fil.close()"
   ]
  },
  {
   "cell_type": "code",
   "execution_count": 53,
   "id": "0c1bbdb3",
   "metadata": {},
   "outputs": [
    {
     "data": {
      "text/plain": [
       "19"
      ]
     },
     "execution_count": 53,
     "metadata": {},
     "output_type": "execute_result"
    }
   ],
   "source": [
    "fil=open(\"sample.txt\",\"w\")\n",
    "fil.write(\"\\n appended new line\")"
   ]
  },
  {
   "cell_type": "code",
   "execution_count": 59,
   "id": "032acc0d",
   "metadata": {},
   "outputs": [],
   "source": [
    "fil.close()\n"
   ]
  },
  {
   "cell_type": "code",
   "execution_count": 58,
   "id": "335a2dab",
   "metadata": {},
   "outputs": [
    {
     "data": {
      "text/plain": [
       "'\\n appended new line'"
      ]
     },
     "execution_count": 58,
     "metadata": {},
     "output_type": "execute_result"
    }
   ],
   "source": [
    "fil=open(\"sample.txt\",\"r\")\n",
    "fil.read()"
   ]
  },
  {
   "cell_type": "code",
   "execution_count": 68,
   "id": "2815e69b",
   "metadata": {},
   "outputs": [],
   "source": [
    "fil=open(\"sample.txt\",\"r\")\n"
   ]
  },
  {
   "cell_type": "code",
   "execution_count": 65,
   "id": "19a60b66",
   "metadata": {},
   "outputs": [
    {
     "data": {
      "text/plain": [
       "43"
      ]
     },
     "execution_count": 65,
     "metadata": {},
     "output_type": "execute_result"
    }
   ],
   "source": [
    "fil.write(\"\\n next line one \\n next line 2 \\n next line 3\")"
   ]
  },
  {
   "cell_type": "code",
   "execution_count": 69,
   "id": "848f0c0a",
   "metadata": {},
   "outputs": [
    {
     "data": {
      "text/plain": [
       "'\\n next line one \\n next line 2 \\n next line 3ine 2 \\n next line 3'"
      ]
     },
     "execution_count": 69,
     "metadata": {},
     "output_type": "execute_result"
    }
   ],
   "source": [
    "fil.read()"
   ]
  },
  {
   "cell_type": "code",
   "execution_count": 71,
   "id": "63f5f5c3",
   "metadata": {},
   "outputs": [],
   "source": [
    "fil.close()"
   ]
  },
  {
   "cell_type": "code",
   "execution_count": 76,
   "id": "09de407c",
   "metadata": {},
   "outputs": [
    {
     "name": "stdout",
     "output_type": "stream",
     "text": [
      "\n",
      "\n",
      " next line one \n",
      "\n",
      " next line 2 \n",
      "\n",
      " next line 3ine 2 \n",
      "\n",
      " next line 3\n"
     ]
    }
   ],
   "source": [
    "fil = open(\"sample.txt\", \"r\")\n",
    "for line in fil:\n",
    "    print(line)\n",
    "fil.close()\n"
   ]
  },
  {
   "cell_type": "code",
   "execution_count": 2,
   "id": "2e9b189a",
   "metadata": {},
   "outputs": [
    {
     "name": "stdout",
     "output_type": "stream",
     "text": [
      "next line one \n",
      "\n"
     ]
    }
   ],
   "source": [
    "file = open('sample.txt', 'r')\n",
    "\n",
    "line = file.readline()\n",
    "file.close()\n",
    "print(line)\n",
    "\n"
   ]
  },
  {
   "cell_type": "code",
   "execution_count": 11,
   "id": "3fa837c0",
   "metadata": {},
   "outputs": [
    {
     "name": "stdout",
     "output_type": "stream",
     "text": [
      "['next line one \\n', 'next line 2 \\n', 'next line 3ine 2 \\n', 'next line 3']\n"
     ]
    }
   ],
   "source": [
    "file = open('sample.txt', 'r')\n",
    "\n",
    "line = file.readlines()\n",
    "file.close()\n",
    "print(line)"
   ]
  },
  {
   "cell_type": "code",
   "execution_count": 5,
   "id": "7bbde149",
   "metadata": {},
   "outputs": [],
   "source": [
    "f=open(\"sample.txt\",\"r\")"
   ]
  },
  {
   "cell_type": "code",
   "execution_count": 6,
   "id": "511e73c4",
   "metadata": {},
   "outputs": [
    {
     "data": {
      "text/plain": [
       "'next line one \\nnext line 2 \\nnext line 3ine 2 \\nnext line 3'"
      ]
     },
     "execution_count": 6,
     "metadata": {},
     "output_type": "execute_result"
    }
   ],
   "source": [
    "f.read()"
   ]
  },
  {
   "cell_type": "code",
   "execution_count": 7,
   "id": "db52b1e8",
   "metadata": {},
   "outputs": [],
   "source": [
    "f.close()"
   ]
  },
  {
   "cell_type": "code",
   "execution_count": 8,
   "id": "0e9d18ad",
   "metadata": {},
   "outputs": [],
   "source": [
    "f=open(\"sample.txt\",\"a\")"
   ]
  },
  {
   "cell_type": "code",
   "execution_count": 10,
   "id": "5f72fd49",
   "metadata": {},
   "outputs": [],
   "source": [
    "f.write(\"\\n last line\")\n",
    "f.close()"
   ]
  },
  {
   "cell_type": "code",
   "execution_count": 24,
   "id": "93160886",
   "metadata": {},
   "outputs": [
    {
     "data": {
      "text/plain": [
       "'cat \\ndog\\ncow\\nbat\\n'"
      ]
     },
     "execution_count": 24,
     "metadata": {},
     "output_type": "execute_result"
    }
   ],
   "source": [
    "f=open(\"sample.txt\",\"r\")\n",
    "f.read()"
   ]
  },
  {
   "cell_type": "code",
   "execution_count": 15,
   "id": "e49f6a07",
   "metadata": {},
   "outputs": [],
   "source": [
    "def char_count(filename):\n",
    "    return (len(open(filename).read()))"
   ]
  },
  {
   "cell_type": "code",
   "execution_count": 16,
   "id": "2230c748",
   "metadata": {},
   "outputs": [
    {
     "data": {
      "text/plain": [
       "79"
      ]
     },
     "execution_count": 16,
     "metadata": {},
     "output_type": "execute_result"
    }
   ],
   "source": [
    "char_count(\"sample.txt\")"
   ]
  },
  {
   "cell_type": "code",
   "execution_count": 17,
   "id": "755c366d",
   "metadata": {},
   "outputs": [
    {
     "data": {
      "text/plain": [
       "17"
      ]
     },
     "execution_count": 17,
     "metadata": {},
     "output_type": "execute_result"
    }
   ],
   "source": [
    "def word_count(filename):\n",
    "    return(len(open(filename).read().split()))\n",
    "word_count(\"sample.txt\")"
   ]
  },
  {
   "cell_type": "code",
   "execution_count": 18,
   "id": "a6e91b7f",
   "metadata": {},
   "outputs": [
    {
     "data": {
      "text/plain": [
       "6"
      ]
     },
     "execution_count": 18,
     "metadata": {},
     "output_type": "execute_result"
    }
   ],
   "source": [
    "def line_count(filename):\n",
    "    return(len(open(filename).readlines()))\n",
    "line_count(\"sample.txt\")"
   ]
  },
  {
   "cell_type": "code",
   "execution_count": 25,
   "id": "3a61c8d2",
   "metadata": {},
   "outputs": [
    {
     "name": "stdout",
     "output_type": "stream",
     "text": [
      "\n",
      "bat\n",
      "cow\n",
      "dog\n",
      "cat \n"
     ]
    }
   ],
   "source": [
    "a=open(\"sample.txt\").read()\n",
    "\n",
    "def print_reverse(a):\n",
    "   \n",
    "    a=a.split('\\n')\n",
    "    a.reverse()\n",
    "    b='\\n'.join(a)\n",
    "    return b\n",
    "#a=open(\"sample.txt\").read()\n",
    "rev=print_reverse(a)\n",
    "print(rev)"
   ]
  },
  {
   "cell_type": "code",
   "execution_count": 28,
   "id": "48216d0c",
   "metadata": {},
   "outputs": [],
   "source": [
    "color=[\"black\",\"blue\",\"red\",\"yellow\",\"white\",\"pink\"]\n",
    "color=[x for (i,x) in enumerate(color) if i not in (0,4,5)]"
   ]
  },
  {
   "cell_type": "code",
   "execution_count": 29,
   "id": "b95737fc",
   "metadata": {},
   "outputs": [
    {
     "data": {
      "text/plain": [
       "['blue', 'red', 'yellow']"
      ]
     },
     "execution_count": 29,
     "metadata": {},
     "output_type": "execute_result"
    }
   ],
   "source": [
    "color"
   ]
  },
  {
   "cell_type": "code",
   "execution_count": 36,
   "id": "357658fc",
   "metadata": {},
   "outputs": [],
   "source": [
    "a=range(10)\n",
    "lis=[i for i in a]"
   ]
  },
  {
   "cell_type": "code",
   "execution_count": 37,
   "id": "849a0c95",
   "metadata": {},
   "outputs": [
    {
     "data": {
      "text/plain": [
       "[0, 1, 2, 3, 4, 5, 6, 7, 8, 9]"
      ]
     },
     "execution_count": 37,
     "metadata": {},
     "output_type": "execute_result"
    }
   ],
   "source": [
    "lis"
   ]
  },
  {
   "cell_type": "code",
   "execution_count": 40,
   "id": "f53fbdd1",
   "metadata": {},
   "outputs": [],
   "source": [
    "x=enumerate(lis)"
   ]
  },
  {
   "cell_type": "code",
   "execution_count": 42,
   "id": "d34dcd61",
   "metadata": {},
   "outputs": [
    {
     "name": "stdout",
     "output_type": "stream",
     "text": [
      "[(0, 0), (1, 1), (2, 2), (3, 3), (4, 4), (5, 5), (6, 6), (7, 7), (8, 8), (9, 9)]\n"
     ]
    }
   ],
   "source": [
    "print(list(x))"
   ]
  },
  {
   "cell_type": "code",
   "execution_count": 43,
   "id": "92f417a2",
   "metadata": {},
   "outputs": [
    {
     "name": "stdout",
     "output_type": "stream",
     "text": [
      "(0, 0)\n",
      "(1, 1)\n",
      "(2, 2)\n",
      "(3, 3)\n",
      "(4, 4)\n",
      "(5, 5)\n",
      "(6, 6)\n",
      "(7, 7)\n",
      "(8, 8)\n",
      "(9, 9)\n"
     ]
    }
   ],
   "source": [
    "for ele in enumerate(lis):\n",
    "    print(ele)"
   ]
  },
  {
   "cell_type": "code",
   "execution_count": 54,
   "id": "1935bb1e",
   "metadata": {},
   "outputs": [],
   "source": [
    "n=25\n",
    "o=[(x,y,z) for x in range(1,n) for y in range(x,n) for z in range(y,n) if x*x+y*y==z*z]"
   ]
  },
  {
   "cell_type": "code",
   "execution_count": 55,
   "id": "35b5cb95",
   "metadata": {},
   "outputs": [
    {
     "name": "stdout",
     "output_type": "stream",
     "text": [
      "[(3, 4, 5), (5, 12, 13), (6, 8, 10), (8, 15, 17), (9, 12, 15), (12, 16, 20)]\n"
     ]
    }
   ],
   "source": [
    "print(o)"
   ]
  },
  {
   "cell_type": "code",
   "execution_count": 58,
   "id": "f27fc4cf",
   "metadata": {},
   "outputs": [],
   "source": [
    "nums=[2,3,4,5,98,7,6,5]\n",
    "enu=enumerate(nums)\n",
    "odd=[(x,y) for (x,y) in enu if y%2!=0]\n",
    "\n",
    "for i,j in odd:\n",
    "    print(f\"odd no at index {i} is {j}  \")"
   ]
  },
  {
   "cell_type": "code",
   "execution_count": null,
   "id": "aa47b8c1",
   "metadata": {},
   "outputs": [],
   "source": []
  },
  {
   "cell_type": "code",
   "execution_count": null,
   "id": "c837eeb9",
   "metadata": {},
   "outputs": [],
   "source": []
  },
  {
   "cell_type": "code",
   "execution_count": null,
   "id": "62c78099",
   "metadata": {},
   "outputs": [],
   "source": []
  },
  {
   "cell_type": "code",
   "execution_count": null,
   "id": "940a3241",
   "metadata": {},
   "outputs": [],
   "source": []
  },
  {
   "cell_type": "code",
   "execution_count": null,
   "id": "a48f6de5",
   "metadata": {},
   "outputs": [],
   "source": []
  },
  {
   "cell_type": "code",
   "execution_count": null,
   "id": "a6045b80",
   "metadata": {},
   "outputs": [],
   "source": []
  },
  {
   "cell_type": "code",
   "execution_count": null,
   "id": "dfa666c9",
   "metadata": {},
   "outputs": [],
   "source": []
  },
  {
   "cell_type": "code",
   "execution_count": null,
   "id": "190ea733",
   "metadata": {},
   "outputs": [],
   "source": []
  },
  {
   "cell_type": "code",
   "execution_count": null,
   "id": "df4b67cc",
   "metadata": {},
   "outputs": [],
   "source": []
  },
  {
   "cell_type": "code",
   "execution_count": null,
   "id": "5e73c298",
   "metadata": {},
   "outputs": [],
   "source": []
  },
  {
   "cell_type": "code",
   "execution_count": 46,
   "id": "2546a2b8",
   "metadata": {},
   "outputs": [],
   "source": [
    "a=range(10)"
   ]
  },
  {
   "cell_type": "code",
   "execution_count": 47,
   "id": "93925e95",
   "metadata": {},
   "outputs": [
    {
     "name": "stdout",
     "output_type": "stream",
     "text": [
      "[0, 1, 2, 3, 4, 5, 6, 7, 8, 9]\n"
     ]
    }
   ],
   "source": [
    "print(list(a))"
   ]
  },
  {
   "cell_type": "code",
   "execution_count": 48,
   "id": "2f4c164f",
   "metadata": {},
   "outputs": [],
   "source": [
    "b=[x for x in a]"
   ]
  },
  {
   "cell_type": "code",
   "execution_count": 49,
   "id": "ad1f77cc",
   "metadata": {},
   "outputs": [
    {
     "data": {
      "text/plain": [
       "[0, 1, 2, 3, 4, 5, 6, 7, 8, 9]"
      ]
     },
     "execution_count": 49,
     "metadata": {},
     "output_type": "execute_result"
    }
   ],
   "source": [
    "b"
   ]
  },
  {
   "cell_type": "code",
   "execution_count": 50,
   "id": "09bba3ba",
   "metadata": {},
   "outputs": [],
   "source": [
    "c=[x*x for x in b]"
   ]
  },
  {
   "cell_type": "code",
   "execution_count": 51,
   "id": "33ae17f4",
   "metadata": {},
   "outputs": [
    {
     "data": {
      "text/plain": [
       "[0, 1, 4, 9, 16, 25, 36, 49, 64, 81]"
      ]
     },
     "execution_count": 51,
     "metadata": {},
     "output_type": "execute_result"
    }
   ],
   "source": [
    "c"
   ]
  },
  {
   "cell_type": "code",
   "execution_count": 52,
   "id": "53e9c552",
   "metadata": {},
   "outputs": [],
   "source": [
    "f=[x for x in a if x%2==0]"
   ]
  },
  {
   "cell_type": "code",
   "execution_count": 53,
   "id": "64a66277",
   "metadata": {},
   "outputs": [
    {
     "data": {
      "text/plain": [
       "[0, 2, 4, 6, 8]"
      ]
     },
     "execution_count": 53,
     "metadata": {},
     "output_type": "execute_result"
    }
   ],
   "source": [
    "f"
   ]
  },
  {
   "cell_type": "code",
   "execution_count": 81,
   "id": "48a4f512",
   "metadata": {},
   "outputs": [],
   "source": [
    "i=[1,2,3,4,5,6]\n",
    "sq=[1,4,9,16,25,36]\n",
    "sqzip=zip(i,sq)"
   ]
  },
  {
   "cell_type": "code",
   "execution_count": 82,
   "id": "9ead2fb8",
   "metadata": {},
   "outputs": [
    {
     "data": {
      "text/plain": [
       "[(1, 1), (2, 4), (3, 9), (4, 16), (5, 25), (6, 36)]"
      ]
     },
     "execution_count": 82,
     "metadata": {},
     "output_type": "execute_result"
    }
   ],
   "source": [
    "s=list(sqzip)\n",
    "s"
   ]
  },
  {
   "cell_type": "code",
   "execution_count": 83,
   "id": "eeee1efb",
   "metadata": {},
   "outputs": [
    {
     "name": "stdout",
     "output_type": "stream",
     "text": [
      "1 1\n",
      "2 4\n",
      "3 9\n",
      "4 16\n",
      "5 25\n",
      "6 36\n"
     ]
    }
   ],
   "source": [
    "for l,n in s:\n",
    "    print(l,n)"
   ]
  },
  {
   "cell_type": "code",
   "execution_count": null,
   "id": "78b28a0a",
   "metadata": {},
   "outputs": [],
   "source": []
  },
  {
   "cell_type": "code",
   "execution_count": null,
   "id": "c3bfd990",
   "metadata": {},
   "outputs": [],
   "source": []
  },
  {
   "cell_type": "code",
   "execution_count": null,
   "id": "ae5560d7",
   "metadata": {},
   "outputs": [],
   "source": []
  },
  {
   "cell_type": "code",
   "execution_count": null,
   "id": "42b357a4",
   "metadata": {},
   "outputs": [],
   "source": []
  },
  {
   "cell_type": "code",
   "execution_count": null,
   "id": "2b730c8f",
   "metadata": {},
   "outputs": [],
   "source": []
  },
  {
   "cell_type": "code",
   "execution_count": null,
   "id": "92cfb3ff",
   "metadata": {},
   "outputs": [],
   "source": []
  },
  {
   "cell_type": "code",
   "execution_count": null,
   "id": "bfaf47e2",
   "metadata": {},
   "outputs": [],
   "source": []
  },
  {
   "cell_type": "code",
   "execution_count": null,
   "id": "15b7a5b4",
   "metadata": {},
   "outputs": [],
   "source": []
  },
  {
   "cell_type": "code",
   "execution_count": null,
   "id": "062a72fd",
   "metadata": {},
   "outputs": [],
   "source": []
  },
  {
   "cell_type": "code",
   "execution_count": null,
   "id": "616f439d",
   "metadata": {},
   "outputs": [],
   "source": []
  },
  {
   "cell_type": "code",
   "execution_count": null,
   "id": "034a3407",
   "metadata": {},
   "outputs": [],
   "source": []
  },
  {
   "cell_type": "code",
   "execution_count": null,
   "id": "c2503c91",
   "metadata": {},
   "outputs": [],
   "source": []
  },
  {
   "cell_type": "code",
   "execution_count": null,
   "id": "17940b59",
   "metadata": {},
   "outputs": [],
   "source": []
  },
  {
   "cell_type": "code",
   "execution_count": null,
   "id": "8f868f0f",
   "metadata": {},
   "outputs": [],
   "source": []
  },
  {
   "cell_type": "code",
   "execution_count": null,
   "id": "4b9b00a5",
   "metadata": {},
   "outputs": [],
   "source": []
  },
  {
   "cell_type": "code",
   "execution_count": null,
   "id": "06a53c6c",
   "metadata": {},
   "outputs": [],
   "source": []
  },
  {
   "cell_type": "code",
   "execution_count": null,
   "id": "70089b95",
   "metadata": {},
   "outputs": [],
   "source": []
  },
  {
   "cell_type": "code",
   "execution_count": null,
   "id": "259c2589",
   "metadata": {},
   "outputs": [],
   "source": []
  },
  {
   "cell_type": "code",
   "execution_count": null,
   "id": "9f5cac91",
   "metadata": {},
   "outputs": [],
   "source": []
  }
 ],
 "metadata": {
  "kernelspec": {
   "display_name": "Python 3 (ipykernel)",
   "language": "python",
   "name": "python3"
  },
  "language_info": {
   "codemirror_mode": {
    "name": "ipython",
    "version": 3
   },
   "file_extension": ".py",
   "mimetype": "text/x-python",
   "name": "python",
   "nbconvert_exporter": "python",
   "pygments_lexer": "ipython3",
   "version": "3.10.9"
  }
 },
 "nbformat": 4,
 "nbformat_minor": 5
}
