{
 "cells": [
  {
   "cell_type": "code",
   "execution_count": 1,
   "id": "2668258e",
   "metadata": {},
   "outputs": [
    {
     "name": "stdout",
     "output_type": "stream",
     "text": [
      "[[ 5  7  5  5  9]\n",
      " [ 1  6  0  6  0]\n",
      " [ 4  5  7  9  3]\n",
      " [ 5  9  4  1  4]\n",
      " [10  4  3  2  8]]\n"
     ]
    }
   ],
   "source": [
    "import numpy as np\n",
    "\n",
    "\n",
    "matrix = np.random.randint(0, 11, size=(5, 5))\n",
    "print(matrix)"
   ]
  },
  {
   "cell_type": "code",
   "execution_count": 3,
   "id": "303bc2ad",
   "metadata": {},
   "outputs": [
    {
     "name": "stdout",
     "output_type": "stream",
     "text": [
      "[[-0.64023589 -0.64541077 -0.20457958]\n",
      " [-0.13603701 -0.88320795 -0.04229659]\n",
      " [ 0.54041831 -1.54853082  2.01508441]]\n"
     ]
    }
   ],
   "source": [
    "matrix = np.random.randn(3, 3)\n",
    "print(matrix)"
   ]
  },
  {
   "cell_type": "code",
   "execution_count": 4,
   "id": "8faba4aa",
   "metadata": {},
   "outputs": [
    {
     "name": "stdout",
     "output_type": "stream",
     "text": [
      "[[102  68  54]\n",
      " [ 12   6  50]\n",
      " [ 35   5  50]]\n"
     ]
    }
   ],
   "source": [
    "matrix1 = np.random.randint(0, 10, size=(3, 3))\n",
    "matrix2 = np.random.randint(0, 10, size=(3, 3))\n",
    "result = matrix1 @ matrix2\n",
    "print(result)\n"
   ]
  },
  {
   "cell_type": "code",
   "execution_count": 6,
   "id": "69f37f20",
   "metadata": {},
   "outputs": [
    {
     "name": "stdout",
     "output_type": "stream",
     "text": [
      "[[4 9 4]\n",
      " [2 0 8]\n",
      " [2 2 5]]\n",
      "[[4 2 2]\n",
      " [9 0 2]\n",
      " [4 8 5]]\n"
     ]
    }
   ],
   "source": [
    "matrix = np.random.randint(0, 10, size=(3, 3))\n",
    "tmatrix = matrix.T\n",
    "print(matrix)\n",
    "print(tmatrix)\n"
   ]
  },
  {
   "cell_type": "code",
   "execution_count": 8,
   "id": "41f6a9eb",
   "metadata": {},
   "outputs": [
    {
     "name": "stdout",
     "output_type": "stream",
     "text": [
      "[30 95 56 95 46 23 14  6 63 48]\n",
      "[7 6 5 0 4 9 2 8 1 3]\n",
      "\n",
      "Sorted Array:\n",
      "[ 6 14 23 30 46 48 56 63 95 95]\n"
     ]
    }
   ],
   "source": [
    "\n",
    "array = np.random.randint(0, 100, size=10)\n",
    "print(array)\n",
    "sorted_indices = np.argsort(array)\n",
    "print(sorted_indices)\n",
    "sorted_array = array[sorted_indices]\n",
    "print(sorted_array)\n"
   ]
  },
  {
   "cell_type": "code",
   "execution_count": 12,
   "id": "1a5b20da",
   "metadata": {},
   "outputs": [
    {
     "data": {
      "text/plain": [
       "array([33, 66, 99])"
      ]
     },
     "execution_count": 12,
     "metadata": {},
     "output_type": "execute_result"
    }
   ],
   "source": [
    "a=np.array([[11,22,33],[44,55,66],[77,88,99]])\n",
    "result = a[:, 2]\n",
    "result"
   ]
  },
  {
   "cell_type": "code",
   "execution_count": 13,
   "id": "09b539aa",
   "metadata": {},
   "outputs": [],
   "source": [
    "arrayOne=np.array([[5,6,9],[21,18,27]])\n",
    "arrayTwo=np.array([[15,33,24],[4,7,1]])\n",
    "\n",
    "summ=arrayOne+arrayTwo\n",
    "print(summ)\n",
    "summ**2"
   ]
  },
  {
   "cell_type": "raw",
   "id": "c776b4a6",
   "metadata": {},
   "source": [
    "ndim\treturns number of dimension of the array\n",
    "size\treturns number of elements in the array\n",
    "dtype\treturns data type of elements in the array\n",
    "shape\treturns the size of the array in each dimension.\n",
    "itemsize\treturns the size (in bytes) of each elements in the array\n",
    "data"
   ]
  },
  {
   "cell_type": "code",
   "execution_count": 4,
   "id": "76700c82",
   "metadata": {},
   "outputs": [
    {
     "name": "stdout",
     "output_type": "stream",
     "text": [
      "2\n",
      "6\n",
      "(2, 3)\n",
      "4\n",
      "<memory at 0x0000024556F0B1D0>\n"
     ]
    }
   ],
   "source": [
    "arrayOne=np.array([[5,6,9],[21,18,27]])\n",
    "print(arrayOne.ndim)\n",
    "print(arrayOne.size)\n",
    "print(arrayOne.shape)\n",
    "print(arrayOne.itemsize)\n",
    "print(arrayOne.data)"
   ]
  },
  {
   "cell_type": "code",
   "execution_count": 5,
   "id": "be36c886",
   "metadata": {},
   "outputs": [],
   "source": [
    "c=np.array([[3,6,9,12],[15,18,21,24],[27,30,33,36],[39,42,45,48],[51,54,57,60]])"
   ]
  },
  {
   "cell_type": "code",
   "execution_count": 7,
   "id": "c509aa2f",
   "metadata": {},
   "outputs": [
    {
     "data": {
      "text/plain": [
       "array([[ 3,  6,  9, 12],\n",
       "       [15, 18, 21, 24],\n",
       "       [27, 30, 33, 36],\n",
       "       [39, 42, 45, 48],\n",
       "       [51, 54, 57, 60]])"
      ]
     },
     "execution_count": 7,
     "metadata": {},
     "output_type": "execute_result"
    }
   ],
   "source": [
    "c"
   ]
  },
  {
   "cell_type": "code",
   "execution_count": 8,
   "id": "873b6a1d",
   "metadata": {},
   "outputs": [
    {
     "data": {
      "text/plain": [
       "array([[ 6, 12],\n",
       "       [30, 36],\n",
       "       [54, 60]])"
      ]
     },
     "execution_count": 8,
     "metadata": {},
     "output_type": "execute_result"
    }
   ],
   "source": [
    "c[0:5:2,1:5:2]"
   ]
  },
  {
   "cell_type": "code",
   "execution_count": null,
   "id": "b7ece59a",
   "metadata": {},
   "outputs": [],
   "source": []
  },
  {
   "cell_type": "code",
   "execution_count": 11,
   "id": "ca4f6b44",
   "metadata": {},
   "outputs": [
    {
     "data": {
      "text/plain": [
       "array([10, 11, 12, 13, 14, 15, 16, 17, 18, 19, 20, 21, 22, 23, 24, 25, 26,\n",
       "       27, 28, 29, 30, 31, 32, 33])"
      ]
     },
     "execution_count": 11,
     "metadata": {},
     "output_type": "execute_result"
    }
   ],
   "source": [
    "x=np.arange(10,34)\n",
    "x"
   ]
  },
  {
   "cell_type": "code",
   "execution_count": 12,
   "id": "11d6297c",
   "metadata": {},
   "outputs": [],
   "source": [
    "s=x.reshape(8,3)\n",
    "\n",
    "print(s)"
   ]
  },
  {
   "cell_type": "code",
   "execution_count": 15,
   "id": "b3611df6",
   "metadata": {},
   "outputs": [],
   "source": [
    "ss=np.split(s,4)"
   ]
  },
  {
   "cell_type": "code",
   "execution_count": 16,
   "id": "23c55bbc",
   "metadata": {},
   "outputs": [
    {
     "data": {
      "text/plain": [
       "[array([[10, 11, 12],\n",
       "        [13, 14, 15]]),\n",
       " array([[16, 17, 18],\n",
       "        [19, 20, 21]]),\n",
       " array([[22, 23, 24],\n",
       "        [25, 26, 27]]),\n",
       " array([[28, 29, 30],\n",
       "        [31, 32, 33]])]"
      ]
     },
     "execution_count": 16,
     "metadata": {},
     "output_type": "execute_result"
    }
   ],
   "source": [
    "ss"
   ]
  },
  {
   "cell_type": "code",
   "execution_count": 35,
   "id": "f5ced1de",
   "metadata": {},
   "outputs": [
    {
     "name": "stdout",
     "output_type": "stream",
     "text": [
      "[[2 5 1]\n",
      " [6 7 2]\n",
      " [1 5 2]]\n",
      "\n",
      " [2 6 7]\n"
     ]
    }
   ],
   "source": [
    "sam=np.array([[2,5,1],[6,7,2],[1,5,2]])\n",
    "print(sam)\n",
    "\n",
    "sa=sam[1,sam[1,:].argsort()]\n",
    "print('\\n',sa)"
   ]
  },
  {
   "cell_type": "code",
   "execution_count": 36,
   "id": "3f981a1a",
   "metadata": {},
   "outputs": [],
   "source": [
    "sam=np.array([[2,5,1],[6,7,2],[1,5,2]])"
   ]
  },
  {
   "cell_type": "code",
   "execution_count": 37,
   "id": "ca037c57",
   "metadata": {},
   "outputs": [
    {
     "name": "stdout",
     "output_type": "stream",
     "text": [
      "[6 7 2]\n"
     ]
    }
   ],
   "source": [
    "print(np.amax(sam,0))"
   ]
  },
  {
   "cell_type": "code",
   "execution_count": 23,
   "id": "b31f59cf",
   "metadata": {},
   "outputs": [
    {
     "name": "stdout",
     "output_type": "stream",
     "text": [
      "[1 2 1]\n"
     ]
    }
   ],
   "source": [
    "print(np.amin(sam,1))"
   ]
  },
  {
   "cell_type": "code",
   "execution_count": 30,
   "id": "a9d8f39c",
   "metadata": {},
   "outputs": [
    {
     "name": "stdout",
     "output_type": "stream",
     "text": [
      "[[2 5 1]\n",
      " [6 7 2]\n",
      " [1 5 2]] \n",
      "\n"
     ]
    },
    {
     "data": {
      "text/plain": [
       "array([[2, 3, 1],\n",
       "       [6, 4, 2],\n",
       "       [1, 5, 2]])"
      ]
     },
     "execution_count": 30,
     "metadata": {},
     "output_type": "execute_result"
    }
   ],
   "source": [
    "print(sam,'\\n')\n",
    "\n",
    "sam[:,1]=np.array([3,4,5])\n",
    "sam"
   ]
  },
  {
   "cell_type": "code",
   "execution_count": 34,
   "id": "4d24cfc8",
   "metadata": {},
   "outputs": [
    {
     "name": "stdout",
     "output_type": "stream",
     "text": [
      "[[2 3 1]\n",
      " [6 4 2]\n",
      " [1 5 2]]\n",
      "\n",
      " [[2 2 1]\n",
      " [6 3 2]\n",
      " [1 1 2]]\n",
      "\n",
      " [[2 3 1]\n",
      " [6 4 2]\n",
      " [1 5 2]]\n"
     ]
    }
   ],
   "source": [
    "print(sam)\n",
    "delt=np.delete(sam,1,axis=1)\n",
    "delt\n",
    "nc=np.array([[2,3,1]])\n",
    "ins=np.insert(delt,1,nc,axis=1)\n",
    "print('\\n',ins)\n",
    "print('\\n',sam)"
   ]
  },
  {
   "cell_type": "code",
   "execution_count": null,
   "id": "616a8a6d",
   "metadata": {},
   "outputs": [],
   "source": []
  }
 ],
 "metadata": {
  "kernelspec": {
   "display_name": "Python 3 (ipykernel)",
   "language": "python",
   "name": "python3"
  },
  "language_info": {
   "codemirror_mode": {
    "name": "ipython",
    "version": 3
   },
   "file_extension": ".py",
   "mimetype": "text/x-python",
   "name": "python",
   "nbconvert_exporter": "python",
   "pygments_lexer": "ipython3",
   "version": "3.10.9"
  }
 },
 "nbformat": 4,
 "nbformat_minor": 5
}
